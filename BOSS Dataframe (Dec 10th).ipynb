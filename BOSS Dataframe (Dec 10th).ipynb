{
 "cells": [
  {
   "cell_type": "markdown",
   "metadata": {},
   "source": [
    "### Dec 10th, Monday, Summary\n",
    "- Exposure signal data and 13 features' data are collected for all fibers in the sampled kilo-sky\n",
    "- The resulted pandas table is converted to HDF5\n",
    "- Next step to build the training and testing set and fit with neutral network with sklearn\n",
    "- The current HDF5 file can be read in this notebook only"
   ]
  },
  {
   "cell_type": "markdown",
   "metadata": {},
   "source": [
    "### Initialization"
   ]
  },
  {
   "cell_type": "code",
   "execution_count": 617,
   "metadata": {},
   "outputs": [],
   "source": [
    "import operator as op"
   ]
  },
  {
   "cell_type": "markdown",
   "metadata": {},
   "source": [
    "#### Bossdata"
   ]
  },
  {
   "cell_type": "code",
   "execution_count": 2,
   "metadata": {},
   "outputs": [
    {
     "name": "stdout",
     "output_type": "stream",
     "text": [
      "0.3.1\n"
     ]
    }
   ],
   "source": [
    "import bossdata\n",
    "print(bossdata.__version__)"
   ]
  },
  {
   "cell_type": "code",
   "execution_count": 3,
   "metadata": {},
   "outputs": [],
   "source": [
    "import bossdata.path\n",
    "import bossdata.remote\n",
    "import bossdata.meta as meta\n",
    "import bossdata.spec as spec\n",
    "import bossdata.plate as plate"
   ]
  },
  {
   "cell_type": "markdown",
   "metadata": {},
   "source": [
    "#### Astropy"
   ]
  },
  {
   "cell_type": "code",
   "execution_count": 4,
   "metadata": {},
   "outputs": [],
   "source": [
    "import astropy.io.fits as fits\n",
    "from astropy.table import unique,Table"
   ]
  },
  {
   "cell_type": "markdown",
   "metadata": {},
   "source": [
    "#### Pandas"
   ]
  },
  {
   "cell_type": "code",
   "execution_count": 426,
   "metadata": {},
   "outputs": [],
   "source": [
    "import pandas as pd"
   ]
  },
  {
   "cell_type": "markdown",
   "metadata": {},
   "source": [
    "#### Numpy"
   ]
  },
  {
   "cell_type": "code",
   "execution_count": 282,
   "metadata": {},
   "outputs": [],
   "source": [
    "import numpy as np"
   ]
  },
  {
   "cell_type": "markdown",
   "metadata": {},
   "source": [
    "#### HDPF5\n",
    "Hierarchical Data Format"
   ]
  },
  {
   "cell_type": "code",
   "execution_count": 1124,
   "metadata": {},
   "outputs": [],
   "source": [
    "import h5py"
   ]
  },
  {
   "cell_type": "code",
   "execution_count": 1127,
   "metadata": {},
   "outputs": [],
   "source": [
    "import tables"
   ]
  },
  {
   "cell_type": "code",
   "execution_count": 1128,
   "metadata": {},
   "outputs": [],
   "source": [
    "from tables import *"
   ]
  },
  {
   "cell_type": "markdown",
   "metadata": {},
   "source": [
    "#### Environment"
   ]
  },
  {
   "cell_type": "code",
   "execution_count": 10,
   "metadata": {},
   "outputs": [],
   "source": [
    "import os\n",
    "workdir = os.environ['SCRATCH']\n",
    "os.environ[\"BOSS_DATA_URL\"] = 'http://dr12.sdss3.org'\n",
    "os.environ[\"BOSS_LOCAL_ROOT\"] = os.path.join(workdir,'sdss')\n",
    "os.environ[\"BOSS_SAS_PATH\"] = '/sas/dr12/boss'\n",
    "os.environ[\"BOSS_REDUX_VERSION\"]='v5_7_0'"
   ]
  },
  {
   "cell_type": "code",
   "execution_count": 6,
   "metadata": {},
   "outputs": [],
   "source": [
    "finder = bossdata.path.Finder()\n",
    "mirror = bossdata.remote.Manager()"
   ]
  },
  {
   "cell_type": "code",
   "execution_count": 7,
   "metadata": {},
   "outputs": [],
   "source": [
    "os.chdir(workdir)"
   ]
  },
  {
   "cell_type": "code",
   "execution_count": 8,
   "metadata": {},
   "outputs": [
    {
     "data": {
      "text/plain": [
       "'/scratch/kunjias'"
      ]
     },
     "execution_count": 8,
     "metadata": {},
     "output_type": "execute_result"
    }
   ],
   "source": [
    "os.getcwd()"
   ]
  },
  {
   "cell_type": "code",
   "execution_count": 11,
   "metadata": {},
   "outputs": [
    {
     "data": {
      "text/plain": [
       "'/scratch/kunjias'"
      ]
     },
     "execution_count": 11,
     "metadata": {},
     "output_type": "execute_result"
    }
   ],
   "source": [
    "workdir"
   ]
  },
  {
   "cell_type": "markdown",
   "metadata": {},
   "source": [
    "### spAll"
   ]
  },
  {
   "cell_type": "code",
   "execution_count": 12,
   "metadata": {},
   "outputs": [],
   "source": [
    "spAll_path = finder.get_sp_all_path(lite=False)"
   ]
  },
  {
   "cell_type": "code",
   "execution_count": 13,
   "metadata": {},
   "outputs": [
    {
     "data": {
      "text/plain": [
       "'/sas/dr12/boss/spectro/redux/v5_7_0/spAll-v5_7_0.fits'"
      ]
     },
     "execution_count": 13,
     "metadata": {},
     "output_type": "execute_result"
    }
   ],
   "source": [
    "spAll_path"
   ]
  },
  {
   "cell_type": "code",
   "execution_count": 14,
   "metadata": {},
   "outputs": [],
   "source": [
    "spAll_file = mirror.get(spAll_path, progress_min_size=2, auto_download=True, local_paths=None)"
   ]
  },
  {
   "cell_type": "code",
   "execution_count": 15,
   "metadata": {},
   "outputs": [
    {
     "data": {
      "text/plain": [
       "'/scratch/kunjias/sdss/sas/dr12/boss/spectro/redux/v5_7_0/spAll-v5_7_0.fits'"
      ]
     },
     "execution_count": 15,
     "metadata": {},
     "output_type": "execute_result"
    }
   ],
   "source": [
    "spAll_file"
   ]
  },
  {
   "cell_type": "code",
   "execution_count": 16,
   "metadata": {},
   "outputs": [],
   "source": [
    "local_path = 'home/kunjias/scratch'"
   ]
  },
  {
   "cell_type": "code",
   "execution_count": 17,
   "metadata": {},
   "outputs": [
    {
     "name": "stderr",
     "output_type": "stream",
     "text": [
      "/project/6016730/mlhaa/lib/python3.6/site-packages/bossdata/meta.py:61: FutureWarning: Conversion of the second argument of issubdtype from `float` to `np.floating` is deprecated. In future, it will be treated as `np.float64 == np.dtype(float).type`.\n",
      "  elif np.issubdtype(dtype, np.float):\n",
      "/project/6016730/mlhaa/lib/python3.6/site-packages/bossdata/meta.py:63: FutureWarning: Conversion of the second argument of issubdtype from `str` to `str` is deprecated. In future, it will be treated as `np.str_ == np.dtype(str).type`.\n",
      "  elif np.issubdtype(dtype, np.str) or np.issubdtype(dtype, np.bytes_):\n",
      "Writing 100%|#################################################################|\n"
     ]
    }
   ],
   "source": [
    "meta.create_meta_full(catalog_path = spAll_file,db_path= local_path,verbose=True, primary_key='(PLATE,MJD,FIBER)')"
   ]
  },
  {
   "cell_type": "code",
   "execution_count": null,
   "metadata": {},
   "outputs": [],
   "source": []
  },
  {
   "cell_type": "code",
   "execution_count": null,
   "metadata": {},
   "outputs": [],
   "source": []
  },
  {
   "cell_type": "markdown",
   "metadata": {},
   "source": [
    "### Bossdata.meta Database\n",
    "Initialize searchable databse of BOSS observation metadata."
   ]
  },
  {
   "cell_type": "code",
   "execution_count": 18,
   "metadata": {},
   "outputs": [],
   "source": [
    "spAll= bossdata.meta.Database(finder=finder, mirror=mirror, lite=False, quasar_catalog=False, quasar_catalog_name=None, platelist=False, verbose=False)"
   ]
  },
  {
   "cell_type": "code",
   "execution_count": 19,
   "metadata": {},
   "outputs": [],
   "source": [
    "columns = spAll.prepare_columns('*')"
   ]
  },
  {
   "cell_type": "code",
   "execution_count": 550,
   "metadata": {},
   "outputs": [],
   "source": [
    "#columns"
   ]
  },
  {
   "cell_type": "markdown",
   "metadata": {},
   "source": [
    "Fetch results of feature information using SQL Select Query.\n",
    "\n",
    "| name  | description | file source |\n",
    "|------ |-----------| -----------|\n",
    "| XFOCAL | Hole x-axis position in focal plane (mm) | plPlugMap |\n",
    "| YFOCAL | Hole y-axis position in focal plane (mm) | plPlugMap |\n",
    "| PLATE | Plate ID | spZbest |\n",
    "| MJD   | Modified Julian date of observation | spZbest |\n",
    "| FIBER | Fiber ID | spZbest |\n",
    "| RA | Right ascension of telescope boresights(deg) | photoObj |\n",
    "| DEC | Declination of telescope boresight (deg) | photoObj |\n",
    "| OBJTYPE | Why this Object was targetted (Note that if this field says QSO, it could be the case that this object would have been targetted as a GALAXY or any number of other categories as well. )| spZbest |\n",
    "| AIRMASS_0 | Airmass at time of observation | photoObj |\n",
    "| AIRMASS_1 |-- | --|\n",
    "| AIRMASS_2 | --| --|\n",
    "| AIRMASS_3 |-- |-- |\n",
    "| AIRMASS_4 |-- |-- |\n",
    "\n",
    "| SEEING 20 |                                   |\n",
    "| SEEING 50 |                                     |\n",
    "| SEEING 80 |                                      |"
   ]
  },
  {
   "cell_type": "code",
   "execution_count": 61,
   "metadata": {},
   "outputs": [],
   "source": [
    "columns_names ='PLATE,MJD, XFOCAL,YFOCAL,FIBER,RA,DEC,OBJTYPE,AIRMASS_0,AIRMASS_1,AIRMASS_2,AIRMASS_3,AIRMASS_4'"
   ]
  },
  {
   "cell_type": "code",
   "execution_count": 65,
   "metadata": {},
   "outputs": [
    {
     "data": {
      "text/plain": [
       "'PLATE,MJD, XFOCAL,YFOCAL,FIBER,RA,DEC,OBJTYPE,AIRMASS_0,AIRMASS_1,AIRMASS_2,AIRMASS_3,AIRMASS_4'"
      ]
     },
     "execution_count": 65,
     "metadata": {},
     "output_type": "execute_result"
    }
   ],
   "source": [
    "columns_names"
   ]
  },
  {
   "cell_type": "code",
   "execution_count": null,
   "metadata": {},
   "outputs": [],
   "source": [
    "len(columns_names)"
   ]
  },
  {
   "cell_type": "code",
   "execution_count": 78,
   "metadata": {},
   "outputs": [],
   "source": [
    "features_spAll = spAll.select_all(what = columns_names,where=None,sort=None,max_rows=None)"
   ]
  },
  {
   "cell_type": "code",
   "execution_count": null,
   "metadata": {},
   "outputs": [],
   "source": [
    "features_spAll.head()"
   ]
  },
  {
   "cell_type": "code",
   "execution_count": 198,
   "metadata": {},
   "outputs": [],
   "source": [
    "# Turn Astropy Table into Pandas\n",
    "features_data = features_spAll.to_pandas()"
   ]
  },
  {
   "cell_type": "code",
   "execution_count": 199,
   "metadata": {},
   "outputs": [
    {
     "data": {
      "text/html": [
       "<div>\n",
       "<style scoped>\n",
       "    .dataframe tbody tr th:only-of-type {\n",
       "        vertical-align: middle;\n",
       "    }\n",
       "\n",
       "    .dataframe tbody tr th {\n",
       "        vertical-align: top;\n",
       "    }\n",
       "\n",
       "    .dataframe thead th {\n",
       "        text-align: right;\n",
       "    }\n",
       "</style>\n",
       "<table border=\"1\" class=\"dataframe\">\n",
       "  <thead>\n",
       "    <tr style=\"text-align: right;\">\n",
       "      <th></th>\n",
       "      <th>PLATE</th>\n",
       "      <th>MJD</th>\n",
       "      <th>XFOCAL</th>\n",
       "      <th>YFOCAL</th>\n",
       "      <th>FIBER</th>\n",
       "      <th>RA</th>\n",
       "      <th>DEC</th>\n",
       "      <th>OBJTYPE</th>\n",
       "      <th>AIRMASS_0</th>\n",
       "      <th>AIRMASS_1</th>\n",
       "      <th>AIRMASS_2</th>\n",
       "      <th>AIRMASS_3</th>\n",
       "      <th>AIRMASS_4</th>\n",
       "    </tr>\n",
       "  </thead>\n",
       "  <tbody>\n",
       "    <tr>\n",
       "      <th>0</th>\n",
       "      <td>3586</td>\n",
       "      <td>55181</td>\n",
       "      <td>290.408325</td>\n",
       "      <td>-100.942619</td>\n",
       "      <td>1</td>\n",
       "      <td>9.331912</td>\n",
       "      <td>-0.462955</td>\n",
       "      <td>GALAXY</td>\n",
       "      <td>1.393166</td>\n",
       "      <td>1.402038</td>\n",
       "      <td>1.384556</td>\n",
       "      <td>1.388828</td>\n",
       "      <td>1.397564</td>\n",
       "    </tr>\n",
       "    <tr>\n",
       "      <th>1</th>\n",
       "      <td>3586</td>\n",
       "      <td>55181</td>\n",
       "      <td>290.107849</td>\n",
       "      <td>-136.131714</td>\n",
       "      <td>2</td>\n",
       "      <td>9.330078</td>\n",
       "      <td>-0.624116</td>\n",
       "      <td>GALAXY</td>\n",
       "      <td>1.396166</td>\n",
       "      <td>1.405074</td>\n",
       "      <td>1.387519</td>\n",
       "      <td>1.391808</td>\n",
       "      <td>1.400582</td>\n",
       "    </tr>\n",
       "    <tr>\n",
       "      <th>2</th>\n",
       "      <td>3586</td>\n",
       "      <td>55181</td>\n",
       "      <td>312.338440</td>\n",
       "      <td>-53.472435</td>\n",
       "      <td>3</td>\n",
       "      <td>9.432106</td>\n",
       "      <td>-0.245182</td>\n",
       "      <td>GALAXY</td>\n",
       "      <td>1.195513</td>\n",
       "      <td>1.196438</td>\n",
       "      <td>1.194720</td>\n",
       "      <td>1.195100</td>\n",
       "      <td>1.195959</td>\n",
       "    </tr>\n",
       "    <tr>\n",
       "      <th>3</th>\n",
       "      <td>3586</td>\n",
       "      <td>55181</td>\n",
       "      <td>311.341522</td>\n",
       "      <td>-74.466339</td>\n",
       "      <td>4</td>\n",
       "      <td>9.427406</td>\n",
       "      <td>-0.341407</td>\n",
       "      <td>SPECTROPHOTO_STD</td>\n",
       "      <td>1.196825</td>\n",
       "      <td>1.197752</td>\n",
       "      <td>1.196030</td>\n",
       "      <td>1.196411</td>\n",
       "      <td>1.197272</td>\n",
       "    </tr>\n",
       "    <tr>\n",
       "      <th>4</th>\n",
       "      <td>3586</td>\n",
       "      <td>55181</td>\n",
       "      <td>298.426758</td>\n",
       "      <td>-73.963768</td>\n",
       "      <td>5</td>\n",
       "      <td>9.368675</td>\n",
       "      <td>-0.339224</td>\n",
       "      <td>GALAXY</td>\n",
       "      <td>1.196795</td>\n",
       "      <td>1.197722</td>\n",
       "      <td>1.196000</td>\n",
       "      <td>1.196381</td>\n",
       "      <td>1.197242</td>\n",
       "    </tr>\n",
       "  </tbody>\n",
       "</table>\n",
       "</div>"
      ],
      "text/plain": [
       "   PLATE    MJD      XFOCAL      YFOCAL  FIBER        RA       DEC  \\\n",
       "0   3586  55181  290.408325 -100.942619      1  9.331912 -0.462955   \n",
       "1   3586  55181  290.107849 -136.131714      2  9.330078 -0.624116   \n",
       "2   3586  55181  312.338440  -53.472435      3  9.432106 -0.245182   \n",
       "3   3586  55181  311.341522  -74.466339      4  9.427406 -0.341407   \n",
       "4   3586  55181  298.426758  -73.963768      5  9.368675 -0.339224   \n",
       "\n",
       "            OBJTYPE  AIRMASS_0  AIRMASS_1  AIRMASS_2  AIRMASS_3  AIRMASS_4  \n",
       "0            GALAXY   1.393166   1.402038   1.384556   1.388828   1.397564  \n",
       "1            GALAXY   1.396166   1.405074   1.387519   1.391808   1.400582  \n",
       "2            GALAXY   1.195513   1.196438   1.194720   1.195100   1.195959  \n",
       "3  SPECTROPHOTO_STD   1.196825   1.197752   1.196030   1.196411   1.197272  \n",
       "4            GALAXY   1.196795   1.197722   1.196000   1.196381   1.197242  "
      ]
     },
     "execution_count": 199,
     "metadata": {},
     "output_type": "execute_result"
    }
   ],
   "source": [
    "features_data.head()"
   ]
  },
  {
   "cell_type": "code",
   "execution_count": 200,
   "metadata": {},
   "outputs": [
    {
     "data": {
      "text/plain": [
       "array(['GALAXY', 'SPECTROPHOTO_STD', 'SKY', 'QSO', 'NA'], dtype=object)"
      ]
     },
     "execution_count": 200,
     "metadata": {},
     "output_type": "execute_result"
    }
   ],
   "source": [
    "# Object types of all fibers\n",
    "features_data['OBJTYPE'].unique()"
   ]
  },
  {
   "cell_type": "markdown",
   "metadata": {},
   "source": [
    "Select out the sky fibers"
   ]
  },
  {
   "cell_type": "code",
   "execution_count": 201,
   "metadata": {},
   "outputs": [],
   "source": [
    "sky_fibers = features_data[(features_data['OBJTYPE'] == 'SKY')]"
   ]
  },
  {
   "cell_type": "code",
   "execution_count": 551,
   "metadata": {},
   "outputs": [],
   "source": [
    "#sky_fibers"
   ]
  },
  {
   "cell_type": "code",
   "execution_count": 203,
   "metadata": {},
   "outputs": [
    {
     "data": {
      "text/html": [
       "<div>\n",
       "<style scoped>\n",
       "    .dataframe tbody tr th:only-of-type {\n",
       "        vertical-align: middle;\n",
       "    }\n",
       "\n",
       "    .dataframe tbody tr th {\n",
       "        vertical-align: top;\n",
       "    }\n",
       "\n",
       "    .dataframe thead th {\n",
       "        text-align: right;\n",
       "    }\n",
       "</style>\n",
       "<table border=\"1\" class=\"dataframe\">\n",
       "  <thead>\n",
       "    <tr style=\"text-align: right;\">\n",
       "      <th></th>\n",
       "      <th>PLATE</th>\n",
       "      <th>MJD</th>\n",
       "      <th>XFOCAL</th>\n",
       "      <th>YFOCAL</th>\n",
       "      <th>FIBER</th>\n",
       "      <th>RA</th>\n",
       "      <th>DEC</th>\n",
       "      <th>OBJTYPE</th>\n",
       "      <th>AIRMASS_0</th>\n",
       "      <th>AIRMASS_1</th>\n",
       "      <th>AIRMASS_2</th>\n",
       "      <th>AIRMASS_3</th>\n",
       "      <th>AIRMASS_4</th>\n",
       "    </tr>\n",
       "  </thead>\n",
       "  <tbody>\n",
       "    <tr>\n",
       "      <th>11</th>\n",
       "      <td>3586</td>\n",
       "      <td>55181</td>\n",
       "      <td>305.141815</td>\n",
       "      <td>-30.619471</td>\n",
       "      <td>12</td>\n",
       "      <td>9.399483</td>\n",
       "      <td>-0.140439</td>\n",
       "      <td>SKY</td>\n",
       "      <td>0.00000</td>\n",
       "      <td>0.000000</td>\n",
       "      <td>0.000000</td>\n",
       "      <td>0.000000</td>\n",
       "      <td>0.000000</td>\n",
       "    </tr>\n",
       "    <tr>\n",
       "      <th>13</th>\n",
       "      <td>3586</td>\n",
       "      <td>55181</td>\n",
       "      <td>311.175537</td>\n",
       "      <td>-9.341264</td>\n",
       "      <td>14</td>\n",
       "      <td>9.426984</td>\n",
       "      <td>-0.042847</td>\n",
       "      <td>SKY</td>\n",
       "      <td>0.00000</td>\n",
       "      <td>0.000000</td>\n",
       "      <td>0.000000</td>\n",
       "      <td>0.000000</td>\n",
       "      <td>0.000000</td>\n",
       "    </tr>\n",
       "    <tr>\n",
       "      <th>25</th>\n",
       "      <td>3586</td>\n",
       "      <td>55181</td>\n",
       "      <td>267.770142</td>\n",
       "      <td>-53.615555</td>\n",
       "      <td>26</td>\n",
       "      <td>9.228573</td>\n",
       "      <td>-0.246457</td>\n",
       "      <td>SKY</td>\n",
       "      <td>1.19553</td>\n",
       "      <td>1.196456</td>\n",
       "      <td>1.194738</td>\n",
       "      <td>1.195118</td>\n",
       "      <td>1.195977</td>\n",
       "    </tr>\n",
       "    <tr>\n",
       "      <th>45</th>\n",
       "      <td>3586</td>\n",
       "      <td>55181</td>\n",
       "      <td>230.368332</td>\n",
       "      <td>-218.913437</td>\n",
       "      <td>46</td>\n",
       "      <td>9.056336</td>\n",
       "      <td>-1.003750</td>\n",
       "      <td>SKY</td>\n",
       "      <td>0.00000</td>\n",
       "      <td>0.000000</td>\n",
       "      <td>0.000000</td>\n",
       "      <td>0.000000</td>\n",
       "      <td>0.000000</td>\n",
       "    </tr>\n",
       "    <tr>\n",
       "      <th>47</th>\n",
       "      <td>3586</td>\n",
       "      <td>55181</td>\n",
       "      <td>225.774734</td>\n",
       "      <td>-207.749695</td>\n",
       "      <td>48</td>\n",
       "      <td>9.035569</td>\n",
       "      <td>-0.952847</td>\n",
       "      <td>SKY</td>\n",
       "      <td>0.00000</td>\n",
       "      <td>0.000000</td>\n",
       "      <td>0.000000</td>\n",
       "      <td>0.000000</td>\n",
       "      <td>0.000000</td>\n",
       "    </tr>\n",
       "  </tbody>\n",
       "</table>\n",
       "</div>"
      ],
      "text/plain": [
       "    PLATE    MJD      XFOCAL      YFOCAL  FIBER        RA       DEC OBJTYPE  \\\n",
       "11   3586  55181  305.141815  -30.619471     12  9.399483 -0.140439     SKY   \n",
       "13   3586  55181  311.175537   -9.341264     14  9.426984 -0.042847     SKY   \n",
       "25   3586  55181  267.770142  -53.615555     26  9.228573 -0.246457     SKY   \n",
       "45   3586  55181  230.368332 -218.913437     46  9.056336 -1.003750     SKY   \n",
       "47   3586  55181  225.774734 -207.749695     48  9.035569 -0.952847     SKY   \n",
       "\n",
       "    AIRMASS_0  AIRMASS_1  AIRMASS_2  AIRMASS_3  AIRMASS_4  \n",
       "11    0.00000   0.000000   0.000000   0.000000   0.000000  \n",
       "13    0.00000   0.000000   0.000000   0.000000   0.000000  \n",
       "25    1.19553   1.196456   1.194738   1.195118   1.195977  \n",
       "45    0.00000   0.000000   0.000000   0.000000   0.000000  \n",
       "47    0.00000   0.000000   0.000000   0.000000   0.000000  "
      ]
     },
     "execution_count": 203,
     "metadata": {},
     "output_type": "execute_result"
    }
   ],
   "source": [
    "sky_fibers.head()"
   ]
  },
  {
   "cell_type": "markdown",
   "metadata": {},
   "source": [
    "Randomly select 1000 sky fibers to retreive their exposure information.\n",
    "\n",
    "Random state is set to 5 to for reproducibility."
   ]
  },
  {
   "cell_type": "code",
   "execution_count": 205,
   "metadata": {},
   "outputs": [],
   "source": [
    "kilo_sky = sky_fibers.sample(n=1000,replace=False,weights=None, random_state=5, axis=0)"
   ]
  },
  {
   "cell_type": "code",
   "execution_count": 208,
   "metadata": {},
   "outputs": [
    {
     "data": {
      "text/html": [
       "<div>\n",
       "<style scoped>\n",
       "    .dataframe tbody tr th:only-of-type {\n",
       "        vertical-align: middle;\n",
       "    }\n",
       "\n",
       "    .dataframe tbody tr th {\n",
       "        vertical-align: top;\n",
       "    }\n",
       "\n",
       "    .dataframe thead th {\n",
       "        text-align: right;\n",
       "    }\n",
       "</style>\n",
       "<table border=\"1\" class=\"dataframe\">\n",
       "  <thead>\n",
       "    <tr style=\"text-align: right;\">\n",
       "      <th></th>\n",
       "      <th>PLATE</th>\n",
       "      <th>MJD</th>\n",
       "      <th>XFOCAL</th>\n",
       "      <th>YFOCAL</th>\n",
       "      <th>FIBER</th>\n",
       "      <th>RA</th>\n",
       "      <th>DEC</th>\n",
       "      <th>OBJTYPE</th>\n",
       "      <th>AIRMASS_0</th>\n",
       "      <th>AIRMASS_1</th>\n",
       "      <th>AIRMASS_2</th>\n",
       "      <th>AIRMASS_3</th>\n",
       "      <th>AIRMASS_4</th>\n",
       "    </tr>\n",
       "  </thead>\n",
       "  <tbody>\n",
       "    <tr>\n",
       "      <th>169565</th>\n",
       "      <td>3844</td>\n",
       "      <td>55321</td>\n",
       "      <td>-93.327362</td>\n",
       "      <td>140.945984</td>\n",
       "      <td>566</td>\n",
       "      <td>180.403340</td>\n",
       "      <td>0.647407</td>\n",
       "      <td>SKY</td>\n",
       "      <td>0.0</td>\n",
       "      <td>0.0</td>\n",
       "      <td>0.0</td>\n",
       "      <td>0.0</td>\n",
       "      <td>0.0</td>\n",
       "    </tr>\n",
       "    <tr>\n",
       "      <th>1293639</th>\n",
       "      <td>5399</td>\n",
       "      <td>55956</td>\n",
       "      <td>-119.386322</td>\n",
       "      <td>150.762390</td>\n",
       "      <td>640</td>\n",
       "      <td>185.173420</td>\n",
       "      <td>12.159917</td>\n",
       "      <td>SKY</td>\n",
       "      <td>0.0</td>\n",
       "      <td>0.0</td>\n",
       "      <td>0.0</td>\n",
       "      <td>0.0</td>\n",
       "      <td>0.0</td>\n",
       "    </tr>\n",
       "    <tr>\n",
       "      <th>1758203</th>\n",
       "      <td>6190</td>\n",
       "      <td>56210</td>\n",
       "      <td>60.237095</td>\n",
       "      <td>-182.178345</td>\n",
       "      <td>204</td>\n",
       "      <td>6.769615</td>\n",
       "      <td>11.811333</td>\n",
       "      <td>SKY</td>\n",
       "      <td>0.0</td>\n",
       "      <td>0.0</td>\n",
       "      <td>0.0</td>\n",
       "      <td>0.0</td>\n",
       "      <td>0.0</td>\n",
       "    </tr>\n",
       "    <tr>\n",
       "      <th>2208918</th>\n",
       "      <td>6822</td>\n",
       "      <td>56711</td>\n",
       "      <td>148.396866</td>\n",
       "      <td>174.016495</td>\n",
       "      <td>919</td>\n",
       "      <td>204.210510</td>\n",
       "      <td>64.690726</td>\n",
       "      <td>SKY</td>\n",
       "      <td>0.0</td>\n",
       "      <td>0.0</td>\n",
       "      <td>0.0</td>\n",
       "      <td>0.0</td>\n",
       "      <td>0.0</td>\n",
       "    </tr>\n",
       "    <tr>\n",
       "      <th>2461169</th>\n",
       "      <td>7451</td>\n",
       "      <td>56739</td>\n",
       "      <td>86.115021</td>\n",
       "      <td>-190.730453</td>\n",
       "      <td>170</td>\n",
       "      <td>120.395440</td>\n",
       "      <td>-0.875818</td>\n",
       "      <td>SKY</td>\n",
       "      <td>0.0</td>\n",
       "      <td>0.0</td>\n",
       "      <td>0.0</td>\n",
       "      <td>0.0</td>\n",
       "      <td>0.0</td>\n",
       "    </tr>\n",
       "  </tbody>\n",
       "</table>\n",
       "</div>"
      ],
      "text/plain": [
       "         PLATE    MJD      XFOCAL      YFOCAL  FIBER          RA        DEC  \\\n",
       "169565    3844  55321  -93.327362  140.945984    566  180.403340   0.647407   \n",
       "1293639   5399  55956 -119.386322  150.762390    640  185.173420  12.159917   \n",
       "1758203   6190  56210   60.237095 -182.178345    204    6.769615  11.811333   \n",
       "2208918   6822  56711  148.396866  174.016495    919  204.210510  64.690726   \n",
       "2461169   7451  56739   86.115021 -190.730453    170  120.395440  -0.875818   \n",
       "\n",
       "        OBJTYPE  AIRMASS_0  AIRMASS_1  AIRMASS_2  AIRMASS_3  AIRMASS_4  \n",
       "169565      SKY        0.0        0.0        0.0        0.0        0.0  \n",
       "1293639     SKY        0.0        0.0        0.0        0.0        0.0  \n",
       "1758203     SKY        0.0        0.0        0.0        0.0        0.0  \n",
       "2208918     SKY        0.0        0.0        0.0        0.0        0.0  \n",
       "2461169     SKY        0.0        0.0        0.0        0.0        0.0  "
      ]
     },
     "execution_count": 208,
     "metadata": {},
     "output_type": "execute_result"
    }
   ],
   "source": [
    "kilo_sky.head()"
   ]
  },
  {
   "cell_type": "markdown",
   "metadata": {},
   "source": [
    "Initialize empty exposure masked array of shape (1,4128) using the first row in the sampled kilo-sky table. [plate 3586, mjd 55181, exposure 0, fiber 12]."
   ]
  },
  {
   "cell_type": "code",
   "execution_count": 413,
   "metadata": {},
   "outputs": [
    {
     "data": {
      "text/plain": [
       "(1, 4128)"
      ]
     },
     "execution_count": 413,
     "metadata": {},
     "output_type": "execute_result"
    }
   ],
   "source": [
    "plate3586_combined_plan_path = finder.get_plate_plan_path(plate=3586, mjd =55181, combined=True)\n",
    "plate3586_combined_plan_file = mirror.get(plate3586_combined_plan_path, progress_min_size=2,auto_download=True, local_paths=None)\n",
    "plate3586_combined_plan = plate.Plan(plate3586_combined_plan_file)\n",
    "\n",
    "plate3586_exposures = plate3586_combined_plan.num_science_exposures\n",
    "plate3586_fiber12_spectrograph_index = plate3586_combined_plan.get_spectrograph_index(12)\n",
    "\n",
    "plate3586_exp0_spCFrame_path = plate3586_combined_plan.get_exposure_name(sequence_number=0, band='red',fiber=12,ftype='spCFrame')\n",
    "plate3586_exp0_spCFrame_file = mirror.get(plate3586_exp0_spCFrame_path)\n",
    "\n",
    "plate3586_exp0_frame = plate.FrameFile(plate3586_exp0_spCFrame_file,index=plate3586_fiber12_spectrograph_index,calibrated=True)\n",
    "plate3586_valid_spec = plate3586_exp0_frame.get_valid_data(fibers=[12],pixel_quality_mask=None, include_wdisp=False, include_sky=True, use_ivar=True, use_loglam=False)\n",
    "\n",
    "empty_data_plate3586 = np.ma.empty_like(plate3586_valid_spec)\n",
    "empty_data_plate3586.shape"
   ]
  },
  {
   "cell_type": "code",
   "execution_count": 414,
   "metadata": {},
   "outputs": [
    {
     "data": {
      "text/plain": [
       "7"
      ]
     },
     "execution_count": 414,
     "metadata": {},
     "output_type": "execute_result"
    }
   ],
   "source": [
    "plate3586_exposures"
   ]
  },
  {
   "cell_type": "code",
   "execution_count": 415,
   "metadata": {},
   "outputs": [
    {
     "data": {
      "text/plain": [
       "1"
      ]
     },
     "execution_count": 415,
     "metadata": {},
     "output_type": "execute_result"
    }
   ],
   "source": [
    "plate3586_fiber12_spectrograph_index"
   ]
  },
  {
   "cell_type": "code",
   "execution_count": 608,
   "metadata": {},
   "outputs": [
    {
     "name": "stdout",
     "output_type": "stream",
     "text": [
      "(8, 4128)\n"
     ]
    }
   ],
   "source": [
    "exposure = empty_data_plate3586\n",
    "\n",
    "for n in range(plate3586_exposures):\n",
    "    try:\n",
    "        exp_spCFrame_path = plate3586_combined_plan.get_exposure_name(sequence_number = n,band='red',fiber=12,ftype='spCFrame')\n",
    "        exp_spCFrame_file = mirror.get(exp_spCFrame_path)\n",
    "        exp_frame = plate.FrameFile(exp_spCFrame_file, index =plate3586_fiber12_spectrograph_index, calibrated = True)\n",
    "        valid_spec = exp_frame.get_valid_data(fibers = [12],pixel_quality_mask=None, include_wdisp=False, include_sky=True, use_ivar=True, use_loglam=False)\n",
    "        exposure = np.ma.append(exposure,valid_spec,0)\n",
    "    except Exception:\n",
    "        pass\n",
    "    \n",
    "print(exposure.shape)"
   ]
  },
  {
   "cell_type": "markdown",
   "metadata": {},
   "source": [
    "Retrieve exposure data for each one of the 1000 randomly selected sky fiber. The first row of sample empty data will be removed."
   ]
  },
  {
   "cell_type": "code",
   "execution_count": 921,
   "metadata": {},
   "outputs": [],
   "source": [
    "def get_valid_data(plate_number, mjd, fiber_number):\n",
    "    '''Compute masked array of valid data from a given plate at specific mjd and exposure time.\n",
    "    \n",
    "    Parameters\n",
    "    -----------\n",
    "    plate_number: Specified plate number. Default plate number is 4042.\n",
    "    \n",
    "    mjd: modified julian date of the observation associated with input plate. Default mjd is 55626.\n",
    "    \n",
    "    fiber_number: fiber number to identify which spectrograph to retreive the exposure data,\n",
    "    1-500 for spectrograph 1, and 501-1000 for spectrograph 2.\n",
    "    \n",
    "    Output\n",
    "    -------\n",
    "    A masked array of valid data of the input plate at specified exposure.\n",
    "    '''\n",
    "    # Get local path to plan file\n",
    "    combined_plan_path = finder.get_plate_plan_path(plate_number,mjd, combined=True)\n",
    "    combined_plan_file = mirror.get(combined_plan_path, progress_min_size=2,auto_download=True, local_paths=None)\n",
    "    # Configuring BOSS pipeline to combine exposures of a single plate\n",
    "    combined_plan = plate.Plan(combined_plan_file)\n",
    "    # Number of Science Exposure\n",
    "    exposures = combined_plan.num_science_exposures\n",
    "    # Spectrograph Index\n",
    "    spectrograph_index = combined_plan.get_spectrograph_index(fiber_number)\n",
    "    \n",
    "    exposure_data = empty_data_plate3586\n",
    "    \n",
    "    for n in range(exposures):\n",
    "        try:\n",
    "            exp_spCFrame_path = combined_plan.get_exposure_name(sequence_number=n,band='red',fiber=fiber_number,ftype='spCFrame')\n",
    "            exp_spCFrame_file = mirror.get(exp_spCFrame_path)\n",
    "            exp_frame = plate.FrameFile(exp_spCFrame_file, index = spectrograph_index, calibrated = True)\n",
    "            valid_spec = exp_frame.get_valid_data(fibers =[fiber_number],pixel_quality_mask=None, include_wdisp=False, include_sky=True, use_ivar=True, use_loglam=False)\n",
    "        \n",
    "            exposure_data = np.ma.append(exposure_data,valid_spec,0)\n",
    "        except Exception:\n",
    "            pass\n",
    "    \n",
    "    print(\"Plate\", plate_number, \"fiber\", fiber_number,\"has\", exposures, \"exposures\")\n",
    "    return np.delete(exposure_data,0,0), exposures"
   ]
  },
  {
   "cell_type": "code",
   "execution_count": 917,
   "metadata": {},
   "outputs": [
    {
     "name": "stdout",
     "output_type": "stream",
     "text": [
      "Plate 3586 fiber 12 has 7 exposures\n"
     ]
    }
   ],
   "source": [
    "plate3586_fiber12 = get_valid_data(plate_number=3586, mjd=55181, fiber_number=12)"
   ]
  },
  {
   "cell_type": "code",
   "execution_count": 920,
   "metadata": {},
   "outputs": [
    {
     "data": {
      "text/plain": [
       "(7, 4128)"
      ]
     },
     "execution_count": 920,
     "metadata": {},
     "output_type": "execute_result"
    }
   ],
   "source": [
    "plate3586_fiber12[0].shape"
   ]
  },
  {
   "cell_type": "code",
   "execution_count": 919,
   "metadata": {},
   "outputs": [
    {
     "data": {
      "text/plain": [
       "7"
      ]
     },
     "execution_count": 919,
     "metadata": {},
     "output_type": "execute_result"
    }
   ],
   "source": [
    "plate3586_fiber12[1]"
   ]
  },
  {
   "cell_type": "code",
   "execution_count": 611,
   "metadata": {},
   "outputs": [
    {
     "data": {
      "text/plain": [
       "numpy.ma.core.MaskedArray"
      ]
     },
     "execution_count": 611,
     "metadata": {},
     "output_type": "execute_result"
    }
   ],
   "source": [
    "type(plate3586_fiber12)"
   ]
  },
  {
   "cell_type": "markdown",
   "metadata": {},
   "source": [
    "First row in the kilo-sky table. (Plate 3844, fiber 566)"
   ]
  },
  {
   "cell_type": "code",
   "execution_count": 613,
   "metadata": {},
   "outputs": [
    {
     "name": "stdout",
     "output_type": "stream",
     "text": [
      "Plate 3844 fiber 566 has 4 exposures\n"
     ]
    }
   ],
   "source": [
    "# Exposure Data\n",
    "plate3844_fiber566 = get_valid_data(plate_number=3844, mjd=55321, fiber_number=566)"
   ]
  },
  {
   "cell_type": "code",
   "execution_count": 614,
   "metadata": {},
   "outputs": [
    {
     "data": {
      "text/plain": [
       "(4, 4128)"
      ]
     },
     "execution_count": 614,
     "metadata": {},
     "output_type": "execute_result"
    }
   ],
   "source": [
    "plate3844_fiber566.shape"
   ]
  },
  {
   "cell_type": "code",
   "execution_count": 674,
   "metadata": {},
   "outputs": [
    {
     "data": {
      "text/plain": [
       "masked_array(data=[(5188.4326171875, 0.0, -5.098606405780012e-15, 0.0),\n",
       "                   (5189.7265625, 0.0, 203.425048828125, 0.0),\n",
       "                   (5191.0205078125, 0.0, 0.0, 0.0), ...,\n",
       "                   (11005.63671875, 0.0, 0.0, 0.0),\n",
       "                   (11007.041015625, 0.0, 0.0, 0.0),\n",
       "                   (11008.4462890625, 0.0, 0.0, 0.0)],\n",
       "             mask=[(False, False, False, False),\n",
       "                   (False, False, False, False),\n",
       "                   (False, False, False, False), ...,\n",
       "                   (False, False, False, False),\n",
       "                   (False, False, False, False),\n",
       "                   (False, False, False, False)],\n",
       "       fill_value=(1.e+20, 1.e+20, 1.e+20, 1.e+20),\n",
       "            dtype=[('wavelength', '<f4'), ('flux', '<f4'), ('ivar', '<f4'), ('sky', '<f4')])"
      ]
     },
     "execution_count": 674,
     "metadata": {},
     "output_type": "execute_result"
    }
   ],
   "source": [
    "plate3844_fiber566[0]"
   ]
  },
  {
   "cell_type": "markdown",
   "metadata": {},
   "source": [
    "There are 4 available exposures from red band of plate 3844, spectrograph 1. All 4 of the exposures are successfully looped through, giving a valid data matrix of shape (4,4128). \n",
    "\n",
    "Similar procedures will be applied to all sky fibers from the sampled kilo-sky and retrieved their exposure information.\n",
    "\n",
    "The corresponding exposure index can be added as a 13th feature to the table, and the exposure valid data columns can be added as additional 4128 features."
   ]
  },
  {
   "cell_type": "markdown",
   "metadata": {},
   "source": [
    "The valid data masked array contains 4 fields, 'wavelength', 'flux','ivar', and 'subtracted sky'. The total flux is sum of 'flux' and 'subtracted sky'."
   ]
  },
  {
   "cell_type": "code",
   "execution_count": 679,
   "metadata": {},
   "outputs": [],
   "source": [
    "def get_field(valid_data):\n",
    "    \"Compute masked array of wavelength and flux from a given masked array of valid data.\"\n",
    "    wavelength = valid_data['wavelength']\n",
    "    sdss_flux = valid_data['flux']\n",
    "    sdss_sky = valid_data['sky']\n",
    "    total_flux = np.ma.array(sdss_flux.data+sdss_sky.data, mask=list(map(op.and_,sdss_flux.mask,sdss_sky.mask)))\n",
    "    ivar = valid_data['ivar']\n",
    "    \n",
    "    yield [wavelength, 'wavelength']\n",
    "    yield sdss_flux\n",
    "    yield sdss_sky\n",
    "    yield total_flux\n",
    "    yield ivar"
   ]
  },
  {
   "cell_type": "code",
   "execution_count": 680,
   "metadata": {},
   "outputs": [],
   "source": [
    "p3844_f566_lambda, p3844_f566_sdss_flux, p3844_f566_sdss_sky, p3844_f566_total_flux, p3844_f566_ivar= get_field(plate3844_fiber566)"
   ]
  },
  {
   "cell_type": "code",
   "execution_count": 681,
   "metadata": {},
   "outputs": [
    {
     "data": {
      "text/plain": [
       "(4, 4128)"
      ]
     },
     "execution_count": 681,
     "metadata": {},
     "output_type": "execute_result"
    }
   ],
   "source": [
    "p3844_f566_lambda.shape"
   ]
  },
  {
   "cell_type": "code",
   "execution_count": 682,
   "metadata": {},
   "outputs": [
    {
     "data": {
      "text/plain": [
       "numpy.ma.core.MaskedArray"
      ]
     },
     "execution_count": 682,
     "metadata": {},
     "output_type": "execute_result"
    }
   ],
   "source": [
    "type(p3844_f566_lambda)"
   ]
  },
  {
   "cell_type": "markdown",
   "metadata": {},
   "source": [
    "A function to create a list of 4128 column names."
   ]
  },
  {
   "cell_type": "code",
   "execution_count": 683,
   "metadata": {},
   "outputs": [],
   "source": [
    "def column_index(column_name,n):\n",
    "    column=[]\n",
    "    for i in range(1,n+1):\n",
    "        a = '{}{}'.format(column_name,i)\n",
    "        column.append(a)\n",
    "    return column"
   ]
  },
  {
   "cell_type": "code",
   "execution_count": 651,
   "metadata": {},
   "outputs": [],
   "source": [
    "wavelength_column = column_index('wavelength',4128)"
   ]
  },
  {
   "cell_type": "code",
   "execution_count": 656,
   "metadata": {},
   "outputs": [],
   "source": [
    "sdss_flux_column = column_index('sdss_flux',4128)"
   ]
  },
  {
   "cell_type": "code",
   "execution_count": 657,
   "metadata": {},
   "outputs": [],
   "source": [
    "sdss_sky_column = column_index('sdss_sky',4128)"
   ]
  },
  {
   "cell_type": "code",
   "execution_count": 658,
   "metadata": {},
   "outputs": [],
   "source": [
    "total_flux_column = column_index('total_flux',4128)"
   ]
  },
  {
   "cell_type": "code",
   "execution_count": 684,
   "metadata": {},
   "outputs": [],
   "source": [
    "ivar_column = column_index('inverse variance', 4128)"
   ]
  },
  {
   "cell_type": "markdown",
   "metadata": {},
   "source": [
    "A function to create data frame from input masked array."
   ]
  },
  {
   "cell_type": "code",
   "execution_count": 895,
   "metadata": {},
   "outputs": [],
   "source": [
    "def masked_dataframe(masked_array, name):\n",
    "    ''' name: string. Name of column index\n",
    "    \n",
    "    Return: pandas table of masked_array\n",
    "    '''\n",
    "    column_name = column_index(name, 4128)\n",
    "\n",
    "    pandas_table = pd.DataFrame(masked_array, columns = column_name).mask(masked_array.mask)\n",
    "    pandas_table.insert(4128, 'exposure_index', np.arange(4))\n",
    "    pandas_table = pandas_table.set_index('exposure_index')\n",
    "    \n",
    "    return pandas_table"
   ]
  },
  {
   "cell_type": "code",
   "execution_count": 896,
   "metadata": {},
   "outputs": [
    {
     "data": {
      "text/html": [
       "<div>\n",
       "<style scoped>\n",
       "    .dataframe tbody tr th:only-of-type {\n",
       "        vertical-align: middle;\n",
       "    }\n",
       "\n",
       "    .dataframe tbody tr th {\n",
       "        vertical-align: top;\n",
       "    }\n",
       "\n",
       "    .dataframe thead th {\n",
       "        text-align: right;\n",
       "    }\n",
       "</style>\n",
       "<table border=\"1\" class=\"dataframe\">\n",
       "  <thead>\n",
       "    <tr style=\"text-align: right;\">\n",
       "      <th></th>\n",
       "      <th>wavelength1</th>\n",
       "      <th>wavelength2</th>\n",
       "      <th>wavelength3</th>\n",
       "      <th>wavelength4</th>\n",
       "      <th>wavelength5</th>\n",
       "      <th>wavelength6</th>\n",
       "      <th>wavelength7</th>\n",
       "      <th>wavelength8</th>\n",
       "      <th>wavelength9</th>\n",
       "      <th>wavelength10</th>\n",
       "      <th>...</th>\n",
       "      <th>wavelength4119</th>\n",
       "      <th>wavelength4120</th>\n",
       "      <th>wavelength4121</th>\n",
       "      <th>wavelength4122</th>\n",
       "      <th>wavelength4123</th>\n",
       "      <th>wavelength4124</th>\n",
       "      <th>wavelength4125</th>\n",
       "      <th>wavelength4126</th>\n",
       "      <th>wavelength4127</th>\n",
       "      <th>wavelength4128</th>\n",
       "    </tr>\n",
       "    <tr>\n",
       "      <th>exposure_index</th>\n",
       "      <th></th>\n",
       "      <th></th>\n",
       "      <th></th>\n",
       "      <th></th>\n",
       "      <th></th>\n",
       "      <th></th>\n",
       "      <th></th>\n",
       "      <th></th>\n",
       "      <th></th>\n",
       "      <th></th>\n",
       "      <th></th>\n",
       "      <th></th>\n",
       "      <th></th>\n",
       "      <th></th>\n",
       "      <th></th>\n",
       "      <th></th>\n",
       "      <th></th>\n",
       "      <th></th>\n",
       "      <th></th>\n",
       "      <th></th>\n",
       "      <th></th>\n",
       "    </tr>\n",
       "  </thead>\n",
       "  <tbody>\n",
       "    <tr>\n",
       "      <th>0</th>\n",
       "      <td>5188.432617</td>\n",
       "      <td>5189.726562</td>\n",
       "      <td>5191.020508</td>\n",
       "      <td>5192.314941</td>\n",
       "      <td>5193.608887</td>\n",
       "      <td>5194.903320</td>\n",
       "      <td>5196.197754</td>\n",
       "      <td>5197.492188</td>\n",
       "      <td>5198.787109</td>\n",
       "      <td>5200.082031</td>\n",
       "      <td>...</td>\n",
       "      <td>10995.800781</td>\n",
       "      <td>10997.206055</td>\n",
       "      <td>10998.611328</td>\n",
       "      <td>11000.016602</td>\n",
       "      <td>11001.421875</td>\n",
       "      <td>11002.826172</td>\n",
       "      <td>11004.231445</td>\n",
       "      <td>11005.636719</td>\n",
       "      <td>11007.041016</td>\n",
       "      <td>11008.446289</td>\n",
       "    </tr>\n",
       "    <tr>\n",
       "      <th>1</th>\n",
       "      <td>5188.263672</td>\n",
       "      <td>5189.557617</td>\n",
       "      <td>5190.851562</td>\n",
       "      <td>5192.145508</td>\n",
       "      <td>5193.439941</td>\n",
       "      <td>5194.734375</td>\n",
       "      <td>5196.028809</td>\n",
       "      <td>5197.323242</td>\n",
       "      <td>5198.617676</td>\n",
       "      <td>5199.912598</td>\n",
       "      <td>...</td>\n",
       "      <td>10995.610352</td>\n",
       "      <td>10997.015625</td>\n",
       "      <td>10998.420898</td>\n",
       "      <td>10999.825195</td>\n",
       "      <td>11001.230469</td>\n",
       "      <td>11002.635742</td>\n",
       "      <td>11004.041016</td>\n",
       "      <td>11005.445312</td>\n",
       "      <td>11006.850586</td>\n",
       "      <td>11008.254883</td>\n",
       "    </tr>\n",
       "    <tr>\n",
       "      <th>2</th>\n",
       "      <td>5188.016113</td>\n",
       "      <td>5189.309570</td>\n",
       "      <td>5190.603516</td>\n",
       "      <td>5191.897461</td>\n",
       "      <td>5193.191895</td>\n",
       "      <td>5194.486328</td>\n",
       "      <td>5195.780762</td>\n",
       "      <td>5197.075195</td>\n",
       "      <td>5198.369629</td>\n",
       "      <td>5199.664551</td>\n",
       "      <td>...</td>\n",
       "      <td>10995.347656</td>\n",
       "      <td>10996.752930</td>\n",
       "      <td>10998.158203</td>\n",
       "      <td>10999.563477</td>\n",
       "      <td>11000.968750</td>\n",
       "      <td>11002.374023</td>\n",
       "      <td>11003.778320</td>\n",
       "      <td>11005.183594</td>\n",
       "      <td>11006.588867</td>\n",
       "      <td>11007.993164</td>\n",
       "    </tr>\n",
       "    <tr>\n",
       "      <th>3</th>\n",
       "      <td>5187.699219</td>\n",
       "      <td>5188.992676</td>\n",
       "      <td>5190.286621</td>\n",
       "      <td>5191.581055</td>\n",
       "      <td>5192.875000</td>\n",
       "      <td>5194.169434</td>\n",
       "      <td>5195.463867</td>\n",
       "      <td>5196.758301</td>\n",
       "      <td>5198.052734</td>\n",
       "      <td>5199.347656</td>\n",
       "      <td>...</td>\n",
       "      <td>10995.034180</td>\n",
       "      <td>10996.439453</td>\n",
       "      <td>10997.844727</td>\n",
       "      <td>10999.250000</td>\n",
       "      <td>11000.655273</td>\n",
       "      <td>11002.060547</td>\n",
       "      <td>11003.464844</td>\n",
       "      <td>11004.870117</td>\n",
       "      <td>11006.275391</td>\n",
       "      <td>11007.679688</td>\n",
       "    </tr>\n",
       "  </tbody>\n",
       "</table>\n",
       "<p>4 rows × 4128 columns</p>\n",
       "</div>"
      ],
      "text/plain": [
       "                wavelength1  wavelength2  wavelength3  wavelength4  \\\n",
       "exposure_index                                                       \n",
       "0               5188.432617  5189.726562  5191.020508  5192.314941   \n",
       "1               5188.263672  5189.557617  5190.851562  5192.145508   \n",
       "2               5188.016113  5189.309570  5190.603516  5191.897461   \n",
       "3               5187.699219  5188.992676  5190.286621  5191.581055   \n",
       "\n",
       "                wavelength5  wavelength6  wavelength7  wavelength8  \\\n",
       "exposure_index                                                       \n",
       "0               5193.608887  5194.903320  5196.197754  5197.492188   \n",
       "1               5193.439941  5194.734375  5196.028809  5197.323242   \n",
       "2               5193.191895  5194.486328  5195.780762  5197.075195   \n",
       "3               5192.875000  5194.169434  5195.463867  5196.758301   \n",
       "\n",
       "                wavelength9  wavelength10       ...        wavelength4119  \\\n",
       "exposure_index                                  ...                         \n",
       "0               5198.787109   5200.082031       ...          10995.800781   \n",
       "1               5198.617676   5199.912598       ...          10995.610352   \n",
       "2               5198.369629   5199.664551       ...          10995.347656   \n",
       "3               5198.052734   5199.347656       ...          10995.034180   \n",
       "\n",
       "                wavelength4120  wavelength4121  wavelength4122  \\\n",
       "exposure_index                                                   \n",
       "0                 10997.206055    10998.611328    11000.016602   \n",
       "1                 10997.015625    10998.420898    10999.825195   \n",
       "2                 10996.752930    10998.158203    10999.563477   \n",
       "3                 10996.439453    10997.844727    10999.250000   \n",
       "\n",
       "                wavelength4123  wavelength4124  wavelength4125  \\\n",
       "exposure_index                                                   \n",
       "0                 11001.421875    11002.826172    11004.231445   \n",
       "1                 11001.230469    11002.635742    11004.041016   \n",
       "2                 11000.968750    11002.374023    11003.778320   \n",
       "3                 11000.655273    11002.060547    11003.464844   \n",
       "\n",
       "                wavelength4126  wavelength4127  wavelength4128  \n",
       "exposure_index                                                  \n",
       "0                 11005.636719    11007.041016    11008.446289  \n",
       "1                 11005.445312    11006.850586    11008.254883  \n",
       "2                 11005.183594    11006.588867    11007.993164  \n",
       "3                 11004.870117    11006.275391    11007.679688  \n",
       "\n",
       "[4 rows x 4128 columns]"
      ]
     },
     "execution_count": 896,
     "metadata": {},
     "output_type": "execute_result"
    }
   ],
   "source": [
    "masked_dataframe(p3844_f566_lambda, 'wavelength')"
   ]
  },
  {
   "cell_type": "code",
   "execution_count": null,
   "metadata": {},
   "outputs": [],
   "source": []
  },
  {
   "cell_type": "markdown",
   "metadata": {},
   "source": [
    "#### Wavelength Table"
   ]
  },
  {
   "cell_type": "code",
   "execution_count": 970,
   "metadata": {},
   "outputs": [],
   "source": [
    "p3844_f556_lambda_table = pd.DataFrame(p3844_f566_lambda, columns = wavelength_column).mask(p3844_f566_lambda.mask)"
   ]
  },
  {
   "cell_type": "code",
   "execution_count": 883,
   "metadata": {},
   "outputs": [],
   "source": [
    "p3844_f556_lambda_table.insert(4128, 'exposure_index',np.arange(4))"
   ]
  },
  {
   "cell_type": "code",
   "execution_count": 971,
   "metadata": {},
   "outputs": [
    {
     "data": {
      "text/html": [
       "<div>\n",
       "<style scoped>\n",
       "    .dataframe tbody tr th:only-of-type {\n",
       "        vertical-align: middle;\n",
       "    }\n",
       "\n",
       "    .dataframe tbody tr th {\n",
       "        vertical-align: top;\n",
       "    }\n",
       "\n",
       "    .dataframe thead th {\n",
       "        text-align: right;\n",
       "    }\n",
       "</style>\n",
       "<table border=\"1\" class=\"dataframe\">\n",
       "  <thead>\n",
       "    <tr style=\"text-align: right;\">\n",
       "      <th></th>\n",
       "      <th>wavelength1</th>\n",
       "      <th>wavelength2</th>\n",
       "      <th>wavelength3</th>\n",
       "      <th>wavelength4</th>\n",
       "      <th>wavelength5</th>\n",
       "      <th>wavelength6</th>\n",
       "      <th>wavelength7</th>\n",
       "      <th>wavelength8</th>\n",
       "      <th>wavelength9</th>\n",
       "      <th>wavelength10</th>\n",
       "      <th>...</th>\n",
       "      <th>wavelength4119</th>\n",
       "      <th>wavelength4120</th>\n",
       "      <th>wavelength4121</th>\n",
       "      <th>wavelength4122</th>\n",
       "      <th>wavelength4123</th>\n",
       "      <th>wavelength4124</th>\n",
       "      <th>wavelength4125</th>\n",
       "      <th>wavelength4126</th>\n",
       "      <th>wavelength4127</th>\n",
       "      <th>wavelength4128</th>\n",
       "    </tr>\n",
       "  </thead>\n",
       "  <tbody>\n",
       "    <tr>\n",
       "      <th>0</th>\n",
       "      <td>5188.432617</td>\n",
       "      <td>5189.726562</td>\n",
       "      <td>5191.020508</td>\n",
       "      <td>5192.314941</td>\n",
       "      <td>5193.608887</td>\n",
       "      <td>5194.903320</td>\n",
       "      <td>5196.197754</td>\n",
       "      <td>5197.492188</td>\n",
       "      <td>5198.787109</td>\n",
       "      <td>5200.082031</td>\n",
       "      <td>...</td>\n",
       "      <td>10995.800781</td>\n",
       "      <td>10997.206055</td>\n",
       "      <td>10998.611328</td>\n",
       "      <td>11000.016602</td>\n",
       "      <td>11001.421875</td>\n",
       "      <td>11002.826172</td>\n",
       "      <td>11004.231445</td>\n",
       "      <td>11005.636719</td>\n",
       "      <td>11007.041016</td>\n",
       "      <td>11008.446289</td>\n",
       "    </tr>\n",
       "    <tr>\n",
       "      <th>1</th>\n",
       "      <td>5188.263672</td>\n",
       "      <td>5189.557617</td>\n",
       "      <td>5190.851562</td>\n",
       "      <td>5192.145508</td>\n",
       "      <td>5193.439941</td>\n",
       "      <td>5194.734375</td>\n",
       "      <td>5196.028809</td>\n",
       "      <td>5197.323242</td>\n",
       "      <td>5198.617676</td>\n",
       "      <td>5199.912598</td>\n",
       "      <td>...</td>\n",
       "      <td>10995.610352</td>\n",
       "      <td>10997.015625</td>\n",
       "      <td>10998.420898</td>\n",
       "      <td>10999.825195</td>\n",
       "      <td>11001.230469</td>\n",
       "      <td>11002.635742</td>\n",
       "      <td>11004.041016</td>\n",
       "      <td>11005.445312</td>\n",
       "      <td>11006.850586</td>\n",
       "      <td>11008.254883</td>\n",
       "    </tr>\n",
       "    <tr>\n",
       "      <th>2</th>\n",
       "      <td>5188.016113</td>\n",
       "      <td>5189.309570</td>\n",
       "      <td>5190.603516</td>\n",
       "      <td>5191.897461</td>\n",
       "      <td>5193.191895</td>\n",
       "      <td>5194.486328</td>\n",
       "      <td>5195.780762</td>\n",
       "      <td>5197.075195</td>\n",
       "      <td>5198.369629</td>\n",
       "      <td>5199.664551</td>\n",
       "      <td>...</td>\n",
       "      <td>10995.347656</td>\n",
       "      <td>10996.752930</td>\n",
       "      <td>10998.158203</td>\n",
       "      <td>10999.563477</td>\n",
       "      <td>11000.968750</td>\n",
       "      <td>11002.374023</td>\n",
       "      <td>11003.778320</td>\n",
       "      <td>11005.183594</td>\n",
       "      <td>11006.588867</td>\n",
       "      <td>11007.993164</td>\n",
       "    </tr>\n",
       "    <tr>\n",
       "      <th>3</th>\n",
       "      <td>5187.699219</td>\n",
       "      <td>5188.992676</td>\n",
       "      <td>5190.286621</td>\n",
       "      <td>5191.581055</td>\n",
       "      <td>5192.875000</td>\n",
       "      <td>5194.169434</td>\n",
       "      <td>5195.463867</td>\n",
       "      <td>5196.758301</td>\n",
       "      <td>5198.052734</td>\n",
       "      <td>5199.347656</td>\n",
       "      <td>...</td>\n",
       "      <td>10995.034180</td>\n",
       "      <td>10996.439453</td>\n",
       "      <td>10997.844727</td>\n",
       "      <td>10999.250000</td>\n",
       "      <td>11000.655273</td>\n",
       "      <td>11002.060547</td>\n",
       "      <td>11003.464844</td>\n",
       "      <td>11004.870117</td>\n",
       "      <td>11006.275391</td>\n",
       "      <td>11007.679688</td>\n",
       "    </tr>\n",
       "  </tbody>\n",
       "</table>\n",
       "<p>4 rows × 4128 columns</p>\n",
       "</div>"
      ],
      "text/plain": [
       "   wavelength1  wavelength2  wavelength3  wavelength4  wavelength5  \\\n",
       "0  5188.432617  5189.726562  5191.020508  5192.314941  5193.608887   \n",
       "1  5188.263672  5189.557617  5190.851562  5192.145508  5193.439941   \n",
       "2  5188.016113  5189.309570  5190.603516  5191.897461  5193.191895   \n",
       "3  5187.699219  5188.992676  5190.286621  5191.581055  5192.875000   \n",
       "\n",
       "   wavelength6  wavelength7  wavelength8  wavelength9  wavelength10  \\\n",
       "0  5194.903320  5196.197754  5197.492188  5198.787109   5200.082031   \n",
       "1  5194.734375  5196.028809  5197.323242  5198.617676   5199.912598   \n",
       "2  5194.486328  5195.780762  5197.075195  5198.369629   5199.664551   \n",
       "3  5194.169434  5195.463867  5196.758301  5198.052734   5199.347656   \n",
       "\n",
       "        ...        wavelength4119  wavelength4120  wavelength4121  \\\n",
       "0       ...          10995.800781    10997.206055    10998.611328   \n",
       "1       ...          10995.610352    10997.015625    10998.420898   \n",
       "2       ...          10995.347656    10996.752930    10998.158203   \n",
       "3       ...          10995.034180    10996.439453    10997.844727   \n",
       "\n",
       "   wavelength4122  wavelength4123  wavelength4124  wavelength4125  \\\n",
       "0    11000.016602    11001.421875    11002.826172    11004.231445   \n",
       "1    10999.825195    11001.230469    11002.635742    11004.041016   \n",
       "2    10999.563477    11000.968750    11002.374023    11003.778320   \n",
       "3    10999.250000    11000.655273    11002.060547    11003.464844   \n",
       "\n",
       "   wavelength4126  wavelength4127  wavelength4128  \n",
       "0    11005.636719    11007.041016    11008.446289  \n",
       "1    11005.445312    11006.850586    11008.254883  \n",
       "2    11005.183594    11006.588867    11007.993164  \n",
       "3    11004.870117    11006.275391    11007.679688  \n",
       "\n",
       "[4 rows x 4128 columns]"
      ]
     },
     "execution_count": 971,
     "metadata": {},
     "output_type": "execute_result"
    }
   ],
   "source": [
    "p3844_f556_lambda_table"
   ]
  },
  {
   "cell_type": "code",
   "execution_count": 803,
   "metadata": {},
   "outputs": [
    {
     "data": {
      "text/plain": [
       "(4, 4129)"
      ]
     },
     "execution_count": 803,
     "metadata": {},
     "output_type": "execute_result"
    }
   ],
   "source": [
    "p3844_f556_lambda_table.shape"
   ]
  },
  {
   "cell_type": "code",
   "execution_count": 861,
   "metadata": {},
   "outputs": [
    {
     "data": {
      "text/plain": [
       "pandas.core.frame.DataFrame"
      ]
     },
     "execution_count": 861,
     "metadata": {},
     "output_type": "execute_result"
    }
   ],
   "source": [
    "type(p3844_f556_lambda_table)"
   ]
  },
  {
   "cell_type": "code",
   "execution_count": 862,
   "metadata": {},
   "outputs": [],
   "source": [
    "p3844_f556_lambda_table = p3844_f556_lambda_table.set_index('exposure_index')"
   ]
  },
  {
   "cell_type": "code",
   "execution_count": 863,
   "metadata": {},
   "outputs": [
    {
     "data": {
      "text/html": [
       "<div>\n",
       "<style scoped>\n",
       "    .dataframe tbody tr th:only-of-type {\n",
       "        vertical-align: middle;\n",
       "    }\n",
       "\n",
       "    .dataframe tbody tr th {\n",
       "        vertical-align: top;\n",
       "    }\n",
       "\n",
       "    .dataframe thead th {\n",
       "        text-align: right;\n",
       "    }\n",
       "</style>\n",
       "<table border=\"1\" class=\"dataframe\">\n",
       "  <thead>\n",
       "    <tr style=\"text-align: right;\">\n",
       "      <th></th>\n",
       "      <th>wavelength1</th>\n",
       "      <th>wavelength2</th>\n",
       "      <th>wavelength3</th>\n",
       "      <th>wavelength4</th>\n",
       "      <th>wavelength5</th>\n",
       "      <th>wavelength6</th>\n",
       "      <th>wavelength7</th>\n",
       "      <th>wavelength8</th>\n",
       "      <th>wavelength9</th>\n",
       "      <th>wavelength10</th>\n",
       "      <th>...</th>\n",
       "      <th>wavelength4119</th>\n",
       "      <th>wavelength4120</th>\n",
       "      <th>wavelength4121</th>\n",
       "      <th>wavelength4122</th>\n",
       "      <th>wavelength4123</th>\n",
       "      <th>wavelength4124</th>\n",
       "      <th>wavelength4125</th>\n",
       "      <th>wavelength4126</th>\n",
       "      <th>wavelength4127</th>\n",
       "      <th>wavelength4128</th>\n",
       "    </tr>\n",
       "    <tr>\n",
       "      <th>exposure_index</th>\n",
       "      <th></th>\n",
       "      <th></th>\n",
       "      <th></th>\n",
       "      <th></th>\n",
       "      <th></th>\n",
       "      <th></th>\n",
       "      <th></th>\n",
       "      <th></th>\n",
       "      <th></th>\n",
       "      <th></th>\n",
       "      <th></th>\n",
       "      <th></th>\n",
       "      <th></th>\n",
       "      <th></th>\n",
       "      <th></th>\n",
       "      <th></th>\n",
       "      <th></th>\n",
       "      <th></th>\n",
       "      <th></th>\n",
       "      <th></th>\n",
       "      <th></th>\n",
       "    </tr>\n",
       "  </thead>\n",
       "  <tbody>\n",
       "    <tr>\n",
       "      <th>0</th>\n",
       "      <td>5188.432617</td>\n",
       "      <td>5189.726562</td>\n",
       "      <td>5191.020508</td>\n",
       "      <td>5192.314941</td>\n",
       "      <td>5193.608887</td>\n",
       "      <td>5194.903320</td>\n",
       "      <td>5196.197754</td>\n",
       "      <td>5197.492188</td>\n",
       "      <td>5198.787109</td>\n",
       "      <td>5200.082031</td>\n",
       "      <td>...</td>\n",
       "      <td>10995.800781</td>\n",
       "      <td>10997.206055</td>\n",
       "      <td>10998.611328</td>\n",
       "      <td>11000.016602</td>\n",
       "      <td>11001.421875</td>\n",
       "      <td>11002.826172</td>\n",
       "      <td>11004.231445</td>\n",
       "      <td>11005.636719</td>\n",
       "      <td>11007.041016</td>\n",
       "      <td>11008.446289</td>\n",
       "    </tr>\n",
       "    <tr>\n",
       "      <th>1</th>\n",
       "      <td>5188.263672</td>\n",
       "      <td>5189.557617</td>\n",
       "      <td>5190.851562</td>\n",
       "      <td>5192.145508</td>\n",
       "      <td>5193.439941</td>\n",
       "      <td>5194.734375</td>\n",
       "      <td>5196.028809</td>\n",
       "      <td>5197.323242</td>\n",
       "      <td>5198.617676</td>\n",
       "      <td>5199.912598</td>\n",
       "      <td>...</td>\n",
       "      <td>10995.610352</td>\n",
       "      <td>10997.015625</td>\n",
       "      <td>10998.420898</td>\n",
       "      <td>10999.825195</td>\n",
       "      <td>11001.230469</td>\n",
       "      <td>11002.635742</td>\n",
       "      <td>11004.041016</td>\n",
       "      <td>11005.445312</td>\n",
       "      <td>11006.850586</td>\n",
       "      <td>11008.254883</td>\n",
       "    </tr>\n",
       "    <tr>\n",
       "      <th>2</th>\n",
       "      <td>5188.016113</td>\n",
       "      <td>5189.309570</td>\n",
       "      <td>5190.603516</td>\n",
       "      <td>5191.897461</td>\n",
       "      <td>5193.191895</td>\n",
       "      <td>5194.486328</td>\n",
       "      <td>5195.780762</td>\n",
       "      <td>5197.075195</td>\n",
       "      <td>5198.369629</td>\n",
       "      <td>5199.664551</td>\n",
       "      <td>...</td>\n",
       "      <td>10995.347656</td>\n",
       "      <td>10996.752930</td>\n",
       "      <td>10998.158203</td>\n",
       "      <td>10999.563477</td>\n",
       "      <td>11000.968750</td>\n",
       "      <td>11002.374023</td>\n",
       "      <td>11003.778320</td>\n",
       "      <td>11005.183594</td>\n",
       "      <td>11006.588867</td>\n",
       "      <td>11007.993164</td>\n",
       "    </tr>\n",
       "    <tr>\n",
       "      <th>3</th>\n",
       "      <td>5187.699219</td>\n",
       "      <td>5188.992676</td>\n",
       "      <td>5190.286621</td>\n",
       "      <td>5191.581055</td>\n",
       "      <td>5192.875000</td>\n",
       "      <td>5194.169434</td>\n",
       "      <td>5195.463867</td>\n",
       "      <td>5196.758301</td>\n",
       "      <td>5198.052734</td>\n",
       "      <td>5199.347656</td>\n",
       "      <td>...</td>\n",
       "      <td>10995.034180</td>\n",
       "      <td>10996.439453</td>\n",
       "      <td>10997.844727</td>\n",
       "      <td>10999.250000</td>\n",
       "      <td>11000.655273</td>\n",
       "      <td>11002.060547</td>\n",
       "      <td>11003.464844</td>\n",
       "      <td>11004.870117</td>\n",
       "      <td>11006.275391</td>\n",
       "      <td>11007.679688</td>\n",
       "    </tr>\n",
       "  </tbody>\n",
       "</table>\n",
       "<p>4 rows × 4128 columns</p>\n",
       "</div>"
      ],
      "text/plain": [
       "                wavelength1  wavelength2  wavelength3  wavelength4  \\\n",
       "exposure_index                                                       \n",
       "0               5188.432617  5189.726562  5191.020508  5192.314941   \n",
       "1               5188.263672  5189.557617  5190.851562  5192.145508   \n",
       "2               5188.016113  5189.309570  5190.603516  5191.897461   \n",
       "3               5187.699219  5188.992676  5190.286621  5191.581055   \n",
       "\n",
       "                wavelength5  wavelength6  wavelength7  wavelength8  \\\n",
       "exposure_index                                                       \n",
       "0               5193.608887  5194.903320  5196.197754  5197.492188   \n",
       "1               5193.439941  5194.734375  5196.028809  5197.323242   \n",
       "2               5193.191895  5194.486328  5195.780762  5197.075195   \n",
       "3               5192.875000  5194.169434  5195.463867  5196.758301   \n",
       "\n",
       "                wavelength9  wavelength10       ...        wavelength4119  \\\n",
       "exposure_index                                  ...                         \n",
       "0               5198.787109   5200.082031       ...          10995.800781   \n",
       "1               5198.617676   5199.912598       ...          10995.610352   \n",
       "2               5198.369629   5199.664551       ...          10995.347656   \n",
       "3               5198.052734   5199.347656       ...          10995.034180   \n",
       "\n",
       "                wavelength4120  wavelength4121  wavelength4122  \\\n",
       "exposure_index                                                   \n",
       "0                 10997.206055    10998.611328    11000.016602   \n",
       "1                 10997.015625    10998.420898    10999.825195   \n",
       "2                 10996.752930    10998.158203    10999.563477   \n",
       "3                 10996.439453    10997.844727    10999.250000   \n",
       "\n",
       "                wavelength4123  wavelength4124  wavelength4125  \\\n",
       "exposure_index                                                   \n",
       "0                 11001.421875    11002.826172    11004.231445   \n",
       "1                 11001.230469    11002.635742    11004.041016   \n",
       "2                 11000.968750    11002.374023    11003.778320   \n",
       "3                 11000.655273    11002.060547    11003.464844   \n",
       "\n",
       "                wavelength4126  wavelength4127  wavelength4128  \n",
       "exposure_index                                                  \n",
       "0                 11005.636719    11007.041016    11008.446289  \n",
       "1                 11005.445312    11006.850586    11008.254883  \n",
       "2                 11005.183594    11006.588867    11007.993164  \n",
       "3                 11004.870117    11006.275391    11007.679688  \n",
       "\n",
       "[4 rows x 4128 columns]"
      ]
     },
     "execution_count": 863,
     "metadata": {},
     "output_type": "execute_result"
    }
   ],
   "source": [
    "p3844_f556_lambda_table"
   ]
  },
  {
   "cell_type": "markdown",
   "metadata": {},
   "source": [
    "#### SDSS_flux Table"
   ]
  },
  {
   "cell_type": "code",
   "execution_count": 972,
   "metadata": {},
   "outputs": [],
   "source": [
    "p3844_f566_sdss_flux_table = pd.DataFrame(p3844_f566_sdss_flux, columns = sdss_flux_column).mask(p3844_f566_sdss_flux.mask)"
   ]
  },
  {
   "cell_type": "code",
   "execution_count": 944,
   "metadata": {},
   "outputs": [],
   "source": [
    "p3844_f566_sdss_flux_table.insert(4128, 'exposure_index',np.arange(4))"
   ]
  },
  {
   "cell_type": "code",
   "execution_count": 973,
   "metadata": {},
   "outputs": [
    {
     "data": {
      "text/html": [
       "<div>\n",
       "<style scoped>\n",
       "    .dataframe tbody tr th:only-of-type {\n",
       "        vertical-align: middle;\n",
       "    }\n",
       "\n",
       "    .dataframe tbody tr th {\n",
       "        vertical-align: top;\n",
       "    }\n",
       "\n",
       "    .dataframe thead th {\n",
       "        text-align: right;\n",
       "    }\n",
       "</style>\n",
       "<table border=\"1\" class=\"dataframe\">\n",
       "  <thead>\n",
       "    <tr style=\"text-align: right;\">\n",
       "      <th></th>\n",
       "      <th>sdss_flux1</th>\n",
       "      <th>sdss_flux2</th>\n",
       "      <th>sdss_flux3</th>\n",
       "      <th>sdss_flux4</th>\n",
       "      <th>sdss_flux5</th>\n",
       "      <th>sdss_flux6</th>\n",
       "      <th>sdss_flux7</th>\n",
       "      <th>sdss_flux8</th>\n",
       "      <th>sdss_flux9</th>\n",
       "      <th>sdss_flux10</th>\n",
       "      <th>...</th>\n",
       "      <th>sdss_flux4119</th>\n",
       "      <th>sdss_flux4120</th>\n",
       "      <th>sdss_flux4121</th>\n",
       "      <th>sdss_flux4122</th>\n",
       "      <th>sdss_flux4123</th>\n",
       "      <th>sdss_flux4124</th>\n",
       "      <th>sdss_flux4125</th>\n",
       "      <th>sdss_flux4126</th>\n",
       "      <th>sdss_flux4127</th>\n",
       "      <th>sdss_flux4128</th>\n",
       "    </tr>\n",
       "  </thead>\n",
       "  <tbody>\n",
       "    <tr>\n",
       "      <th>0</th>\n",
       "      <td>0.0</td>\n",
       "      <td>0.0</td>\n",
       "      <td>0.0</td>\n",
       "      <td>0.0</td>\n",
       "      <td>0.0</td>\n",
       "      <td>0.0</td>\n",
       "      <td>0.0</td>\n",
       "      <td>0.0</td>\n",
       "      <td>0.0</td>\n",
       "      <td>0.0</td>\n",
       "      <td>...</td>\n",
       "      <td>0.0</td>\n",
       "      <td>0.0</td>\n",
       "      <td>0.0</td>\n",
       "      <td>0.0</td>\n",
       "      <td>0.0</td>\n",
       "      <td>0.0</td>\n",
       "      <td>0.0</td>\n",
       "      <td>0.0</td>\n",
       "      <td>0.0</td>\n",
       "      <td>0.0</td>\n",
       "    </tr>\n",
       "    <tr>\n",
       "      <th>1</th>\n",
       "      <td>0.0</td>\n",
       "      <td>0.0</td>\n",
       "      <td>0.0</td>\n",
       "      <td>0.0</td>\n",
       "      <td>0.0</td>\n",
       "      <td>0.0</td>\n",
       "      <td>0.0</td>\n",
       "      <td>0.0</td>\n",
       "      <td>0.0</td>\n",
       "      <td>0.0</td>\n",
       "      <td>...</td>\n",
       "      <td>0.0</td>\n",
       "      <td>0.0</td>\n",
       "      <td>0.0</td>\n",
       "      <td>0.0</td>\n",
       "      <td>0.0</td>\n",
       "      <td>0.0</td>\n",
       "      <td>0.0</td>\n",
       "      <td>0.0</td>\n",
       "      <td>0.0</td>\n",
       "      <td>0.0</td>\n",
       "    </tr>\n",
       "    <tr>\n",
       "      <th>2</th>\n",
       "      <td>0.0</td>\n",
       "      <td>0.0</td>\n",
       "      <td>0.0</td>\n",
       "      <td>0.0</td>\n",
       "      <td>0.0</td>\n",
       "      <td>0.0</td>\n",
       "      <td>0.0</td>\n",
       "      <td>0.0</td>\n",
       "      <td>0.0</td>\n",
       "      <td>0.0</td>\n",
       "      <td>...</td>\n",
       "      <td>0.0</td>\n",
       "      <td>0.0</td>\n",
       "      <td>0.0</td>\n",
       "      <td>0.0</td>\n",
       "      <td>0.0</td>\n",
       "      <td>0.0</td>\n",
       "      <td>0.0</td>\n",
       "      <td>0.0</td>\n",
       "      <td>0.0</td>\n",
       "      <td>0.0</td>\n",
       "    </tr>\n",
       "    <tr>\n",
       "      <th>3</th>\n",
       "      <td>0.0</td>\n",
       "      <td>0.0</td>\n",
       "      <td>0.0</td>\n",
       "      <td>0.0</td>\n",
       "      <td>0.0</td>\n",
       "      <td>0.0</td>\n",
       "      <td>0.0</td>\n",
       "      <td>0.0</td>\n",
       "      <td>0.0</td>\n",
       "      <td>0.0</td>\n",
       "      <td>...</td>\n",
       "      <td>0.0</td>\n",
       "      <td>0.0</td>\n",
       "      <td>0.0</td>\n",
       "      <td>0.0</td>\n",
       "      <td>0.0</td>\n",
       "      <td>0.0</td>\n",
       "      <td>0.0</td>\n",
       "      <td>0.0</td>\n",
       "      <td>0.0</td>\n",
       "      <td>0.0</td>\n",
       "    </tr>\n",
       "  </tbody>\n",
       "</table>\n",
       "<p>4 rows × 4128 columns</p>\n",
       "</div>"
      ],
      "text/plain": [
       "   sdss_flux1  sdss_flux2  sdss_flux3  sdss_flux4  sdss_flux5  sdss_flux6  \\\n",
       "0         0.0         0.0         0.0         0.0         0.0         0.0   \n",
       "1         0.0         0.0         0.0         0.0         0.0         0.0   \n",
       "2         0.0         0.0         0.0         0.0         0.0         0.0   \n",
       "3         0.0         0.0         0.0         0.0         0.0         0.0   \n",
       "\n",
       "   sdss_flux7  sdss_flux8  sdss_flux9  sdss_flux10      ...        \\\n",
       "0         0.0         0.0         0.0          0.0      ...         \n",
       "1         0.0         0.0         0.0          0.0      ...         \n",
       "2         0.0         0.0         0.0          0.0      ...         \n",
       "3         0.0         0.0         0.0          0.0      ...         \n",
       "\n",
       "   sdss_flux4119  sdss_flux4120  sdss_flux4121  sdss_flux4122  sdss_flux4123  \\\n",
       "0            0.0            0.0            0.0            0.0            0.0   \n",
       "1            0.0            0.0            0.0            0.0            0.0   \n",
       "2            0.0            0.0            0.0            0.0            0.0   \n",
       "3            0.0            0.0            0.0            0.0            0.0   \n",
       "\n",
       "   sdss_flux4124  sdss_flux4125  sdss_flux4126  sdss_flux4127  sdss_flux4128  \n",
       "0            0.0            0.0            0.0            0.0            0.0  \n",
       "1            0.0            0.0            0.0            0.0            0.0  \n",
       "2            0.0            0.0            0.0            0.0            0.0  \n",
       "3            0.0            0.0            0.0            0.0            0.0  \n",
       "\n",
       "[4 rows x 4128 columns]"
      ]
     },
     "execution_count": 973,
     "metadata": {},
     "output_type": "execute_result"
    }
   ],
   "source": [
    "p3844_f566_sdss_flux_table"
   ]
  },
  {
   "cell_type": "code",
   "execution_count": 946,
   "metadata": {},
   "outputs": [
    {
     "data": {
      "text/plain": [
       "(4, 4129)"
      ]
     },
     "execution_count": 946,
     "metadata": {},
     "output_type": "execute_result"
    }
   ],
   "source": [
    "p3844_f566_sdss_flux_table.shape"
   ]
  },
  {
   "cell_type": "code",
   "execution_count": 797,
   "metadata": {},
   "outputs": [],
   "source": [
    "p3844_f566_sdss_flux_table =p3844_f566_sdss_flux_table.set_index('exposure_index')"
   ]
  },
  {
   "cell_type": "code",
   "execution_count": 798,
   "metadata": {},
   "outputs": [
    {
     "data": {
      "text/html": [
       "<div>\n",
       "<style scoped>\n",
       "    .dataframe tbody tr th:only-of-type {\n",
       "        vertical-align: middle;\n",
       "    }\n",
       "\n",
       "    .dataframe tbody tr th {\n",
       "        vertical-align: top;\n",
       "    }\n",
       "\n",
       "    .dataframe thead th {\n",
       "        text-align: right;\n",
       "    }\n",
       "</style>\n",
       "<table border=\"1\" class=\"dataframe\">\n",
       "  <thead>\n",
       "    <tr style=\"text-align: right;\">\n",
       "      <th></th>\n",
       "      <th>sdss_flux1</th>\n",
       "      <th>sdss_flux2</th>\n",
       "      <th>sdss_flux3</th>\n",
       "      <th>sdss_flux4</th>\n",
       "      <th>sdss_flux5</th>\n",
       "      <th>sdss_flux6</th>\n",
       "      <th>sdss_flux7</th>\n",
       "      <th>sdss_flux8</th>\n",
       "      <th>sdss_flux9</th>\n",
       "      <th>sdss_flux10</th>\n",
       "      <th>...</th>\n",
       "      <th>sdss_flux4119</th>\n",
       "      <th>sdss_flux4120</th>\n",
       "      <th>sdss_flux4121</th>\n",
       "      <th>sdss_flux4122</th>\n",
       "      <th>sdss_flux4123</th>\n",
       "      <th>sdss_flux4124</th>\n",
       "      <th>sdss_flux4125</th>\n",
       "      <th>sdss_flux4126</th>\n",
       "      <th>sdss_flux4127</th>\n",
       "      <th>sdss_flux4128</th>\n",
       "    </tr>\n",
       "    <tr>\n",
       "      <th>exposure_index</th>\n",
       "      <th></th>\n",
       "      <th></th>\n",
       "      <th></th>\n",
       "      <th></th>\n",
       "      <th></th>\n",
       "      <th></th>\n",
       "      <th></th>\n",
       "      <th></th>\n",
       "      <th></th>\n",
       "      <th></th>\n",
       "      <th></th>\n",
       "      <th></th>\n",
       "      <th></th>\n",
       "      <th></th>\n",
       "      <th></th>\n",
       "      <th></th>\n",
       "      <th></th>\n",
       "      <th></th>\n",
       "      <th></th>\n",
       "      <th></th>\n",
       "      <th></th>\n",
       "    </tr>\n",
       "  </thead>\n",
       "  <tbody>\n",
       "    <tr>\n",
       "      <th>0</th>\n",
       "      <td>0.0</td>\n",
       "      <td>0.0</td>\n",
       "      <td>0.0</td>\n",
       "      <td>0.0</td>\n",
       "      <td>0.0</td>\n",
       "      <td>0.0</td>\n",
       "      <td>0.0</td>\n",
       "      <td>0.0</td>\n",
       "      <td>0.0</td>\n",
       "      <td>0.0</td>\n",
       "      <td>...</td>\n",
       "      <td>0.0</td>\n",
       "      <td>0.0</td>\n",
       "      <td>0.0</td>\n",
       "      <td>0.0</td>\n",
       "      <td>0.0</td>\n",
       "      <td>0.0</td>\n",
       "      <td>0.0</td>\n",
       "      <td>0.0</td>\n",
       "      <td>0.0</td>\n",
       "      <td>0.0</td>\n",
       "    </tr>\n",
       "    <tr>\n",
       "      <th>1</th>\n",
       "      <td>0.0</td>\n",
       "      <td>0.0</td>\n",
       "      <td>0.0</td>\n",
       "      <td>0.0</td>\n",
       "      <td>0.0</td>\n",
       "      <td>0.0</td>\n",
       "      <td>0.0</td>\n",
       "      <td>0.0</td>\n",
       "      <td>0.0</td>\n",
       "      <td>0.0</td>\n",
       "      <td>...</td>\n",
       "      <td>0.0</td>\n",
       "      <td>0.0</td>\n",
       "      <td>0.0</td>\n",
       "      <td>0.0</td>\n",
       "      <td>0.0</td>\n",
       "      <td>0.0</td>\n",
       "      <td>0.0</td>\n",
       "      <td>0.0</td>\n",
       "      <td>0.0</td>\n",
       "      <td>0.0</td>\n",
       "    </tr>\n",
       "    <tr>\n",
       "      <th>2</th>\n",
       "      <td>0.0</td>\n",
       "      <td>0.0</td>\n",
       "      <td>0.0</td>\n",
       "      <td>0.0</td>\n",
       "      <td>0.0</td>\n",
       "      <td>0.0</td>\n",
       "      <td>0.0</td>\n",
       "      <td>0.0</td>\n",
       "      <td>0.0</td>\n",
       "      <td>0.0</td>\n",
       "      <td>...</td>\n",
       "      <td>0.0</td>\n",
       "      <td>0.0</td>\n",
       "      <td>0.0</td>\n",
       "      <td>0.0</td>\n",
       "      <td>0.0</td>\n",
       "      <td>0.0</td>\n",
       "      <td>0.0</td>\n",
       "      <td>0.0</td>\n",
       "      <td>0.0</td>\n",
       "      <td>0.0</td>\n",
       "    </tr>\n",
       "    <tr>\n",
       "      <th>3</th>\n",
       "      <td>0.0</td>\n",
       "      <td>0.0</td>\n",
       "      <td>0.0</td>\n",
       "      <td>0.0</td>\n",
       "      <td>0.0</td>\n",
       "      <td>0.0</td>\n",
       "      <td>0.0</td>\n",
       "      <td>0.0</td>\n",
       "      <td>0.0</td>\n",
       "      <td>0.0</td>\n",
       "      <td>...</td>\n",
       "      <td>0.0</td>\n",
       "      <td>0.0</td>\n",
       "      <td>0.0</td>\n",
       "      <td>0.0</td>\n",
       "      <td>0.0</td>\n",
       "      <td>0.0</td>\n",
       "      <td>0.0</td>\n",
       "      <td>0.0</td>\n",
       "      <td>0.0</td>\n",
       "      <td>0.0</td>\n",
       "    </tr>\n",
       "  </tbody>\n",
       "</table>\n",
       "<p>4 rows × 4128 columns</p>\n",
       "</div>"
      ],
      "text/plain": [
       "                sdss_flux1  sdss_flux2  sdss_flux3  sdss_flux4  sdss_flux5  \\\n",
       "exposure_index                                                               \n",
       "0                      0.0         0.0         0.0         0.0         0.0   \n",
       "1                      0.0         0.0         0.0         0.0         0.0   \n",
       "2                      0.0         0.0         0.0         0.0         0.0   \n",
       "3                      0.0         0.0         0.0         0.0         0.0   \n",
       "\n",
       "                sdss_flux6  sdss_flux7  sdss_flux8  sdss_flux9  sdss_flux10  \\\n",
       "exposure_index                                                                \n",
       "0                      0.0         0.0         0.0         0.0          0.0   \n",
       "1                      0.0         0.0         0.0         0.0          0.0   \n",
       "2                      0.0         0.0         0.0         0.0          0.0   \n",
       "3                      0.0         0.0         0.0         0.0          0.0   \n",
       "\n",
       "                    ...        sdss_flux4119  sdss_flux4120  sdss_flux4121  \\\n",
       "exposure_index      ...                                                      \n",
       "0                   ...                  0.0            0.0            0.0   \n",
       "1                   ...                  0.0            0.0            0.0   \n",
       "2                   ...                  0.0            0.0            0.0   \n",
       "3                   ...                  0.0            0.0            0.0   \n",
       "\n",
       "                sdss_flux4122  sdss_flux4123  sdss_flux4124  sdss_flux4125  \\\n",
       "exposure_index                                                               \n",
       "0                         0.0            0.0            0.0            0.0   \n",
       "1                         0.0            0.0            0.0            0.0   \n",
       "2                         0.0            0.0            0.0            0.0   \n",
       "3                         0.0            0.0            0.0            0.0   \n",
       "\n",
       "                sdss_flux4126  sdss_flux4127  sdss_flux4128  \n",
       "exposure_index                                               \n",
       "0                         0.0            0.0            0.0  \n",
       "1                         0.0            0.0            0.0  \n",
       "2                         0.0            0.0            0.0  \n",
       "3                         0.0            0.0            0.0  \n",
       "\n",
       "[4 rows x 4128 columns]"
      ]
     },
     "execution_count": 798,
     "metadata": {},
     "output_type": "execute_result"
    }
   ],
   "source": [
    "p3844_f566_sdss_flux_table"
   ]
  },
  {
   "cell_type": "code",
   "execution_count": 799,
   "metadata": {},
   "outputs": [
    {
     "data": {
      "text/plain": [
       "(4, 4128)"
      ]
     },
     "execution_count": 799,
     "metadata": {},
     "output_type": "execute_result"
    }
   ],
   "source": [
    "p3844_f566_sdss_flux_table.shape"
   ]
  },
  {
   "cell_type": "markdown",
   "metadata": {},
   "source": [
    "#### SDSS_sky table"
   ]
  },
  {
   "cell_type": "code",
   "execution_count": 974,
   "metadata": {},
   "outputs": [],
   "source": [
    "p3844_f566_sdss_sky_table = pd.DataFrame(p3844_f566_sdss_sky, columns = sdss_sky_column).mask(p3844_f566_sdss_sky.mask)"
   ]
  },
  {
   "cell_type": "code",
   "execution_count": 948,
   "metadata": {},
   "outputs": [],
   "source": [
    "p3844_f566_sdss_sky_table.insert(4128, 'exposure_index',np.arange(4))"
   ]
  },
  {
   "cell_type": "code",
   "execution_count": 808,
   "metadata": {},
   "outputs": [
    {
     "data": {
      "text/plain": [
       "(4, 4129)"
      ]
     },
     "execution_count": 808,
     "metadata": {},
     "output_type": "execute_result"
    }
   ],
   "source": [
    "p3844_f566_sdss_sky_table.shape"
   ]
  },
  {
   "cell_type": "code",
   "execution_count": 809,
   "metadata": {},
   "outputs": [],
   "source": [
    "p3844_f566_sdss_sky_table =p3844_f566_sdss_sky_table.set_index('exposure_index')"
   ]
  },
  {
   "cell_type": "code",
   "execution_count": 975,
   "metadata": {},
   "outputs": [
    {
     "data": {
      "text/html": [
       "<div>\n",
       "<style scoped>\n",
       "    .dataframe tbody tr th:only-of-type {\n",
       "        vertical-align: middle;\n",
       "    }\n",
       "\n",
       "    .dataframe tbody tr th {\n",
       "        vertical-align: top;\n",
       "    }\n",
       "\n",
       "    .dataframe thead th {\n",
       "        text-align: right;\n",
       "    }\n",
       "</style>\n",
       "<table border=\"1\" class=\"dataframe\">\n",
       "  <thead>\n",
       "    <tr style=\"text-align: right;\">\n",
       "      <th></th>\n",
       "      <th>sdss_sky1</th>\n",
       "      <th>sdss_sky2</th>\n",
       "      <th>sdss_sky3</th>\n",
       "      <th>sdss_sky4</th>\n",
       "      <th>sdss_sky5</th>\n",
       "      <th>sdss_sky6</th>\n",
       "      <th>sdss_sky7</th>\n",
       "      <th>sdss_sky8</th>\n",
       "      <th>sdss_sky9</th>\n",
       "      <th>sdss_sky10</th>\n",
       "      <th>...</th>\n",
       "      <th>sdss_sky4119</th>\n",
       "      <th>sdss_sky4120</th>\n",
       "      <th>sdss_sky4121</th>\n",
       "      <th>sdss_sky4122</th>\n",
       "      <th>sdss_sky4123</th>\n",
       "      <th>sdss_sky4124</th>\n",
       "      <th>sdss_sky4125</th>\n",
       "      <th>sdss_sky4126</th>\n",
       "      <th>sdss_sky4127</th>\n",
       "      <th>sdss_sky4128</th>\n",
       "    </tr>\n",
       "  </thead>\n",
       "  <tbody>\n",
       "    <tr>\n",
       "      <th>0</th>\n",
       "      <td>0.0</td>\n",
       "      <td>0.0</td>\n",
       "      <td>0.0</td>\n",
       "      <td>0.0</td>\n",
       "      <td>0.0</td>\n",
       "      <td>0.0</td>\n",
       "      <td>0.0</td>\n",
       "      <td>0.0</td>\n",
       "      <td>0.0</td>\n",
       "      <td>0.0</td>\n",
       "      <td>...</td>\n",
       "      <td>0.0</td>\n",
       "      <td>0.0</td>\n",
       "      <td>0.0</td>\n",
       "      <td>0.0</td>\n",
       "      <td>0.0</td>\n",
       "      <td>0.0</td>\n",
       "      <td>0.0</td>\n",
       "      <td>0.0</td>\n",
       "      <td>0.0</td>\n",
       "      <td>0.0</td>\n",
       "    </tr>\n",
       "    <tr>\n",
       "      <th>1</th>\n",
       "      <td>0.0</td>\n",
       "      <td>0.0</td>\n",
       "      <td>0.0</td>\n",
       "      <td>0.0</td>\n",
       "      <td>0.0</td>\n",
       "      <td>0.0</td>\n",
       "      <td>0.0</td>\n",
       "      <td>0.0</td>\n",
       "      <td>0.0</td>\n",
       "      <td>0.0</td>\n",
       "      <td>...</td>\n",
       "      <td>0.0</td>\n",
       "      <td>0.0</td>\n",
       "      <td>0.0</td>\n",
       "      <td>0.0</td>\n",
       "      <td>0.0</td>\n",
       "      <td>0.0</td>\n",
       "      <td>0.0</td>\n",
       "      <td>0.0</td>\n",
       "      <td>0.0</td>\n",
       "      <td>0.0</td>\n",
       "    </tr>\n",
       "    <tr>\n",
       "      <th>2</th>\n",
       "      <td>0.0</td>\n",
       "      <td>0.0</td>\n",
       "      <td>0.0</td>\n",
       "      <td>0.0</td>\n",
       "      <td>0.0</td>\n",
       "      <td>0.0</td>\n",
       "      <td>0.0</td>\n",
       "      <td>0.0</td>\n",
       "      <td>0.0</td>\n",
       "      <td>0.0</td>\n",
       "      <td>...</td>\n",
       "      <td>0.0</td>\n",
       "      <td>0.0</td>\n",
       "      <td>0.0</td>\n",
       "      <td>0.0</td>\n",
       "      <td>0.0</td>\n",
       "      <td>0.0</td>\n",
       "      <td>0.0</td>\n",
       "      <td>0.0</td>\n",
       "      <td>0.0</td>\n",
       "      <td>0.0</td>\n",
       "    </tr>\n",
       "    <tr>\n",
       "      <th>3</th>\n",
       "      <td>0.0</td>\n",
       "      <td>0.0</td>\n",
       "      <td>0.0</td>\n",
       "      <td>0.0</td>\n",
       "      <td>0.0</td>\n",
       "      <td>0.0</td>\n",
       "      <td>0.0</td>\n",
       "      <td>0.0</td>\n",
       "      <td>0.0</td>\n",
       "      <td>0.0</td>\n",
       "      <td>...</td>\n",
       "      <td>0.0</td>\n",
       "      <td>0.0</td>\n",
       "      <td>0.0</td>\n",
       "      <td>0.0</td>\n",
       "      <td>0.0</td>\n",
       "      <td>0.0</td>\n",
       "      <td>0.0</td>\n",
       "      <td>0.0</td>\n",
       "      <td>0.0</td>\n",
       "      <td>0.0</td>\n",
       "    </tr>\n",
       "  </tbody>\n",
       "</table>\n",
       "<p>4 rows × 4128 columns</p>\n",
       "</div>"
      ],
      "text/plain": [
       "   sdss_sky1  sdss_sky2  sdss_sky3  sdss_sky4  sdss_sky5  sdss_sky6  \\\n",
       "0        0.0        0.0        0.0        0.0        0.0        0.0   \n",
       "1        0.0        0.0        0.0        0.0        0.0        0.0   \n",
       "2        0.0        0.0        0.0        0.0        0.0        0.0   \n",
       "3        0.0        0.0        0.0        0.0        0.0        0.0   \n",
       "\n",
       "   sdss_sky7  sdss_sky8  sdss_sky9  sdss_sky10      ...       sdss_sky4119  \\\n",
       "0        0.0        0.0        0.0         0.0      ...                0.0   \n",
       "1        0.0        0.0        0.0         0.0      ...                0.0   \n",
       "2        0.0        0.0        0.0         0.0      ...                0.0   \n",
       "3        0.0        0.0        0.0         0.0      ...                0.0   \n",
       "\n",
       "   sdss_sky4120  sdss_sky4121  sdss_sky4122  sdss_sky4123  sdss_sky4124  \\\n",
       "0           0.0           0.0           0.0           0.0           0.0   \n",
       "1           0.0           0.0           0.0           0.0           0.0   \n",
       "2           0.0           0.0           0.0           0.0           0.0   \n",
       "3           0.0           0.0           0.0           0.0           0.0   \n",
       "\n",
       "   sdss_sky4125  sdss_sky4126  sdss_sky4127  sdss_sky4128  \n",
       "0           0.0           0.0           0.0           0.0  \n",
       "1           0.0           0.0           0.0           0.0  \n",
       "2           0.0           0.0           0.0           0.0  \n",
       "3           0.0           0.0           0.0           0.0  \n",
       "\n",
       "[4 rows x 4128 columns]"
      ]
     },
     "execution_count": 975,
     "metadata": {},
     "output_type": "execute_result"
    }
   ],
   "source": [
    "p3844_f566_sdss_sky_table"
   ]
  },
  {
   "cell_type": "code",
   "execution_count": 955,
   "metadata": {},
   "outputs": [
    {
     "data": {
      "text/html": [
       "<div>\n",
       "<style scoped>\n",
       "    .dataframe tbody tr th:only-of-type {\n",
       "        vertical-align: middle;\n",
       "    }\n",
       "\n",
       "    .dataframe tbody tr th {\n",
       "        vertical-align: top;\n",
       "    }\n",
       "\n",
       "    .dataframe thead th {\n",
       "        text-align: right;\n",
       "    }\n",
       "</style>\n",
       "<table border=\"1\" class=\"dataframe\">\n",
       "  <thead>\n",
       "    <tr style=\"text-align: right;\">\n",
       "      <th></th>\n",
       "      <th>sdss_flux1</th>\n",
       "      <th>sdss_flux2</th>\n",
       "      <th>sdss_flux3</th>\n",
       "      <th>sdss_flux4</th>\n",
       "      <th>sdss_flux5</th>\n",
       "      <th>sdss_flux6</th>\n",
       "      <th>sdss_flux7</th>\n",
       "      <th>sdss_flux8</th>\n",
       "      <th>sdss_flux9</th>\n",
       "      <th>sdss_flux10</th>\n",
       "      <th>...</th>\n",
       "      <th>sdss_sky4120</th>\n",
       "      <th>sdss_sky4121</th>\n",
       "      <th>sdss_sky4122</th>\n",
       "      <th>sdss_sky4123</th>\n",
       "      <th>sdss_sky4124</th>\n",
       "      <th>sdss_sky4125</th>\n",
       "      <th>sdss_sky4126</th>\n",
       "      <th>sdss_sky4127</th>\n",
       "      <th>sdss_sky4128</th>\n",
       "      <th>exposure_index</th>\n",
       "    </tr>\n",
       "  </thead>\n",
       "  <tbody>\n",
       "    <tr>\n",
       "      <th>0</th>\n",
       "      <td>0.0</td>\n",
       "      <td>0.0</td>\n",
       "      <td>0.0</td>\n",
       "      <td>0.0</td>\n",
       "      <td>0.0</td>\n",
       "      <td>0.0</td>\n",
       "      <td>0.0</td>\n",
       "      <td>0.0</td>\n",
       "      <td>0.0</td>\n",
       "      <td>0.0</td>\n",
       "      <td>...</td>\n",
       "      <td>0.0</td>\n",
       "      <td>0.0</td>\n",
       "      <td>0.0</td>\n",
       "      <td>0.0</td>\n",
       "      <td>0.0</td>\n",
       "      <td>0.0</td>\n",
       "      <td>0.0</td>\n",
       "      <td>0.0</td>\n",
       "      <td>0.0</td>\n",
       "      <td>0</td>\n",
       "    </tr>\n",
       "    <tr>\n",
       "      <th>1</th>\n",
       "      <td>0.0</td>\n",
       "      <td>0.0</td>\n",
       "      <td>0.0</td>\n",
       "      <td>0.0</td>\n",
       "      <td>0.0</td>\n",
       "      <td>0.0</td>\n",
       "      <td>0.0</td>\n",
       "      <td>0.0</td>\n",
       "      <td>0.0</td>\n",
       "      <td>0.0</td>\n",
       "      <td>...</td>\n",
       "      <td>0.0</td>\n",
       "      <td>0.0</td>\n",
       "      <td>0.0</td>\n",
       "      <td>0.0</td>\n",
       "      <td>0.0</td>\n",
       "      <td>0.0</td>\n",
       "      <td>0.0</td>\n",
       "      <td>0.0</td>\n",
       "      <td>0.0</td>\n",
       "      <td>1</td>\n",
       "    </tr>\n",
       "    <tr>\n",
       "      <th>2</th>\n",
       "      <td>0.0</td>\n",
       "      <td>0.0</td>\n",
       "      <td>0.0</td>\n",
       "      <td>0.0</td>\n",
       "      <td>0.0</td>\n",
       "      <td>0.0</td>\n",
       "      <td>0.0</td>\n",
       "      <td>0.0</td>\n",
       "      <td>0.0</td>\n",
       "      <td>0.0</td>\n",
       "      <td>...</td>\n",
       "      <td>0.0</td>\n",
       "      <td>0.0</td>\n",
       "      <td>0.0</td>\n",
       "      <td>0.0</td>\n",
       "      <td>0.0</td>\n",
       "      <td>0.0</td>\n",
       "      <td>0.0</td>\n",
       "      <td>0.0</td>\n",
       "      <td>0.0</td>\n",
       "      <td>2</td>\n",
       "    </tr>\n",
       "    <tr>\n",
       "      <th>3</th>\n",
       "      <td>0.0</td>\n",
       "      <td>0.0</td>\n",
       "      <td>0.0</td>\n",
       "      <td>0.0</td>\n",
       "      <td>0.0</td>\n",
       "      <td>0.0</td>\n",
       "      <td>0.0</td>\n",
       "      <td>0.0</td>\n",
       "      <td>0.0</td>\n",
       "      <td>0.0</td>\n",
       "      <td>...</td>\n",
       "      <td>0.0</td>\n",
       "      <td>0.0</td>\n",
       "      <td>0.0</td>\n",
       "      <td>0.0</td>\n",
       "      <td>0.0</td>\n",
       "      <td>0.0</td>\n",
       "      <td>0.0</td>\n",
       "      <td>0.0</td>\n",
       "      <td>0.0</td>\n",
       "      <td>3</td>\n",
       "    </tr>\n",
       "  </tbody>\n",
       "</table>\n",
       "<p>4 rows × 8258 columns</p>\n",
       "</div>"
      ],
      "text/plain": [
       "   sdss_flux1  sdss_flux2  sdss_flux3  sdss_flux4  sdss_flux5  sdss_flux6  \\\n",
       "0         0.0         0.0         0.0         0.0         0.0         0.0   \n",
       "1         0.0         0.0         0.0         0.0         0.0         0.0   \n",
       "2         0.0         0.0         0.0         0.0         0.0         0.0   \n",
       "3         0.0         0.0         0.0         0.0         0.0         0.0   \n",
       "\n",
       "   sdss_flux7  sdss_flux8  sdss_flux9  sdss_flux10       ...        \\\n",
       "0         0.0         0.0         0.0          0.0       ...         \n",
       "1         0.0         0.0         0.0          0.0       ...         \n",
       "2         0.0         0.0         0.0          0.0       ...         \n",
       "3         0.0         0.0         0.0          0.0       ...         \n",
       "\n",
       "   sdss_sky4120  sdss_sky4121  sdss_sky4122  sdss_sky4123  sdss_sky4124  \\\n",
       "0           0.0           0.0           0.0           0.0           0.0   \n",
       "1           0.0           0.0           0.0           0.0           0.0   \n",
       "2           0.0           0.0           0.0           0.0           0.0   \n",
       "3           0.0           0.0           0.0           0.0           0.0   \n",
       "\n",
       "   sdss_sky4125  sdss_sky4126  sdss_sky4127  sdss_sky4128  exposure_index  \n",
       "0           0.0           0.0           0.0           0.0               0  \n",
       "1           0.0           0.0           0.0           0.0               1  \n",
       "2           0.0           0.0           0.0           0.0               2  \n",
       "3           0.0           0.0           0.0           0.0               3  \n",
       "\n",
       "[4 rows x 8258 columns]"
      ]
     },
     "execution_count": 955,
     "metadata": {},
     "output_type": "execute_result"
    }
   ],
   "source": [
    "pd.concat([p3844_f566_sdss_flux_table,p3844_f566_sdss_sky_table],axis=1).drop_duplicates(['exposure_index'])"
   ]
  },
  {
   "cell_type": "code",
   "execution_count": 957,
   "metadata": {},
   "outputs": [
    {
     "data": {
      "text/plain": [
       "8257"
      ]
     },
     "execution_count": 957,
     "metadata": {},
     "output_type": "execute_result"
    }
   ],
   "source": [
    "4129*2-1"
   ]
  },
  {
   "cell_type": "markdown",
   "metadata": {},
   "source": [
    "#### TOTAL_flux table"
   ]
  },
  {
   "cell_type": "code",
   "execution_count": 976,
   "metadata": {},
   "outputs": [],
   "source": [
    "p3844_f566_total_flux_table = pd.DataFrame(p3844_f566_total_flux, columns = total_flux_column).mask(p3844_f566_total_flux.mask)"
   ]
  },
  {
   "cell_type": "code",
   "execution_count": 812,
   "metadata": {},
   "outputs": [],
   "source": [
    "p3844_f566_total_flux_table.insert(4128, 'exposure_index',np.arange(4))"
   ]
  },
  {
   "cell_type": "code",
   "execution_count": 813,
   "metadata": {},
   "outputs": [
    {
     "data": {
      "text/plain": [
       "(4, 4129)"
      ]
     },
     "execution_count": 813,
     "metadata": {},
     "output_type": "execute_result"
    }
   ],
   "source": [
    "p3844_f566_total_flux_table.shape"
   ]
  },
  {
   "cell_type": "code",
   "execution_count": 814,
   "metadata": {},
   "outputs": [],
   "source": [
    "p3844_f566_total_flux_table = p3844_f566_total_flux_table.set_index('exposure_index')"
   ]
  },
  {
   "cell_type": "code",
   "execution_count": 977,
   "metadata": {},
   "outputs": [
    {
     "data": {
      "text/html": [
       "<div>\n",
       "<style scoped>\n",
       "    .dataframe tbody tr th:only-of-type {\n",
       "        vertical-align: middle;\n",
       "    }\n",
       "\n",
       "    .dataframe tbody tr th {\n",
       "        vertical-align: top;\n",
       "    }\n",
       "\n",
       "    .dataframe thead th {\n",
       "        text-align: right;\n",
       "    }\n",
       "</style>\n",
       "<table border=\"1\" class=\"dataframe\">\n",
       "  <thead>\n",
       "    <tr style=\"text-align: right;\">\n",
       "      <th></th>\n",
       "      <th>total_flux1</th>\n",
       "      <th>total_flux2</th>\n",
       "      <th>total_flux3</th>\n",
       "      <th>total_flux4</th>\n",
       "      <th>total_flux5</th>\n",
       "      <th>total_flux6</th>\n",
       "      <th>total_flux7</th>\n",
       "      <th>total_flux8</th>\n",
       "      <th>total_flux9</th>\n",
       "      <th>total_flux10</th>\n",
       "      <th>...</th>\n",
       "      <th>total_flux4119</th>\n",
       "      <th>total_flux4120</th>\n",
       "      <th>total_flux4121</th>\n",
       "      <th>total_flux4122</th>\n",
       "      <th>total_flux4123</th>\n",
       "      <th>total_flux4124</th>\n",
       "      <th>total_flux4125</th>\n",
       "      <th>total_flux4126</th>\n",
       "      <th>total_flux4127</th>\n",
       "      <th>total_flux4128</th>\n",
       "    </tr>\n",
       "  </thead>\n",
       "  <tbody>\n",
       "    <tr>\n",
       "      <th>0</th>\n",
       "      <td>0.0</td>\n",
       "      <td>0.0</td>\n",
       "      <td>0.0</td>\n",
       "      <td>0.0</td>\n",
       "      <td>0.0</td>\n",
       "      <td>0.0</td>\n",
       "      <td>0.0</td>\n",
       "      <td>0.0</td>\n",
       "      <td>0.0</td>\n",
       "      <td>0.0</td>\n",
       "      <td>...</td>\n",
       "      <td>0.0</td>\n",
       "      <td>0.0</td>\n",
       "      <td>0.0</td>\n",
       "      <td>0.0</td>\n",
       "      <td>0.0</td>\n",
       "      <td>0.0</td>\n",
       "      <td>0.0</td>\n",
       "      <td>0.0</td>\n",
       "      <td>0.0</td>\n",
       "      <td>0.0</td>\n",
       "    </tr>\n",
       "    <tr>\n",
       "      <th>1</th>\n",
       "      <td>0.0</td>\n",
       "      <td>0.0</td>\n",
       "      <td>0.0</td>\n",
       "      <td>0.0</td>\n",
       "      <td>0.0</td>\n",
       "      <td>0.0</td>\n",
       "      <td>0.0</td>\n",
       "      <td>0.0</td>\n",
       "      <td>0.0</td>\n",
       "      <td>0.0</td>\n",
       "      <td>...</td>\n",
       "      <td>0.0</td>\n",
       "      <td>0.0</td>\n",
       "      <td>0.0</td>\n",
       "      <td>0.0</td>\n",
       "      <td>0.0</td>\n",
       "      <td>0.0</td>\n",
       "      <td>0.0</td>\n",
       "      <td>0.0</td>\n",
       "      <td>0.0</td>\n",
       "      <td>0.0</td>\n",
       "    </tr>\n",
       "    <tr>\n",
       "      <th>2</th>\n",
       "      <td>0.0</td>\n",
       "      <td>0.0</td>\n",
       "      <td>0.0</td>\n",
       "      <td>0.0</td>\n",
       "      <td>0.0</td>\n",
       "      <td>0.0</td>\n",
       "      <td>0.0</td>\n",
       "      <td>0.0</td>\n",
       "      <td>0.0</td>\n",
       "      <td>0.0</td>\n",
       "      <td>...</td>\n",
       "      <td>0.0</td>\n",
       "      <td>0.0</td>\n",
       "      <td>0.0</td>\n",
       "      <td>0.0</td>\n",
       "      <td>0.0</td>\n",
       "      <td>0.0</td>\n",
       "      <td>0.0</td>\n",
       "      <td>0.0</td>\n",
       "      <td>0.0</td>\n",
       "      <td>0.0</td>\n",
       "    </tr>\n",
       "    <tr>\n",
       "      <th>3</th>\n",
       "      <td>0.0</td>\n",
       "      <td>0.0</td>\n",
       "      <td>0.0</td>\n",
       "      <td>0.0</td>\n",
       "      <td>0.0</td>\n",
       "      <td>0.0</td>\n",
       "      <td>0.0</td>\n",
       "      <td>0.0</td>\n",
       "      <td>0.0</td>\n",
       "      <td>0.0</td>\n",
       "      <td>...</td>\n",
       "      <td>0.0</td>\n",
       "      <td>0.0</td>\n",
       "      <td>0.0</td>\n",
       "      <td>0.0</td>\n",
       "      <td>0.0</td>\n",
       "      <td>0.0</td>\n",
       "      <td>0.0</td>\n",
       "      <td>0.0</td>\n",
       "      <td>0.0</td>\n",
       "      <td>0.0</td>\n",
       "    </tr>\n",
       "  </tbody>\n",
       "</table>\n",
       "<p>4 rows × 4128 columns</p>\n",
       "</div>"
      ],
      "text/plain": [
       "   total_flux1  total_flux2  total_flux3  total_flux4  total_flux5  \\\n",
       "0          0.0          0.0          0.0          0.0          0.0   \n",
       "1          0.0          0.0          0.0          0.0          0.0   \n",
       "2          0.0          0.0          0.0          0.0          0.0   \n",
       "3          0.0          0.0          0.0          0.0          0.0   \n",
       "\n",
       "   total_flux6  total_flux7  total_flux8  total_flux9  total_flux10  \\\n",
       "0          0.0          0.0          0.0          0.0           0.0   \n",
       "1          0.0          0.0          0.0          0.0           0.0   \n",
       "2          0.0          0.0          0.0          0.0           0.0   \n",
       "3          0.0          0.0          0.0          0.0           0.0   \n",
       "\n",
       "        ...        total_flux4119  total_flux4120  total_flux4121  \\\n",
       "0       ...                   0.0             0.0             0.0   \n",
       "1       ...                   0.0             0.0             0.0   \n",
       "2       ...                   0.0             0.0             0.0   \n",
       "3       ...                   0.0             0.0             0.0   \n",
       "\n",
       "   total_flux4122  total_flux4123  total_flux4124  total_flux4125  \\\n",
       "0             0.0             0.0             0.0             0.0   \n",
       "1             0.0             0.0             0.0             0.0   \n",
       "2             0.0             0.0             0.0             0.0   \n",
       "3             0.0             0.0             0.0             0.0   \n",
       "\n",
       "   total_flux4126  total_flux4127  total_flux4128  \n",
       "0             0.0             0.0             0.0  \n",
       "1             0.0             0.0             0.0  \n",
       "2             0.0             0.0             0.0  \n",
       "3             0.0             0.0             0.0  \n",
       "\n",
       "[4 rows x 4128 columns]"
      ]
     },
     "execution_count": 977,
     "metadata": {},
     "output_type": "execute_result"
    }
   ],
   "source": [
    "p3844_f566_total_flux_table"
   ]
  },
  {
   "cell_type": "markdown",
   "metadata": {},
   "source": [
    "#### Inverse variance Table"
   ]
  },
  {
   "cell_type": "code",
   "execution_count": 978,
   "metadata": {},
   "outputs": [],
   "source": [
    "p3844_f566_inverse_variance_table = pd.DataFrame(p3844_f566_ivar, columns = ivar_column).mask(p3844_f566_ivar.mask)"
   ]
  },
  {
   "cell_type": "code",
   "execution_count": 820,
   "metadata": {},
   "outputs": [],
   "source": [
    "p3844_f566_inverse_variance_table.insert(4128, 'exposure_index',np.arange(4))"
   ]
  },
  {
   "cell_type": "code",
   "execution_count": 822,
   "metadata": {},
   "outputs": [
    {
     "data": {
      "text/plain": [
       "(4, 4129)"
      ]
     },
     "execution_count": 822,
     "metadata": {},
     "output_type": "execute_result"
    }
   ],
   "source": [
    "p3844_f566_inverse_variance_table.shape"
   ]
  },
  {
   "cell_type": "code",
   "execution_count": 823,
   "metadata": {},
   "outputs": [],
   "source": [
    "p3844_f566_inverse_variance_table =p3844_f566_inverse_variance_table.set_index('exposure_index')"
   ]
  },
  {
   "cell_type": "code",
   "execution_count": 1014,
   "metadata": {},
   "outputs": [
    {
     "data": {
      "text/html": [
       "<div>\n",
       "<style scoped>\n",
       "    .dataframe tbody tr th:only-of-type {\n",
       "        vertical-align: middle;\n",
       "    }\n",
       "\n",
       "    .dataframe tbody tr th {\n",
       "        vertical-align: top;\n",
       "    }\n",
       "\n",
       "    .dataframe thead th {\n",
       "        text-align: right;\n",
       "    }\n",
       "</style>\n",
       "<table border=\"1\" class=\"dataframe\">\n",
       "  <thead>\n",
       "    <tr style=\"text-align: right;\">\n",
       "      <th></th>\n",
       "      <th>inverse variance1</th>\n",
       "      <th>inverse variance2</th>\n",
       "      <th>inverse variance3</th>\n",
       "      <th>inverse variance4</th>\n",
       "      <th>inverse variance5</th>\n",
       "      <th>inverse variance6</th>\n",
       "      <th>inverse variance7</th>\n",
       "      <th>inverse variance8</th>\n",
       "      <th>inverse variance9</th>\n",
       "      <th>inverse variance10</th>\n",
       "      <th>...</th>\n",
       "      <th>inverse variance4119</th>\n",
       "      <th>inverse variance4120</th>\n",
       "      <th>inverse variance4121</th>\n",
       "      <th>inverse variance4122</th>\n",
       "      <th>inverse variance4123</th>\n",
       "      <th>inverse variance4124</th>\n",
       "      <th>inverse variance4125</th>\n",
       "      <th>inverse variance4126</th>\n",
       "      <th>inverse variance4127</th>\n",
       "      <th>inverse variance4128</th>\n",
       "    </tr>\n",
       "  </thead>\n",
       "  <tbody>\n",
       "    <tr>\n",
       "      <th>0</th>\n",
       "      <td>-5.098606e-15</td>\n",
       "      <td>203.425049</td>\n",
       "      <td>0.000000e+00</td>\n",
       "      <td>0.000000e+00</td>\n",
       "      <td>0.000000e+00</td>\n",
       "      <td>0.000000e+00</td>\n",
       "      <td>0.000000e+00</td>\n",
       "      <td>0.000000e+00</td>\n",
       "      <td>0.000000e+00</td>\n",
       "      <td>0.000000e+00</td>\n",
       "      <td>...</td>\n",
       "      <td>0.0</td>\n",
       "      <td>0.0</td>\n",
       "      <td>0.0</td>\n",
       "      <td>0.0</td>\n",
       "      <td>0.0</td>\n",
       "      <td>0.0</td>\n",
       "      <td>0.0</td>\n",
       "      <td>0.0</td>\n",
       "      <td>0.0</td>\n",
       "      <td>0.0</td>\n",
       "    </tr>\n",
       "    <tr>\n",
       "      <th>1</th>\n",
       "      <td>-5.098613e-15</td>\n",
       "      <td>846050.000000</td>\n",
       "      <td>7.555357e+28</td>\n",
       "      <td>1.358576e-19</td>\n",
       "      <td>1.356316e-19</td>\n",
       "      <td>1.356319e-19</td>\n",
       "      <td>9.102080e-12</td>\n",
       "      <td>1.909675e-19</td>\n",
       "      <td>1.356316e-19</td>\n",
       "      <td>1.356316e-19</td>\n",
       "      <td>...</td>\n",
       "      <td>0.0</td>\n",
       "      <td>0.0</td>\n",
       "      <td>0.0</td>\n",
       "      <td>0.0</td>\n",
       "      <td>0.0</td>\n",
       "      <td>0.0</td>\n",
       "      <td>0.0</td>\n",
       "      <td>0.0</td>\n",
       "      <td>0.0</td>\n",
       "      <td>0.0</td>\n",
       "    </tr>\n",
       "    <tr>\n",
       "      <th>2</th>\n",
       "      <td>-5.098613e-15</td>\n",
       "      <td>809326.000000</td>\n",
       "      <td>7.555357e+28</td>\n",
       "      <td>1.358576e-19</td>\n",
       "      <td>1.356316e-19</td>\n",
       "      <td>1.356319e-19</td>\n",
       "      <td>9.102080e-12</td>\n",
       "      <td>1.909675e-19</td>\n",
       "      <td>1.356316e-19</td>\n",
       "      <td>1.356316e-19</td>\n",
       "      <td>...</td>\n",
       "      <td>0.0</td>\n",
       "      <td>0.0</td>\n",
       "      <td>0.0</td>\n",
       "      <td>0.0</td>\n",
       "      <td>0.0</td>\n",
       "      <td>0.0</td>\n",
       "      <td>0.0</td>\n",
       "      <td>0.0</td>\n",
       "      <td>0.0</td>\n",
       "      <td>0.0</td>\n",
       "    </tr>\n",
       "    <tr>\n",
       "      <th>3</th>\n",
       "      <td>-5.098606e-15</td>\n",
       "      <td>203.425049</td>\n",
       "      <td>2.369428e-38</td>\n",
       "      <td>2.369428e-38</td>\n",
       "      <td>2.369428e-38</td>\n",
       "      <td>2.369428e-38</td>\n",
       "      <td>2.369428e-38</td>\n",
       "      <td>2.369428e-38</td>\n",
       "      <td>2.369428e-38</td>\n",
       "      <td>2.369428e-38</td>\n",
       "      <td>...</td>\n",
       "      <td>0.0</td>\n",
       "      <td>0.0</td>\n",
       "      <td>0.0</td>\n",
       "      <td>0.0</td>\n",
       "      <td>0.0</td>\n",
       "      <td>0.0</td>\n",
       "      <td>0.0</td>\n",
       "      <td>0.0</td>\n",
       "      <td>0.0</td>\n",
       "      <td>0.0</td>\n",
       "    </tr>\n",
       "  </tbody>\n",
       "</table>\n",
       "<p>4 rows × 4128 columns</p>\n",
       "</div>"
      ],
      "text/plain": [
       "   inverse variance1  inverse variance2  inverse variance3  inverse variance4  \\\n",
       "0      -5.098606e-15         203.425049       0.000000e+00       0.000000e+00   \n",
       "1      -5.098613e-15      846050.000000       7.555357e+28       1.358576e-19   \n",
       "2      -5.098613e-15      809326.000000       7.555357e+28       1.358576e-19   \n",
       "3      -5.098606e-15         203.425049       2.369428e-38       2.369428e-38   \n",
       "\n",
       "   inverse variance5  inverse variance6  inverse variance7  inverse variance8  \\\n",
       "0       0.000000e+00       0.000000e+00       0.000000e+00       0.000000e+00   \n",
       "1       1.356316e-19       1.356319e-19       9.102080e-12       1.909675e-19   \n",
       "2       1.356316e-19       1.356319e-19       9.102080e-12       1.909675e-19   \n",
       "3       2.369428e-38       2.369428e-38       2.369428e-38       2.369428e-38   \n",
       "\n",
       "   inverse variance9  inverse variance10          ...           \\\n",
       "0       0.000000e+00        0.000000e+00          ...            \n",
       "1       1.356316e-19        1.356316e-19          ...            \n",
       "2       1.356316e-19        1.356316e-19          ...            \n",
       "3       2.369428e-38        2.369428e-38          ...            \n",
       "\n",
       "   inverse variance4119  inverse variance4120  inverse variance4121  \\\n",
       "0                   0.0                   0.0                   0.0   \n",
       "1                   0.0                   0.0                   0.0   \n",
       "2                   0.0                   0.0                   0.0   \n",
       "3                   0.0                   0.0                   0.0   \n",
       "\n",
       "   inverse variance4122  inverse variance4123  inverse variance4124  \\\n",
       "0                   0.0                   0.0                   0.0   \n",
       "1                   0.0                   0.0                   0.0   \n",
       "2                   0.0                   0.0                   0.0   \n",
       "3                   0.0                   0.0                   0.0   \n",
       "\n",
       "   inverse variance4125  inverse variance4126  inverse variance4127  \\\n",
       "0                   0.0                   0.0                   0.0   \n",
       "1                   0.0                   0.0                   0.0   \n",
       "2                   0.0                   0.0                   0.0   \n",
       "3                   0.0                   0.0                   0.0   \n",
       "\n",
       "   inverse variance4128  \n",
       "0                   0.0  \n",
       "1                   0.0  \n",
       "2                   0.0  \n",
       "3                   0.0  \n",
       "\n",
       "[4 rows x 4128 columns]"
      ]
     },
     "execution_count": 1014,
     "metadata": {},
     "output_type": "execute_result"
    }
   ],
   "source": [
    "p3844_f566_inverse_variance_table"
   ]
  },
  {
   "cell_type": "markdown",
   "metadata": {},
   "source": [
    "#### Feature Table"
   ]
  },
  {
   "cell_type": "code",
   "execution_count": 999,
   "metadata": {},
   "outputs": [],
   "source": [
    "# Feature Data\n",
    "plate3844_fiber566_features = kilo_sky.take([0])"
   ]
  },
  {
   "cell_type": "code",
   "execution_count": 1000,
   "metadata": {},
   "outputs": [
    {
     "data": {
      "text/html": [
       "<div>\n",
       "<style scoped>\n",
       "    .dataframe tbody tr th:only-of-type {\n",
       "        vertical-align: middle;\n",
       "    }\n",
       "\n",
       "    .dataframe tbody tr th {\n",
       "        vertical-align: top;\n",
       "    }\n",
       "\n",
       "    .dataframe thead th {\n",
       "        text-align: right;\n",
       "    }\n",
       "</style>\n",
       "<table border=\"1\" class=\"dataframe\">\n",
       "  <thead>\n",
       "    <tr style=\"text-align: right;\">\n",
       "      <th></th>\n",
       "      <th>PLATE</th>\n",
       "      <th>MJD</th>\n",
       "      <th>XFOCAL</th>\n",
       "      <th>YFOCAL</th>\n",
       "      <th>FIBER</th>\n",
       "      <th>RA</th>\n",
       "      <th>DEC</th>\n",
       "      <th>OBJTYPE</th>\n",
       "      <th>AIRMASS_0</th>\n",
       "      <th>AIRMASS_1</th>\n",
       "      <th>AIRMASS_2</th>\n",
       "      <th>AIRMASS_3</th>\n",
       "      <th>AIRMASS_4</th>\n",
       "    </tr>\n",
       "  </thead>\n",
       "  <tbody>\n",
       "    <tr>\n",
       "      <th>169565</th>\n",
       "      <td>3844</td>\n",
       "      <td>55321</td>\n",
       "      <td>-93.327362</td>\n",
       "      <td>140.945984</td>\n",
       "      <td>566</td>\n",
       "      <td>180.40334</td>\n",
       "      <td>0.647407</td>\n",
       "      <td>SKY</td>\n",
       "      <td>0.0</td>\n",
       "      <td>0.0</td>\n",
       "      <td>0.0</td>\n",
       "      <td>0.0</td>\n",
       "      <td>0.0</td>\n",
       "    </tr>\n",
       "  </tbody>\n",
       "</table>\n",
       "</div>"
      ],
      "text/plain": [
       "        PLATE    MJD     XFOCAL      YFOCAL  FIBER         RA       DEC  \\\n",
       "169565   3844  55321 -93.327362  140.945984    566  180.40334  0.647407   \n",
       "\n",
       "       OBJTYPE  AIRMASS_0  AIRMASS_1  AIRMASS_2  AIRMASS_3  AIRMASS_4  \n",
       "169565     SKY        0.0        0.0        0.0        0.0        0.0  "
      ]
     },
     "execution_count": 1000,
     "metadata": {},
     "output_type": "execute_result"
    }
   ],
   "source": [
    "plate3844_fiber566_features"
   ]
  },
  {
   "cell_type": "code",
   "execution_count": 1001,
   "metadata": {},
   "outputs": [
    {
     "data": {
      "text/plain": [
       "55321"
      ]
     },
     "execution_count": 1001,
     "metadata": {},
     "output_type": "execute_result"
    }
   ],
   "source": [
    "plate3844_fiber566_features.iloc[0,1]"
   ]
  },
  {
   "cell_type": "code",
   "execution_count": null,
   "metadata": {},
   "outputs": [],
   "source": []
  },
  {
   "cell_type": "code",
   "execution_count": 1002,
   "metadata": {},
   "outputs": [],
   "source": [
    "plate3844_fiber566_features_4exposures = pd.concat([plate3844_fiber566_features]*4)"
   ]
  },
  {
   "cell_type": "code",
   "execution_count": 1003,
   "metadata": {},
   "outputs": [
    {
     "data": {
      "text/html": [
       "<div>\n",
       "<style scoped>\n",
       "    .dataframe tbody tr th:only-of-type {\n",
       "        vertical-align: middle;\n",
       "    }\n",
       "\n",
       "    .dataframe tbody tr th {\n",
       "        vertical-align: top;\n",
       "    }\n",
       "\n",
       "    .dataframe thead th {\n",
       "        text-align: right;\n",
       "    }\n",
       "</style>\n",
       "<table border=\"1\" class=\"dataframe\">\n",
       "  <thead>\n",
       "    <tr style=\"text-align: right;\">\n",
       "      <th></th>\n",
       "      <th>PLATE</th>\n",
       "      <th>MJD</th>\n",
       "      <th>XFOCAL</th>\n",
       "      <th>YFOCAL</th>\n",
       "      <th>FIBER</th>\n",
       "      <th>RA</th>\n",
       "      <th>DEC</th>\n",
       "      <th>OBJTYPE</th>\n",
       "      <th>AIRMASS_0</th>\n",
       "      <th>AIRMASS_1</th>\n",
       "      <th>AIRMASS_2</th>\n",
       "      <th>AIRMASS_3</th>\n",
       "      <th>AIRMASS_4</th>\n",
       "    </tr>\n",
       "  </thead>\n",
       "  <tbody>\n",
       "    <tr>\n",
       "      <th>169565</th>\n",
       "      <td>3844</td>\n",
       "      <td>55321</td>\n",
       "      <td>-93.327362</td>\n",
       "      <td>140.945984</td>\n",
       "      <td>566</td>\n",
       "      <td>180.40334</td>\n",
       "      <td>0.647407</td>\n",
       "      <td>SKY</td>\n",
       "      <td>0.0</td>\n",
       "      <td>0.0</td>\n",
       "      <td>0.0</td>\n",
       "      <td>0.0</td>\n",
       "      <td>0.0</td>\n",
       "    </tr>\n",
       "    <tr>\n",
       "      <th>169565</th>\n",
       "      <td>3844</td>\n",
       "      <td>55321</td>\n",
       "      <td>-93.327362</td>\n",
       "      <td>140.945984</td>\n",
       "      <td>566</td>\n",
       "      <td>180.40334</td>\n",
       "      <td>0.647407</td>\n",
       "      <td>SKY</td>\n",
       "      <td>0.0</td>\n",
       "      <td>0.0</td>\n",
       "      <td>0.0</td>\n",
       "      <td>0.0</td>\n",
       "      <td>0.0</td>\n",
       "    </tr>\n",
       "    <tr>\n",
       "      <th>169565</th>\n",
       "      <td>3844</td>\n",
       "      <td>55321</td>\n",
       "      <td>-93.327362</td>\n",
       "      <td>140.945984</td>\n",
       "      <td>566</td>\n",
       "      <td>180.40334</td>\n",
       "      <td>0.647407</td>\n",
       "      <td>SKY</td>\n",
       "      <td>0.0</td>\n",
       "      <td>0.0</td>\n",
       "      <td>0.0</td>\n",
       "      <td>0.0</td>\n",
       "      <td>0.0</td>\n",
       "    </tr>\n",
       "    <tr>\n",
       "      <th>169565</th>\n",
       "      <td>3844</td>\n",
       "      <td>55321</td>\n",
       "      <td>-93.327362</td>\n",
       "      <td>140.945984</td>\n",
       "      <td>566</td>\n",
       "      <td>180.40334</td>\n",
       "      <td>0.647407</td>\n",
       "      <td>SKY</td>\n",
       "      <td>0.0</td>\n",
       "      <td>0.0</td>\n",
       "      <td>0.0</td>\n",
       "      <td>0.0</td>\n",
       "      <td>0.0</td>\n",
       "    </tr>\n",
       "  </tbody>\n",
       "</table>\n",
       "</div>"
      ],
      "text/plain": [
       "        PLATE    MJD     XFOCAL      YFOCAL  FIBER         RA       DEC  \\\n",
       "169565   3844  55321 -93.327362  140.945984    566  180.40334  0.647407   \n",
       "169565   3844  55321 -93.327362  140.945984    566  180.40334  0.647407   \n",
       "169565   3844  55321 -93.327362  140.945984    566  180.40334  0.647407   \n",
       "169565   3844  55321 -93.327362  140.945984    566  180.40334  0.647407   \n",
       "\n",
       "       OBJTYPE  AIRMASS_0  AIRMASS_1  AIRMASS_2  AIRMASS_3  AIRMASS_4  \n",
       "169565     SKY        0.0        0.0        0.0        0.0        0.0  \n",
       "169565     SKY        0.0        0.0        0.0        0.0        0.0  \n",
       "169565     SKY        0.0        0.0        0.0        0.0        0.0  \n",
       "169565     SKY        0.0        0.0        0.0        0.0        0.0  "
      ]
     },
     "execution_count": 1003,
     "metadata": {},
     "output_type": "execute_result"
    }
   ],
   "source": [
    "plate3844_fiber566_features_4exposures"
   ]
  },
  {
   "cell_type": "code",
   "execution_count": 1004,
   "metadata": {},
   "outputs": [
    {
     "data": {
      "text/plain": [
       "(4, 13)"
      ]
     },
     "execution_count": 1004,
     "metadata": {},
     "output_type": "execute_result"
    }
   ],
   "source": [
    "plate3844_fiber566_features_4exposures.shape"
   ]
  },
  {
   "cell_type": "markdown",
   "metadata": {},
   "source": [
    "Add a column of exposure index as a last column. (For fiber 566 in plate 3844, there are 4 exposures)"
   ]
  },
  {
   "cell_type": "code",
   "execution_count": 1005,
   "metadata": {},
   "outputs": [],
   "source": [
    "plate3844_fiber566_features_4exposures.insert(13, 'exposure_index',np.arange(4))"
   ]
  },
  {
   "cell_type": "code",
   "execution_count": 1006,
   "metadata": {},
   "outputs": [],
   "source": [
    "plate3844_fiber566_features_4exposures =plate3844_fiber566_features_4exposures.set_index('exposure_index')"
   ]
  },
  {
   "cell_type": "code",
   "execution_count": 1007,
   "metadata": {},
   "outputs": [
    {
     "data": {
      "text/html": [
       "<div>\n",
       "<style scoped>\n",
       "    .dataframe tbody tr th:only-of-type {\n",
       "        vertical-align: middle;\n",
       "    }\n",
       "\n",
       "    .dataframe tbody tr th {\n",
       "        vertical-align: top;\n",
       "    }\n",
       "\n",
       "    .dataframe thead th {\n",
       "        text-align: right;\n",
       "    }\n",
       "</style>\n",
       "<table border=\"1\" class=\"dataframe\">\n",
       "  <thead>\n",
       "    <tr style=\"text-align: right;\">\n",
       "      <th></th>\n",
       "      <th>PLATE</th>\n",
       "      <th>MJD</th>\n",
       "      <th>XFOCAL</th>\n",
       "      <th>YFOCAL</th>\n",
       "      <th>FIBER</th>\n",
       "      <th>RA</th>\n",
       "      <th>DEC</th>\n",
       "      <th>OBJTYPE</th>\n",
       "      <th>AIRMASS_0</th>\n",
       "      <th>AIRMASS_1</th>\n",
       "      <th>AIRMASS_2</th>\n",
       "      <th>AIRMASS_3</th>\n",
       "      <th>AIRMASS_4</th>\n",
       "    </tr>\n",
       "    <tr>\n",
       "      <th>exposure_index</th>\n",
       "      <th></th>\n",
       "      <th></th>\n",
       "      <th></th>\n",
       "      <th></th>\n",
       "      <th></th>\n",
       "      <th></th>\n",
       "      <th></th>\n",
       "      <th></th>\n",
       "      <th></th>\n",
       "      <th></th>\n",
       "      <th></th>\n",
       "      <th></th>\n",
       "      <th></th>\n",
       "    </tr>\n",
       "  </thead>\n",
       "  <tbody>\n",
       "    <tr>\n",
       "      <th>0</th>\n",
       "      <td>3844</td>\n",
       "      <td>55321</td>\n",
       "      <td>-93.327362</td>\n",
       "      <td>140.945984</td>\n",
       "      <td>566</td>\n",
       "      <td>180.40334</td>\n",
       "      <td>0.647407</td>\n",
       "      <td>SKY</td>\n",
       "      <td>0.0</td>\n",
       "      <td>0.0</td>\n",
       "      <td>0.0</td>\n",
       "      <td>0.0</td>\n",
       "      <td>0.0</td>\n",
       "    </tr>\n",
       "    <tr>\n",
       "      <th>1</th>\n",
       "      <td>3844</td>\n",
       "      <td>55321</td>\n",
       "      <td>-93.327362</td>\n",
       "      <td>140.945984</td>\n",
       "      <td>566</td>\n",
       "      <td>180.40334</td>\n",
       "      <td>0.647407</td>\n",
       "      <td>SKY</td>\n",
       "      <td>0.0</td>\n",
       "      <td>0.0</td>\n",
       "      <td>0.0</td>\n",
       "      <td>0.0</td>\n",
       "      <td>0.0</td>\n",
       "    </tr>\n",
       "    <tr>\n",
       "      <th>2</th>\n",
       "      <td>3844</td>\n",
       "      <td>55321</td>\n",
       "      <td>-93.327362</td>\n",
       "      <td>140.945984</td>\n",
       "      <td>566</td>\n",
       "      <td>180.40334</td>\n",
       "      <td>0.647407</td>\n",
       "      <td>SKY</td>\n",
       "      <td>0.0</td>\n",
       "      <td>0.0</td>\n",
       "      <td>0.0</td>\n",
       "      <td>0.0</td>\n",
       "      <td>0.0</td>\n",
       "    </tr>\n",
       "    <tr>\n",
       "      <th>3</th>\n",
       "      <td>3844</td>\n",
       "      <td>55321</td>\n",
       "      <td>-93.327362</td>\n",
       "      <td>140.945984</td>\n",
       "      <td>566</td>\n",
       "      <td>180.40334</td>\n",
       "      <td>0.647407</td>\n",
       "      <td>SKY</td>\n",
       "      <td>0.0</td>\n",
       "      <td>0.0</td>\n",
       "      <td>0.0</td>\n",
       "      <td>0.0</td>\n",
       "      <td>0.0</td>\n",
       "    </tr>\n",
       "  </tbody>\n",
       "</table>\n",
       "</div>"
      ],
      "text/plain": [
       "                PLATE    MJD     XFOCAL      YFOCAL  FIBER         RA  \\\n",
       "exposure_index                                                          \n",
       "0                3844  55321 -93.327362  140.945984    566  180.40334   \n",
       "1                3844  55321 -93.327362  140.945984    566  180.40334   \n",
       "2                3844  55321 -93.327362  140.945984    566  180.40334   \n",
       "3                3844  55321 -93.327362  140.945984    566  180.40334   \n",
       "\n",
       "                     DEC OBJTYPE  AIRMASS_0  AIRMASS_1  AIRMASS_2  AIRMASS_3  \\\n",
       "exposure_index                                                                 \n",
       "0               0.647407     SKY        0.0        0.0        0.0        0.0   \n",
       "1               0.647407     SKY        0.0        0.0        0.0        0.0   \n",
       "2               0.647407     SKY        0.0        0.0        0.0        0.0   \n",
       "3               0.647407     SKY        0.0        0.0        0.0        0.0   \n",
       "\n",
       "                AIRMASS_4  \n",
       "exposure_index             \n",
       "0                     0.0  \n",
       "1                     0.0  \n",
       "2                     0.0  \n",
       "3                     0.0  "
      ]
     },
     "execution_count": 1007,
     "metadata": {},
     "output_type": "execute_result"
    }
   ],
   "source": [
    "plate3844_fiber566_features_4exposures"
   ]
  },
  {
   "cell_type": "code",
   "execution_count": 1012,
   "metadata": {},
   "outputs": [
    {
     "data": {
      "text/plain": [
       "(4, 13)"
      ]
     },
     "execution_count": 1012,
     "metadata": {},
     "output_type": "execute_result"
    }
   ],
   "source": [
    "plate3844_fiber566_features_4exposures.shape"
   ]
  },
  {
   "cell_type": "code",
   "execution_count": 1026,
   "metadata": {},
   "outputs": [],
   "source": [
    "plate3844_fiber566_frames = [plate3844_fiber566_features_4exposures, p3844_f556_lambda_table, p3844_f556_sdss_flux_table,p3844_f566_sdss_sky_table,p3844_f566_total_flux_table,p3844_f566_inverse_variance_table]"
   ]
  },
  {
   "cell_type": "code",
   "execution_count": 1027,
   "metadata": {},
   "outputs": [],
   "source": [
    "plate3844_fiber566_4exposures = pd.concat(plate3844_fiber566_frames,axis=1)"
   ]
  },
  {
   "cell_type": "code",
   "execution_count": 1028,
   "metadata": {},
   "outputs": [
    {
     "data": {
      "text/html": [
       "<div>\n",
       "<style scoped>\n",
       "    .dataframe tbody tr th:only-of-type {\n",
       "        vertical-align: middle;\n",
       "    }\n",
       "\n",
       "    .dataframe tbody tr th {\n",
       "        vertical-align: top;\n",
       "    }\n",
       "\n",
       "    .dataframe thead th {\n",
       "        text-align: right;\n",
       "    }\n",
       "</style>\n",
       "<table border=\"1\" class=\"dataframe\">\n",
       "  <thead>\n",
       "    <tr style=\"text-align: right;\">\n",
       "      <th></th>\n",
       "      <th>PLATE</th>\n",
       "      <th>MJD</th>\n",
       "      <th>XFOCAL</th>\n",
       "      <th>YFOCAL</th>\n",
       "      <th>FIBER</th>\n",
       "      <th>RA</th>\n",
       "      <th>DEC</th>\n",
       "      <th>OBJTYPE</th>\n",
       "      <th>AIRMASS_0</th>\n",
       "      <th>AIRMASS_1</th>\n",
       "      <th>...</th>\n",
       "      <th>inverse variance4119</th>\n",
       "      <th>inverse variance4120</th>\n",
       "      <th>inverse variance4121</th>\n",
       "      <th>inverse variance4122</th>\n",
       "      <th>inverse variance4123</th>\n",
       "      <th>inverse variance4124</th>\n",
       "      <th>inverse variance4125</th>\n",
       "      <th>inverse variance4126</th>\n",
       "      <th>inverse variance4127</th>\n",
       "      <th>inverse variance4128</th>\n",
       "    </tr>\n",
       "    <tr>\n",
       "      <th>exposure_index</th>\n",
       "      <th></th>\n",
       "      <th></th>\n",
       "      <th></th>\n",
       "      <th></th>\n",
       "      <th></th>\n",
       "      <th></th>\n",
       "      <th></th>\n",
       "      <th></th>\n",
       "      <th></th>\n",
       "      <th></th>\n",
       "      <th></th>\n",
       "      <th></th>\n",
       "      <th></th>\n",
       "      <th></th>\n",
       "      <th></th>\n",
       "      <th></th>\n",
       "      <th></th>\n",
       "      <th></th>\n",
       "      <th></th>\n",
       "      <th></th>\n",
       "      <th></th>\n",
       "    </tr>\n",
       "  </thead>\n",
       "  <tbody>\n",
       "    <tr>\n",
       "      <th>0</th>\n",
       "      <td>3844</td>\n",
       "      <td>55321</td>\n",
       "      <td>-93.327362</td>\n",
       "      <td>140.945984</td>\n",
       "      <td>566</td>\n",
       "      <td>180.40334</td>\n",
       "      <td>0.647407</td>\n",
       "      <td>SKY</td>\n",
       "      <td>0.0</td>\n",
       "      <td>0.0</td>\n",
       "      <td>...</td>\n",
       "      <td>0.0</td>\n",
       "      <td>0.0</td>\n",
       "      <td>0.0</td>\n",
       "      <td>0.0</td>\n",
       "      <td>0.0</td>\n",
       "      <td>0.0</td>\n",
       "      <td>0.0</td>\n",
       "      <td>0.0</td>\n",
       "      <td>0.0</td>\n",
       "      <td>0.0</td>\n",
       "    </tr>\n",
       "    <tr>\n",
       "      <th>1</th>\n",
       "      <td>3844</td>\n",
       "      <td>55321</td>\n",
       "      <td>-93.327362</td>\n",
       "      <td>140.945984</td>\n",
       "      <td>566</td>\n",
       "      <td>180.40334</td>\n",
       "      <td>0.647407</td>\n",
       "      <td>SKY</td>\n",
       "      <td>0.0</td>\n",
       "      <td>0.0</td>\n",
       "      <td>...</td>\n",
       "      <td>0.0</td>\n",
       "      <td>0.0</td>\n",
       "      <td>0.0</td>\n",
       "      <td>0.0</td>\n",
       "      <td>0.0</td>\n",
       "      <td>0.0</td>\n",
       "      <td>0.0</td>\n",
       "      <td>0.0</td>\n",
       "      <td>0.0</td>\n",
       "      <td>0.0</td>\n",
       "    </tr>\n",
       "    <tr>\n",
       "      <th>2</th>\n",
       "      <td>3844</td>\n",
       "      <td>55321</td>\n",
       "      <td>-93.327362</td>\n",
       "      <td>140.945984</td>\n",
       "      <td>566</td>\n",
       "      <td>180.40334</td>\n",
       "      <td>0.647407</td>\n",
       "      <td>SKY</td>\n",
       "      <td>0.0</td>\n",
       "      <td>0.0</td>\n",
       "      <td>...</td>\n",
       "      <td>0.0</td>\n",
       "      <td>0.0</td>\n",
       "      <td>0.0</td>\n",
       "      <td>0.0</td>\n",
       "      <td>0.0</td>\n",
       "      <td>0.0</td>\n",
       "      <td>0.0</td>\n",
       "      <td>0.0</td>\n",
       "      <td>0.0</td>\n",
       "      <td>0.0</td>\n",
       "    </tr>\n",
       "    <tr>\n",
       "      <th>3</th>\n",
       "      <td>3844</td>\n",
       "      <td>55321</td>\n",
       "      <td>-93.327362</td>\n",
       "      <td>140.945984</td>\n",
       "      <td>566</td>\n",
       "      <td>180.40334</td>\n",
       "      <td>0.647407</td>\n",
       "      <td>SKY</td>\n",
       "      <td>0.0</td>\n",
       "      <td>0.0</td>\n",
       "      <td>...</td>\n",
       "      <td>0.0</td>\n",
       "      <td>0.0</td>\n",
       "      <td>0.0</td>\n",
       "      <td>0.0</td>\n",
       "      <td>0.0</td>\n",
       "      <td>0.0</td>\n",
       "      <td>0.0</td>\n",
       "      <td>0.0</td>\n",
       "      <td>0.0</td>\n",
       "      <td>0.0</td>\n",
       "    </tr>\n",
       "  </tbody>\n",
       "</table>\n",
       "<p>4 rows × 20653 columns</p>\n",
       "</div>"
      ],
      "text/plain": [
       "                PLATE    MJD     XFOCAL      YFOCAL  FIBER         RA  \\\n",
       "exposure_index                                                          \n",
       "0                3844  55321 -93.327362  140.945984    566  180.40334   \n",
       "1                3844  55321 -93.327362  140.945984    566  180.40334   \n",
       "2                3844  55321 -93.327362  140.945984    566  180.40334   \n",
       "3                3844  55321 -93.327362  140.945984    566  180.40334   \n",
       "\n",
       "                     DEC OBJTYPE  AIRMASS_0  AIRMASS_1          ...           \\\n",
       "exposure_index                                                  ...            \n",
       "0               0.647407     SKY        0.0        0.0          ...            \n",
       "1               0.647407     SKY        0.0        0.0          ...            \n",
       "2               0.647407     SKY        0.0        0.0          ...            \n",
       "3               0.647407     SKY        0.0        0.0          ...            \n",
       "\n",
       "                inverse variance4119  inverse variance4120  \\\n",
       "exposure_index                                               \n",
       "0                                0.0                   0.0   \n",
       "1                                0.0                   0.0   \n",
       "2                                0.0                   0.0   \n",
       "3                                0.0                   0.0   \n",
       "\n",
       "                inverse variance4121  inverse variance4122  \\\n",
       "exposure_index                                               \n",
       "0                                0.0                   0.0   \n",
       "1                                0.0                   0.0   \n",
       "2                                0.0                   0.0   \n",
       "3                                0.0                   0.0   \n",
       "\n",
       "                inverse variance4123  inverse variance4124  \\\n",
       "exposure_index                                               \n",
       "0                                0.0                   0.0   \n",
       "1                                0.0                   0.0   \n",
       "2                                0.0                   0.0   \n",
       "3                                0.0                   0.0   \n",
       "\n",
       "                inverse variance4125  inverse variance4126  \\\n",
       "exposure_index                                               \n",
       "0                                0.0                   0.0   \n",
       "1                                0.0                   0.0   \n",
       "2                                0.0                   0.0   \n",
       "3                                0.0                   0.0   \n",
       "\n",
       "                inverse variance4127  inverse variance4128  \n",
       "exposure_index                                              \n",
       "0                                0.0                   0.0  \n",
       "1                                0.0                   0.0  \n",
       "2                                0.0                   0.0  \n",
       "3                                0.0                   0.0  \n",
       "\n",
       "[4 rows x 20653 columns]"
      ]
     },
     "execution_count": 1028,
     "metadata": {},
     "output_type": "execute_result"
    }
   ],
   "source": [
    "plate3844_fiber566_4exposures"
   ]
  },
  {
   "cell_type": "code",
   "execution_count": 1015,
   "metadata": {},
   "outputs": [
    {
     "data": {
      "text/plain": [
       "20653"
      ]
     },
     "execution_count": 1015,
     "metadata": {},
     "output_type": "execute_result"
    }
   ],
   "source": [
    "13+4128*5"
   ]
  },
  {
   "cell_type": "code",
   "execution_count": 1016,
   "metadata": {},
   "outputs": [
    {
     "data": {
      "text/plain": [
       "20653"
      ]
     },
     "execution_count": 1016,
     "metadata": {},
     "output_type": "execute_result"
    }
   ],
   "source": [
    "5*4128+13"
   ]
  },
  {
   "cell_type": "code",
   "execution_count": 1035,
   "metadata": {},
   "outputs": [
    {
     "data": {
      "text/html": [
       "<div>\n",
       "<style scoped>\n",
       "    .dataframe tbody tr th:only-of-type {\n",
       "        vertical-align: middle;\n",
       "    }\n",
       "\n",
       "    .dataframe tbody tr th {\n",
       "        vertical-align: top;\n",
       "    }\n",
       "\n",
       "    .dataframe thead th {\n",
       "        text-align: right;\n",
       "    }\n",
       "</style>\n",
       "<table border=\"1\" class=\"dataframe\">\n",
       "  <thead>\n",
       "    <tr style=\"text-align: right;\">\n",
       "      <th></th>\n",
       "      <th>PLATE</th>\n",
       "      <th>MJD</th>\n",
       "      <th>XFOCAL</th>\n",
       "      <th>YFOCAL</th>\n",
       "      <th>FIBER</th>\n",
       "      <th>RA</th>\n",
       "      <th>DEC</th>\n",
       "      <th>OBJTYPE</th>\n",
       "      <th>AIRMASS_0</th>\n",
       "      <th>AIRMASS_1</th>\n",
       "      <th>...</th>\n",
       "      <th>inverse variance4119</th>\n",
       "      <th>inverse variance4120</th>\n",
       "      <th>inverse variance4121</th>\n",
       "      <th>inverse variance4122</th>\n",
       "      <th>inverse variance4123</th>\n",
       "      <th>inverse variance4124</th>\n",
       "      <th>inverse variance4125</th>\n",
       "      <th>inverse variance4126</th>\n",
       "      <th>inverse variance4127</th>\n",
       "      <th>inverse variance4128</th>\n",
       "    </tr>\n",
       "    <tr>\n",
       "      <th>exposure_index</th>\n",
       "      <th></th>\n",
       "      <th></th>\n",
       "      <th></th>\n",
       "      <th></th>\n",
       "      <th></th>\n",
       "      <th></th>\n",
       "      <th></th>\n",
       "      <th></th>\n",
       "      <th></th>\n",
       "      <th></th>\n",
       "      <th></th>\n",
       "      <th></th>\n",
       "      <th></th>\n",
       "      <th></th>\n",
       "      <th></th>\n",
       "      <th></th>\n",
       "      <th></th>\n",
       "      <th></th>\n",
       "      <th></th>\n",
       "      <th></th>\n",
       "      <th></th>\n",
       "    </tr>\n",
       "  </thead>\n",
       "  <tbody>\n",
       "    <tr>\n",
       "      <th>0</th>\n",
       "      <td>3844</td>\n",
       "      <td>55321</td>\n",
       "      <td>-93.327362</td>\n",
       "      <td>140.945984</td>\n",
       "      <td>566</td>\n",
       "      <td>180.40334</td>\n",
       "      <td>0.647407</td>\n",
       "      <td>SKY</td>\n",
       "      <td>0.0</td>\n",
       "      <td>0.0</td>\n",
       "      <td>...</td>\n",
       "      <td>0.0</td>\n",
       "      <td>0.0</td>\n",
       "      <td>0.0</td>\n",
       "      <td>0.0</td>\n",
       "      <td>0.0</td>\n",
       "      <td>0.0</td>\n",
       "      <td>0.0</td>\n",
       "      <td>0.0</td>\n",
       "      <td>0.0</td>\n",
       "      <td>0.0</td>\n",
       "    </tr>\n",
       "    <tr>\n",
       "      <th>1</th>\n",
       "      <td>3844</td>\n",
       "      <td>55321</td>\n",
       "      <td>-93.327362</td>\n",
       "      <td>140.945984</td>\n",
       "      <td>566</td>\n",
       "      <td>180.40334</td>\n",
       "      <td>0.647407</td>\n",
       "      <td>SKY</td>\n",
       "      <td>0.0</td>\n",
       "      <td>0.0</td>\n",
       "      <td>...</td>\n",
       "      <td>0.0</td>\n",
       "      <td>0.0</td>\n",
       "      <td>0.0</td>\n",
       "      <td>0.0</td>\n",
       "      <td>0.0</td>\n",
       "      <td>0.0</td>\n",
       "      <td>0.0</td>\n",
       "      <td>0.0</td>\n",
       "      <td>0.0</td>\n",
       "      <td>0.0</td>\n",
       "    </tr>\n",
       "    <tr>\n",
       "      <th>2</th>\n",
       "      <td>3844</td>\n",
       "      <td>55321</td>\n",
       "      <td>-93.327362</td>\n",
       "      <td>140.945984</td>\n",
       "      <td>566</td>\n",
       "      <td>180.40334</td>\n",
       "      <td>0.647407</td>\n",
       "      <td>SKY</td>\n",
       "      <td>0.0</td>\n",
       "      <td>0.0</td>\n",
       "      <td>...</td>\n",
       "      <td>0.0</td>\n",
       "      <td>0.0</td>\n",
       "      <td>0.0</td>\n",
       "      <td>0.0</td>\n",
       "      <td>0.0</td>\n",
       "      <td>0.0</td>\n",
       "      <td>0.0</td>\n",
       "      <td>0.0</td>\n",
       "      <td>0.0</td>\n",
       "      <td>0.0</td>\n",
       "    </tr>\n",
       "    <tr>\n",
       "      <th>3</th>\n",
       "      <td>3844</td>\n",
       "      <td>55321</td>\n",
       "      <td>-93.327362</td>\n",
       "      <td>140.945984</td>\n",
       "      <td>566</td>\n",
       "      <td>180.40334</td>\n",
       "      <td>0.647407</td>\n",
       "      <td>SKY</td>\n",
       "      <td>0.0</td>\n",
       "      <td>0.0</td>\n",
       "      <td>...</td>\n",
       "      <td>0.0</td>\n",
       "      <td>0.0</td>\n",
       "      <td>0.0</td>\n",
       "      <td>0.0</td>\n",
       "      <td>0.0</td>\n",
       "      <td>0.0</td>\n",
       "      <td>0.0</td>\n",
       "      <td>0.0</td>\n",
       "      <td>0.0</td>\n",
       "      <td>0.0</td>\n",
       "    </tr>\n",
       "  </tbody>\n",
       "</table>\n",
       "<p>4 rows × 20653 columns</p>\n",
       "</div>"
      ],
      "text/plain": [
       "                PLATE    MJD     XFOCAL      YFOCAL  FIBER         RA  \\\n",
       "exposure_index                                                          \n",
       "0                3844  55321 -93.327362  140.945984    566  180.40334   \n",
       "1                3844  55321 -93.327362  140.945984    566  180.40334   \n",
       "2                3844  55321 -93.327362  140.945984    566  180.40334   \n",
       "3                3844  55321 -93.327362  140.945984    566  180.40334   \n",
       "\n",
       "                     DEC OBJTYPE  AIRMASS_0  AIRMASS_1          ...           \\\n",
       "exposure_index                                                  ...            \n",
       "0               0.647407     SKY        0.0        0.0          ...            \n",
       "1               0.647407     SKY        0.0        0.0          ...            \n",
       "2               0.647407     SKY        0.0        0.0          ...            \n",
       "3               0.647407     SKY        0.0        0.0          ...            \n",
       "\n",
       "                inverse variance4119  inverse variance4120  \\\n",
       "exposure_index                                               \n",
       "0                                0.0                   0.0   \n",
       "1                                0.0                   0.0   \n",
       "2                                0.0                   0.0   \n",
       "3                                0.0                   0.0   \n",
       "\n",
       "                inverse variance4121  inverse variance4122  \\\n",
       "exposure_index                                               \n",
       "0                                0.0                   0.0   \n",
       "1                                0.0                   0.0   \n",
       "2                                0.0                   0.0   \n",
       "3                                0.0                   0.0   \n",
       "\n",
       "                inverse variance4123  inverse variance4124  \\\n",
       "exposure_index                                               \n",
       "0                                0.0                   0.0   \n",
       "1                                0.0                   0.0   \n",
       "2                                0.0                   0.0   \n",
       "3                                0.0                   0.0   \n",
       "\n",
       "                inverse variance4125  inverse variance4126  \\\n",
       "exposure_index                                               \n",
       "0                                0.0                   0.0   \n",
       "1                                0.0                   0.0   \n",
       "2                                0.0                   0.0   \n",
       "3                                0.0                   0.0   \n",
       "\n",
       "                inverse variance4127  inverse variance4128  \n",
       "exposure_index                                              \n",
       "0                                0.0                   0.0  \n",
       "1                                0.0                   0.0  \n",
       "2                                0.0                   0.0  \n",
       "3                                0.0                   0.0  \n",
       "\n",
       "[4 rows x 20653 columns]"
      ]
     },
     "execution_count": 1035,
     "metadata": {},
     "output_type": "execute_result"
    }
   ],
   "source": [
    "plate3844_fiber566_4exposures"
   ]
  },
  {
   "cell_type": "markdown",
   "metadata": {},
   "source": [
    "Above is the exposure information table for plate 3844, fiber 566 including 13 features and all exposure valid data across 4 exposures.\n",
    "\n",
    "Such information is to be collected for all sky fibers in the sampled kilo-sky."
   ]
  },
  {
   "cell_type": "code",
   "execution_count": 1052,
   "metadata": {},
   "outputs": [],
   "source": [
    "def make_dataframe(masked_array, name):\n",
    "    ''' name: string. Name of column index\n",
    "    \n",
    "    Return: pandas table of masked_array\n",
    "    '''\n",
    "    column_name = column_index(name, 4128)\n",
    "\n",
    "    pandas_table = pd.DataFrame(masked_array, columns = column_name).mask(masked_array.mask)\n",
    "    \n",
    "    return pandas_table"
   ]
  },
  {
   "cell_type": "code",
   "execution_count": 1029,
   "metadata": {},
   "outputs": [],
   "source": [
    "def make_featureframe(feature_row, exposures):\n",
    "    \n",
    "    feature_table = pd.concat([feature_row] * exposures)\n",
    "    feature_table.insert(13, 'exposure_index',np.arange(exposures))\n",
    "    feature_table = feature_table.set_index('exposure_index')\n",
    "    \n",
    "    return feature_table"
   ]
  },
  {
   "cell_type": "code",
   "execution_count": 1098,
   "metadata": {},
   "outputs": [],
   "source": [
    "def data_collection(kilo_sky):\n",
    "    \n",
    "    fiber_feature0 = kilo_sky.take([0])\n",
    "    \n",
    "    plate_number0 = fiber_feature0.iloc[0,0]\n",
    "    mjd0 = fiber_feature0.iloc[0,1]\n",
    "    fiber_number0 = fiber_feature0.iloc[0,4]\n",
    "        \n",
    "    valid_info0 = get_valid_data(plate_number0,mjd0,fiber_number0)\n",
    "    \n",
    "    valid_data0 = valid_info0[0]\n",
    "    wavelength0, sdss_flux0, sdss_sky0, total_flux0, inverse_variance0 = get_field(valid_data0)\n",
    "        \n",
    "    exposures0 = valid_info0[1]\n",
    "    \n",
    "    feature_table0 = make_featureframe(fiber_feature0, exposures0)\n",
    "        \n",
    "    wavelength_table0 = make_dataframe(wavelength0,'wavelength')\n",
    "    sdss_flux_table0 = make_dataframe(sdss_flux0,'sdss_flux')\n",
    "    sdss_sky_table0 = make_dataframe(sdss_sky0, 'sdss_sky')\n",
    "    total_flux_table0 = make_dataframe(total_flux0,'total_flux')\n",
    "    inverse_variance_table0 = make_dataframe(inverse_variance0,'inverse_variance')\n",
    "    \n",
    "    frames0 = [feature_table0, wavelength_table0, sdss_flux_table0, sdss_sky_table0, total_flux_table0, inverse_variance_table0]\n",
    "    \n",
    "    fiber_data0 = pd.concat(frames0, axis=1)\n",
    "        \n",
    "    for n in range(1,kilo_sky.shape[0]):\n",
    "        fiber_feature = kilo_sky.take([n])\n",
    "    \n",
    "        plate_number = fiber_feature.iloc[0,0]\n",
    "        mjd = fiber_feature.iloc[0,1]\n",
    "        fiber_number = fiber_feature.iloc[0,4]\n",
    "        \n",
    "        valid_info = get_valid_data(plate_number,mjd,fiber_number)\n",
    "    \n",
    "        valid_data = valid_info[0]\n",
    "        wavelength, sdss_flux, sdss_sky, total_flux, inverse_variance = get_field(valid_data)\n",
    "        \n",
    "        exposures = valid_info[1]\n",
    "    \n",
    "        feature_table = make_featureframe(fiber_feature, exposures)\n",
    "        \n",
    "        wavelength_table = make_dataframe(wavelength,'wavelength')\n",
    "        sdss_flux_table = make_dataframe(sdss_flux,'sdss_flux')\n",
    "        sdss_sky_table = make_dataframe(sdss_sky, 'sdss_sky')\n",
    "        total_flux_table = make_dataframe(total_flux,'total_flux')\n",
    "        inverse_variance_table = make_dataframe(inverse_variance,'inverse_variance')\n",
    "    \n",
    "        frames = [feature_table, wavelength_table, sdss_flux_table, sdss_sky_table, total_flux_table, inverse_variance_table]\n",
    "    \n",
    "        fiber_data = pd.concat(frames, axis=1)\n",
    "        \n",
    "        fiber_data0 = pd.concat([fiber_data0, fiber_data],axis=0)\n",
    "        \n",
    "    return fiber_data0.reset_index()"
   ]
  },
  {
   "cell_type": "code",
   "execution_count": 1110,
   "metadata": {},
   "outputs": [
    {
     "name": "stdout",
     "output_type": "stream",
     "text": [
      "Plate 3844 fiber 566 has 4 exposures\n",
      "Plate 5399 fiber 640 has 8 exposures\n",
      "Plate 6190 fiber 204 has 4 exposures\n",
      "Plate 6822 fiber 919 has 11 exposures\n",
      "Plate 7451 fiber 170 has 13 exposures\n",
      "Plate 7315 fiber 34 has 6 exposures\n",
      "Plate 5384 fiber 264 has 6 exposures\n",
      "Plate 7316 fiber 757 has 5 exposures\n",
      "Plate 5956 fiber 878 has 7 exposures\n",
      "Plate 4734 fiber 592 has 4 exposures\n",
      "Plate 5119 fiber 176 has 4 exposures\n",
      "Plate 4241 fiber 240 has 10 exposures\n",
      "Plate 3873 fiber 668 has 3 exposures\n",
      "Plate 6386 fiber 246 has 6 exposures\n",
      "Plate 3794 fiber 544 has 18 exposures\n",
      "Plate 4983 fiber 82 has 6 exposures\n",
      "Plate 4184 fiber 828 has 4 exposures\n",
      "Plate 3833 fiber 122 has 8 exposures\n",
      "Plate 4901 fiber 495 has 7 exposures\n",
      "Plate 4480 fiber 304 has 6 exposures\n",
      "Plate 5880 fiber 432 has 4 exposures\n",
      "Plate 3688 fiber 62 has 5 exposures\n",
      "Plate 7417 fiber 986 has 5 exposures\n",
      "Plate 7258 fiber 880 has 6 exposures\n",
      "Plate 4977 fiber 164 has 3 exposures\n",
      "Plate 6032 fiber 78 has 3 exposures\n",
      "Plate 5785 fiber 148 has 5 exposures\n",
      "Plate 5339 fiber 742 has 14 exposures\n",
      "Plate 4216 fiber 814 has 7 exposures\n",
      "Plate 6316 fiber 538 has 10 exposures\n",
      "Plate 6515 fiber 218 has 4 exposures\n",
      "Plate 6110 fiber 418 has 6 exposures\n",
      "Plate 3808 fiber 482 has 7 exposures\n",
      "Plate 4205 fiber 766 has 5 exposures\n",
      "Plate 7050 fiber 26 has 6 exposures\n",
      "Plate 3651 fiber 232 has 8 exposures\n",
      "Plate 5030 fiber 522 has 4 exposures\n",
      "Plate 7339 fiber 403 has 9 exposures\n",
      "Plate 5738 fiber 351 has 4 exposures\n",
      "Plate 5189 fiber 678 has 6 exposures\n",
      "Plate 5423 fiber 530 has 3 exposures\n",
      "Plate 6933 fiber 114 has 8 exposures\n",
      "Plate 3784 fiber 135 has 7 exposures\n",
      "Plate 4414 fiber 986 has 5 exposures\n",
      "Plate 4445 fiber 992 has 5 exposures\n",
      "Plate 5375 fiber 684 has 4 exposures\n",
      "Plate 3947 fiber 976 has 3 exposures\n",
      "Plate 6138 fiber 316 has 40 exposures\n",
      "Plate 4611 fiber 588 has 4 exposures\n",
      "Plate 4742 fiber 314 has 8 exposures\n",
      "Plate 6004 fiber 96 has 4 exposures\n",
      "Plate 4452 fiber 796 has 5 exposures\n",
      "Plate 6448 fiber 4 has 3 exposures\n",
      "Plate 4572 fiber 12 has 6 exposures\n",
      "Plate 5876 fiber 874 has 4 exposures\n",
      "Plate 4714 fiber 596 has 3 exposures\n",
      "Plate 6666 fiber 613 has 3 exposures\n",
      "Plate 5176 fiber 350 has 6 exposures\n",
      "Plate 3940 fiber 134 has 5 exposures\n",
      "Plate 4626 fiber 548 has 5 exposures\n",
      "Plate 6879 fiber 760 has 7 exposures\n",
      "Plate 4857 fiber 544 has 5 exposures\n",
      "Plate 4357 fiber 284 has 4 exposures\n",
      "Plate 3672 fiber 106 has 5 exposures\n",
      "Plate 4978 fiber 324 has 3 exposures\n",
      "Plate 6656 fiber 704 has 6 exposures\n",
      "Plate 4298 fiber 366 has 9 exposures\n",
      "Plate 4508 fiber 482 has 7 exposures\n",
      "Plate 6986 fiber 692 has 5 exposures\n",
      "Plate 7135 fiber 776 has 11 exposures\n",
      "Plate 5495 fiber 48 has 5 exposures\n",
      "Plate 6412 fiber 116 has 3 exposures\n",
      "Plate 6439 fiber 524 has 3 exposures\n",
      "Plate 7031 fiber 593 has 3 exposures\n",
      "Plate 4094 fiber 666 has 7 exposures\n",
      "Plate 6447 fiber 608 has 3 exposures\n",
      "Plate 6459 fiber 710 has 6 exposures\n",
      "Plate 6520 fiber 360 has 4 exposures\n",
      "Plate 5857 fiber 945 has 4 exposures\n",
      "Plate 3959 fiber 130 has 4 exposures\n",
      "Plate 3844 fiber 352 has 4 exposures\n",
      "Plate 5789 fiber 42 has 3 exposures\n",
      "Plate 4511 fiber 534 has 8 exposures\n",
      "Plate 3589 fiber 504 has 6 exposures\n",
      "Plate 4457 fiber 552 has 6 exposures\n",
      "Plate 6483 fiber 164 has 4 exposures\n",
      "Plate 5871 fiber 254 has 7 exposures\n",
      "Plate 6635 fiber 104 has 5 exposures\n",
      "Plate 4268 fiber 910 has 5 exposures\n",
      "Plate 4199 fiber 118 has 5 exposures\n",
      "Plate 6499 fiber 836 has 5 exposures\n",
      "Plate 4687 fiber 468 has 6 exposures\n",
      "Plate 4903 fiber 465 has 3 exposures\n",
      "Plate 5442 fiber 594 has 4 exposures\n",
      "Plate 4372 fiber 862 has 8 exposures\n",
      "Plate 6815 fiber 40 has 3 exposures\n",
      "Plate 6963 fiber 406 has 5 exposures\n",
      "Plate 4178 fiber 734 has 8 exposures\n",
      "Plate 6933 fiber 237 has 8 exposures\n",
      "Plate 4650 fiber 103 has 4 exposures\n",
      "Plate 4380 fiber 22 has 5 exposures\n",
      "Plate 6637 fiber 906 has 3 exposures\n",
      "Plate 7115 fiber 364 has 6 exposures\n",
      "Plate 6709 fiber 410 has 4 exposures\n",
      "Plate 5066 fiber 486 has 4 exposures\n",
      "Plate 5065 fiber 676 has 8 exposures\n",
      "Plate 3819 fiber 760 has 5 exposures\n",
      "Plate 4765 fiber 786 has 4 exposures\n",
      "Plate 4782 fiber 33 has 5 exposures\n",
      "Plate 5375 fiber 782 has 4 exposures\n",
      "Plate 7031 fiber 903 has 3 exposures\n",
      "Plate 5966 fiber 780 has 11 exposures\n",
      "Plate 5009 fiber 592 has 4 exposures\n",
      "Plate 6195 fiber 510 has 4 exposures\n",
      "Plate 6129 fiber 640 has 15 exposures\n",
      "Plate 6872 fiber 158 has 6 exposures\n",
      "Plate 3860 fiber 740 has 5 exposures\n",
      "Plate 7031 fiber 976 has 3 exposures\n",
      "Plate 5959 fiber 679 has 4 exposures\n",
      "Plate 4662 fiber 708 has 11 exposures\n",
      "Plate 7086 fiber 80 has 5 exposures\n",
      "Plate 7099 fiber 44 has 4 exposures\n",
      "Plate 3832 fiber 770 has 9 exposures\n",
      "Plate 5996 fiber 322 has 3 exposures\n",
      "Plate 6657 fiber 651 has 3 exposures\n",
      "Plate 5157 fiber 762 has 11 exposures\n",
      "Plate 5882 fiber 253 has 4 exposures\n",
      "Plate 4414 fiber 410 has 5 exposures\n",
      "Plate 5466 fiber 797 has 6 exposures\n",
      "Plate 4730 fiber 588 has 7 exposures\n",
      "Plate 4230 fiber 542 has 11 exposures\n",
      "Plate 4647 fiber 732 has 5 exposures\n",
      "Plate 4684 fiber 526 has 6 exposures\n",
      "Plate 5722 fiber 316 has 4 exposures\n",
      "Plate 7454 fiber 788 has 5 exposures\n",
      "Plate 7030 fiber 851 has 3 exposures\n",
      "Plate 5893 fiber 520 has 4 exposures\n",
      "Plate 5003 fiber 648 has 5 exposures\n",
      "Plate 5489 fiber 592 has 7 exposures\n",
      "Plate 6002 fiber 326 has 8 exposures\n",
      "Plate 5297 fiber 128 has 7 exposures\n",
      "Plate 7453 fiber 854 has 5 exposures\n",
      "Plate 4611 fiber 728 has 4 exposures\n",
      "Plate 3777 fiber 314 has 7 exposures\n",
      "Plate 7383 fiber 498 has 4 exposures\n",
      "Plate 6683 fiber 352 has 3 exposures\n",
      "Plate 4383 fiber 535 has 7 exposures\n",
      "Plate 4770 fiber 918 has 4 exposures\n",
      "Plate 4527 fiber 390 has 4 exposures\n",
      "Plate 6797 fiber 552 has 5 exposures\n",
      "Plate 7041 fiber 372 has 5 exposures\n",
      "Plate 6413 fiber 544 has 8 exposures\n",
      "Plate 5397 fiber 324 has 5 exposures\n",
      "Plate 6140 fiber 120 has 5 exposures\n",
      "Plate 6726 fiber 191 has 6 exposures\n",
      "Plate 6288 fiber 172 has 3 exposures\n",
      "Plate 6466 fiber 390 has 4 exposures\n",
      "Plate 7262 fiber 23 has 5 exposures\n",
      "Plate 6391 fiber 810 has 3 exposures\n",
      "Plate 4263 fiber 535 has 5 exposures\n",
      "Plate 7325 fiber 890 has 5 exposures\n",
      "Plate 4460 fiber 32 has 4 exposures\n",
      "Plate 4224 fiber 14 has 5 exposures\n",
      "Plate 6746 fiber 402 has 4 exposures\n",
      "Plate 4074 fiber 508 has 6 exposures\n",
      "Plate 5972 fiber 246 has 10 exposures\n",
      "Plate 4089 fiber 62 has 6 exposures\n",
      "Plate 4860 fiber 840 has 7 exposures\n",
      "Plate 4416 fiber 322 has 3 exposures\n",
      "Plate 6931 fiber 162 has 8 exposures\n",
      "Plate 5996 fiber 666 has 3 exposures\n",
      "Plate 4493 fiber 784 has 12 exposures\n",
      "Plate 7446 fiber 406 has 4 exposures\n",
      "Plate 5123 fiber 302 has 6 exposures\n",
      "Plate 5134 fiber 612 has 6 exposures\n",
      "Plate 4566 fiber 54 has 4 exposures\n",
      "Plate 6049 fiber 764 has 3 exposures\n",
      "Plate 4470 fiber 576 has 7 exposures\n",
      "Plate 5735 fiber 744 has 6 exposures\n",
      "Plate 4212 fiber 894 has 5 exposures\n",
      "Plate 4889 fiber 274 has 5 exposures\n",
      "Plate 6302 fiber 482 has 4 exposures\n",
      "Plate 4028 fiber 262 has 4 exposures\n",
      "Plate 5420 fiber 886 has 3 exposures\n",
      "Plate 6204 fiber 836 has 5 exposures\n",
      "Plate 6049 fiber 444 has 3 exposures\n",
      "Plate 6746 fiber 370 has 4 exposures\n",
      "Plate 3682 fiber 810 has 4 exposures\n",
      "Plate 5306 fiber 936 has 3 exposures\n",
      "Plate 6591 fiber 769 has 6 exposures\n",
      "Plate 6629 fiber 428 has 4 exposures\n",
      "Plate 4564 fiber 594 has 4 exposures\n",
      "Plate 5723 fiber 406 has 7 exposures\n",
      "Plate 6009 fiber 814 has 3 exposures\n",
      "Plate 3830 fiber 56 has 13 exposures\n",
      "Plate 5991 fiber 172 has 6 exposures\n",
      "Plate 4004 fiber 202 has 4 exposures\n",
      "Plate 4370 fiber 886 has 6 exposures\n",
      "Plate 6507 fiber 634 has 6 exposures\n",
      "Plate 5350 fiber 220 has 3 exposures\n",
      "Plate 4697 fiber 584 has 7 exposures\n",
      "Plate 4473 fiber 458 has 8 exposures\n",
      "Plate 5446 fiber 154 has 3 exposures\n",
      "Plate 3929 fiber 332 has 11 exposures\n",
      "Plate 6748 fiber 12 has 3 exposures\n",
      "Plate 4869 fiber 6 has 4 exposures\n",
      "Plate 4832 fiber 569 has 4 exposures\n",
      "Plate 4267 fiber 184 has 4 exposures\n",
      "Plate 4719 fiber 898 has 6 exposures\n",
      "Plate 5112 fiber 592 has 6 exposures\n",
      "Plate 6410 fiber 254 has 5 exposures\n",
      "Plate 6698 fiber 364 has 4 exposures\n",
      "Plate 6024 fiber 658 has 3 exposures\n",
      "Plate 3696 fiber 826 has 6 exposures\n",
      "Plate 4348 fiber 514 has 5 exposures\n",
      "Plate 6035 fiber 208 has 3 exposures\n",
      "Plate 4427 fiber 744 has 6 exposures\n",
      "Plate 6645 fiber 834 has 6 exposures\n",
      "Plate 7058 fiber 573 has 4 exposures\n",
      "Plate 6040 fiber 746 has 5 exposures\n",
      "Plate 6705 fiber 376 has 4 exposures\n",
      "Plate 3764 fiber 30 has 8 exposures\n",
      "Plate 4541 fiber 22 has 4 exposures\n",
      "Plate 6304 fiber 834 has 5 exposures\n",
      "Plate 6582 fiber 962 has 4 exposures\n",
      "Plate 6064 fiber 462 has 3 exposures\n",
      "Plate 7236 fiber 873 has 4 exposures\n",
      "Plate 5783 fiber 338 has 7 exposures\n",
      "Plate 5322 fiber 296 has 3 exposures\n",
      "Plate 3690 fiber 106 has 10 exposures\n",
      "Plate 4970 fiber 362 has 3 exposures\n",
      "Plate 5165 fiber 138 has 4 exposures\n",
      "Plate 6126 fiber 715 has 5 exposures\n",
      "Plate 5789 fiber 304 has 3 exposures\n",
      "Plate 4219 fiber 428 has 6 exposures\n",
      "Plate 5063 fiber 970 has 4 exposures\n",
      "Plate 4903 fiber 494 has 3 exposures\n",
      "Plate 4241 fiber 328 has 10 exposures\n",
      "Plate 4876 fiber 654 has 3 exposures\n",
      "Plate 7054 fiber 6 has 4 exposures\n",
      "Plate 4802 fiber 863 has 4 exposures\n",
      "Plate 7456 fiber 362 has 5 exposures\n",
      "Plate 5725 fiber 480 has 8 exposures\n",
      "Plate 7255 fiber 986 has 8 exposures\n",
      "Plate 5942 fiber 488 has 8 exposures\n",
      "Plate 4569 fiber 504 has 4 exposures\n",
      "Plate 6498 fiber 428 has 3 exposures\n",
      "Plate 6377 fiber 28 has 6 exposures\n",
      "Plate 4026 fiber 636 has 8 exposures\n",
      "Plate 4078 fiber 24 has 13 exposures\n",
      "Plate 7031 fiber 294 has 3 exposures\n",
      "Plate 3590 fiber 304 has 8 exposures\n",
      "Plate 5315 fiber 18 has 3 exposures\n",
      "Plate 6813 fiber 210 has 4 exposures\n",
      "Plate 6821 fiber 42 has 6 exposures\n",
      "Plate 3668 fiber 962 has 8 exposures\n",
      "Plate 6503 fiber 46 has 4 exposures\n",
      "Plate 4288 fiber 366 has 3 exposures\n",
      "Plate 6786 fiber 66 has 3 exposures\n",
      "Plate 4426 fiber 154 has 4 exposures\n",
      "Plate 6751 fiber 588 has 3 exposures\n",
      "Plate 7049 fiber 698 has 4 exposures\n",
      "Plate 5359 fiber 523 has 3 exposures\n",
      "Plate 5124 fiber 730 has 6 exposures\n",
      "Plate 5120 fiber 534 has 5 exposures\n",
      "Plate 5739 fiber 972 has 3 exposures\n",
      "Plate 4836 fiber 103 has 6 exposures\n",
      "Plate 6302 fiber 18 has 4 exposures\n",
      "Plate 5202 fiber 910 has 8 exposures\n",
      "Plate 5726 fiber 98 has 4 exposures\n",
      "Plate 6582 fiber 956 has 4 exposures\n",
      "Plate 4451 fiber 418 has 5 exposures\n",
      "Plate 3696 fiber 542 has 6 exposures\n",
      "Plate 5325 fiber 674 has 4 exposures\n",
      "Plate 5953 fiber 952 has 11 exposures\n",
      "Plate 5982 fiber 134 has 4 exposures\n",
      "Plate 5960 fiber 838 has 6 exposures\n",
      "Plate 3606 fiber 570 has 11 exposures\n",
      "Plate 4457 fiber 950 has 6 exposures\n",
      "Plate 6266 fiber 956 has 5 exposures\n",
      "Plate 5694 fiber 878 has 8 exposures\n",
      "Plate 5358 fiber 691 has 6 exposures\n",
      "Plate 5028 fiber 360 has 4 exposures\n",
      "Plate 6056 fiber 432 has 6 exposures\n",
      "Plate 6452 fiber 944 has 3 exposures\n",
      "Plate 3781 fiber 54 has 10 exposures\n",
      "Plate 6422 fiber 676 has 7 exposures\n",
      "Plate 4421 fiber 806 has 3 exposures\n",
      "Plate 5143 fiber 538 has 5 exposures\n",
      "Plate 6721 fiber 562 has 4 exposures\n",
      "Plate 6808 fiber 150 has 4 exposures\n",
      "Plate 6497 fiber 112 has 7 exposures\n",
      "Plate 4855 fiber 52 has 4 exposures\n",
      "Plate 3977 fiber 541 has 11 exposures\n",
      "Plate 4393 fiber 960 has 6 exposures\n",
      "Plate 3755 fiber 846 has 9 exposures\n",
      "Plate 5731 fiber 624 has 5 exposures\n",
      "Plate 3943 fiber 176 has 6 exposures\n",
      "Plate 4873 fiber 712 has 3 exposures\n",
      "Plate 6497 fiber 38 has 7 exposures\n",
      "Plate 3778 fiber 986 has 10 exposures\n",
      "Plate 7239 fiber 769 has 9 exposures\n",
      "Plate 6127 fiber 596 has 4 exposures\n",
      "Plate 4650 fiber 220 has 4 exposures\n",
      "Plate 4712 fiber 378 has 3 exposures\n",
      "Plate 6459 fiber 606 has 6 exposures\n",
      "Plate 4604 fiber 384 has 8 exposures\n",
      "Plate 4743 fiber 616 has 6 exposures\n",
      "Plate 5409 fiber 330 has 3 exposures\n",
      "Plate 7124 fiber 410 has 4 exposures\n",
      "Plate 3766 fiber 688 has 9 exposures\n",
      "Plate 4975 fiber 638 has 3 exposures\n",
      "Plate 5784 fiber 792 has 4 exposures\n",
      "Plate 4569 fiber 486 has 4 exposures\n",
      "Plate 7261 fiber 181 has 5 exposures\n",
      "Plate 4966 fiber 528 has 5 exposures\n",
      "Plate 4271 fiber 456 has 7 exposures\n",
      "Plate 5975 fiber 654 has 8 exposures\n",
      "Plate 5057 fiber 403 has 4 exposures\n",
      "Plate 4220 fiber 286 has 6 exposures\n",
      "Plate 6146 fiber 608 has 7 exposures\n",
      "Plate 5480 fiber 558 has 8 exposures\n",
      "Plate 5133 fiber 296 has 4 exposures\n",
      "Plate 3753 fiber 484 has 4 exposures\n",
      "Plate 4881 fiber 520 has 9 exposures\n",
      "Plate 6297 fiber 790 has 6 exposures\n",
      "Plate 6727 fiber 976 has 3 exposures\n",
      "Plate 5791 fiber 533 has 5 exposures\n",
      "Plate 4555 fiber 274 has 9 exposures\n",
      "Plate 4723 fiber 156 has 5 exposures\n",
      "Plate 4738 fiber 444 has 5 exposures\n",
      "Plate 6511 fiber 992 has 8 exposures\n",
      "Plate 4423 fiber 730 has 6 exposures\n",
      "Plate 6112 fiber 432 has 4 exposures\n",
      "Plate 4178 fiber 994 has 8 exposures\n",
      "Plate 6446 fiber 248 has 3 exposures\n",
      "Plate 5733 fiber 358 has 6 exposures\n",
      "Plate 3658 fiber 520 has 7 exposures\n",
      "Plate 5119 fiber 904 has 4 exposures\n",
      "Plate 4971 fiber 196 has 4 exposures\n",
      "Plate 5146 fiber 894 has 7 exposures\n",
      "Plate 4616 fiber 518 has 4 exposures\n",
      "Plate 4372 fiber 230 has 8 exposures\n",
      "Plate 4707 fiber 640 has 3 exposures\n",
      "Plate 6695 fiber 958 has 10 exposures\n",
      "Plate 4208 fiber 696 has 7 exposures\n",
      "Plate 6793 fiber 374 has 4 exposures\n",
      "Plate 3977 fiber 706 has 11 exposures\n",
      "Plate 7446 fiber 172 has 4 exposures\n",
      "Plate 5709 fiber 480 has 9 exposures\n",
      "Plate 5299 fiber 916 has 4 exposures\n",
      "Plate 6200 fiber 236 has 6 exposures\n",
      "Plate 7152 fiber 396 has 7 exposures\n",
      "Plate 4782 fiber 676 has 5 exposures\n",
      "Plate 3987 fiber 550 has 3 exposures\n",
      "Plate 6680 fiber 976 has 3 exposures\n",
      "Plate 6294 fiber 448 has 11 exposures\n",
      "Plate 4642 fiber 102 has 3 exposures\n",
      "Plate 7379 fiber 297 has 12 exposures\n",
      "Plate 6688 fiber 54 has 3 exposures\n",
      "Plate 7282 fiber 934 has 10 exposures\n",
      "Plate 4694 fiber 549 has 4 exposures\n",
      "Plate 4702 fiber 632 has 5 exposures\n",
      "Plate 4633 fiber 822 has 19 exposures\n",
      "Plate 3589 fiber 310 has 6 exposures\n",
      "Plate 4258 fiber 5 has 5 exposures\n",
      "Plate 3923 fiber 82 has 6 exposures\n",
      "Plate 3955 fiber 460 has 11 exposures\n",
      "Plate 5874 fiber 366 has 4 exposures\n",
      "Plate 7151 fiber 655 has 4 exposures\n",
      "Plate 5367 fiber 56 has 4 exposures\n",
      "Plate 3836 fiber 448 has 5 exposures\n",
      "Plate 5363 fiber 684 has 4 exposures\n",
      "Plate 3961 fiber 952 has 5 exposures\n",
      "Plate 6132 fiber 768 has 3 exposures\n",
      "Plate 6840 fiber 698 has 8 exposures\n",
      "Plate 4029 fiber 706 has 16 exposures\n",
      "Plate 7087 fiber 799 has 5 exposures\n",
      "Plate 5192 fiber 550 has 3 exposures\n",
      "Plate 4851 fiber 616 has 5 exposures\n",
      "Plate 4704 fiber 288 has 5 exposures\n",
      "Plate 6627 fiber 870 has 3 exposures\n",
      "Plate 7454 fiber 844 has 5 exposures\n",
      "Plate 5112 fiber 924 has 6 exposures\n",
      "Plate 5973 fiber 960 has 3 exposures\n",
      "Plate 5061 fiber 898 has 5 exposures\n",
      "Plate 4657 fiber 478 has 7 exposures\n",
      "Plate 5905 fiber 236 has 3 exposures\n",
      "Plate 7111 fiber 350 has 4 exposures\n",
      "Plate 7316 fiber 327 has 5 exposures\n",
      "Plate 4385 fiber 610 has 7 exposures\n",
      "Plate 4369 fiber 154 has 5 exposures\n",
      "Plate 4807 fiber 820 has 7 exposures\n",
      "Plate 3657 fiber 556 has 4 exposures\n",
      "Plate 5207 fiber 816 has 3 exposures\n",
      "Plate 4415 fiber 596 has 5 exposures\n",
      "Plate 3978 fiber 596 has 3 exposures\n",
      "Plate 5485 fiber 668 has 5 exposures\n",
      "Plate 4889 fiber 138 has 5 exposures\n",
      "Plate 5904 fiber 8 has 3 exposures\n",
      "Plate 7374 fiber 232 has 8 exposures\n",
      "Plate 4078 fiber 444 has 13 exposures\n",
      "Plate 5062 fiber 910 has 12 exposures\n",
      "Plate 4695 fiber 10 has 5 exposures\n",
      "Plate 4889 fiber 296 has 5 exposures\n",
      "Plate 6039 fiber 786 has 4 exposures\n",
      "Plate 5178 fiber 662 has 5 exposures\n",
      "Plate 7053 fiber 98 has 5 exposures\n",
      "Plate 6477 fiber 252 has 3 exposures\n",
      "Plate 6119 fiber 766 has 3 exposures\n",
      "Plate 4547 fiber 974 has 5 exposures\n",
      "Plate 7093 fiber 211 has 6 exposures\n",
      "Plate 4237 fiber 574 has 7 exposures\n",
      "Plate 4856 fiber 904 has 4 exposures\n",
      "Plate 7457 fiber 483 has 7 exposures\n",
      "Plate 3680 fiber 812 has 4 exposures\n",
      "Plate 3866 fiber 90 has 4 exposures\n",
      "Plate 4466 fiber 928 has 9 exposures\n",
      "Plate 6172 fiber 806 has 5 exposures\n",
      "Plate 7452 fiber 734 has 4 exposures\n",
      "Plate 4666 fiber 822 has 6 exposures\n",
      "Plate 3862 fiber 244 has 4 exposures\n",
      "Plate 6194 fiber 16 has 4 exposures\n",
      "Plate 5782 fiber 126 has 5 exposures\n",
      "Plate 6493 fiber 974 has 3 exposures\n",
      "Plate 7380 fiber 905 has 5 exposures\n",
      "Plate 6595 fiber 342 has 4 exposures\n",
      "Plate 6657 fiber 812 has 3 exposures\n",
      "Plate 4509 fiber 84 has 8 exposures\n",
      "Plate 5766 fiber 72 has 8 exposures\n",
      "Plate 3964 fiber 20 has 5 exposures\n",
      "Plate 6972 fiber 1 has 4 exposures\n",
      "Plate 3873 fiber 270 has 3 exposures\n",
      "Plate 6810 fiber 492 has 3 exposures\n",
      "Plate 4452 fiber 606 has 5 exposures\n",
      "Plate 4751 fiber 42 has 6 exposures\n",
      "Plate 3781 fiber 964 has 10 exposures\n",
      "Plate 7034 fiber 998 has 4 exposures\n",
      "Plate 4284 fiber 830 has 7 exposures\n",
      "Plate 6825 fiber 396 has 9 exposures\n",
      "Plate 4303 fiber 38 has 12 exposures\n",
      "Plate 5151 fiber 212 has 6 exposures\n",
      "Plate 4879 fiber 454 has 7 exposures\n",
      "Plate 6285 fiber 402 has 3 exposures\n",
      "Plate 5126 fiber 340 has 8 exposures\n",
      "Plate 4631 fiber 530 has 5 exposures\n",
      "Plate 5419 fiber 745 has 3 exposures\n",
      "Plate 4413 fiber 456 has 8 exposures\n",
      "Plate 5849 fiber 814 has 3 exposures\n",
      "Plate 5898 fiber 124 has 3 exposures\n",
      "Plate 3667 fiber 564 has 4 exposures\n",
      "Plate 5944 fiber 36 has 9 exposures\n",
      "Plate 4502 fiber 518 has 4 exposures\n",
      "Plate 4719 fiber 129 has 6 exposures\n",
      "Plate 5415 fiber 54 has 4 exposures\n",
      "Plate 7298 fiber 915 has 5 exposures\n",
      "Plate 6649 fiber 276 has 3 exposures\n",
      "Plate 4013 fiber 704 has 8 exposures\n",
      "Plate 6433 fiber 268 has 4 exposures\n",
      "Plate 5954 fiber 550 has 8 exposures\n",
      "Plate 6736 fiber 742 has 3 exposures\n",
      "Plate 6373 fiber 650 has 6 exposures\n",
      "Plate 3615 fiber 454 has 4 exposures\n",
      "Plate 5141 fiber 590 has 15 exposures\n",
      "Plate 5299 fiber 484 has 4 exposures\n",
      "Plate 6480 fiber 74 has 5 exposures\n",
      "Plate 6748 fiber 836 has 3 exposures\n",
      "Plate 6837 fiber 490 has 4 exposures\n",
      "Plate 4009 fiber 567 has 5 exposures\n",
      "Plate 4690 fiber 30 has 3 exposures\n",
      "Plate 4215 fiber 408 has 8 exposures\n",
      "Plate 5877 fiber 971 has 4 exposures\n",
      "Plate 6874 fiber 612 has 6 exposures\n",
      "Plate 4260 fiber 804 has 6 exposures\n",
      "Plate 5035 fiber 6 has 4 exposures\n",
      "Plate 4060 fiber 94 has 5 exposures\n",
      "Plate 6439 fiber 688 has 3 exposures\n",
      "Plate 4412 fiber 857 has 10 exposures\n",
      "Plate 3701 fiber 76 has 3 exposures\n",
      "Plate 6629 fiber 114 has 4 exposures\n",
      "Plate 6706 fiber 420 has 4 exposures\n",
      "Plate 5339 fiber 48 has 14 exposures\n",
      "Plate 3754 fiber 554 has 8 exposures\n",
      "Plate 5067 fiber 660 has 6 exposures\n",
      "Plate 4774 fiber 470 has 8 exposures\n",
      "Plate 4404 fiber 186 has 7 exposures\n",
      "Plate 6583 fiber 108 has 4 exposures\n",
      "Plate 4481 fiber 583 has 7 exposures\n",
      "Plate 3774 fiber 556 has 10 exposures\n",
      "Plate 5896 fiber 672 has 6 exposures\n",
      "Plate 3957 fiber 399 has 3 exposures\n",
      "Plate 6379 fiber 137 has 11 exposures\n",
      "Plate 4668 fiber 120 has 7 exposures\n",
      "Plate 4424 fiber 288 has 6 exposures\n",
      "Plate 4615 fiber 600 has 5 exposures\n",
      "Plate 4484 fiber 388 has 4 exposures\n",
      "Plate 4229 fiber 626 has 11 exposures\n",
      "Plate 5067 fiber 176 has 6 exposures\n",
      "Plate 6050 fiber 526 has 5 exposures\n",
      "Plate 7052 fiber 667 has 5 exposures\n",
      "Plate 6204 fiber 934 has 5 exposures\n",
      "Plate 6617 fiber 6 has 3 exposures\n",
      "Plate 6310 fiber 180 has 9 exposures\n",
      "Plate 6671 fiber 940 has 3 exposures\n",
      "Plate 5051 fiber 320 has 4 exposures\n",
      "Plate 7100 fiber 666 has 6 exposures\n",
      "Plate 4804 fiber 256 has 8 exposures\n",
      "Plate 5449 fiber 72 has 3 exposures\n",
      "Plate 5137 fiber 87 has 4 exposures\n",
      "Plate 5789 fiber 108 has 3 exposures\n",
      "Plate 7253 fiber 385 has 7 exposures\n",
      "Plate 4020 fiber 864 has 7 exposures\n",
      "Plate 5384 fiber 374 has 6 exposures\n",
      "Plate 5132 fiber 126 has 4 exposures\n",
      "Plate 7052 fiber 12 has 5 exposures\n",
      "Plate 4213 fiber 362 has 6 exposures\n",
      "Plate 5495 fiber 90 has 5 exposures\n",
      "Plate 5325 fiber 950 has 4 exposures\n",
      "Plate 6638 fiber 294 has 4 exposures\n",
      "Plate 3736 fiber 559 has 8 exposures\n",
      "Plate 4570 fiber 830 has 3 exposures\n",
      "Plate 4860 fiber 286 has 7 exposures\n",
      "Plate 3941 fiber 222 has 7 exposures\n",
      "Plate 7261 fiber 550 has 5 exposures\n",
      "Plate 5404 fiber 388 has 3 exposures\n",
      "Plate 5122 fiber 654 has 4 exposures\n"
     ]
    },
    {
     "name": "stderr",
     "output_type": "stream",
     "text": [
      "spCFrame-r1-00122166.fits 100%|###################################|   3.6 KiB/s\n"
     ]
    },
    {
     "name": "stdout",
     "output_type": "stream",
     "text": [
      "Plate 4270 fiber 46 has 7 exposures\n",
      "Plate 5304 fiber 630 has 5 exposures\n",
      "Plate 5465 fiber 74 has 5 exposures\n",
      "Plate 6669 fiber 90 has 3 exposures\n",
      "Plate 5112 fiber 704 has 6 exposures\n",
      "Plate 7085 fiber 916 has 5 exposures\n",
      "Plate 4790 fiber 168 has 6 exposures\n",
      "Plate 5480 fiber 144 has 8 exposures\n",
      "Plate 4271 fiber 362 has 7 exposures\n",
      "Plate 5739 fiber 514 has 3 exposures\n",
      "Plate 3785 fiber 360 has 10 exposures\n",
      "Plate 4447 fiber 162 has 11 exposures\n",
      "Plate 3806 fiber 802 has 5 exposures\n",
      "Plate 4080 fiber 932 has 5 exposures\n",
      "Plate 5056 fiber 262 has 7 exposures\n",
      "Plate 4724 fiber 706 has 7 exposures\n",
      "Plate 6319 fiber 708 has 7 exposures\n",
      "Plate 4974 fiber 944 has 3 exposures\n",
      "Plate 5462 fiber 120 has 4 exposures\n",
      "Plate 5140 fiber 456 has 4 exposures\n",
      "Plate 6184 fiber 588 has 4 exposures\n",
      "Plate 5449 fiber 734 has 3 exposures\n",
      "Plate 4762 fiber 304 has 3 exposures\n",
      "Plate 6675 fiber 262 has 6 exposures\n",
      "Plate 4970 fiber 18 has 3 exposures\n",
      "Plate 6191 fiber 234 has 4 exposures\n",
      "Plate 6262 fiber 164 has 4 exposures\n",
      "Plate 6685 fiber 574 has 4 exposures\n",
      "Plate 6274 fiber 948 has 3 exposures\n",
      "Plate 7380 fiber 934 has 5 exposures\n",
      "Plate 5368 fiber 8 has 3 exposures\n",
      "Plate 4283 fiber 894 has 6 exposures\n",
      "Plate 6305 fiber 925 has 7 exposures\n",
      "Plate 6453 fiber 65 has 3 exposures\n",
      "Plate 5738 fiber 89 has 4 exposures\n",
      "Plate 4805 fiber 246 has 6 exposures\n",
      "Plate 5472 fiber 228 has 5 exposures\n",
      "Plate 3849 fiber 986 has 5 exposures\n",
      "Plate 4876 fiber 114 has 3 exposures\n",
      "Plate 3666 fiber 954 has 7 exposures\n",
      "Plate 7450 fiber 877 has 7 exposures\n",
      "Plate 6182 fiber 374 has 4 exposures\n",
      "Plate 5745 fiber 981 has 3 exposures\n",
      "Plate 5892 fiber 605 has 3 exposures\n",
      "Plate 4349 fiber 233 has 6 exposures\n",
      "Plate 4545 fiber 42 has 9 exposures\n",
      "Plate 5900 fiber 52 has 3 exposures\n",
      "Plate 4224 fiber 162 has 5 exposures\n",
      "Plate 6055 fiber 924 has 4 exposures\n",
      "Plate 6644 fiber 102 has 5 exposures\n",
      "Plate 5976 fiber 946 has 4 exposures\n",
      "Plate 5179 fiber 320 has 6 exposures\n",
      "Plate 4740 fiber 816 has 11 exposures\n",
      "Plate 5709 fiber 910 has 9 exposures\n",
      "Plate 4066 fiber 903 has 8 exposures\n",
      "Plate 5739 fiber 120 has 3 exposures\n",
      "Plate 5473 fiber 610 has 3 exposures\n",
      "Plate 4692 fiber 582 has 5 exposures\n",
      "Plate 6699 fiber 412 has 7 exposures\n",
      "Plate 4790 fiber 955 has 6 exposures\n",
      "Plate 4623 fiber 442 has 4 exposures\n",
      "Plate 7378 fiber 848 has 4 exposures\n",
      "Plate 6029 fiber 343 has 5 exposures\n",
      "Plate 4642 fiber 530 has 3 exposures\n",
      "Plate 3978 fiber 678 has 3 exposures\n",
      "Plate 6467 fiber 855 has 7 exposures\n",
      "Plate 6263 fiber 158 has 3 exposures\n",
      "Plate 6374 fiber 757 has 6 exposures\n",
      "Plate 7261 fiber 387 has 5 exposures\n",
      "Plate 3775 fiber 28 has 12 exposures\n",
      "Plate 6309 fiber 863 has 6 exposures\n",
      "Plate 7254 fiber 163 has 8 exposures\n",
      "Plate 5699 fiber 81 has 14 exposures\n",
      "Plate 7164 fiber 722 has 7 exposures\n",
      "Plate 4803 fiber 924 has 6 exposures\n",
      "Plate 5208 fiber 864 has 5 exposures\n",
      "Plate 4403 fiber 460 has 9 exposures\n",
      "Plate 6716 fiber 466 has 9 exposures\n",
      "Plate 4989 fiber 821 has 9 exposures\n",
      "Plate 4634 fiber 916 has 11 exposures\n",
      "Plate 6111 fiber 117 has 4 exposures\n",
      "Plate 5150 fiber 718 has 4 exposures\n",
      "Plate 7254 fiber 708 has 8 exposures\n",
      "Plate 5356 fiber 816 has 5 exposures\n",
      "Plate 7454 fiber 212 has 5 exposures\n",
      "Plate 5958 fiber 674 has 9 exposures\n",
      "Plate 4665 fiber 698 has 4 exposures\n",
      "Plate 6064 fiber 580 has 3 exposures\n",
      "Plate 4651 fiber 124 has 4 exposures\n",
      "Plate 6463 fiber 310 has 3 exposures\n",
      "Plate 4770 fiber 589 has 4 exposures\n",
      "Plate 3810 fiber 56 has 8 exposures\n",
      "Plate 4231 fiber 856 has 7 exposures\n",
      "Plate 6124 fiber 243 has 4 exposures\n",
      "Plate 6618 fiber 798 has 12 exposures\n",
      "Plate 6518 fiber 436 has 3 exposures\n",
      "Plate 4782 fiber 612 has 5 exposures\n",
      "Plate 3744 fiber 252 has 8 exposures\n",
      "Plate 3839 fiber 96 has 5 exposures\n",
      "Plate 6318 fiber 296 has 5 exposures\n",
      "Plate 5441 fiber 660 has 3 exposures\n",
      "Plate 4961 fiber 16 has 8 exposures\n",
      "Plate 6282 fiber 750 has 4 exposures\n",
      "Plate 7337 fiber 845 has 16 exposures\n",
      "Plate 6427 fiber 246 has 3 exposures\n",
      "Plate 7253 fiber 293 has 7 exposures\n",
      "Plate 6809 fiber 542 has 7 exposures\n",
      "Plate 4361 fiber 706 has 6 exposures\n",
      "Plate 3850 fiber 596 has 12 exposures\n",
      "Plate 5340 fiber 806 has 3 exposures\n",
      "Plate 4626 fiber 252 has 5 exposures\n",
      "Plate 7152 fiber 321 has 7 exposures\n",
      "Plate 4641 fiber 166 has 3 exposures\n",
      "Plate 4776 fiber 300 has 6 exposures\n",
      "Plate 6268 fiber 392 has 7 exposures\n",
      "Plate 6027 fiber 491 has 4 exposures\n",
      "Plate 5702 fiber 454 has 4 exposures\n",
      "Plate 3812 fiber 446 has 11 exposures\n",
      "Plate 6307 fiber 898 has 5 exposures\n",
      "Plate 7056 fiber 188 has 4 exposures\n",
      "Plate 6513 fiber 731 has 4 exposures\n",
      "Plate 6271 fiber 752 has 11 exposures\n",
      "Plate 7420 fiber 720 has 3 exposures\n",
      "Plate 4568 fiber 486 has 7 exposures\n",
      "Plate 6599 fiber 692 has 3 exposures\n",
      "Plate 4268 fiber 94 has 5 exposures\n",
      "Plate 4762 fiber 896 has 3 exposures\n",
      "Plate 5024 fiber 535 has 7 exposures\n",
      "Plate 6626 fiber 541 has 4 exposures\n",
      "Plate 6135 fiber 246 has 4 exposures\n",
      "Plate 3922 fiber 614 has 4 exposures\n",
      "Plate 3657 fiber 158 has 4 exposures\n",
      "Plate 7340 fiber 518 has 9 exposures\n",
      "Plate 7260 fiber 576 has 8 exposures\n",
      "Plate 6503 fiber 966 has 4 exposures\n",
      "Plate 5715 fiber 38 has 6 exposures\n",
      "Plate 4216 fiber 514 has 7 exposures\n",
      "Plate 3672 fiber 226 has 5 exposures\n",
      "Plate 3772 fiber 90 has 10 exposures\n",
      "Plate 6494 fiber 8 has 4 exposures\n",
      "Plate 7255 fiber 785 has 8 exposures\n",
      "Plate 4903 fiber 76 has 3 exposures\n",
      "Plate 4576 fiber 452 has 5 exposures\n",
      "Plate 4637 fiber 734 has 7 exposures\n",
      "Plate 6169 fiber 136 has 5 exposures\n",
      "Plate 5470 fiber 997 has 4 exposures\n",
      "Plate 7299 fiber 938 has 5 exposures\n",
      "Plate 4471 fiber 762 has 8 exposures\n",
      "Plate 5998 fiber 28 has 4 exposures\n",
      "Plate 5974 fiber 542 has 3 exposures\n",
      "Plate 7184 fiber 428 has 7 exposures\n",
      "Plate 6707 fiber 908 has 3 exposures\n",
      "Plate 5354 fiber 251 has 3 exposures\n",
      "Plate 5849 fiber 778 has 3 exposures\n",
      "Plate 6119 fiber 278 has 3 exposures\n",
      "Plate 6782 fiber 984 has 8 exposures\n",
      "Plate 6409 fiber 512 has 3 exposures\n",
      "Plate 5107 fiber 434 has 8 exposures\n",
      "Plate 5767 fiber 374 has 7 exposures\n",
      "Plate 6142 fiber 783 has 3 exposures\n",
      "Plate 4446 fiber 150 has 5 exposures\n",
      "Plate 6302 fiber 438 has 4 exposures\n",
      "Plate 6496 fiber 170 has 3 exposures\n",
      "Plate 4068 fiber 696 has 5 exposures\n",
      "Plate 4342 fiber 986 has 10 exposures\n",
      "Plate 6663 fiber 104 has 3 exposures\n",
      "Plate 5482 fiber 805 has 3 exposures\n",
      "Plate 7238 fiber 99 has 9 exposures\n",
      "Plate 6782 fiber 551 has 6 exposures\n",
      "Plate 3839 fiber 38 has 5 exposures\n",
      "Plate 4061 fiber 928 has 5 exposures\n",
      "Plate 5181 fiber 674 has 4 exposures\n",
      "Plate 4382 fiber 904 has 11 exposures\n",
      "Plate 4756 fiber 592 has 4 exposures\n",
      "Plate 4023 fiber 686 has 7 exposures\n",
      "Plate 4087 fiber 364 has 5 exposures\n",
      "Plate 6318 fiber 702 has 5 exposures\n",
      "Plate 7414 fiber 918 has 3 exposures\n",
      "Plate 3786 fiber 624 has 11 exposures\n",
      "Plate 4782 fiber 326 has 5 exposures\n",
      "Plate 4798 fiber 106 has 4 exposures\n",
      "Plate 4096 fiber 580 has 3 exposures\n",
      "Plate 6263 fiber 566 has 3 exposures\n",
      "Plate 4379 fiber 568 has 6 exposures\n",
      "Plate 7451 fiber 472 has 13 exposures\n",
      "Plate 6659 fiber 310 has 4 exposures\n",
      "Plate 4458 fiber 788 has 4 exposures\n",
      "Plate 5867 fiber 652 has 3 exposures\n",
      "Plate 6041 fiber 454 has 4 exposures\n",
      "Plate 3846 fiber 18 has 12 exposures\n",
      "Plate 4855 fiber 484 has 4 exposures\n",
      "Plate 6744 fiber 284 has 3 exposures\n",
      "Plate 3933 fiber 884 has 9 exposures\n",
      "Plate 5163 fiber 278 has 4 exposures\n",
      "Plate 5725 fiber 910 has 8 exposures\n",
      "Plate 6201 fiber 394 has 6 exposures\n",
      "Plate 6724 fiber 78 has 5 exposures\n",
      "Plate 5307 fiber 696 has 4 exposures\n",
      "Plate 4380 fiber 106 has 5 exposures\n",
      "Plate 7165 fiber 446 has 6 exposures\n",
      "Plate 3851 fiber 506 has 7 exposures\n",
      "Plate 7034 fiber 342 has 4 exposures\n",
      "Plate 5186 fiber 802 has 4 exposures\n",
      "Plate 6649 fiber 546 has 3 exposures\n",
      "Plate 4878 fiber 642 has 6 exposures\n",
      "Plate 7258 fiber 936 has 6 exposures\n",
      "Plate 4177 fiber 436 has 7 exposures\n",
      "Plate 4199 fiber 336 has 5 exposures\n",
      "Plate 4974 fiber 826 has 3 exposures\n",
      "Plate 7183 fiber 716 has 16 exposures\n",
      "Plate 6256 fiber 234 has 8 exposures\n",
      "Plate 6467 fiber 648 has 7 exposures\n",
      "Plate 6530 fiber 158 has 7 exposures\n",
      "Plate 7329 fiber 967 has 5 exposures\n",
      "Plate 4268 fiber 77 has 5 exposures\n",
      "Plate 4532 fiber 938 has 6 exposures\n",
      "Plate 7338 fiber 915 has 9 exposures\n",
      "Plate 5309 fiber 88 has 3 exposures\n",
      "Plate 7142 fiber 844 has 4 exposures\n",
      "Plate 5465 fiber 118 has 5 exposures\n",
      "Plate 5846 fiber 257 has 5 exposures\n",
      "Plate 5745 fiber 520 has 3 exposures\n",
      "Plate 6063 fiber 734 has 4 exposures\n",
      "Plate 5879 fiber 802 has 7 exposures\n",
      "Plate 6661 fiber 746 has 4 exposures\n",
      "Plate 4504 fiber 598 has 8 exposures\n",
      "Plate 6060 fiber 28 has 3 exposures\n",
      "Plate 6010 fiber 532 has 4 exposures\n",
      "Plate 7451 fiber 878 has 13 exposures\n",
      "Plate 4009 fiber 602 has 5 exposures\n",
      "Plate 4005 fiber 460 has 10 exposures\n",
      "Plate 5405 fiber 572 has 3 exposures\n",
      "Plate 6717 fiber 768 has 8 exposures\n",
      "Plate 3665 fiber 864 has 8 exposures\n",
      "Plate 3672 fiber 752 has 5 exposures\n",
      "Plate 6382 fiber 996 has 3 exposures\n",
      "Plate 4796 fiber 956 has 5 exposures\n",
      "Plate 6604 fiber 508 has 5 exposures\n",
      "Plate 7258 fiber 947 has 6 exposures\n",
      "Plate 4085 fiber 993 has 8 exposures\n",
      "Plate 5286 fiber 726 has 9 exposures\n",
      "Plate 6781 fiber 468 has 6 exposures\n",
      "Plate 4073 fiber 348 has 6 exposures\n",
      "Plate 5390 fiber 250 has 3 exposures\n",
      "Plate 6504 fiber 38 has 6 exposures\n",
      "Plate 6667 fiber 476 has 4 exposures\n",
      "Plate 5407 fiber 540 has 6 exposures\n",
      "Plate 4016 fiber 450 has 6 exposures\n",
      "Plate 5855 fiber 326 has 3 exposures\n",
      "Plate 4646 fiber 310 has 4 exposures\n",
      "Plate 4452 fiber 258 has 5 exposures\n",
      "Plate 3760 fiber 982 has 5 exposures\n",
      "Plate 3843 fiber 892 has 10 exposures\n",
      "Plate 6657 fiber 546 has 3 exposures\n",
      "Plate 4469 fiber 474 has 10 exposures\n",
      "Plate 4691 fiber 886 has 8 exposures\n",
      "Plate 5459 fiber 626 has 3 exposures\n",
      "Plate 6024 fiber 214 has 3 exposures\n",
      "Plate 4422 fiber 782 has 4 exposures\n",
      "Plate 5419 fiber 798 has 3 exposures\n",
      "Plate 4966 fiber 74 has 5 exposures\n",
      "Plate 7298 fiber 307 has 5 exposures\n",
      "Plate 6657 fiber 270 has 3 exposures\n",
      "Plate 3655 fiber 204 has 5 exposures\n",
      "Plate 5046 fiber 254 has 4 exposures\n",
      "Plate 4278 fiber 308 has 6 exposures\n",
      "Plate 7054 fiber 214 has 4 exposures\n",
      "Plate 7033 fiber 758 has 4 exposures\n",
      "Plate 5801 fiber 58 has 3 exposures\n",
      "Plate 3587 fiber 280 has 6 exposures\n",
      "Plate 5030 fiber 598 has 4 exposures\n",
      "Plate 6596 fiber 88 has 6 exposures\n",
      "Plate 4660 fiber 752 has 3 exposures\n",
      "Plate 4418 fiber 214 has 5 exposures\n",
      "Plate 5418 fiber 955 has 5 exposures\n",
      "Plate 5342 fiber 46 has 3 exposures\n",
      "Plate 6816 fiber 469 has 4 exposures\n",
      "Plate 6696 fiber 993 has 6 exposures\n",
      "Plate 3754 fiber 96 has 8 exposures\n",
      "Plate 6024 fiber 134 has 3 exposures\n",
      "Plate 6283 fiber 704 has 3 exposures\n",
      "Plate 6134 fiber 546 has 6 exposures\n",
      "Plate 5788 fiber 326 has 3 exposures\n",
      "Plate 6269 fiber 878 has 4 exposures\n",
      "Plate 3947 fiber 134 has 3 exposures\n",
      "Plate 5728 fiber 134 has 10 exposures\n",
      "Plate 4281 fiber 736 has 11 exposures\n",
      "Plate 3775 fiber 582 has 12 exposures\n",
      "Plate 4642 fiber 54 has 3 exposures\n",
      "Plate 5378 fiber 214 has 3 exposures\n",
      "Plate 5904 fiber 974 has 3 exposures\n",
      "Plate 6410 fiber 432 has 5 exposures\n",
      "Plate 7111 fiber 824 has 4 exposures\n",
      "Plate 5312 fiber 456 has 5 exposures\n",
      "Plate 4301 fiber 72 has 3 exposures\n",
      "Plate 4200 fiber 906 has 6 exposures\n",
      "Plate 6441 fiber 35 has 3 exposures\n",
      "Plate 5903 fiber 589 has 5 exposures\n",
      "Plate 4257 fiber 844 has 9 exposures\n",
      "Plate 4197 fiber 984 has 7 exposures\n",
      "Plate 6632 fiber 428 has 3 exposures\n",
      "Plate 4349 fiber 52 has 6 exposures\n",
      "Plate 6020 fiber 454 has 3 exposures\n",
      "Plate 4257 fiber 937 has 9 exposures\n",
      "Plate 6119 fiber 442 has 3 exposures\n",
      "Plate 6177 fiber 68 has 9 exposures\n",
      "Plate 5731 fiber 242 has 5 exposures\n",
      "Plate 5376 fiber 824 has 4 exposures\n",
      "Plate 6041 fiber 788 has 4 exposures\n",
      "Plate 4460 fiber 312 has 4 exposures\n",
      "Plate 5285 fiber 509 has 4 exposures\n",
      "Plate 4639 fiber 676 has 7 exposures\n",
      "Plate 5050 fiber 936 has 5 exposures\n",
      "Plate 4288 fiber 568 has 3 exposures\n",
      "Plate 4264 fiber 868 has 4 exposures\n",
      "Plate 4493 fiber 712 has 12 exposures\n",
      "Plate 5796 fiber 812 has 3 exposures\n",
      "Plate 6408 fiber 860 has 5 exposures\n",
      "Plate 4382 fiber 200 has 11 exposures\n",
      "Plate 3694 fiber 552 has 4 exposures\n",
      "Plate 5327 fiber 794 has 4 exposures\n",
      "Plate 6605 fiber 228 has 7 exposures\n",
      "Plate 4019 fiber 606 has 8 exposures\n",
      "Plate 4392 fiber 167 has 6 exposures\n",
      "Plate 5287 fiber 362 has 10 exposures\n",
      "Plate 5860 fiber 180 has 5 exposures\n",
      "Plate 4789 fiber 541 has 6 exposures\n",
      "Plate 5656 fiber 8 has 11 exposures\n",
      "Plate 4044 fiber 16 has 8 exposures\n",
      "Plate 4768 fiber 112 has 6 exposures\n",
      "Plate 6159 fiber 856 has 5 exposures\n",
      "Plate 5314 fiber 64 has 5 exposures\n",
      "Plate 4994 fiber 430 has 5 exposures\n",
      "Plate 5394 fiber 477 has 3 exposures\n",
      "Plate 6064 fiber 708 has 3 exposures\n",
      "Plate 5069 fiber 680 has 4 exposures\n",
      "Plate 4835 fiber 89 has 6 exposures\n",
      "Plate 6932 fiber 691 has 10 exposures\n",
      "Plate 5195 fiber 414 has 3 exposures\n",
      "Plate 6635 fiber 734 has 5 exposures\n",
      "Plate 6252 fiber 2 has 3 exposures\n",
      "Plate 7336 fiber 93 has 23 exposures\n",
      "Plate 4695 fiber 446 has 5 exposures\n",
      "Plate 6320 fiber 786 has 5 exposures\n",
      "Plate 5371 fiber 428 has 5 exposures\n",
      "Plate 6826 fiber 946 has 4 exposures\n",
      "Plate 6150 fiber 40 has 5 exposures\n",
      "Plate 5112 fiber 676 has 6 exposures\n",
      "Plate 6114 fiber 502 has 7 exposures\n",
      "Plate 6521 fiber 830 has 8 exposures\n",
      "Plate 5902 fiber 164 has 4 exposures\n",
      "Plate 4183 fiber 324 has 6 exposures\n",
      "Plate 4378 fiber 20 has 5 exposures\n",
      "Plate 5044 fiber 380 has 4 exposures\n",
      "Plate 5850 fiber 708 has 4 exposures\n",
      "Plate 4266 fiber 456 has 8 exposures\n",
      "Plate 4465 fiber 212 has 4 exposures\n",
      "Plate 4652 fiber 156 has 11 exposures\n",
      "Plate 5067 fiber 730 has 6 exposures\n",
      "Plate 4063 fiber 164 has 9 exposures\n",
      "Plate 5423 fiber 438 has 3 exposures\n",
      "Plate 4622 fiber 793 has 9 exposures\n",
      "Plate 6526 fiber 890 has 8 exposures\n",
      "Plate 5161 fiber 332 has 5 exposures\n",
      "Plate 6054 fiber 624 has 5 exposures\n",
      "Plate 7261 fiber 706 has 5 exposures\n",
      "Plate 6298 fiber 552 has 3 exposures\n",
      "Plate 4416 fiber 916 has 3 exposures\n",
      "Plate 5319 fiber 550 has 3 exposures\n",
      "Plate 7151 fiber 214 has 4 exposures\n",
      "Plate 3856 fiber 48 has 6 exposures\n",
      "Plate 7151 fiber 864 has 4 exposures\n",
      "Plate 3954 fiber 230 has 4 exposures\n"
     ]
    },
    {
     "name": "stderr",
     "output_type": "stream",
     "text": [
      "spCFrame-r1-00154656.fits 100%|###################################|   1.2 KiB/s\n",
      "spCFrame-r1-00154657.fits 100%|###################################|   1.4 KiB/s\n",
      "spCFrame-r1-00154658.fits 100%|###################################|   3.6 KiB/s\n",
      "spCFrame-r1-00154659.fits 100%|###################################|   3.4 KiB/s\n"
     ]
    },
    {
     "name": "stdout",
     "output_type": "stream",
     "text": [
      "Plate 5997 fiber 482 has 6 exposures\n",
      "Plate 4288 fiber 42 has 3 exposures\n"
     ]
    },
    {
     "name": "stderr",
     "output_type": "stream",
     "text": [
      "spCFrame-r2-00108751.fits 100%|###################################|   2.8 KiB/s\n",
      "spCFrame-r2-00108752.fits 100%|###################################|   3.3 KiB/s\n",
      "spCFrame-r2-00108753.fits 100%|###################################|   3.1 KiB/s\n",
      "spCFrame-r2-00108754.fits 100%|###################################|   3.7 KiB/s\n",
      "spCFrame-r2-00108755.fits 100%|###################################|   3.7 KiB/s\n"
     ]
    },
    {
     "name": "stdout",
     "output_type": "stream",
     "text": [
      "Plate 3684 fiber 622 has 5 exposures\n",
      "Plate 4357 fiber 170 has 4 exposures\n"
     ]
    },
    {
     "name": "stderr",
     "output_type": "stream",
     "text": [
      "spCFrame-r1-00131466.fits 100%|###################################|   3.2 KiB/s\n",
      "spCFrame-r1-00131467.fits 100%|###################################|   3.4 KiB/s\n",
      "spCFrame-r1-00131468.fits 100%|###################################|   3.8 KiB/s\n",
      "spCFrame-r1-00131469.fits 100%|###################################|   3.9 KiB/s\n"
     ]
    },
    {
     "name": "stdout",
     "output_type": "stream",
     "text": [
      "Plate 4856 fiber 208 has 4 exposures\n"
     ]
    },
    {
     "name": "stderr",
     "output_type": "stream",
     "text": [
      "spCFrame-r1-00154190.fits 100%|###################################|   3.8 KiB/s\n",
      "spCFrame-r1-00154191.fits 100%|###################################|   3.3 KiB/s\n",
      "spCFrame-r1-00154192.fits 100%|###################################|   4.0 KiB/s\n",
      "spCFrame-r1-00154193.fits 100%|###################################|   3.6 KiB/s\n",
      "spCFrame-r1-00154194.fits 100%|###################################|   3.5 KiB/s\n",
      "spCFrame-r1-00154336.fits 100%|###################################|   3.6 KiB/s\n"
     ]
    },
    {
     "name": "stdout",
     "output_type": "stream",
     "text": [
      "Plate 6420 fiber 364 has 7 exposures\n"
     ]
    },
    {
     "name": "stderr",
     "output_type": "stream",
     "text": [
      "spCFrame-r1-00115504.fits 100%|###################################|   3.5 KiB/s\n",
      "spCFrame-r1-00115505.fits 100%|###################################|   3.2 KiB/s\n",
      "spCFrame-r1-00115506.fits 100%|###################################|   3.3 KiB/s\n",
      "spCFrame-r1-00115507.fits 100%|###################################|   3.5 KiB/s\n"
     ]
    },
    {
     "name": "stdout",
     "output_type": "stream",
     "text": [
      "Plate 3927 fiber 442 has 4 exposures\n",
      "Plate 5709 fiber 630 has 9 exposures\n"
     ]
    },
    {
     "name": "stderr",
     "output_type": "stream",
     "text": [
      "spCFrame-r1-00169106.fits 100%|###################################|   3.6 KiB/s\n",
      "spCFrame-r1-00169107.fits 100%|###################################|   3.9 KiB/s\n",
      "spCFrame-r1-00169108.fits 100%|###################################|   3.8 KiB/s\n",
      "spCFrame-r1-00169109.fits 100%|###################################|   3.3 KiB/s\n",
      "spCFrame-r1-00169110.fits 100%|###################################|   3.1 KiB/s\n"
     ]
    },
    {
     "name": "stdout",
     "output_type": "stream",
     "text": [
      "Plate 7259 fiber 457 has 5 exposures\n",
      "Plate 4379 fiber 584 has 6 exposures\n"
     ]
    },
    {
     "name": "stderr",
     "output_type": "stream",
     "text": [
      "spCFrame-r2-00140067.fits 100%|###################################|   3.3 KiB/s\n",
      "spCFrame-r2-00140068.fits 100%|###################################|   4.0 KiB/s\n",
      "spCFrame-r2-00140069.fits 100%|###################################|   3.7 KiB/s\n",
      "spCFrame-r2-00140070.fits 100%|###################################|   3.8 KiB/s\n"
     ]
    },
    {
     "name": "stdout",
     "output_type": "stream",
     "text": [
      "Plate 5372 fiber 528 has 4 exposures\n"
     ]
    },
    {
     "name": "stderr",
     "output_type": "stream",
     "text": [
      "spCFrame-r2-00133532.fits 100%|###################################|   3.6 KiB/s\n",
      "spCFrame-r2-00133691.fits 100%|###################################|   3.7 KiB/s\n",
      "spCFrame-r2-00133692.fits 100%|###################################|   3.4 KiB/s\n",
      "spCFrame-r2-00133693.fits 100%|###################################|   3.6 KiB/s\n",
      "spCFrame-r2-00133724.fits 100%|###################################|   3.3 KiB/s\n"
     ]
    },
    {
     "name": "stdout",
     "output_type": "stream",
     "text": [
      "Plate 4399 fiber 509 has 6 exposures\n",
      "Plate 4414 fiber 585 has 5 exposures\n"
     ]
    },
    {
     "name": "stderr",
     "output_type": "stream",
     "text": [
      "spCFrame-r2-00140518.fits 100%|###################################|   3.6 KiB/s\n",
      "spCFrame-r2-00140519.fits 100%|###################################|   3.4 KiB/s\n",
      "spCFrame-r2-00140520.fits 100%|###################################|   3.7 KiB/s\n"
     ]
    },
    {
     "name": "stdout",
     "output_type": "stream",
     "text": [
      "Plate 5388 fiber 887 has 3 exposures\n",
      "Plate 6063 fiber 892 has 4 exposures\n"
     ]
    },
    {
     "name": "stderr",
     "output_type": "stream",
     "text": [
      "spCFrame-r2-00130329.fits 100%|###################################|   3.6 KiB/s\n",
      "spCFrame-r2-00130330.fits 100%|###################################|   3.5 KiB/s\n",
      "spCFrame-r2-00130331.fits 100%|###################################|   3.6 KiB/s\n",
      "spCFrame-r2-00130332.fits 100%|###################################|   3.7 KiB/s\n"
     ]
    },
    {
     "name": "stdout",
     "output_type": "stream",
     "text": [
      "Plate 3951 fiber 748 has 4 exposures\n"
     ]
    },
    {
     "name": "stderr",
     "output_type": "stream",
     "text": [
      "spCFrame-r2-00144263.fits 100%|###################################|   3.8 KiB/s\n",
      "spCFrame-r2-00144264.fits 100%|###################################|   3.7 KiB/s\n",
      "spCFrame-r2-00144265.fits 100%|###################################|   3.5 KiB/s\n",
      "spCFrame-r2-00144266.fits 100%|###################################|   3.3 KiB/s\n",
      "spCFrame-r2-00144267.fits 100%|###################################|   3.4 KiB/s\n",
      "spCFrame-r2-00144268.fits 100%|###################################|   3.3 KiB/s\n",
      "spCFrame-r2-00144269.fits 100%|###################################|   3.6 KiB/s\n"
     ]
    },
    {
     "name": "stdout",
     "output_type": "stream",
     "text": [
      "Plate 6026 fiber 844 has 9 exposures\n",
      "Plate 3587 fiber 398 has 6 exposures\n"
     ]
    },
    {
     "name": "stderr",
     "output_type": "stream",
     "text": [
      "spCFrame-r2-00166940.fits 100%|###################################|   3.7 KiB/s\n",
      "spCFrame-r2-00166941.fits 100%|###################################|   3.6 KiB/s\n",
      "spCFrame-r2-00166942.fits 100%|###################################|   3.3 KiB/s\n",
      "spCFrame-r2-00166943.fits 100%|###################################|   3.3 KiB/s\n"
     ]
    },
    {
     "name": "stdout",
     "output_type": "stream",
     "text": [
      "Plate 6292 fiber 554 has 4 exposures\n"
     ]
    },
    {
     "name": "stderr",
     "output_type": "stream",
     "text": [
      "spCFrame-r1-00130801.fits 100%|###################################|   3.5 KiB/s\n",
      "spCFrame-r1-00130802.fits 100%|###################################|   3.5 KiB/s\n",
      "spCFrame-r1-00130803.fits 100%|###################################|   3.7 KiB/s\n",
      "spCFrame-r1-00130804.fits 100%|###################################|   3.6 KiB/s\n",
      "spCFrame-r1-00130978.fits 100%|###################################|   3.5 KiB/s\n",
      "spCFrame-r1-00131007.fits 100%|###################################|   3.7 KiB/s\n",
      "spCFrame-r1-00131008.fits 100%|###################################|   3.5 KiB/s\n",
      "spCFrame-r1-00131032.fits 100%|###################################|   4.0 KiB/s\n"
     ]
    },
    {
     "name": "stdout",
     "output_type": "stream",
     "text": [
      "Plate 4741 fiber 494 has 8 exposures\n"
     ]
    },
    {
     "name": "stderr",
     "output_type": "stream",
     "text": [
      "spCFrame-r1-00147541.fits 100%|###################################|   3.8 KiB/s\n",
      "spCFrame-r1-00147542.fits 100%|###################################|   3.3 KiB/s\n",
      "spCFrame-r1-00147543.fits 100%|###################################|   3.5 KiB/s\n"
     ]
    },
    {
     "name": "stdout",
     "output_type": "stream",
     "text": [
      "Plate 6118 fiber 362 has 3 exposures\n"
     ]
    },
    {
     "name": "stderr",
     "output_type": "stream",
     "text": [
      "spCFrame-r1-00143262.fits 100%|###################################|   3.8 KiB/s\n",
      "spCFrame-r1-00143321.fits 100%|###################################|   3.8 KiB/s\n",
      "spCFrame-r1-00143322.fits 100%|###################################|   3.8 KiB/s\n"
     ]
    },
    {
     "name": "stdout",
     "output_type": "stream",
     "text": [
      "Plate 5173 fiber 325 has 3 exposures\n"
     ]
    },
    {
     "name": "stderr",
     "output_type": "stream",
     "text": [
      "spCFrame-r1-00169003.fits 100%|###################################|   3.7 KiB/s\n",
      "spCFrame-r1-00169004.fits 100%|###################################|   3.3 KiB/s\n",
      "spCFrame-r1-00169005.fits 100%|###################################|   3.3 KiB/s\n",
      "spCFrame-r1-00169006.fits 100%|###################################|   3.1 KiB/s\n",
      "spCFrame-r1-00169007.fits 100%|###################################|   4.0 KiB/s\n",
      "spCFrame-r1-00169008.fits 100%|###################################|   4.1 KiB/s\n"
     ]
    },
    {
     "name": "stdout",
     "output_type": "stream",
     "text": [
      "Plate 6782 fiber 435 has 6 exposures\n"
     ]
    },
    {
     "name": "stderr",
     "output_type": "stream",
     "text": [
      "spCFrame-r2-00124719.fits 100%|###################################|   1.9 KiB/s\n",
      "spCFrame-r2-00124720.fits 100%|###################################|   3.6 KiB/s\n",
      "spCFrame-r2-00124721.fits 100%|###################################|   4.0 KiB/s\n",
      "spCFrame-r2-00124803.fits 100%|###################################|   3.7 KiB/s\n",
      "spCFrame-r2-00124804.fits 100%|###################################|   3.4 KiB/s\n"
     ]
    },
    {
     "name": "stdout",
     "output_type": "stream",
     "text": [
      "Plate 4495 fiber 530 has 5 exposures\n"
     ]
    },
    {
     "name": "stderr",
     "output_type": "stream",
     "text": [
      "spCFrame-r2-00161398.fits 100%|###################################|   3.9 KiB/s\n",
      "spCFrame-r2-00161399.fits 100%|###################################|   4.0 KiB/s\n",
      "spCFrame-r2-00161575.fits 100%|###################################|   3.6 KiB/s\n",
      "spCFrame-r2-00161576.fits 100%|###################################|   3.6 KiB/s\n",
      "spCFrame-r2-00161634.fits 100%|###################################|   3.3 KiB/s\n",
      "spCFrame-r2-00161635.fits 100%|###################################|   3.4 KiB/s\n"
     ]
    },
    {
     "name": "stdout",
     "output_type": "stream",
     "text": [
      "Plate 6745 fiber 694 has 7 exposures\n"
     ]
    },
    {
     "name": "stderr",
     "output_type": "stream",
     "text": [
      "spCFrame-r2-00135972.fits 100%|###################################|   3.7 KiB/s\n",
      "spCFrame-r2-00135973.fits 100%|###################################|   3.8 KiB/s\n",
      "spCFrame-r2-00135974.fits 100%|###################################|   3.6 KiB/s\n",
      "spCFrame-r2-00135975.fits 100%|###################################|   3.8 KiB/s\n"
     ]
    },
    {
     "name": "stdout",
     "output_type": "stream",
     "text": [
      "Plate 5284 fiber 900 has 4 exposures\n"
     ]
    },
    {
     "name": "stderr",
     "output_type": "stream",
     "text": [
      "spCFrame-r2-00131885.fits 100%|###################################|   3.6 KiB/s\n",
      "spCFrame-r2-00131886.fits 100%|###################################|   4.2 KiB/s\n",
      "spCFrame-r2-00131887.fits 100%|###################################|   3.5 KiB/s\n",
      "spCFrame-r2-00131888.fits 100%|###################################|   3.9 KiB/s\n",
      "spCFrame-r2-00131889.fits 100%|###################################|   3.3 KiB/s\n",
      "spCFrame-r2-00131942.fits 100%|###################################|   3.6 KiB/s\n",
      "spCFrame-r2-00131943.fits 100%|###################################|   3.7 KiB/s\n"
     ]
    },
    {
     "name": "stdout",
     "output_type": "stream",
     "text": [
      "Plate 4882 fiber 920 has 7 exposures\n"
     ]
    },
    {
     "name": "stderr",
     "output_type": "stream",
     "text": [
      "spCFrame-r2-00144045.fits 100%|###################################|   3.7 KiB/s\n",
      "spCFrame-r2-00144046.fits 100%|###################################|   3.6 KiB/s\n",
      "spCFrame-r2-00144047.fits 100%|###################################|   4.0 KiB/s\n"
     ]
    },
    {
     "name": "stdout",
     "output_type": "stream",
     "text": [
      "Plate 6021 fiber 988 has 3 exposures\n"
     ]
    },
    {
     "name": "stderr",
     "output_type": "stream",
     "text": [
      "spCFrame-r2-00132235.fits 100%|###################################|   3.7 KiB/s\n",
      "spCFrame-r2-00132236.fits 100%|###################################|   3.8 KiB/s\n",
      "spCFrame-r2-00132237.fits 100%|###################################|   4.1 KiB/s\n"
     ]
    },
    {
     "name": "stdout",
     "output_type": "stream",
     "text": [
      "Plate 4712 fiber 684 has 3 exposures\n",
      "Plate 4712 fiber 148 has 3 exposures\n"
     ]
    },
    {
     "name": "stderr",
     "output_type": "stream",
     "text": [
      "spCFrame-r1-00124918.fits 100%|###################################|   4.0 KiB/s\n",
      "spCFrame-r1-00124919.fits 100%|###################################|   3.6 KiB/s\n",
      "spCFrame-r1-00124973.fits 100%|###################################|   3.6 KiB/s\n",
      "spCFrame-r1-00124974.fits 100%|###################################|   3.7 KiB/s\n",
      "spCFrame-r1-00124975.fits 100%|###################################|   3.8 KiB/s\n"
     ]
    },
    {
     "name": "stdout",
     "output_type": "stream",
     "text": [
      "Plate 4558 fiber 208 has 12 exposures\n"
     ]
    },
    {
     "name": "stderr",
     "output_type": "stream",
     "text": [
      "spCFrame-r1-00141352.fits 100%|###################################|   4.0 KiB/s\n",
      "spCFrame-r1-00141353.fits 100%|###################################|   3.9 KiB/s\n",
      "spCFrame-r1-00141354.fits 100%|###################################|   3.8 KiB/s\n",
      "spCFrame-r1-00141355.fits 100%|###################################|   4.0 KiB/s\n"
     ]
    },
    {
     "name": "stdout",
     "output_type": "stream",
     "text": [
      "Plate 5210 fiber 206 has 4 exposures\n"
     ]
    },
    {
     "name": "stderr",
     "output_type": "stream",
     "text": [
      "spCFrame-r1-00141755.fits 100%|###################################|   4.0 KiB/s\n",
      "spCFrame-r1-00141756.fits 100%|###################################|   3.9 KiB/s\n",
      "spCFrame-r1-00141757.fits 100%|###################################|   3.8 KiB/s\n",
      "spCFrame-r1-00141758.fits 100%|###################################|   4.0 KiB/s\n"
     ]
    },
    {
     "name": "stdout",
     "output_type": "stream",
     "text": [
      "Plate 5475 fiber 39 has 4 exposures\n"
     ]
    },
    {
     "name": "stderr",
     "output_type": "stream",
     "text": [
      "spCFrame-r2-00139965.fits 100%|###################################|   3.8 KiB/s\n",
      "spCFrame-r2-00139966.fits 100%|###################################|   3.8 KiB/s\n",
      "spCFrame-r2-00139967.fits 100%|###################################|   3.9 KiB/s\n",
      "spCFrame-r2-00139968.fits 100%|###################################|   4.1 KiB/s\n"
     ]
    },
    {
     "name": "stdout",
     "output_type": "stream",
     "text": [
      "Plate 5331 fiber 908 has 4 exposures\n",
      "Plate 4882 fiber 632 has 7 exposures\n"
     ]
    },
    {
     "name": "stderr",
     "output_type": "stream",
     "text": [
      "spCFrame-r2-00131185.fits 100%|###################################|   3.8 KiB/s\n",
      "spCFrame-r2-00131186.fits 100%|###################################|   3.8 KiB/s\n",
      "spCFrame-r2-00131187.fits 100%|###################################|   4.1 KiB/s\n",
      "spCFrame-r2-00131188.fits 100%|###################################|   3.8 KiB/s\n",
      "spCFrame-r2-00131189.fits 100%|###################################|   2.6 KiB/s\n"
     ]
    },
    {
     "name": "stdout",
     "output_type": "stream",
     "text": [
      "Plate 4777 fiber 884 has 5 exposures\n"
     ]
    },
    {
     "name": "stderr",
     "output_type": "stream",
     "text": [
      "spCFrame-r2-00114690.fits 100%|###################################|   4.0 KiB/s\n",
      "spCFrame-r2-00114691.fits 100%|###################################|   3.8 KiB/s\n",
      "spCFrame-r2-00114693.fits 100%|###################################|   4.0 KiB/s\n",
      "spCFrame-r2-00114694.fits 100%|###################################|   3.3 KiB/s\n",
      "spCFrame-r2-00114695.fits 100%|###################################|   4.1 KiB/s\n",
      "spCFrame-r2-00114696.fits 100%|###################################|   1.1 KiB/s\n"
     ]
    },
    {
     "name": "stdout",
     "output_type": "stream",
     "text": [
      "Plate 3953 fiber 602 has 7 exposures\n"
     ]
    },
    {
     "name": "stderr",
     "output_type": "stream",
     "text": [
      "spCFrame-r1-00120346.fits 100%|###################################|   4.1 KiB/s\n",
      "spCFrame-r1-00120347.fits 100%|###################################|   3.4 KiB/s\n",
      "spCFrame-r1-00120415.fits 100%|###################################|   4.1 KiB/s\n",
      "spCFrame-r1-00120416.fits 100%|###################################|   4.0 KiB/s\n",
      "spCFrame-r1-00120417.fits 100%|###################################|   4.1 KiB/s\n"
     ]
    },
    {
     "name": "stdout",
     "output_type": "stream",
     "text": [
      "Plate 4227 fiber 437 has 5 exposures\n"
     ]
    },
    {
     "name": "stderr",
     "output_type": "stream",
     "text": [
      "spCFrame-r2-00128883.fits 100%|###################################|   4.0 KiB/s\n",
      "spCFrame-r2-00128884.fits 100%|###################################|   4.1 KiB/s\n",
      "spCFrame-r2-00128885.fits 100%|###################################|   3.9 KiB/s\n",
      "spCFrame-r2-00128886.fits 100%|###################################|   4.1 KiB/s\n"
     ]
    },
    {
     "name": "stdout",
     "output_type": "stream",
     "text": [
      "Plate 4620 fiber 904 has 4 exposures\n",
      "Plate 6433 fiber 68 has 4 exposures\n",
      "Plate 6319 fiber 626 has 7 exposures\n"
     ]
    },
    {
     "name": "stderr",
     "output_type": "stream",
     "text": [
      "spCFrame-r1-00131316.fits 100%|###################################|   3.9 KiB/s\n",
      "spCFrame-r1-00131317.fits 100%|###################################|   3.9 KiB/s\n",
      "spCFrame-r1-00131318.fits 100%|###################################|   3.9 KiB/s\n",
      "spCFrame-r1-00131319.fits 100%|###################################|   3.9 KiB/s\n"
     ]
    },
    {
     "name": "stdout",
     "output_type": "stream",
     "text": [
      "Plate 4893 fiber 166 has 4 exposures\n"
     ]
    },
    {
     "name": "stderr",
     "output_type": "stream",
     "text": [
      "spCFrame-r1-00153274.fits 100%|###################################|   3.6 KiB/s\n",
      "spCFrame-r1-00153275.fits 100%|###################################|   3.9 KiB/s\n",
      "spCFrame-r1-00153276.fits 100%|###################################|   3.8 KiB/s\n",
      "spCFrame-r1-00153277.fits 100%|###################################|   4.0 KiB/s\n",
      "spCFrame-r1-00153984.fits 100%|###################################|   4.0 KiB/s\n",
      "spCFrame-r1-00153985.fits 100%|###################################|   4.1 KiB/s\n",
      "spCFrame-r1-00153986.fits 100%|###################################|   3.8 KiB/s\n",
      "spCFrame-r1-00153987.fits 100%|###################################|   3.8 KiB/s\n",
      "spCFrame-r1-00153988.fits 100%|###################################|   4.0 KiB/s\n",
      "spCFrame-r1-00153989.fits 100%|###################################|   4.0 KiB/s\n",
      "spCFrame-r1-00153990.fits 100%|###################################|   3.8 KiB/s\n"
     ]
    },
    {
     "name": "stdout",
     "output_type": "stream",
     "text": [
      "Plate 6425 fiber 483 has 14 exposures\n"
     ]
    },
    {
     "name": "stderr",
     "output_type": "stream",
     "text": [
      "spCFrame-r1-00138130.fits 100%|###################################|   3.8 KiB/s\n",
      "spCFrame-r1-00138131.fits 100%|###################################|   4.0 KiB/s\n",
      "spCFrame-r1-00138132.fits 100%|###################################|   3.9 KiB/s\n"
     ]
    },
    {
     "name": "stdout",
     "output_type": "stream",
     "text": [
      "Plate 4853 fiber 276 has 3 exposures\n"
     ]
    },
    {
     "name": "stderr",
     "output_type": "stream",
     "text": [
      "spCFrame-r2-00148693.fits 100%|###################################|   3.9 KiB/s\n",
      "spCFrame-r2-00148694.fits 100%|###################################|   3.9 KiB/s\n",
      "spCFrame-r2-00148695.fits 100%|###################################|   3.6 KiB/s\n",
      "spCFrame-r2-00148696.fits 100%|###################################|   3.7 KiB/s\n"
     ]
    },
    {
     "name": "stdout",
     "output_type": "stream",
     "text": [
      "Plate 6131 fiber 713 has 4 exposures\n"
     ]
    },
    {
     "name": "stderr",
     "output_type": "stream",
     "text": [
      "spCFrame-r2-00140158.fits 100%|###################################|   4.0 KiB/s\n",
      "spCFrame-r2-00140243.fits 100%|###################################|   4.0 KiB/s\n",
      "spCFrame-r2-00140244.fits 100%|###################################|   4.1 KiB/s\n",
      "spCFrame-r2-00140245.fits 100%|###################################|   3.8 KiB/s\n",
      "spCFrame-r2-00140246.fits 100%|###################################|   3.9 KiB/s\n"
     ]
    },
    {
     "name": "stdout",
     "output_type": "stream",
     "text": [
      "Plate 5741 fiber 638 has 5 exposures\n"
     ]
    },
    {
     "name": "stderr",
     "output_type": "stream",
     "text": [
      "spCFrame-r1-00155953.fits 100%|###################################|   3.5 KiB/s\n",
      "spCFrame-r1-00155954.fits 100%|###################################|   3.8 KiB/s\n",
      "spCFrame-r1-00155955.fits 100%|###################################|   4.0 KiB/s\n",
      "spCFrame-r1-00155956.fits 100%|###################################|   4.1 KiB/s\n",
      "spCFrame-r1-00155957.fits 100%|###################################|   3.7 KiB/s\n"
     ]
    },
    {
     "name": "stdout",
     "output_type": "stream",
     "text": [
      "Plate 6450 fiber 358 has 5 exposures\n"
     ]
    },
    {
     "name": "stderr",
     "output_type": "stream",
     "text": [
      "spCFrame-r2-00123260.fits 100%|###################################|   3.7 KiB/s\n",
      "spCFrame-r2-00123261.fits 100%|###################################|   3.8 KiB/s\n",
      "spCFrame-r2-00123262.fits 100%|###################################|   4.1 KiB/s\n",
      "spCFrame-r2-00123263.fits 100%|###################################|   4.0 KiB/s\n",
      "spCFrame-r2-00123264.fits 100%|###################################|   2.8 KiB/s\n",
      "spCFrame-r2-00123265.fits 100%|###################################|   4.1 KiB/s\n",
      "spCFrame-r2-00123266.fits 100%|###################################|   4.2 KiB/s\n",
      "spCFrame-r2-00123338.fits 100%|###################################|   3.9 KiB/s\n"
     ]
    },
    {
     "name": "stdout",
     "output_type": "stream",
     "text": [
      "Plate 4453 fiber 548 has 9 exposures\n"
     ]
    },
    {
     "name": "stderr",
     "output_type": "stream",
     "text": [
      "spCFrame-r1-00111598.fits 100%|###################################|   4.0 KiB/s\n",
      "spCFrame-r1-00111705.fits 100%|###################################|   3.7 KiB/s\n",
      "spCFrame-r1-00111780.fits 100%|###################################|   4.2 KiB/s\n",
      "spCFrame-r1-00111781.fits 100%|###################################|   4.0 KiB/s\n",
      "spCFrame-r1-00111955.fits 100%|###################################|   4.0 KiB/s\n",
      "spCFrame-r1-00111956.fits 100%|###################################|   4.0 KiB/s\n",
      "spCFrame-r1-00111957.fits 100%|###################################|   3.8 KiB/s\n",
      "spCFrame-r1-00111958.fits 100%|###################################|   4.1 KiB/s\n",
      "spCFrame-r1-00111959.fits 100%|###################################|   4.0 KiB/s\n",
      "spCFrame-r1-00111960.fits 100%|###################################|   3.9 KiB/s\n"
     ]
    },
    {
     "name": "stdout",
     "output_type": "stream",
     "text": [
      "Plate 3816 fiber 78 has 10 exposures\n"
     ]
    },
    {
     "name": "stderr",
     "output_type": "stream",
     "text": [
      "spCFrame-r1-00131096.fits 100%|###################################|   4.0 KiB/s\n",
      "spCFrame-r1-00131097.fits 100%|###################################|   3.8 KiB/s\n",
      "spCFrame-r1-00131098.fits 100%|###################################|   4.2 KiB/s\n",
      "spCFrame-r1-00131099.fits 100%|###################################|   3.8 KiB/s\n",
      "spCFrame-r1-00131100.fits 100%|###################################|   4.0 KiB/s\n",
      "spCFrame-r1-00131101.fits 100%|###################################|   4.1 KiB/s\n",
      "spCFrame-r1-00131102.fits 100%|###################################|   3.9 KiB/s\n",
      "spCFrame-r1-00131103.fits 100%|###################################|   3.9 KiB/s\n",
      "spCFrame-r1-00131142.fits 100%|###################################|   3.6 KiB/s\n",
      "spCFrame-r1-00131143.fits 100%|###################################|   3.9 KiB/s\n"
     ]
    },
    {
     "name": "stdout",
     "output_type": "stream",
     "text": [
      "Plate 5006 fiber 466 has 11 exposures\n"
     ]
    },
    {
     "name": "stderr",
     "output_type": "stream",
     "text": [
      "spCFrame-r2-00111731.fits 100%|###################################|   3.8 KiB/s\n",
      "spCFrame-r2-00111732.fits 100%|###################################|   4.0 KiB/s\n",
      "spCFrame-r2-00111733.fits 100%|###################################|   3.9 KiB/s\n",
      "spCFrame-r2-00111734.fits 100%|###################################|   4.1 KiB/s\n"
     ]
    },
    {
     "name": "stdout",
     "output_type": "stream",
     "text": [
      "Plate 3853 fiber 944 has 4 exposures\n"
     ]
    },
    {
     "name": "stderr",
     "output_type": "stream",
     "text": [
      "spCFrame-r2-00124335.fits 100%|###################################|   3.9 KiB/s\n",
      "spCFrame-r2-00124336.fits 100%|###################################|   3.9 KiB/s\n",
      "spCFrame-r2-00124337.fits 100%|###################################|   4.1 KiB/s\n",
      "spCFrame-r2-00124338.fits 100%|###################################|   3.9 KiB/s\n",
      "spCFrame-r2-00124339.fits 100%|###################################|   4.1 KiB/s\n",
      "spCFrame-r2-00124340.fits 100%|###################################|   3.5 KiB/s\n"
     ]
    },
    {
     "name": "stdout",
     "output_type": "stream",
     "text": [
      "Plate 4526 fiber 748 has 6 exposures\n"
     ]
    },
    {
     "name": "stderr",
     "output_type": "stream",
     "text": [
      "spCFrame-r1-00139286.fits 100%|###################################|   3.4 KiB/s\n",
      "spCFrame-r1-00139287.fits 100%|###################################|   3.9 KiB/s\n",
      "spCFrame-r1-00139288.fits 100%|###################################|   3.9 KiB/s\n",
      "spCFrame-r1-00139289.fits 100%|###################################|   3.8 KiB/s\n",
      "spCFrame-r1-00139290.fits 100%|###################################|   4.2 KiB/s\n"
     ]
    },
    {
     "name": "stdout",
     "output_type": "stream",
     "text": [
      "Plate 5316 fiber 40 has 5 exposures\n"
     ]
    },
    {
     "name": "stderr",
     "output_type": "stream",
     "text": [
      "spCFrame-r2-00127969.fits 100%|###################################|   4.0 KiB/s\n",
      "spCFrame-r2-00127970.fits 100%|###################################|   3.7 KiB/s\n",
      "spCFrame-r2-00127971.fits 100%|###################################|   4.0 KiB/s\n",
      "spCFrame-r2-00127972.fits 100%|###################################|   4.3 KiB/s\n",
      "spCFrame-r2-00127973.fits 100%|###################################|   3.2 KiB/s\n"
     ]
    },
    {
     "name": "stdout",
     "output_type": "stream",
     "text": [
      "Plate 4748 fiber 912 has 5 exposures\n"
     ]
    },
    {
     "name": "stderr",
     "output_type": "stream",
     "text": [
      "spCFrame-r2-00177177.fits 100%|###################################|   3.9 KiB/s\n",
      "spCFrame-r2-00177259.fits 100%|###################################|   3.9 KiB/s\n",
      "spCFrame-r2-00177260.fits 100%|###################################|   4.2 KiB/s\n",
      "spCFrame-r2-00177261.fits 100%|###################################|   4.2 KiB/s\n"
     ]
    },
    {
     "name": "stdout",
     "output_type": "stream",
     "text": [
      "Plate 7105 fiber 732 has 5 exposures\n"
     ]
    },
    {
     "name": "stderr",
     "output_type": "stream",
     "text": [
      "spCFrame-r2-00162510.fits 100%|###################################|   3.8 KiB/s\n",
      "spCFrame-r2-00162511.fits 100%|###################################|   4.0 KiB/s\n",
      "spCFrame-r2-00162512.fits 100%|###################################|   3.7 KiB/s\n",
      "spCFrame-r2-00162513.fits 100%|###################################|   1.5 KiB/s\n"
     ]
    },
    {
     "name": "stdout",
     "output_type": "stream",
     "text": [
      "Plate 6808 fiber 518 has 4 exposures\n"
     ]
    },
    {
     "name": "stderr",
     "output_type": "stream",
     "text": [
      "spCFrame-r2-00150602.fits 100%|###################################|   4.0 KiB/s\n",
      "spCFrame-r2-00150603.fits 100%|###################################|   4.1 KiB/s\n",
      "spCFrame-r2-00150604.fits 100%|###################################|   4.0 KiB/s\n",
      "spCFrame-r2-00150605.fits 100%|###################################|   4.0 KiB/s\n"
     ]
    },
    {
     "name": "stdout",
     "output_type": "stream",
     "text": [
      "Plate 6174 fiber 594 has 4 exposures\n"
     ]
    },
    {
     "name": "stderr",
     "output_type": "stream",
     "text": [
      "spCFrame-r1-00129024.fits 100%|###################################|   4.0 KiB/s\n",
      "spCFrame-r1-00129025.fits 100%|###################################|   3.4 KiB/s\n",
      "spCFrame-r1-00129026.fits 100%|###################################|   3.9 KiB/s\n"
     ]
    },
    {
     "name": "stdout",
     "output_type": "stream",
     "text": [
      "Plate 4707 fiber 134 has 3 exposures\n"
     ]
    },
    {
     "name": "stderr",
     "output_type": "stream",
     "text": [
      "spCFrame-r1-00161861.fits 100%|###################################|   3.9 KiB/s\n",
      "spCFrame-r1-00161862.fits 100%|###################################|   2.5 KiB/s\n",
      "spCFrame-r1-00161863.fits 100%|###################################|   4.0 KiB/s\n",
      "spCFrame-r1-00161943.fits 100%|###################################|   3.8 KiB/s\n",
      "spCFrame-r1-00161944.fits 100%|###################################|   3.9 KiB/s\n",
      "spCFrame-r1-00161945.fits 100%|###################################|   3.9 KiB/s\n",
      "spCFrame-r1-00162439.fits 100%|###################################|   4.0 KiB/s\n",
      "spCFrame-r1-00162440.fits 100%|###################################|   3.9 KiB/s\n"
     ]
    },
    {
     "name": "stdout",
     "output_type": "stream",
     "text": [
      "Plate 6974 fiber 34 has 8 exposures\n",
      "Plate 3615 fiber 312 has 4 exposures\n"
     ]
    },
    {
     "name": "stderr",
     "output_type": "stream",
     "text": [
      "spCFrame-r2-00130267.fits 100%|###################################|   3.9 KiB/s\n",
      "spCFrame-r2-00130268.fits 100%|###################################|   4.2 KiB/s\n",
      "spCFrame-r2-00130269.fits 100%|###################################|   3.9 KiB/s\n"
     ]
    },
    {
     "name": "stdout",
     "output_type": "stream",
     "text": [
      "Plate 4864 fiber 890 has 3 exposures\n"
     ]
    },
    {
     "name": "stderr",
     "output_type": "stream",
     "text": [
      "spCFrame-r2-00152942.fits 100%|###################################|   4.0 KiB/s\n",
      "spCFrame-r2-00152943.fits 100%|###################################|   4.0 KiB/s\n",
      "spCFrame-r2-00152944.fits 100%|###################################|   4.2 KiB/s\n",
      "spCFrame-r2-00152945.fits 100%|###################################|   4.0 KiB/s\n",
      "spCFrame-r2-00152946.fits 100%|###################################|   3.6 KiB/s\n",
      "spCFrame-r2-00152947.fits 100%|###################################|   3.2 KiB/s\n"
     ]
    },
    {
     "name": "stdout",
     "output_type": "stream",
     "text": [
      "Plate 6428 fiber 792 has 6 exposures\n"
     ]
    },
    {
     "name": "stderr",
     "output_type": "stream",
     "text": [
      "spCFrame-r1-00138319.fits 100%|###################################|   3.8 KiB/s\n",
      "spCFrame-r1-00138320.fits 100%|###################################|   4.0 KiB/s\n",
      "spCFrame-r1-00138358.fits 100%|###################################|   3.9 KiB/s\n",
      "spCFrame-r1-00138493.fits 100%|###################################|   4.2 KiB/s\n"
     ]
    },
    {
     "name": "stdout",
     "output_type": "stream",
     "text": [
      "Plate 4393 fiber 60 has 6 exposures\n"
     ]
    },
    {
     "name": "stderr",
     "output_type": "stream",
     "text": [
      "spCFrame-r1-00165945.fits 100%|###################################|   3.8 KiB/s\n",
      "spCFrame-r1-00165947.fits 100%|###################################|   3.6 KiB/s\n",
      "spCFrame-r1-00166015.fits 100%|###################################|   3.9 KiB/s\n",
      "spCFrame-r1-00166016.fits 100%|###################################|   4.0 KiB/s\n",
      "spCFrame-r1-00166017.fits 100%|###################################|   4.0 KiB/s\n",
      "spCFrame-r1-00166018.fits 100%|###################################|   4.1 KiB/s\n"
     ]
    },
    {
     "name": "stdout",
     "output_type": "stream",
     "text": [
      "Plate 6526 fiber 10 has 8 exposures\n"
     ]
    },
    {
     "name": "stderr",
     "output_type": "stream",
     "text": [
      "spCFrame-r1-00161640.fits 100%|###################################|   4.0 KiB/s\n",
      "spCFrame-r1-00161641.fits 100%|###################################|   3.7 KiB/s\n",
      "spCFrame-r1-00161642.fits 100%|###################################|   4.1 KiB/s\n",
      "spCFrame-r1-00161725.fits 100%|###################################|   4.0 KiB/s\n",
      "spCFrame-r1-00161726.fits 100%|###################################|   3.9 KiB/s\n"
     ]
    },
    {
     "name": "stdout",
     "output_type": "stream",
     "text": [
      "Plate 6797 fiber 348 has 5 exposures\n"
     ]
    },
    {
     "name": "stderr",
     "output_type": "stream",
     "text": [
      "spCFrame-r1-00148600.fits 100%|###################################|   3.8 KiB/s\n",
      "spCFrame-r1-00148601.fits 100%|###################################|   4.3 KiB/s\n",
      "spCFrame-r1-00148602.fits 100%|###################################|   3.7 KiB/s\n",
      "spCFrame-r1-00148603.fits 100%|###################################|   3.8 KiB/s\n"
     ]
    },
    {
     "name": "stdout",
     "output_type": "stream",
     "text": [
      "Plate 6183 fiber 213 has 4 exposures\n"
     ]
    },
    {
     "name": "stderr",
     "output_type": "stream",
     "text": [
      "spCFrame-r2-00143327.fits 100%|###################################|   2.9 KiB/s\n",
      "spCFrame-r2-00143328.fits 100%|###################################|   3.9 KiB/s\n",
      "spCFrame-r2-00143329.fits 100%|###################################|   3.8 KiB/s\n"
     ]
    },
    {
     "name": "stdout",
     "output_type": "stream",
     "text": [
      "Plate 4976 fiber 616 has 3 exposures\n"
     ]
    },
    {
     "name": "stderr",
     "output_type": "stream",
     "text": [
      "spCFrame-r1-00124554.fits 100%|###################################|   3.9 KiB/s\n",
      "spCFrame-r1-00124555.fits 100%|###################################|   3.9 KiB/s\n",
      "spCFrame-r1-00124556.fits 100%|###################################|   3.9 KiB/s\n",
      "spCFrame-r1-00124557.fits 100%|###################################|   4.0 KiB/s\n",
      "spCFrame-r1-00124558.fits 100%|###################################|   3.6 KiB/s\n",
      "spCFrame-r1-00124559.fits 100%|###################################|   3.6 KiB/s\n"
     ]
    },
    {
     "name": "stdout",
     "output_type": "stream",
     "text": [
      "Plate 4503 fiber 444 has 6 exposures\n"
     ]
    },
    {
     "name": "stderr",
     "output_type": "stream",
     "text": [
      "spCFrame-r1-00142576.fits 100%|###################################|   3.9 KiB/s\n",
      "spCFrame-r1-00142577.fits 100%|###################################|   3.7 KiB/s\n",
      "spCFrame-r1-00142578.fits 100%|###################################|   3.9 KiB/s\n"
     ]
    },
    {
     "name": "stdout",
     "output_type": "stream",
     "text": [
      "Plate 5203 fiber 113 has 3 exposures\n"
     ]
    },
    {
     "name": "stderr",
     "output_type": "stream",
     "text": [
      "spCFrame-r2-00144652.fits 100%|###################################|   3.3 KiB/s\n",
      "spCFrame-r2-00144653.fits 100%|###################################|   3.3 KiB/s\n",
      "spCFrame-r2-00144654.fits 100%|###################################|   3.4 KiB/s\n"
     ]
    },
    {
     "name": "stdout",
     "output_type": "stream",
     "text": [
      "Plate 5999 fiber 704 has 3 exposures\n"
     ]
    },
    {
     "name": "stderr",
     "output_type": "stream",
     "text": [
      "spCFrame-r1-00159833.fits 100%|###################################|   3.0 KiB/s\n",
      "spCFrame-r1-00159834.fits 100%|###################################|   3.9 KiB/s\n",
      "spCFrame-r1-00159835.fits 100%|###################################|   3.8 KiB/s\n",
      "spCFrame-r1-00159836.fits 100%|###################################|   3.6 KiB/s\n"
     ]
    },
    {
     "name": "stdout",
     "output_type": "stream",
     "text": [
      "Plate 6720 fiber 470 has 4 exposures\n"
     ]
    },
    {
     "name": "stderr",
     "output_type": "stream",
     "text": [
      "spCFrame-r2-00124554.fits 100%|###################################|   3.6 KiB/s\n",
      "spCFrame-r2-00124555.fits 100%|###################################|   3.6 KiB/s\n",
      "spCFrame-r2-00124556.fits 100%|###################################|   3.5 KiB/s\n",
      "spCFrame-r2-00124557.fits 100%|###################################|   3.7 KiB/s\n",
      "spCFrame-r2-00124558.fits 100%|###################################|   3.7 KiB/s\n",
      "spCFrame-r2-00124559.fits 100%|###################################|   4.2 KiB/s\n"
     ]
    },
    {
     "name": "stdout",
     "output_type": "stream",
     "text": [
      "Plate 4503 fiber 976 has 6 exposures\n"
     ]
    },
    {
     "name": "stderr",
     "output_type": "stream",
     "text": [
      "spCFrame-r1-00147404.fits 100%|###################################|   3.7 KiB/s\n",
      "spCFrame-r1-00147405.fits 100%|###################################|   3.6 KiB/s\n",
      "spCFrame-r1-00147406.fits 100%|###################################|   3.4 KiB/s\n",
      "spCFrame-r1-00147407.fits 100%|###################################|   3.7 KiB/s\n",
      "spCFrame-r1-00147408.fits 100%|###################################|   3.7 KiB/s\n"
     ]
    },
    {
     "name": "stdout",
     "output_type": "stream",
     "text": [
      "Plate 6168 fiber 202 has 5 exposures\n"
     ]
    },
    {
     "name": "stderr",
     "output_type": "stream",
     "text": [
      "spCFrame-r2-00120335.fits 100%|###################################|   3.3 KiB/s\n",
      "spCFrame-r2-00120336.fits 100%|###################################|   3.7 KiB/s\n",
      "spCFrame-r2-00120338.fits 100%|###################################|   3.8 KiB/s\n",
      "spCFrame-r2-00120339.fits 100%|###################################|   3.8 KiB/s\n",
      "spCFrame-r2-00120340.fits 100%|###################################|   3.6 KiB/s\n",
      "spCFrame-r2-00120341.fits 100%|###################################|   3.4 KiB/s\n"
     ]
    },
    {
     "name": "stdout",
     "output_type": "stream",
     "text": [
      "Plate 4219 fiber 624 has 6 exposures\n",
      "Plate 4503 fiber 200 has 6 exposures\n"
     ]
    },
    {
     "name": "stderr",
     "output_type": "stream",
     "text": [
      "spCFrame-r2-00135753.fits 100%|###################################|   3.7 KiB/s\n",
      "spCFrame-r2-00135754.fits 100%|###################################|   3.8 KiB/s\n",
      "spCFrame-r2-00135755.fits 100%|###################################|   3.2 KiB/s\n",
      "spCFrame-r2-00135756.fits 100%|###################################|   3.5 KiB/s\n",
      "spCFrame-r2-00135757.fits 100%|###################################|   3.4 KiB/s\n"
     ]
    },
    {
     "name": "stdout",
     "output_type": "stream",
     "text": [
      "Plate 4787 fiber 844 has 5 exposures\n"
     ]
    },
    {
     "name": "stderr",
     "output_type": "stream",
     "text": [
      "spCFrame-r2-00147702.fits 100%|###################################|   3.6 KiB/s\n",
      "spCFrame-r2-00147703.fits 100%|###################################|   3.2 KiB/s\n",
      "spCFrame-r2-00147704.fits 100%|###################################|   3.6 KiB/s\n"
     ]
    },
    {
     "name": "stdout",
     "output_type": "stream",
     "text": [
      "Plate 6314 fiber 931 has 3 exposures\n"
     ]
    },
    {
     "name": "stderr",
     "output_type": "stream",
     "text": [
      "spCFrame-r1-00134224.fits 100%|###################################|   3.4 KiB/s\n",
      "spCFrame-r1-00134225.fits 100%|###################################|   3.4 KiB/s\n",
      "spCFrame-r1-00134226.fits 100%|###################################|   1.5 KiB/s\n",
      "spCFrame-r1-00134227.fits 100%|###################################|   3.2 KiB/s\n"
     ]
    },
    {
     "name": "stdout",
     "output_type": "stream",
     "text": [
      "Plate 5022 fiber 186 has 4 exposures\n"
     ]
    },
    {
     "name": "stderr",
     "output_type": "stream",
     "text": [
      "spCFrame-r2-00128717.fits 100%|###################################|   3.7 KiB/s\n",
      "spCFrame-r2-00128718.fits 100%|###################################|   3.6 KiB/s\n",
      "spCFrame-r2-00128719.fits 100%|###################################|   3.7 KiB/s\n",
      "spCFrame-r2-00128720.fits 100%|###################################|   3.7 KiB/s\n"
     ]
    },
    {
     "name": "stdout",
     "output_type": "stream",
     "text": [
      "Plate 4759 fiber 980 has 4 exposures\n"
     ]
    },
    {
     "name": "stderr",
     "output_type": "stream",
     "text": [
      "spCFrame-r1-00165808.fits 100%|###################################|   3.6 KiB/s\n",
      "spCFrame-r1-00165809.fits 100%|###################################|   3.6 KiB/s\n",
      "spCFrame-r1-00165810.fits 100%|###################################|   3.8 KiB/s\n"
     ]
    },
    {
     "name": "stdout",
     "output_type": "stream",
     "text": [
      "Plate 6511 fiber 52 has 8 exposures\n"
     ]
    },
    {
     "name": "stderr",
     "output_type": "stream",
     "text": [
      "spCFrame-r2-00173466.fits 100%|###################################|   3.5 KiB/s\n",
      "spCFrame-r2-00173467.fits 100%|###################################|   3.7 KiB/s\n",
      "spCFrame-r2-00173468.fits 100%|###################################|   3.9 KiB/s\n",
      "spCFrame-r2-00173469.fits 100%|###################################|   3.7 KiB/s\n",
      "spCFrame-r2-00173470.fits 100%|###################################|   3.6 KiB/s\n"
     ]
    },
    {
     "name": "stdout",
     "output_type": "stream",
     "text": [
      "Plate 7092 fiber 952 has 5 exposures\n"
     ]
    },
    {
     "name": "stderr",
     "output_type": "stream",
     "text": [
      "spCFrame-r2-00123227.fits 100%|###################################|   3.7 KiB/s\n",
      "spCFrame-r2-00123228.fits 100%|###################################|   3.8 KiB/s\n",
      "spCFrame-r2-00123229.fits 100%|###################################|   3.6 KiB/s\n",
      "spCFrame-r2-00123380.fits 100%|###################################|   3.7 KiB/s\n",
      "spCFrame-r2-00123381.fits 100%|###################################|   3.5 KiB/s\n",
      "spCFrame-r2-00123382.fits 100%|###################################|   4.0 KiB/s\n",
      "spCFrame-r2-00123465.fits 100%|###################################|   3.7 KiB/s\n",
      "spCFrame-r2-00123466.fits 100%|###################################|   3.7 KiB/s\n"
     ]
    },
    {
     "name": "stdout",
     "output_type": "stream",
     "text": [
      "Plate 4363 fiber 928 has 11 exposures\n"
     ]
    },
    {
     "name": "stderr",
     "output_type": "stream",
     "text": [
      "spCFrame-r2-00159664.fits 100%|###################################|   3.8 KiB/s\n",
      "spCFrame-r2-00159665.fits 100%|###################################|   3.6 KiB/s\n",
      "spCFrame-r2-00159666.fits 100%|###################################|   3.8 KiB/s\n",
      "spCFrame-r2-00159667.fits 100%|###################################|   3.3 KiB/s\n",
      "spCFrame-r2-00159668.fits 100%|###################################|   3.8 KiB/s\n"
     ]
    },
    {
     "name": "stdout",
     "output_type": "stream",
     "text": [
      "Plate 6747 fiber 676 has 5 exposures\n"
     ]
    },
    {
     "name": "stderr",
     "output_type": "stream",
     "text": [
      "spCFrame-r1-00159725.fits 100%|###################################|   3.6 KiB/s\n",
      "spCFrame-r1-00159726.fits 100%|###################################|   3.7 KiB/s\n",
      "spCFrame-r1-00159727.fits 100%|###################################|   3.8 KiB/s\n"
     ]
    },
    {
     "name": "stdout",
     "output_type": "stream",
     "text": [
      "Plate 6676 fiber 84 has 3 exposures\n"
     ]
    },
    {
     "name": "stderr",
     "output_type": "stream",
     "text": [
      "spCFrame-r1-00112278.fits 100%|###################################|   3.6 KiB/s\n",
      "spCFrame-r1-00112279.fits 100%|###################################|   4.1 KiB/s\n",
      "spCFrame-r1-00112280.fits 100%|###################################|   3.6 KiB/s\n",
      "spCFrame-r1-00112281.fits 100%|###################################|   3.9 KiB/s\n",
      "spCFrame-r1-00112282.fits 100%|###################################|   3.9 KiB/s\n",
      "spCFrame-r1-00112283.fits 100%|###################################|   3.7 KiB/s\n"
     ]
    },
    {
     "name": "stdout",
     "output_type": "stream",
     "text": [
      "Plate 3696 fiber 82 has 6 exposures\n"
     ]
    },
    {
     "name": "stderr",
     "output_type": "stream",
     "text": [
      "spCFrame-r2-00159200.fits 100%|###################################|   3.3 KiB/s\n",
      "spCFrame-r2-00159201.fits 100%|###################################|   3.9 KiB/s\n",
      "spCFrame-r2-00159202.fits 100%|###################################|   3.7 KiB/s\n"
     ]
    },
    {
     "name": "stdout",
     "output_type": "stream",
     "text": [
      "Plate 5737 fiber 666 has 3 exposures\n"
     ]
    },
    {
     "name": "stderr",
     "output_type": "stream",
     "text": [
      "spCFrame-r2-00159287.fits 100%|###################################|   4.0 KiB/s\n",
      "spCFrame-r2-00159288.fits 100%|###################################|   3.6 KiB/s\n",
      "spCFrame-r2-00159289.fits 100%|###################################|   3.9 KiB/s\n"
     ]
    },
    {
     "name": "stdout",
     "output_type": "stream",
     "text": [
      "Plate 6664 fiber 996 has 3 exposures\n"
     ]
    },
    {
     "name": "stderr",
     "output_type": "stream",
     "text": [
      "spCFrame-r2-00136477.fits 100%|###################################|   3.7 KiB/s\n",
      "spCFrame-r2-00136478.fits 100%|###################################|   3.6 KiB/s\n",
      "spCFrame-r2-00136479.fits 100%|###################################|   3.6 KiB/s\n",
      "spCFrame-r2-00136480.fits 100%|###################################|   3.7 KiB/s\n",
      "spCFrame-r2-00136481.fits 100%|###################################|   2.9 KiB/s\n",
      "spCFrame-r2-00136482.fits 100%|###################################|   3.7 KiB/s\n"
     ]
    },
    {
     "name": "stdout",
     "output_type": "stream",
     "text": [
      "Plate 4323 fiber 774 has 6 exposures\n"
     ]
    },
    {
     "name": "stderr",
     "output_type": "stream",
     "text": [
      "spCFrame-r2-00165798.fits 100%|###################################|   3.5 KiB/s\n",
      "spCFrame-r2-00165799.fits 100%|###################################|   3.8 KiB/s\n",
      "spCFrame-r2-00165800.fits 100%|###################################|   3.2 KiB/s\n",
      "spCFrame-r2-00165801.fits 100%|###################################|   3.9 KiB/s\n",
      "spCFrame-r2-00165802.fits 100%|###################################|   4.0 KiB/s\n",
      "spCFrame-r2-00165803.fits 100%|###################################|   3.9 KiB/s\n"
     ]
    },
    {
     "name": "stdout",
     "output_type": "stream",
     "text": [
      "Plate 6504 fiber 614 has 6 exposures\n",
      "Plate 3794 fiber 768 has 18 exposures\n"
     ]
    },
    {
     "name": "stderr",
     "output_type": "stream",
     "text": [
      "spCFrame-r1-00129031.fits 100%|###################################|   3.9 KiB/s\n",
      "spCFrame-r1-00129032.fits 100%|###################################|   3.7 KiB/s\n",
      "spCFrame-r1-00129033.fits 100%|###################################|   3.9 KiB/s\n"
     ]
    },
    {
     "name": "stdout",
     "output_type": "stream",
     "text": [
      "Plate 4715 fiber 428 has 3 exposures\n"
     ]
    },
    {
     "name": "stderr",
     "output_type": "stream",
     "text": [
      "spCFrame-r2-00133554.fits 100%|###################################|   3.7 KiB/s\n",
      "spCFrame-r2-00134039.fits 100%|###################################|   3.4 KiB/s\n",
      "spCFrame-r2-00134040.fits 100%|###################################|   3.7 KiB/s\n",
      "spCFrame-r2-00134041.fits 100%|###################################|   3.6 KiB/s\n",
      "spCFrame-r2-00134042.fits 100%|###################################|   2.5 KiB/s\n",
      "spCFrame-r2-00134043.fits 100%|###################################|   3.7 KiB/s\n"
     ]
    },
    {
     "name": "stdout",
     "output_type": "stream",
     "text": [
      "Plate 5037 fiber 598 has 6 exposures\n"
     ]
    },
    {
     "name": "stderr",
     "output_type": "stream",
     "text": [
      "spCFrame-r1-00154745.fits 100%|###################################|   3.5 KiB/s\n",
      "spCFrame-r1-00154746.fits 100%|###################################|   3.8 KiB/s\n",
      "spCFrame-r1-00154747.fits 100%|###################################|   3.5 KiB/s\n"
     ]
    },
    {
     "name": "stdout",
     "output_type": "stream",
     "text": [
      "Plate 6415 fiber 458 has 3 exposures\n"
     ]
    },
    {
     "name": "stderr",
     "output_type": "stream",
     "text": [
      "spCFrame-r1-00135964.fits 100%|###################################|   4.0 KiB/s\n",
      "spCFrame-r1-00135965.fits 100%|###################################|   3.5 KiB/s\n",
      "spCFrame-r1-00135966.fits 100%|###################################|   3.5 KiB/s\n",
      "spCFrame-r1-00135967.fits 100%|###################################|   3.6 KiB/s\n"
     ]
    },
    {
     "name": "stdout",
     "output_type": "stream",
     "text": [
      "Plate 4487 fiber 96 has 4 exposures\n",
      "Plate 4966 fiber 530 has 5 exposures\n"
     ]
    },
    {
     "name": "stderr",
     "output_type": "stream",
     "text": [
      "spCFrame-r2-00115443.fits 100%|###################################|   3.6 KiB/s\n",
      "spCFrame-r2-00115444.fits 100%|###################################|   3.8 KiB/s\n",
      "spCFrame-r2-00115445.fits 100%|###################################|   4.0 KiB/s\n",
      "spCFrame-r2-00115446.fits 100%|###################################|   3.6 KiB/s\n"
     ]
    },
    {
     "name": "stdout",
     "output_type": "stream",
     "text": [
      "Plate 3930 fiber 939 has 4 exposures\n"
     ]
    },
    {
     "name": "stderr",
     "output_type": "stream",
     "text": [
      "spCFrame-r1-00154953.fits 100%|###################################|   3.6 KiB/s\n",
      "spCFrame-r1-00154954.fits 100%|###################################|   3.9 KiB/s\n",
      "spCFrame-r1-00154955.fits 100%|###################################|   4.3 KiB/s\n",
      "spCFrame-r1-00154956.fits 100%|###################################|   3.6 KiB/s\n"
     ]
    },
    {
     "name": "stdout",
     "output_type": "stream",
     "text": [
      "Plate 6423 fiber 14 has 4 exposures\n"
     ]
    },
    {
     "name": "stderr",
     "output_type": "stream",
     "text": [
      "spCFrame-r1-00159287.fits 100%|###################################|   3.8 KiB/s\n",
      "spCFrame-r1-00159288.fits 100%|###################################|   3.7 KiB/s\n",
      "spCFrame-r1-00159289.fits 100%|###################################|   3.6 KiB/s\n"
     ]
    },
    {
     "name": "stdout",
     "output_type": "stream",
     "text": [
      "Plate 6664 fiber 82 has 3 exposures\n"
     ]
    },
    {
     "name": "stderr",
     "output_type": "stream",
     "text": [
      "spCFrame-r1-00177758.fits 100%|###################################|   3.8 KiB/s\n",
      "spCFrame-r1-00177759.fits 100%|###################################|   3.8 KiB/s\n",
      "spCFrame-r1-00177760.fits 100%|###################################|   3.9 KiB/s\n",
      "spCFrame-r1-00177761.fits 100%|###################################|   3.6 KiB/s\n"
     ]
    },
    {
     "name": "stdout",
     "output_type": "stream",
     "text": [
      "Plate 7110 fiber 324 has 4 exposures\n",
      "Plate 6027 fiber 149 has 4 exposures\n"
     ]
    },
    {
     "name": "stderr",
     "output_type": "stream",
     "text": [
      "spCFrame-r1-00159664.fits 100%|###################################|   3.8 KiB/s\n",
      "spCFrame-r1-00159665.fits 100%|###################################|   3.7 KiB/s\n",
      "spCFrame-r1-00159666.fits 100%|###################################|   3.9 KiB/s\n",
      "spCFrame-r1-00159667.fits 100%|###################################|   3.8 KiB/s\n",
      "spCFrame-r1-00159668.fits 100%|###################################|   3.7 KiB/s\n"
     ]
    },
    {
     "name": "stdout",
     "output_type": "stream",
     "text": [
      "Plate 6747 fiber 92 has 5 exposures\n"
     ]
    }
   ],
   "source": [
    "kilo_sky_data = data_collection(kilo_sky)"
   ]
  },
  {
   "cell_type": "code",
   "execution_count": 1122,
   "metadata": {},
   "outputs": [
    {
     "data": {
      "text/html": [
       "<div>\n",
       "<style scoped>\n",
       "    .dataframe tbody tr th:only-of-type {\n",
       "        vertical-align: middle;\n",
       "    }\n",
       "\n",
       "    .dataframe tbody tr th {\n",
       "        vertical-align: top;\n",
       "    }\n",
       "\n",
       "    .dataframe thead th {\n",
       "        text-align: right;\n",
       "    }\n",
       "</style>\n",
       "<table border=\"1\" class=\"dataframe\">\n",
       "  <thead>\n",
       "    <tr style=\"text-align: right;\">\n",
       "      <th></th>\n",
       "      <th>exposure_index</th>\n",
       "      <th>PLATE</th>\n",
       "      <th>MJD</th>\n",
       "      <th>XFOCAL</th>\n",
       "      <th>YFOCAL</th>\n",
       "      <th>FIBER</th>\n",
       "      <th>RA</th>\n",
       "      <th>DEC</th>\n",
       "      <th>OBJTYPE</th>\n",
       "      <th>AIRMASS_0</th>\n",
       "      <th>...</th>\n",
       "      <th>inverse_variance4119</th>\n",
       "      <th>inverse_variance4120</th>\n",
       "      <th>inverse_variance4121</th>\n",
       "      <th>inverse_variance4122</th>\n",
       "      <th>inverse_variance4123</th>\n",
       "      <th>inverse_variance4124</th>\n",
       "      <th>inverse_variance4125</th>\n",
       "      <th>inverse_variance4126</th>\n",
       "      <th>inverse_variance4127</th>\n",
       "      <th>inverse_variance4128</th>\n",
       "    </tr>\n",
       "  </thead>\n",
       "  <tbody>\n",
       "    <tr>\n",
       "      <th>0</th>\n",
       "      <td>0</td>\n",
       "      <td>3844</td>\n",
       "      <td>55321</td>\n",
       "      <td>-93.327362</td>\n",
       "      <td>140.945984</td>\n",
       "      <td>566</td>\n",
       "      <td>180.40334</td>\n",
       "      <td>0.647407</td>\n",
       "      <td>SKY</td>\n",
       "      <td>0.0</td>\n",
       "      <td>...</td>\n",
       "      <td>10982.367188</td>\n",
       "      <td>10983.790039</td>\n",
       "      <td>10985.212891</td>\n",
       "      <td>10986.635742</td>\n",
       "      <td>10988.057617</td>\n",
       "      <td>10989.480469</td>\n",
       "      <td>10990.90332</td>\n",
       "      <td>10992.325195</td>\n",
       "      <td>10993.748047</td>\n",
       "      <td>10995.169922</td>\n",
       "    </tr>\n",
       "    <tr>\n",
       "      <th>1</th>\n",
       "      <td>1</td>\n",
       "      <td>3844</td>\n",
       "      <td>55321</td>\n",
       "      <td>-93.327362</td>\n",
       "      <td>140.945984</td>\n",
       "      <td>566</td>\n",
       "      <td>180.40334</td>\n",
       "      <td>0.647407</td>\n",
       "      <td>SKY</td>\n",
       "      <td>0.0</td>\n",
       "      <td>...</td>\n",
       "      <td>0.000000</td>\n",
       "      <td>0.000000</td>\n",
       "      <td>0.000000</td>\n",
       "      <td>0.000000</td>\n",
       "      <td>0.000000</td>\n",
       "      <td>0.000000</td>\n",
       "      <td>0.00000</td>\n",
       "      <td>0.000000</td>\n",
       "      <td>0.000000</td>\n",
       "      <td>0.000000</td>\n",
       "    </tr>\n",
       "    <tr>\n",
       "      <th>2</th>\n",
       "      <td>2</td>\n",
       "      <td>3844</td>\n",
       "      <td>55321</td>\n",
       "      <td>-93.327362</td>\n",
       "      <td>140.945984</td>\n",
       "      <td>566</td>\n",
       "      <td>180.40334</td>\n",
       "      <td>0.647407</td>\n",
       "      <td>SKY</td>\n",
       "      <td>0.0</td>\n",
       "      <td>...</td>\n",
       "      <td>10982.367188</td>\n",
       "      <td>10983.790039</td>\n",
       "      <td>10985.212891</td>\n",
       "      <td>10986.635742</td>\n",
       "      <td>10988.057617</td>\n",
       "      <td>10989.480469</td>\n",
       "      <td>10990.90332</td>\n",
       "      <td>10992.325195</td>\n",
       "      <td>10993.748047</td>\n",
       "      <td>10995.169922</td>\n",
       "    </tr>\n",
       "    <tr>\n",
       "      <th>3</th>\n",
       "      <td>3</td>\n",
       "      <td>3844</td>\n",
       "      <td>55321</td>\n",
       "      <td>-93.327362</td>\n",
       "      <td>140.945984</td>\n",
       "      <td>566</td>\n",
       "      <td>180.40334</td>\n",
       "      <td>0.647407</td>\n",
       "      <td>SKY</td>\n",
       "      <td>0.0</td>\n",
       "      <td>...</td>\n",
       "      <td>0.000000</td>\n",
       "      <td>0.000000</td>\n",
       "      <td>0.000000</td>\n",
       "      <td>0.000000</td>\n",
       "      <td>0.000000</td>\n",
       "      <td>0.000000</td>\n",
       "      <td>0.00000</td>\n",
       "      <td>0.000000</td>\n",
       "      <td>0.000000</td>\n",
       "      <td>0.000000</td>\n",
       "    </tr>\n",
       "    <tr>\n",
       "      <th>4</th>\n",
       "      <td>0</td>\n",
       "      <td>5399</td>\n",
       "      <td>55956</td>\n",
       "      <td>-119.386322</td>\n",
       "      <td>150.762390</td>\n",
       "      <td>640</td>\n",
       "      <td>185.17342</td>\n",
       "      <td>12.159917</td>\n",
       "      <td>SKY</td>\n",
       "      <td>0.0</td>\n",
       "      <td>...</td>\n",
       "      <td>7.674854</td>\n",
       "      <td>5.685881</td>\n",
       "      <td>5.342369</td>\n",
       "      <td>7.043584</td>\n",
       "      <td>4.965499</td>\n",
       "      <td>4.463652</td>\n",
       "      <td>0.00000</td>\n",
       "      <td>0.000000</td>\n",
       "      <td>0.000000</td>\n",
       "      <td>0.000000</td>\n",
       "    </tr>\n",
       "  </tbody>\n",
       "</table>\n",
       "<p>5 rows × 20654 columns</p>\n",
       "</div>"
      ],
      "text/plain": [
       "   exposure_index  PLATE    MJD      XFOCAL      YFOCAL  FIBER         RA  \\\n",
       "0               0   3844  55321  -93.327362  140.945984    566  180.40334   \n",
       "1               1   3844  55321  -93.327362  140.945984    566  180.40334   \n",
       "2               2   3844  55321  -93.327362  140.945984    566  180.40334   \n",
       "3               3   3844  55321  -93.327362  140.945984    566  180.40334   \n",
       "4               0   5399  55956 -119.386322  150.762390    640  185.17342   \n",
       "\n",
       "         DEC OBJTYPE  AIRMASS_0          ...           inverse_variance4119  \\\n",
       "0   0.647407     SKY        0.0          ...                   10982.367188   \n",
       "1   0.647407     SKY        0.0          ...                       0.000000   \n",
       "2   0.647407     SKY        0.0          ...                   10982.367188   \n",
       "3   0.647407     SKY        0.0          ...                       0.000000   \n",
       "4  12.159917     SKY        0.0          ...                       7.674854   \n",
       "\n",
       "   inverse_variance4120  inverse_variance4121  inverse_variance4122  \\\n",
       "0          10983.790039          10985.212891          10986.635742   \n",
       "1              0.000000              0.000000              0.000000   \n",
       "2          10983.790039          10985.212891          10986.635742   \n",
       "3              0.000000              0.000000              0.000000   \n",
       "4              5.685881              5.342369              7.043584   \n",
       "\n",
       "   inverse_variance4123  inverse_variance4124  inverse_variance4125  \\\n",
       "0          10988.057617          10989.480469           10990.90332   \n",
       "1              0.000000              0.000000               0.00000   \n",
       "2          10988.057617          10989.480469           10990.90332   \n",
       "3              0.000000              0.000000               0.00000   \n",
       "4              4.965499              4.463652               0.00000   \n",
       "\n",
       "   inverse_variance4126  inverse_variance4127  inverse_variance4128  \n",
       "0          10992.325195          10993.748047          10995.169922  \n",
       "1              0.000000              0.000000              0.000000  \n",
       "2          10992.325195          10993.748047          10995.169922  \n",
       "3              0.000000              0.000000              0.000000  \n",
       "4              0.000000              0.000000              0.000000  \n",
       "\n",
       "[5 rows x 20654 columns]"
      ]
     },
     "execution_count": 1122,
     "metadata": {},
     "output_type": "execute_result"
    }
   ],
   "source": [
    "kilo_sky_data.head()"
   ]
  },
  {
   "cell_type": "code",
   "execution_count": 1141,
   "metadata": {},
   "outputs": [],
   "source": [
    "kilo_sky_data.to_hdf('kilo_sky_features.hdf5',key ='kilo_sky_data', mode='w')"
   ]
  },
  {
   "cell_type": "code",
   "execution_count": 1142,
   "metadata": {},
   "outputs": [
    {
     "data": {
      "text/plain": [
       "pandas.core.frame.DataFrame"
      ]
     },
     "execution_count": 1142,
     "metadata": {},
     "output_type": "execute_result"
    }
   ],
   "source": [
    "type(kilo_sky_data)"
   ]
  },
  {
   "cell_type": "code",
   "execution_count": 1144,
   "metadata": {},
   "outputs": [],
   "source": [
    "f = h5py.File('kilo_sky_features.hdf5','r')"
   ]
  },
  {
   "cell_type": "code",
   "execution_count": 1145,
   "metadata": {},
   "outputs": [
    {
     "name": "stdout",
     "output_type": "stream",
     "text": [
      "kilo_sky_data\n"
     ]
    }
   ],
   "source": [
    "for key in f.keys():\n",
    "    print(key)"
   ]
  },
  {
   "cell_type": "code",
   "execution_count": null,
   "metadata": {},
   "outputs": [],
   "source": []
  },
  {
   "cell_type": "code",
   "execution_count": null,
   "metadata": {},
   "outputs": [],
   "source": []
  },
  {
   "cell_type": "markdown",
   "metadata": {},
   "source": [
    "## Scratch work and history in below"
   ]
  },
  {
   "cell_type": "markdown",
   "metadata": {},
   "source": [
    "##### Dec 7th, Friday, Summary\n",
    "- All exposure information for the sample sky fiber is combined with its features in a pandas dataframe.\n",
    "- The exposure information contains 4 fields (wavelength, sdss_sky_flux, sdss_object_flux, inverse_variance)\n",
    "- Total_flux is calculated by summing sdss_sky_flux and sdss_object_flux\n",
    "- Counting total_flux, there are 5 categories of exposure information, each with 4128 data points at a particular exposure.\n",
    "- The sample sky fiber has a final exposure information dataframe with dimension (4,20653)\n",
    "- The looping and collection of exposure data is to be repeated for all sampl"
   ]
  },
  {
   "cell_type": "markdown",
   "metadata": {},
   "source": [
    "##### Dec 6th, Thursday, Summary\n",
    "- The feature table with 13 columns is replicated by row corresponding to the number of available exposure in each fiber\n",
    "\n",
    "- The exposure index column is added as the 14th column\n",
    "\n",
    "- Exposure data matrix with 4128 columns is intended to be add as extra columns to the feature matrix. The index and value are not approriately understood by the current concatenation method. Modification is needed.\n",
    "\n",
    "- Next step: automation for all exposure across fibers and convert to HDF5 file."
   ]
  },
  {
   "cell_type": "code",
   "execution_count": null,
   "metadata": {},
   "outputs": [],
   "source": []
  },
  {
   "cell_type": "code",
   "execution_count": 587,
   "metadata": {},
   "outputs": [],
   "source": [
    "field_index=['wavelength','flux','ivar','sky']"
   ]
  },
  {
   "cell_type": "code",
   "execution_count": 585,
   "metadata": {},
   "outputs": [
    {
     "data": {
      "text/plain": [
       "numpy.ma.core.MaskedArray"
      ]
     },
     "execution_count": 585,
     "metadata": {},
     "output_type": "execute_result"
    }
   ],
   "source": [
    "type(plate3844_fiber566)"
   ]
  },
  {
   "cell_type": "code",
   "execution_count": 586,
   "metadata": {},
   "outputs": [
    {
     "data": {
      "text/plain": [
       "(5, 4128)"
      ]
     },
     "execution_count": 586,
     "metadata": {},
     "output_type": "execute_result"
    }
   ],
   "source": [
    "plate3844_fiber566.shape"
   ]
  },
  {
   "cell_type": "code",
   "execution_count": 599,
   "metadata": {},
   "outputs": [],
   "source": [
    "plate3844_fiber566_exp0 =pd.DataFrame.from_records(data = plate3844_fiber566[1], index = field_index).T"
   ]
  },
  {
   "cell_type": "code",
   "execution_count": 600,
   "metadata": {},
   "outputs": [
    {
     "data": {
      "text/html": [
       "<div>\n",
       "<style scoped>\n",
       "    .dataframe tbody tr th:only-of-type {\n",
       "        vertical-align: middle;\n",
       "    }\n",
       "\n",
       "    .dataframe tbody tr th {\n",
       "        vertical-align: top;\n",
       "    }\n",
       "\n",
       "    .dataframe thead tr th {\n",
       "        text-align: left;\n",
       "    }\n",
       "</style>\n",
       "<table border=\"1\" class=\"dataframe\">\n",
       "  <thead>\n",
       "    <tr>\n",
       "      <th>wavelength</th>\n",
       "      <th>5188.432617</th>\n",
       "      <th>5189.726562</th>\n",
       "      <th>5191.020508</th>\n",
       "      <th>5192.314941</th>\n",
       "      <th>5193.608887</th>\n",
       "      <th>5194.903320</th>\n",
       "      <th>5196.197754</th>\n",
       "      <th>5197.492188</th>\n",
       "      <th>5198.787109</th>\n",
       "      <th>5200.082031</th>\n",
       "      <th>...</th>\n",
       "      <th>10995.800781</th>\n",
       "      <th>10997.206055</th>\n",
       "      <th>10998.611328</th>\n",
       "      <th>11000.016602</th>\n",
       "      <th>11001.421875</th>\n",
       "      <th>11002.826172</th>\n",
       "      <th>11004.231445</th>\n",
       "      <th>11005.636719</th>\n",
       "      <th>11007.041016</th>\n",
       "      <th>11008.446289</th>\n",
       "    </tr>\n",
       "    <tr>\n",
       "      <th>flux</th>\n",
       "      <th>0.0</th>\n",
       "      <th>0.0</th>\n",
       "      <th>0.0</th>\n",
       "      <th>0.0</th>\n",
       "      <th>0.0</th>\n",
       "      <th>0.0</th>\n",
       "      <th>0.0</th>\n",
       "      <th>0.0</th>\n",
       "      <th>0.0</th>\n",
       "      <th>0.0</th>\n",
       "      <th>...</th>\n",
       "      <th>0.0</th>\n",
       "      <th>0.0</th>\n",
       "      <th>0.0</th>\n",
       "      <th>0.0</th>\n",
       "      <th>0.0</th>\n",
       "      <th>0.0</th>\n",
       "      <th>0.0</th>\n",
       "      <th>0.0</th>\n",
       "      <th>0.0</th>\n",
       "      <th>0.0</th>\n",
       "    </tr>\n",
       "    <tr>\n",
       "      <th>ivar</th>\n",
       "      <th>-5.098634e-15</th>\n",
       "      <th>2.108738e+02</th>\n",
       "      <th>-1.238074e+04</th>\n",
       "      <th>-6.703080e-16</th>\n",
       "      <th>1.243750e+01</th>\n",
       "      <th>4.536435e+23</th>\n",
       "      <th>1.965882e-41</th>\n",
       "      <th>0.000000e+00</th>\n",
       "      <th>-1.094270e-14</th>\n",
       "      <th>0.000000e+00</th>\n",
       "      <th>...</th>\n",
       "      <th>-3.003515e-08</th>\n",
       "      <th>-1.917936e-03</th>\n",
       "      <th>1.806464e+32</th>\n",
       "      <th>2.350989e-38</th>\n",
       "      <th>2.350989e-38</th>\n",
       "      <th>2.407412e-35</th>\n",
       "      <th>2.270622e+23</th>\n",
       "      <th>-2.958841e-03</th>\n",
       "      <th>-1.678396e-16</th>\n",
       "      <th>1.243750e+01</th>\n",
       "    </tr>\n",
       "    <tr>\n",
       "      <th>sky</th>\n",
       "      <th>0.0</th>\n",
       "      <th>0.0</th>\n",
       "      <th>0.0</th>\n",
       "      <th>0.0</th>\n",
       "      <th>0.0</th>\n",
       "      <th>0.0</th>\n",
       "      <th>0.0</th>\n",
       "      <th>0.0</th>\n",
       "      <th>0.0</th>\n",
       "      <th>0.0</th>\n",
       "      <th>...</th>\n",
       "      <th>0.0</th>\n",
       "      <th>0.0</th>\n",
       "      <th>0.0</th>\n",
       "      <th>0.0</th>\n",
       "      <th>0.0</th>\n",
       "      <th>0.0</th>\n",
       "      <th>0.0</th>\n",
       "      <th>0.0</th>\n",
       "      <th>0.0</th>\n",
       "      <th>0.0</th>\n",
       "    </tr>\n",
       "  </thead>\n",
       "  <tbody>\n",
       "  </tbody>\n",
       "</table>\n",
       "<p>0 rows × 4128 columns</p>\n",
       "</div>"
      ],
      "text/plain": [
       "Empty DataFrame\n",
       "Columns: [(5188.4326171875, 0.0, -5.0986335108343245e-15, 0.0), (5189.7265625, 0.0, 210.873779296875, 0.0), (5191.0205078125, 0.0, -12380.736328125, 0.0), (5192.31494140625, 0.0, -6.703079931391631e-16, 0.0), (5193.60888671875, 0.0, 12.4375, 0.0), (5194.9033203125, 0.0, 4.536434831821699e+23, 0.0), (5196.19775390625, 0.0, 1.9658816156012859e-41, 0.0), (5197.4921875, 0.0, 0.0, 0.0), (5198.787109375, 0.0, -1.0942695825800954e-14, 0.0), (5200.08203125, 0.0, 0.0, 0.0), (5201.376953125, 0.0, 0.0, 0.0), (5202.671875, 0.0, 6.546089226233676e-10, 0.0), (5203.96728515625, 0.0, 2.5999148988330246e-18, 0.0), (5205.2626953125, 0.0, 6.281182479802044e+34, 0.0), (5206.55810546875, 0.0, -4.367754075085273e-11, 0.0), (5207.853515625, 0.0, 3.587324068671532e-43, 0.0), (5209.1494140625, 0.0, 3.246808541840601e-41, 0.0), (5210.44482421875, 0.0, 6.098591046588036e-41, 0.0), (5211.74072265625, 0.0, 1.24267217881248e-38, 0.0), (5213.037109375, 0.0, 30.195436477661133, 0.0), (5214.3330078125, 0.0, 0.0, 0.0), (5215.62939453125, 0.0, 13913116672.0, 0.0), (5216.92578125, 0.0, 1.3484255500048922e+37, 0.0), (5218.22265625, 0.0, -6.541077097177664e+32, 0.0), (5219.51904296875, 0.0, 2.350988701644575e-38, 0.0), (5220.81591796875, 0.0, 0.0, 0.0), (5222.11279296875, 0.0, 0.0, 0.0), (5223.40966796875, 0.0, 0.0, 0.0), (5224.70703125, 0.0, 6.018531076210112e-36, 0.0), (5226.00439453125, 0.0, 1.586398425768042e-29, 0.0), (5227.3017578125, 0.0, -6991647.5, 0.0), (5228.59912109375, 0.0, -2.3785713286402921e-29, 0.0), (5229.89697265625, 0.0, 2.350988701644575e-38, 0.0), (5231.19482421875, 0.0, 7.332801033044234e-12, 0.0), (5232.49267578125, 0.0, 3236.144287109375, 0.0), (5233.79052734375, 0.0, 8.549268386559561e-07, 0.0), (5235.0888671875, 0.0, -2.685018209830879e-15, 0.0), (5236.38671875, 0.0, 0.0, 0.0), (5237.685546875, 0.0, 1.3563156426940112e-19, 0.0), (5238.98388671875, 0.0, 4.3980369973513884e+29, 0.0), (5240.2822265625, 0.0, 5.541574907018922e-41, 0.0), (5241.5810546875, 0.0, 219043332096.0, 0.0), (5242.8798828125, 0.0, 0.0, 0.0), (5244.17919921875, 0.0, 0.0, 0.0), (5245.47802734375, 0.0, 0.0, 0.0), (5246.77734375, 0.0, 8.753070727558537e-41, 0.0), (5248.07666015625, 0.0, 1.6819087217842353e-16, 0.0), (5249.3759765625, 0.0, 2.2364830009838168e+20, 0.0), (5250.67578125, 0.0, 3.587324068671532e-43, 0.0), (5251.9755859375, 0.0, -6.839542265879572e-10, 0.0), (5253.275390625, 0.0, 0.0, 0.0), (5254.5751953125, 0.0, -3.186866181333533e+32, 0.0), (5255.87548828125, 0.0, 0.0, 0.0), (5257.17529296875, 0.0, 0.0, 0.0), (5258.4755859375, 0.0, 1.8405537648780599e-19, 0.0), (5259.7763671875, 0.0, 7.880577737286017e+32, 0.0), (5261.07666015625, 0.0, 9.4039548065783e-38, 0.0), (5262.37744140625, 0.0, 0.0, 0.0), (5263.67822265625, 0.0, 1.7692778996282033e-38, 0.0), (5264.97900390625, 0.0, 0.0, 0.0), (5266.2802734375, 0.0, 0.0, 0.0), (5267.58154296875, 0.0, 1.3563156426940112e-19, 0.0), (5268.8828125, 0.0, 0.0, 0.0), (5270.18408203125, 0.0, 0.0, 0.0), (5271.4853515625, 0.0, 0.0, 0.0), (5272.787109375, 0.0, 0.0, 0.0), (5274.0888671875, 0.0, -1.6093220510709944e+29, 0.0), (5275.390625, 0.0, -5.902958103587057e+20, 0.0), (5276.69287109375, 0.0, -2.3174039526595692e+26, 0.0), (5277.99462890625, 0.0, -1.072411050343251e-14, 0.0), (5279.296875, 0.0, 0.0, 0.0), (5280.599609375, 0.0, 1.3563156426940112e-19, 0.0), (5281.90185546875, 0.0, 9.079267657418026e+23, 0.0), (5283.20458984375, 0.0, 8.932577060838546e-41, 0.0), (5284.50732421875, 0.0, 3.587324068671532e-43, 0.0), (5285.81005859375, 0.0, 0.0, 0.0), (5287.11279296875, 0.0, 0.0, 0.0), (5288.416015625, 0.0, 0.0, 0.0), (5289.71923828125, 0.0, 2.152394441202919e-42, 0.0), (5291.0224609375, 0.0, 1.0002510942460906e-23, 0.0), (5292.326171875, 0.0, 1.725352038973657e-13, 0.0), (5293.62939453125, 0.0, 5.220817688534971e-41, 0.0), (5294.93310546875, 0.0, 3.587324068671532e-43, 0.0), (5296.23681640625, 0.0, 0.0, 0.0), (5297.541015625, 0.0, 3354724401152.0, 0.0), (5298.8447265625, 0.0, -3.071111978990134e+33, 0.0), (5300.14892578125, 0.0, 0.0, 0.0), (5301.453125, 0.0, 0.0, 0.0), (5302.7578125, 0.0, 1.3563156426940112e-19, 0.0), (5304.06201171875, 0.0, -2.376897705657802e+24, 0.0), (5305.36669921875, 0.0, 0.0, 0.0), (5306.67138671875, 0.0, 1.357413466463234e-19, 0.0), (5307.9765625, 0.0, 0.0, 0.0), (5309.28125, 0.0, 0.0, 0.0), (5310.58642578125, 0.0, 0.0, 0.0), (5311.8916015625, 0.0, 0.0, 0.0), (5313.197265625, 0.0, 0.0, 0.0), (5314.50244140625, 0.0, 0.0, 0.0), (5315.80810546875, 0.0, 0.0, 0.0), (5317.11376953125, 0.0, -5236.279296875, 0.0), ...]\n",
       "Index: []\n",
       "\n",
       "[0 rows x 4128 columns]"
      ]
     },
     "execution_count": 600,
     "metadata": {},
     "output_type": "execute_result"
    }
   ],
   "source": [
    "plate3844_fiber566_exp0"
   ]
  },
  {
   "cell_type": "code",
   "execution_count": 601,
   "metadata": {},
   "outputs": [],
   "source": [
    "plate3844_fiber566_exp1 =pd.DataFrame.from_records(data = plate3844_fiber566[2], index = field_index).T"
   ]
  },
  {
   "cell_type": "code",
   "execution_count": 602,
   "metadata": {},
   "outputs": [
    {
     "data": {
      "text/html": [
       "<div>\n",
       "<style scoped>\n",
       "    .dataframe tbody tr th:only-of-type {\n",
       "        vertical-align: middle;\n",
       "    }\n",
       "\n",
       "    .dataframe tbody tr th {\n",
       "        vertical-align: top;\n",
       "    }\n",
       "\n",
       "    .dataframe thead tr th {\n",
       "        text-align: left;\n",
       "    }\n",
       "</style>\n",
       "<table border=\"1\" class=\"dataframe\">\n",
       "  <thead>\n",
       "    <tr>\n",
       "      <th>wavelength</th>\n",
       "      <th>5188.263672</th>\n",
       "      <th>5189.557617</th>\n",
       "      <th>5190.851562</th>\n",
       "      <th>5192.145508</th>\n",
       "      <th>5193.439941</th>\n",
       "      <th>5194.734375</th>\n",
       "      <th>5196.028809</th>\n",
       "      <th>5197.323242</th>\n",
       "      <th>5198.617676</th>\n",
       "      <th>5199.912598</th>\n",
       "      <th>...</th>\n",
       "      <th>10995.610352</th>\n",
       "      <th>10997.015625</th>\n",
       "      <th>10998.420898</th>\n",
       "      <th>10999.825195</th>\n",
       "      <th>11001.230469</th>\n",
       "      <th>11002.635742</th>\n",
       "      <th>11004.041016</th>\n",
       "      <th>11005.445312</th>\n",
       "      <th>11006.850586</th>\n",
       "      <th>11008.254883</th>\n",
       "    </tr>\n",
       "    <tr>\n",
       "      <th>flux</th>\n",
       "      <th>0.0</th>\n",
       "      <th>0.0</th>\n",
       "      <th>0.0</th>\n",
       "      <th>0.0</th>\n",
       "      <th>0.0</th>\n",
       "      <th>0.0</th>\n",
       "      <th>0.0</th>\n",
       "      <th>0.0</th>\n",
       "      <th>0.0</th>\n",
       "      <th>0.0</th>\n",
       "      <th>...</th>\n",
       "      <th>0.0</th>\n",
       "      <th>0.0</th>\n",
       "      <th>0.0</th>\n",
       "      <th>0.0</th>\n",
       "      <th>0.0</th>\n",
       "      <th>0.0</th>\n",
       "      <th>0.0</th>\n",
       "      <th>0.0</th>\n",
       "      <th>0.0</th>\n",
       "      <th>0.0</th>\n",
       "    </tr>\n",
       "    <tr>\n",
       "      <th>ivar</th>\n",
       "      <th>-5.098613e-15</th>\n",
       "      <th>1.766016e+02</th>\n",
       "      <th>7.555357e+28</th>\n",
       "      <th>1.358576e-19</th>\n",
       "      <th>1.356316e-19</th>\n",
       "      <th>1.356319e-19</th>\n",
       "      <th>9.102080e-12</th>\n",
       "      <th>1.909675e-19</th>\n",
       "      <th>1.356316e-19</th>\n",
       "      <th>1.356316e-19</th>\n",
       "      <th>...</th>\n",
       "      <th>0.000000e+00</th>\n",
       "      <th>0.000000e+00</th>\n",
       "      <th>0.000000e+00</th>\n",
       "      <th>0.000000e+00</th>\n",
       "      <th>0.000000e+00</th>\n",
       "      <th>0.000000e+00</th>\n",
       "      <th>0.000000e+00</th>\n",
       "      <th>0.000000e+00</th>\n",
       "      <th>0.000000e+00</th>\n",
       "      <th>0.000000e+00</th>\n",
       "    </tr>\n",
       "    <tr>\n",
       "      <th>sky</th>\n",
       "      <th>0.0</th>\n",
       "      <th>0.0</th>\n",
       "      <th>0.0</th>\n",
       "      <th>0.0</th>\n",
       "      <th>0.0</th>\n",
       "      <th>0.0</th>\n",
       "      <th>0.0</th>\n",
       "      <th>0.0</th>\n",
       "      <th>0.0</th>\n",
       "      <th>0.0</th>\n",
       "      <th>...</th>\n",
       "      <th>0.0</th>\n",
       "      <th>0.0</th>\n",
       "      <th>0.0</th>\n",
       "      <th>0.0</th>\n",
       "      <th>0.0</th>\n",
       "      <th>0.0</th>\n",
       "      <th>0.0</th>\n",
       "      <th>0.0</th>\n",
       "      <th>0.0</th>\n",
       "      <th>0.0</th>\n",
       "    </tr>\n",
       "  </thead>\n",
       "  <tbody>\n",
       "  </tbody>\n",
       "</table>\n",
       "<p>0 rows × 4128 columns</p>\n",
       "</div>"
      ],
      "text/plain": [
       "Empty DataFrame\n",
       "Columns: [(5188.263671875, 0.0, -5.09861318204359e-15, 0.0), (5189.5576171875, 0.0, 176.6015625, 0.0), (5190.8515625, 0.0, 7.5553571094781395e+28, 0.0), (5192.1455078125, 0.0, 1.3585761722117538e-19, 0.0), (5193.43994140625, 0.0, 1.3563156426940112e-19, 0.0), (5194.734375, 0.0, 1.3563193908561618e-19, 0.0), (5196.02880859375, 0.0, 9.102080200662499e-12, 0.0), (5197.3232421875, 0.0, 1.9096747863205808e-19, 0.0), (5198.61767578125, 0.0, 1.3563156426940112e-19, 0.0), (5199.91259765625, 0.0, 1.3563156426940112e-19, 0.0), (5201.20751953125, 0.0, 1.3563193908561618e-19, 0.0), (5202.5029296875, 0.0, 1.3563156426940112e-19, 0.0), (5203.7978515625, 0.0, 1.8492876063173824e+20, 0.0), (5205.09326171875, 0.0, 2.061944002936932e-19, 0.0), (5206.388671875, 0.0, 1.3563156426940112e-19, 0.0), (5207.68408203125, 0.0, 1.3563193908561618e-19, 0.0), (5208.97998046875, 0.0, 2.6211708359369368e-09, 0.0), (5210.27587890625, 0.0, 1.3563156426940112e-19, 0.0), (5211.57177734375, 0.0, 1.3563156426940112e-19, 0.0), (5212.86767578125, 0.0, 1.3563156426940112e-19, 0.0), (5214.16357421875, 0.0, 1.3563193908561618e-19, 0.0), (5215.4599609375, 0.0, 5.965139280306175e-07, 0.0), (5216.75634765625, 0.0, 1.3563156426940112e-19, 0.0), (5218.05322265625, 0.0, 1.3563156426940112e-19, 0.0), (5219.349609375, 0.0, 1.3563156426940112e-19, 0.0), (5220.646484375, 0.0, 1.3563193908561618e-19, 0.0), (5221.943359375, 0.0, 1.3563156426940112e-19, 0.0), (5223.240234375, 0.0, 1.3563156426940112e-19, 0.0), (5224.53759765625, 0.0, 1.3563156426940112e-19, 0.0), (5225.8349609375, 0.0, 1.3563156426940112e-19, 0.0), (5227.13232421875, 0.0, 717800407040.0, 0.0), (5228.4296875, 0.0, 1.3563156426940112e-19, 0.0), (5229.72705078125, 0.0, 7.3968663036184995e+31, 0.0), (5231.02490234375, 0.0, 1.3563271456744045e-19, 0.0), (5232.32275390625, 0.0, 1.3563156426940112e-19, 0.0), (5233.62109375, 0.0, 1.3241080404671424e+31, 0.0), (5234.9189453125, 0.0, 2.056682620837317e+23, 0.0), (5236.21728515625, 0.0, 1.3563156426940112e-19, 0.0), (5237.515625, 0.0, 1.3563156426940112e-19, 0.0), (5238.81396484375, 0.0, 1.3563156426940112e-19, 0.0), (5240.11279296875, 0.0, 3.310270101167856e+30, 0.0), (5241.41162109375, 0.0, 1.3563156426940112e-19, 0.0), (5242.71044921875, 0.0, 1.3563156426940112e-19, 0.0), (5244.00927734375, 0.0, 1.3563156426940112e-19, 0.0), (5245.30810546875, 0.0, 1.3563156426940112e-19, 0.0), (5246.607421875, 0.0, 1.3563193908561618e-19, 0.0), (5247.90673828125, 0.0, 1.3563156426940112e-19, 0.0), (5249.2060546875, 0.0, 7.574682035475998e+23, 0.0), (5250.505859375, 0.0, 4.860471750650781e+30, 0.0), (5251.8056640625, 0.0, 1.3563156426940112e-19, 0.0), (5253.10546875, 0.0, 1.3563193908561618e-19, 0.0), (5254.4052734375, 0.0, 2.6853626877709758e-06, 0.0), (5255.705078125, 0.0, 1.9602992737845918e-19, 0.0), (5257.00537109375, 0.0, 1.9434925147011628e-19, 0.0), (5258.3056640625, 0.0, 1.3563156426940112e-19, 0.0), (5259.60595703125, 0.0, 1.3563193908561618e-19, 0.0), (5260.90673828125, 0.0, 2.666137088880305e-09, 0.0), (5262.20751953125, 0.0, 1.9602992737845918e-19, 0.0), (5263.50830078125, 0.0, 1.9434925147011628e-19, 0.0), (5264.80908203125, 0.0, 1.3563156426940112e-19, 0.0), (5266.10986328125, 0.0, 1.3563193908561618e-19, 0.0), (5267.4111328125, 0.0, 2.6259326659783255e-06, 0.0), (5268.71240234375, 0.0, 1.9602992737845918e-19, 0.0), (5270.013671875, 0.0, 1.9434925147011628e-19, 0.0), (5271.3154296875, 0.0, 1.3563156426940112e-19, 0.0), (5272.61669921875, 0.0, 1.3563193908561618e-19, 0.0), (5273.91845703125, 0.0, 1.1038079719583038e-05, 0.0), (5275.220703125, 0.0, 2.7204854637380234e+23, 0.0), (5276.5224609375, 0.0, 1.0763625627413622e+21, 0.0), (5277.82470703125, 0.0, 1.3563156426940112e-19, 0.0), (5279.126953125, 0.0, 1.3563193908561618e-19, 0.0), (5280.42919921875, 0.0, 1.641171962774024e-07, 0.0), (5281.7314453125, 0.0, 2.7204854637380234e+23, 0.0), (5283.0341796875, 0.0, 1.0763625627413622e+21, 0.0), (5284.3369140625, 0.0, 1.3563156426940112e-19, 0.0), (5285.6396484375, 0.0, 1.3563193908561618e-19, 0.0), (5286.9423828125, 0.0, 4.201214323984459e-05, 0.0), (5288.24560546875, 0.0, 2.7204854637380234e+23, 0.0), (5289.548828125, 0.0, 1.0763625627413622e+21, 0.0), (5290.85205078125, 0.0, 1.3563156426940112e-19, 0.0), (5292.15576171875, 0.0, 1.3563193908561618e-19, 0.0), (5293.458984375, 0.0, 6.712680828968587e-07, 0.0), (5294.7626953125, 0.0, 1.3563156426940112e-19, 0.0), (5296.06640625, 0.0, 1.3563156426940112e-19, 0.0), (5297.37060546875, 0.0, 1.3563156426940112e-19, 0.0), (5298.67431640625, 0.0, 2.4320023772617105e-09, 0.0), (5299.978515625, 0.0, 1.3563156426940112e-19, 0.0), (5301.28271484375, 0.0, 1.3563156426940112e-19, 0.0), (5302.5869140625, 0.0, 1.3563156426940112e-19, 0.0), (5303.8916015625, 0.0, 1.3563156426940112e-19, 0.0), (5305.1962890625, 0.0, 2.4320023772617105e-09, 0.0), (5306.5009765625, 0.0, 1.3563156426940112e-19, 0.0), (5307.8056640625, 0.0, 1.3563156426940112e-19, 0.0), (5309.11083984375, 0.0, 1.3563156426940112e-19, 0.0), (5310.416015625, 0.0, 1.3563156426940112e-19, 0.0), (5311.72119140625, 0.0, 2.3193382046334367e-15, 0.0), (5313.0263671875, 0.0, 1.943324493639238e-19, 0.0), (5314.33154296875, 0.0, 1.934887251391197e-19, 0.0), (5315.63720703125, 0.0, 1.3563156426940112e-19, 0.0), (5316.94287109375, 0.0, 1.3563156426940112e-19, 0.0), ...]\n",
       "Index: []\n",
       "\n",
       "[0 rows x 4128 columns]"
      ]
     },
     "execution_count": 602,
     "metadata": {},
     "output_type": "execute_result"
    }
   ],
   "source": [
    "plate3844_fiber566_exp1"
   ]
  },
  {
   "cell_type": "code",
   "execution_count": 567,
   "metadata": {},
   "outputs": [],
   "source": [
    "plate3844_fiber566 = pd.DataFrame.from_records(data = plate3844_fiber566, index= field_index).T"
   ]
  },
  {
   "cell_type": "code",
   "execution_count": 555,
   "metadata": {},
   "outputs": [
    {
     "data": {
      "text/plain": [
       "pandas.core.frame.DataFrame"
      ]
     },
     "execution_count": 555,
     "metadata": {},
     "output_type": "execute_result"
    }
   ],
   "source": [
    "type(plate3844_fiber566_features_4exposures)"
   ]
  },
  {
   "cell_type": "code",
   "execution_count": 554,
   "metadata": {},
   "outputs": [
    {
     "data": {
      "text/plain": [
       "pandas.core.frame.DataFrame"
      ]
     },
     "execution_count": 554,
     "metadata": {},
     "output_type": "execute_result"
    }
   ],
   "source": [
    "type(plate3844_fiber566_exp0)"
   ]
  },
  {
   "cell_type": "code",
   "execution_count": 543,
   "metadata": {},
   "outputs": [],
   "source": [
    "first_row = plate3844_fiber566_features_4exposures.take([0])"
   ]
  },
  {
   "cell_type": "code",
   "execution_count": 544,
   "metadata": {},
   "outputs": [
    {
     "data": {
      "text/html": [
       "<div>\n",
       "<style scoped>\n",
       "    .dataframe tbody tr th:only-of-type {\n",
       "        vertical-align: middle;\n",
       "    }\n",
       "\n",
       "    .dataframe tbody tr th {\n",
       "        vertical-align: top;\n",
       "    }\n",
       "\n",
       "    .dataframe thead th {\n",
       "        text-align: right;\n",
       "    }\n",
       "</style>\n",
       "<table border=\"1\" class=\"dataframe\">\n",
       "  <thead>\n",
       "    <tr style=\"text-align: right;\">\n",
       "      <th></th>\n",
       "      <th>PLATE</th>\n",
       "      <th>MJD</th>\n",
       "      <th>XFOCAL</th>\n",
       "      <th>YFOCAL</th>\n",
       "      <th>FIBER</th>\n",
       "      <th>RA</th>\n",
       "      <th>DEC</th>\n",
       "      <th>OBJTYPE</th>\n",
       "      <th>AIRMASS_0</th>\n",
       "      <th>AIRMASS_1</th>\n",
       "      <th>AIRMASS_2</th>\n",
       "      <th>AIRMASS_3</th>\n",
       "      <th>AIRMASS_4</th>\n",
       "      <th>exposure_index</th>\n",
       "    </tr>\n",
       "  </thead>\n",
       "  <tbody>\n",
       "    <tr>\n",
       "      <th>169565</th>\n",
       "      <td>3844</td>\n",
       "      <td>55321</td>\n",
       "      <td>-93.327362</td>\n",
       "      <td>140.945984</td>\n",
       "      <td>566</td>\n",
       "      <td>180.40334</td>\n",
       "      <td>0.647407</td>\n",
       "      <td>SKY</td>\n",
       "      <td>0.0</td>\n",
       "      <td>0.0</td>\n",
       "      <td>0.0</td>\n",
       "      <td>0.0</td>\n",
       "      <td>0.0</td>\n",
       "      <td>0</td>\n",
       "    </tr>\n",
       "  </tbody>\n",
       "</table>\n",
       "</div>"
      ],
      "text/plain": [
       "        PLATE    MJD     XFOCAL      YFOCAL  FIBER         RA       DEC  \\\n",
       "169565   3844  55321 -93.327362  140.945984    566  180.40334  0.647407   \n",
       "\n",
       "       OBJTYPE  AIRMASS_0  AIRMASS_1  AIRMASS_2  AIRMASS_3  AIRMASS_4  \\\n",
       "169565     SKY        0.0        0.0        0.0        0.0        0.0   \n",
       "\n",
       "        exposure_index  \n",
       "169565               0  "
      ]
     },
     "execution_count": 544,
     "metadata": {},
     "output_type": "execute_result"
    }
   ],
   "source": [
    "first_row"
   ]
  },
  {
   "cell_type": "code",
   "execution_count": 545,
   "metadata": {},
   "outputs": [],
   "source": [
    "result = pd.concat([first_row, plate3844_fiber566_exp0],axis=1, sort=False)"
   ]
  },
  {
   "cell_type": "code",
   "execution_count": 547,
   "metadata": {},
   "outputs": [
    {
     "data": {
      "text/html": [
       "<div>\n",
       "<style scoped>\n",
       "    .dataframe tbody tr th:only-of-type {\n",
       "        vertical-align: middle;\n",
       "    }\n",
       "\n",
       "    .dataframe tbody tr th {\n",
       "        vertical-align: top;\n",
       "    }\n",
       "\n",
       "    .dataframe thead th {\n",
       "        text-align: right;\n",
       "    }\n",
       "</style>\n",
       "<table border=\"1\" class=\"dataframe\">\n",
       "  <thead>\n",
       "    <tr style=\"text-align: right;\">\n",
       "      <th></th>\n",
       "      <th>PLATE</th>\n",
       "      <th>MJD</th>\n",
       "      <th>XFOCAL</th>\n",
       "      <th>YFOCAL</th>\n",
       "      <th>FIBER</th>\n",
       "      <th>RA</th>\n",
       "      <th>DEC</th>\n",
       "      <th>OBJTYPE</th>\n",
       "      <th>AIRMASS_0</th>\n",
       "      <th>AIRMASS_1</th>\n",
       "      <th>...</th>\n",
       "      <th>(10995.80078125, 0.0, 2.3694275473575467e-38, 0.0)</th>\n",
       "      <th>(10997.2060546875, 0.0, 2.3694275473575467e-38, 0.0)</th>\n",
       "      <th>(10998.611328125, 0.0, 2.3694275473575467e-38, 0.0)</th>\n",
       "      <th>(11000.0166015625, 0.0, 2.3694275473575467e-38, 0.0)</th>\n",
       "      <th>(11001.421875, 0.0, 2.3694275473575467e-38, 0.0)</th>\n",
       "      <th>(11002.826171875, 0.0, 2.3694275473575467e-38, 0.0)</th>\n",
       "      <th>(11004.2314453125, 0.0, 2.3694275473575467e-38, 0.0)</th>\n",
       "      <th>(11005.63671875, 0.0, 2.3694275473575467e-38, 0.0)</th>\n",
       "      <th>(11007.041015625, 0.0, 2.3694275473575467e-38, 0.0)</th>\n",
       "      <th>(11008.4462890625, 0.0, 2.3694275473575467e-38, 0.0)</th>\n",
       "    </tr>\n",
       "  </thead>\n",
       "  <tbody>\n",
       "    <tr>\n",
       "      <th>169565</th>\n",
       "      <td>3844</td>\n",
       "      <td>55321</td>\n",
       "      <td>-93.327362</td>\n",
       "      <td>140.945984</td>\n",
       "      <td>566</td>\n",
       "      <td>180.40334</td>\n",
       "      <td>0.647407</td>\n",
       "      <td>SKY</td>\n",
       "      <td>0.0</td>\n",
       "      <td>0.0</td>\n",
       "      <td>...</td>\n",
       "      <td>NaN</td>\n",
       "      <td>NaN</td>\n",
       "      <td>NaN</td>\n",
       "      <td>NaN</td>\n",
       "      <td>NaN</td>\n",
       "      <td>NaN</td>\n",
       "      <td>NaN</td>\n",
       "      <td>NaN</td>\n",
       "      <td>NaN</td>\n",
       "      <td>NaN</td>\n",
       "    </tr>\n",
       "  </tbody>\n",
       "</table>\n",
       "<p>1 rows × 4142 columns</p>\n",
       "</div>"
      ],
      "text/plain": [
       "        PLATE    MJD     XFOCAL      YFOCAL  FIBER         RA       DEC  \\\n",
       "169565   3844  55321 -93.327362  140.945984    566  180.40334  0.647407   \n",
       "\n",
       "       OBJTYPE  AIRMASS_0  AIRMASS_1  \\\n",
       "169565     SKY        0.0        0.0   \n",
       "\n",
       "                                ...                           \\\n",
       "169565                          ...                            \n",
       "\n",
       "        (10995.80078125, 0.0, 2.3694275473575467e-38, 0.0)  \\\n",
       "169565                                                NaN    \n",
       "\n",
       "        (10997.2060546875, 0.0, 2.3694275473575467e-38, 0.0)  \\\n",
       "169565                                                NaN      \n",
       "\n",
       "        (10998.611328125, 0.0, 2.3694275473575467e-38, 0.0)  \\\n",
       "169565                                                NaN     \n",
       "\n",
       "        (11000.0166015625, 0.0, 2.3694275473575467e-38, 0.0)  \\\n",
       "169565                                                NaN      \n",
       "\n",
       "        (11001.421875, 0.0, 2.3694275473575467e-38, 0.0)  \\\n",
       "169565                                               NaN   \n",
       "\n",
       "        (11002.826171875, 0.0, 2.3694275473575467e-38, 0.0)  \\\n",
       "169565                                                NaN     \n",
       "\n",
       "        (11004.2314453125, 0.0, 2.3694275473575467e-38, 0.0)  \\\n",
       "169565                                                NaN      \n",
       "\n",
       "        (11005.63671875, 0.0, 2.3694275473575467e-38, 0.0)  \\\n",
       "169565                                                NaN    \n",
       "\n",
       "        (11007.041015625, 0.0, 2.3694275473575467e-38, 0.0)  \\\n",
       "169565                                                NaN     \n",
       "\n",
       "        (11008.4462890625, 0.0, 2.3694275473575467e-38, 0.0)  \n",
       "169565                                                NaN     \n",
       "\n",
       "[1 rows x 4142 columns]"
      ]
     },
     "execution_count": 547,
     "metadata": {},
     "output_type": "execute_result"
    }
   ],
   "source": [
    "result"
   ]
  },
  {
   "cell_type": "markdown",
   "metadata": {},
   "source": [
    "The 4128 columns are intended to be added to the 13 feature columns. The field and value recognition is not captured by the existing concatenation methods. Alternative ways are being seeked to acheive the desired result. The it is successful for one exposure of one fiber, the process can be automated for all exposures across fibers."
   ]
  },
  {
   "cell_type": "markdown",
   "metadata": {},
   "source": [
    "#### HDF5 File Practice"
   ]
  },
  {
   "cell_type": "code",
   "execution_count": null,
   "metadata": {},
   "outputs": [],
   "source": [
    "with h5py.File('sky.hdf5','w') as f:\n",
    "    plate = f.create_group('Plate_number')\n",
    "    mjd = f.create_group('Modified_Julian_Date')\n",
    "    exposure = f.create_group('Exposure_Index')\n",
    "    data = f.create_group('Valid_Data')\n",
    "    "
   ]
  },
  {
   "cell_type": "code",
   "execution_count": null,
   "metadata": {},
   "outputs": [],
   "source": []
  },
  {
   "cell_type": "markdown",
   "metadata": {},
   "source": [
    "###### Dec 4th, Tuesday, Summary\n",
    "\n",
    "- The OBJECTYPE column is added to the features table, giving a total of 13 features.\n",
    "\n",
    "- The original feature table is produced in Astropy format and converted to Pandas for the ease of operations.\n",
    "\n",
    "- 1000 sky fibers are randomly sampled from all of the 2.4million fibers to retrieve their exposure information through bossdata.plate module.\n",
    "\n",
    "- The sky fibers from different plates may have different number of available exposures. The corresponding number of exposures for each sampled sky fiber is retreived and looped through to obtain their valid signal data matrix.\n",
    "\n",
    "- The current looping function is tested to work well across all exposures with the first row of the kilo-sampled-sky table."
   ]
  },
  {
   "cell_type": "code",
   "execution_count": 225,
   "metadata": {},
   "outputs": [],
   "source": [
    "plate7457_plan_path = finder.get_plate_plan_path(7457,56746, combined=True)"
   ]
  },
  {
   "cell_type": "code",
   "execution_count": 226,
   "metadata": {},
   "outputs": [],
   "source": [
    "plate7457_plan_file = mirror.get(plate7457_plan_path)"
   ]
  },
  {
   "cell_type": "code",
   "execution_count": 227,
   "metadata": {},
   "outputs": [],
   "source": [
    "plate7457_combined_plan = plate.Plan(plate7457_plan_file)"
   ]
  },
  {
   "cell_type": "code",
   "execution_count": 273,
   "metadata": {},
   "outputs": [],
   "source": [
    "plate7457_frame =plate7457_combined_plan.get_exposure_name(2,'red',1)"
   ]
  },
  {
   "cell_type": "code",
   "execution_count": 274,
   "metadata": {},
   "outputs": [
    {
     "data": {
      "text/plain": [
       "'/sas/dr12/boss/spectro/redux/v5_7_0/7457/spCFrame-r1-00177371.fits'"
      ]
     },
     "execution_count": 274,
     "metadata": {},
     "output_type": "execute_result"
    }
   ],
   "source": [
    "plate7457_frame"
   ]
  },
  {
   "cell_type": "code",
   "execution_count": 276,
   "metadata": {},
   "outputs": [],
   "source": [
    "plate7457_frame = plate.FrameFile(plate7457_frame_file, index =1, calibrated = True)"
   ]
  },
  {
   "cell_type": "code",
   "execution_count": 278,
   "metadata": {},
   "outputs": [],
   "source": [
    "a = plate7457_frame.get_valid_data(fibers =[1],pixel_quality_mask=None, include_wdisp=False, include_sky=True, use_ivar=True, use_loglam=False)"
   ]
  },
  {
   "cell_type": "code",
   "execution_count": 292,
   "metadata": {},
   "outputs": [
    {
     "data": {
      "text/plain": [
       "(1, 4128)"
      ]
     },
     "execution_count": 292,
     "metadata": {},
     "output_type": "execute_result"
    }
   ],
   "source": [
    "a.shape"
   ]
  },
  {
   "cell_type": "code",
   "execution_count": null,
   "metadata": {},
   "outputs": [],
   "source": []
  },
  {
   "cell_type": "code",
   "execution_count": 28,
   "metadata": {},
   "outputs": [],
   "source": [
    "plate_spAll = spAll.select_all(what='PLATE', where= None, sort=None, max_rows=None)"
   ]
  },
  {
   "cell_type": "code",
   "execution_count": 30,
   "metadata": {},
   "outputs": [],
   "source": [
    "MJD_spAll = spAll.select_all(what='MJD', where= None, sort=None, max_rows=None)"
   ]
  },
  {
   "cell_type": "code",
   "execution_count": 32,
   "metadata": {},
   "outputs": [],
   "source": [
    "FIBER_spAll = spAll.select_all(what='FIBER', where= None, sort=None, max_rows=None)"
   ]
  },
  {
   "cell_type": "code",
   "execution_count": 37,
   "metadata": {},
   "outputs": [],
   "source": [
    "AIRMASS_0_spAll = spAll.select_all(what='AIRMASS_0', where=None, sort=None, max_rows=None)"
   ]
  },
  {
   "cell_type": "code",
   "execution_count": 56,
   "metadata": {},
   "outputs": [],
   "source": [
    "wcoverage_spAll = spAll.select_all(what='WCOVERAGE', where = None, sort = None, max_rows=None)"
   ]
  },
  {
   "cell_type": "code",
   "execution_count": 59,
   "metadata": {},
   "outputs": [],
   "source": [
    "objtype_spAll = spAll.select_all(what='OBJTYPE', where = None, sort = None, max_rows=None)"
   ]
  },
  {
   "cell_type": "code",
   "execution_count": 68,
   "metadata": {},
   "outputs": [],
   "source": [
    "camcol_spAll = spAll.select_all(what='CAMCOL', where = None, sort = None, max_rows=None)"
   ]
  },
  {
   "cell_type": "code",
   "execution_count": 76,
   "metadata": {},
   "outputs": [],
   "source": [
    "plate_unique = unique(plate_spAll)"
   ]
  },
  {
   "cell_type": "code",
   "execution_count": 75,
   "metadata": {},
   "outputs": [
    {
     "data": {
      "text/plain": [
       "'/sas/dr12/boss/spectro/redux/v5_7_0/spectra/7457/spec-7457-56746-0001.fits'"
      ]
     },
     "execution_count": 75,
     "metadata": {},
     "output_type": "execute_result"
    }
   ],
   "source": [
    "finder.get_spec_path(plate=7457, mjd=56746,fiber=1,lite=False)"
   ]
  },
  {
   "cell_type": "code",
   "execution_count": 134,
   "metadata": {},
   "outputs": [
    {
     "data": {
      "text/plain": [
       "'/sas/dr12/boss/spectro/redux/v5_7_0/spectra/4042/spec-4042-55626-0001.fits'"
      ]
     },
     "execution_count": 134,
     "metadata": {},
     "output_type": "execute_result"
    }
   ],
   "source": [
    "finder.get_spec_path(plate=4042, mjd=55626,fiber=1,lite=False)"
   ]
  },
  {
   "cell_type": "code",
   "execution_count": null,
   "metadata": {},
   "outputs": [],
   "source": []
  },
  {
   "cell_type": "code",
   "execution_count": 80,
   "metadata": {},
   "outputs": [],
   "source": [
    "plate7457_fiber100 = finder.get_spec_path(plate=7457, mjd=56746,fiber=100,lite=False)"
   ]
  },
  {
   "cell_type": "code",
   "execution_count": 136,
   "metadata": {},
   "outputs": [],
   "source": [
    "plate4042_fiber1 = finder.get_spec_path(plate=4042, mjd=55626,fiber=1,lite=False)"
   ]
  },
  {
   "cell_type": "code",
   "execution_count": 97,
   "metadata": {},
   "outputs": [],
   "source": [
    "plate7457_fiber100_local = mirror.get(plate7457_fiber100)"
   ]
  },
  {
   "cell_type": "code",
   "execution_count": 137,
   "metadata": {},
   "outputs": [],
   "source": [
    "plate4042_fiber1_local = mirror.get(plate4042_fiber1)"
   ]
  },
  {
   "cell_type": "code",
   "execution_count": 158,
   "metadata": {},
   "outputs": [],
   "source": [
    "plate7457Data100 = fits.open(plate7457_fiber100_local)"
   ]
  },
  {
   "cell_type": "code",
   "execution_count": 172,
   "metadata": {},
   "outputs": [],
   "source": [
    "plate7457Data600 = fits.open(plate7457_fiber600_local)"
   ]
  },
  {
   "cell_type": "code",
   "execution_count": 161,
   "metadata": {},
   "outputs": [],
   "source": [
    "#plate7457Data100.info()"
   ]
  },
  {
   "cell_type": "code",
   "execution_count": 185,
   "metadata": {},
   "outputs": [],
   "source": [
    "# Coadded Sky Data\n",
    "plate7457Coadd100 = plate7457Data100[1].data\n",
    "\n",
    "# spAll Data\n",
    "plate7457spAll100 = plate7457Data100[2].data\n",
    "\n",
    "#spZline Data\n",
    "plate7457spZline = plate7457Data100[3]"
   ]
  },
  {
   "cell_type": "code",
   "execution_count": 174,
   "metadata": {},
   "outputs": [],
   "source": [
    "plate7457Coadd600 = plate7457Data600[1].data"
   ]
  },
  {
   "cell_type": "code",
   "execution_count": 176,
   "metadata": {},
   "outputs": [],
   "source": [
    "# Primary Header\n",
    "plate7457Header = plate7457Data100[0].header"
   ]
  },
  {
   "cell_type": "code",
   "execution_count": 177,
   "metadata": {},
   "outputs": [],
   "source": [
    "# Header that shows the data structure\n",
    "plate7457coaddHeader = plate7457Data100[1].header"
   ]
  },
  {
   "cell_type": "code",
   "execution_count": 182,
   "metadata": {},
   "outputs": [
    {
     "data": {
      "text/plain": [
       "FITS_rec([(21.170782, 3.5523, 0.01303503, 0, 71303168, 1.217315  , 11.879729 , 13.5696945),\n",
       "          (21.384687, 3.5524, 0.        , 0, 71303168, 1.2173102 , 11.440296 , 14.618196 ),\n",
       "          (21.598541, 3.5525, 0.06411414, 0,        0, 1.2143558 ,  6.429298 , 14.996056 ),\n",
       "          ...,\n",
       "          (39.710438, 4.0142, 0.12234952, 0,        0, 0.842862  ,  4.368888 , 38.47518  ),\n",
       "          (40.931137, 4.0143, 0.08833168, 0,        0, 0.84322685,  4.4924617, 39.13747  ),\n",
       "          (41.268505, 4.0144, 0.09681248, 0,        0, 0.8429389 ,  4.149836 , 39.718678 )],\n",
       "         dtype=(numpy.record, [('flux', '>f4'), ('loglam', '>f4'), ('ivar', '>f4'), ('and_mask', '>i4'), ('or_mask', '>i4'), ('wdisp', '>f4'), ('sky', '>f4'), ('model', '>f4')]))"
      ]
     },
     "execution_count": 182,
     "metadata": {},
     "output_type": "execute_result"
    }
   ],
   "source": [
    "plate7457Coadd100"
   ]
  },
  {
   "cell_type": "code",
   "execution_count": 183,
   "metadata": {},
   "outputs": [
    {
     "data": {
      "text/plain": [
       "array([21.170782, 21.384687, 21.598541, ..., 39.710438, 40.931137,\n",
       "       41.268505], dtype=float32)"
      ]
     },
     "execution_count": 183,
     "metadata": {},
     "output_type": "execute_result"
    }
   ],
   "source": [
    "plate7457Coadd100['flux']"
   ]
  },
  {
   "cell_type": "code",
   "execution_count": 171,
   "metadata": {},
   "outputs": [
    {
     "data": {
      "text/plain": [
       "(4622,)"
      ]
     },
     "execution_count": 171,
     "metadata": {},
     "output_type": "execute_result"
    }
   ],
   "source": [
    "plate7457Coadd100['sky'].shape"
   ]
  },
  {
   "cell_type": "code",
   "execution_count": 98,
   "metadata": {},
   "outputs": [
    {
     "data": {
      "text/plain": [
       "5"
      ]
     },
     "execution_count": 98,
     "metadata": {},
     "output_type": "execute_result"
    }
   ],
   "source": [
    "spec.SpecFile(plate7457_fiber100_local).num_exposures"
   ]
  },
  {
   "cell_type": "code",
   "execution_count": 138,
   "metadata": {},
   "outputs": [
    {
     "data": {
      "text/plain": [
       "5"
      ]
     },
     "execution_count": 138,
     "metadata": {},
     "output_type": "execute_result"
    }
   ],
   "source": [
    "spec.SpecFile(plate4042_fiber1_local).num_exposures"
   ]
  },
  {
   "cell_type": "code",
   "execution_count": 99,
   "metadata": {},
   "outputs": [],
   "source": [
    "plate7457_fiber600 = finder.get_spec_path(plate=7457, mjd=56746,fiber=600,lite=False)"
   ]
  },
  {
   "cell_type": "code",
   "execution_count": 144,
   "metadata": {},
   "outputs": [],
   "source": [
    "plate7457_fiber700 = finder.get_spec_path(plate=7457, mjd=56746,fiber=700,lite=False)"
   ]
  },
  {
   "cell_type": "code",
   "execution_count": 100,
   "metadata": {},
   "outputs": [],
   "source": [
    "plate7457_fiber600_local = mirror.get(plate7457_fiber600)"
   ]
  },
  {
   "cell_type": "code",
   "execution_count": 145,
   "metadata": {},
   "outputs": [],
   "source": [
    "plate7457_fiber700_local = mirror.get(plate7457_fiber700)"
   ]
  },
  {
   "cell_type": "code",
   "execution_count": 154,
   "metadata": {},
   "outputs": [
    {
     "data": {
      "text/plain": [
       "\n",
       "  file: /scratch/kunjias/sdss/sas/dr12/boss/spectro/redux/v5_7_0/spectra/7457/spec-7457-56746-0600.fits\n",
       "  extension: 10\n",
       "  type: BINARY_TBL\n",
       "  extname: R2-00177372-00177368-00177367\n",
       "  rows: 3158\n",
       "  column info:\n",
       "    flux                f4  \n",
       "    loglam              f4  \n",
       "    ivar                f4  \n",
       "    mask                i4  \n",
       "    wdisp               f4  \n",
       "    sky                 f4  \n",
       "    calib               f4  \n",
       "    x                   f4  "
      ]
     },
     "execution_count": 154,
     "metadata": {},
     "output_type": "execute_result"
    }
   ],
   "source": [
    "spec.SpecFile(plate7457_fiber600_local).get_exposure_hdu(1,'r2')"
   ]
  },
  {
   "cell_type": "code",
   "execution_count": 155,
   "metadata": {},
   "outputs": [
    {
     "data": {
      "text/plain": [
       "\n",
       "  file: /scratch/kunjias/sdss/sas/dr12/boss/spectro/redux/v5_7_0/spectra/7457/spec-7457-56746-0700.fits\n",
       "  extension: 10\n",
       "  type: BINARY_TBL\n",
       "  extname: R2-00177372-00177368-00177367\n",
       "  rows: 3145\n",
       "  column info:\n",
       "    flux                f4  \n",
       "    loglam              f4  \n",
       "    ivar                f4  \n",
       "    mask                i4  \n",
       "    wdisp               f4  \n",
       "    sky                 f4  \n",
       "    calib               f4  \n",
       "    x                   f4  "
      ]
     },
     "execution_count": 155,
     "metadata": {},
     "output_type": "execute_result"
    }
   ],
   "source": [
    "spec.SpecFile(plate7457_fiber700_local).get_exposure_hdu(1,'r2')"
   ]
  },
  {
   "cell_type": "code",
   "execution_count": 152,
   "metadata": {},
   "outputs": [
    {
     "data": {
      "text/plain": [
       "'spCFrame-r2-00177372.fits'"
      ]
     },
     "execution_count": 152,
     "metadata": {},
     "output_type": "execute_result"
    }
   ],
   "source": [
    "spec.SpecFile(plate7457_fiber600_local).get_exposure_name(1,band='red',ftype='spCFrame')"
   ]
  },
  {
   "cell_type": "code",
   "execution_count": 153,
   "metadata": {},
   "outputs": [
    {
     "data": {
      "text/plain": [
       "'spCFrame-r2-00177372.fits'"
      ]
     },
     "execution_count": 153,
     "metadata": {},
     "output_type": "execute_result"
    }
   ],
   "source": [
    "spec.SpecFile(plate7457_fiber700_local).get_exposure_name(1,band='red',ftype='spCFrame')"
   ]
  },
  {
   "cell_type": "code",
   "execution_count": 110,
   "metadata": {},
   "outputs": [],
   "source": [
    "plate7457_data = spec.SpecFile(plate7457_fiber600_local).get_valid_data(exposure_index=0, camera='r2', pixel_quality_mask=None, include_wdisp=True, include_sky=True, use_ivar=True, use_loglam=False, fiducial_grid=False)"
   ]
  },
  {
   "cell_type": "code",
   "execution_count": 141,
   "metadata": {},
   "outputs": [],
   "source": [
    "plate7457_data_100 = spec.SpecFile(plate7457_fiber100_local).get_valid_data(exposure_index=0, camera='r1', pixel_quality_mask=None, include_wdisp=True, include_sky=True, use_ivar=True, use_loglam=False, fiducial_grid=False)"
   ]
  },
  {
   "cell_type": "code",
   "execution_count": 149,
   "metadata": {},
   "outputs": [],
   "source": [
    "plate7457_data_700 = spec.SpecFile(plate7457_fiber700_local).get_valid_data(exposure_index=0, camera='r2', pixel_quality_mask=None, include_wdisp=True, include_sky=True, use_ivar=True, use_loglam=False, fiducial_grid=False)"
   ]
  },
  {
   "cell_type": "code",
   "execution_count": 139,
   "metadata": {},
   "outputs": [],
   "source": [
    "plate4042_data = spec.SpecFile(plate4042_fiber1_local).get_valid_data(exposure_index=0, camera='r1', pixel_quality_mask=None, include_wdisp=True, include_sky=True, use_ivar=True, use_loglam=False, fiducial_grid=False)"
   ]
  },
  {
   "cell_type": "code",
   "execution_count": 140,
   "metadata": {},
   "outputs": [
    {
     "data": {
      "text/plain": [
       "(3141,)"
      ]
     },
     "execution_count": 140,
     "metadata": {},
     "output_type": "execute_result"
    }
   ],
   "source": [
    "plate4042_data.shape"
   ]
  },
  {
   "cell_type": "code",
   "execution_count": 151,
   "metadata": {},
   "outputs": [
    {
     "data": {
      "text/plain": [
       "(3158,)"
      ]
     },
     "execution_count": 151,
     "metadata": {},
     "output_type": "execute_result"
    }
   ],
   "source": [
    "plate7457_data.shape"
   ]
  },
  {
   "cell_type": "code",
   "execution_count": 143,
   "metadata": {},
   "outputs": [
    {
     "data": {
      "text/plain": [
       "(3134,)"
      ]
     },
     "execution_count": 143,
     "metadata": {},
     "output_type": "execute_result"
    }
   ],
   "source": [
    "plate7457_data_100.shape"
   ]
  },
  {
   "cell_type": "code",
   "execution_count": 150,
   "metadata": {},
   "outputs": [
    {
     "data": {
      "text/plain": [
       "(3145,)"
      ]
     },
     "execution_count": 150,
     "metadata": {},
     "output_type": "execute_result"
    }
   ],
   "source": [
    "plate7457_data_700.shape"
   ]
  },
  {
   "cell_type": "markdown",
   "metadata": {},
   "source": [
    "# Dec 3rd, Monday, Summary\n",
    "\n",
    "This table above is a manual combination of feature columns with information mainly from the spAll file. The (wavelength,flux) matrix needs to be added to each row of fiber.\n",
    "\n",
    "spec file is found to contain spectrum exposure information (flux, sky flux, ivar) by grouping information from spFrame, spCFrame, spPlate, spZbest, spZline, and spAll files.\n",
    "\n",
    "The next step could be looping through each fiber to extract the exposure information from spec file, or directly combine information from various files noted above with the spAll matrix."
   ]
  },
  {
   "cell_type": "code",
   "execution_count": null,
   "metadata": {},
   "outputs": [],
   "source": []
  },
  {
   "cell_type": "code",
   "execution_count": 55,
   "metadata": {},
   "outputs": [],
   "source": [
    "def get_plugmap(plate_number, mjd):\n",
    "    '''Return a binary table of Plug-map structure.\n",
    "    \n",
    "    Parameters\n",
    "    -----------\n",
    "    plate_number: Specified plate number, must be positive\n",
    "    mjd: modified julian date of the observation associated with input plate, must be > 45000.\n",
    "    \n",
    "    Output\n",
    "    -------\n",
    "    A binary table\n",
    "    '''\n",
    "    \n",
    "    # Get path to file containing combined spectra for a whole plate\n",
    "    plate_file_path = finder.get_plate_spec_path(plate_number, mjd)\n",
    "    \n",
    "    # Automatically mirrored\n",
    "    plate_file = mirror.get(plate_file_path, progress_min_size=2, auto_download=True, local_paths=None)\n",
    "    \n",
    "    # A BOSS plate file containing combined exposures for a whole plate\n",
    "    whole_plate = plate.PlateFile(plate_file)\n",
    "    # The attribute which record this plate's plug map\n",
    "    plug_map = whole_plate.plug_map\n",
    "    \n",
    "    print(\"Plug_map of\", plate_number, \"at Modified Julian Date\", mjd )\n",
    "    return plug_map"
   ]
  },
  {
   "cell_type": "code",
   "execution_count": null,
   "metadata": {},
   "outputs": [],
   "source": []
  },
  {
   "cell_type": "code",
   "execution_count": null,
   "metadata": {},
   "outputs": [],
   "source": []
  },
  {
   "cell_type": "code",
   "execution_count": null,
   "metadata": {},
   "outputs": [],
   "source": []
  },
  {
   "cell_type": "code",
   "execution_count": null,
   "metadata": {},
   "outputs": [],
   "source": []
  },
  {
   "cell_type": "markdown",
   "metadata": {},
   "source": [
    "## Please Disregard things below"
   ]
  },
  {
   "cell_type": "code",
   "execution_count": 54,
   "metadata": {},
   "outputs": [],
   "source": [
    "mjd_list = bossdata.meta.get_plate_mjd_list(plate = 3586, finder = None, mirror = None)"
   ]
  },
  {
   "cell_type": "code",
   "execution_count": 55,
   "metadata": {},
   "outputs": [
    {
     "data": {
      "text/plain": [
       "[55181]"
      ]
     },
     "execution_count": 55,
     "metadata": {},
     "output_type": "execute_result"
    }
   ],
   "source": [
    "mjd_list"
   ]
  },
  {
   "cell_type": "markdown",
   "metadata": {},
   "source": [
    "bossdata.meta.sql_create_table -> prepare an SQL statement to create a database for a numpy structured array."
   ]
  },
  {
   "cell_type": "markdown",
   "metadata": {},
   "source": [
    "### bossdata.path"
   ]
  },
  {
   "cell_type": "code",
   "execution_count": 88,
   "metadata": {},
   "outputs": [],
   "source": [
    "spectrum_3586_1000_path = finder.get_spec_path(plate=3586,mjd=55181,fiber=1000,lite=False)"
   ]
  },
  {
   "cell_type": "code",
   "execution_count": 90,
   "metadata": {},
   "outputs": [
    {
     "data": {
      "text/plain": [
       "'/sas/dr12/boss/spectro/redux/v5_7_0/spectra/3586/spec-3586-55181-1000.fits'"
      ]
     },
     "execution_count": 90,
     "metadata": {},
     "output_type": "execute_result"
    }
   ],
   "source": [
    "spectrum_3586_1000_path"
   ]
  },
  {
   "cell_type": "code",
   "execution_count": 91,
   "metadata": {},
   "outputs": [],
   "source": [
    "spectra_3586_path = finder.get_plate_spec_path(plate =3586, mjd = 55181)"
   ]
  },
  {
   "cell_type": "code",
   "execution_count": 92,
   "metadata": {},
   "outputs": [
    {
     "data": {
      "text/plain": [
       "'/sas/dr12/boss/spectro/redux/v5_7_0/3586/spPlate-3586-55181.fits'"
      ]
     },
     "execution_count": 92,
     "metadata": {},
     "output_type": "execute_result"
    }
   ],
   "source": [
    "spectra_3586_path"
   ]
  },
  {
   "cell_type": "markdown",
   "metadata": {},
   "source": [
    "### bossdata.remote"
   ]
  },
  {
   "cell_type": "code",
   "execution_count": 96,
   "metadata": {},
   "outputs": [],
   "source": [
    "spectrum_3586_1000_fits = mirror.get(spectrum_3586_1000_path, progress_min_size = 2, auto_download=True, local_paths=None)"
   ]
  },
  {
   "cell_type": "code",
   "execution_count": 97,
   "metadata": {},
   "outputs": [
    {
     "data": {
      "text/plain": [
       "'/scratch/kunjias/sdss/sas/dr12/boss/spectro/redux/v5_7_0/spectra/3586/spec-3586-55181-1000.fits'"
      ]
     },
     "execution_count": 97,
     "metadata": {},
     "output_type": "execute_result"
    }
   ],
   "source": [
    "spectrum_3586_1000_fits"
   ]
  },
  {
   "cell_type": "markdown",
   "metadata": {},
   "source": [
    "### bossdata.spec"
   ]
  },
  {
   "cell_type": "code",
   "execution_count": 271,
   "metadata": {},
   "outputs": [],
   "source": [
    "spectrum_3586_1000 = fits.open(spectrum_3586_1000_fits)"
   ]
  },
  {
   "cell_type": "code",
   "execution_count": 281,
   "metadata": {},
   "outputs": [
    {
     "data": {
      "text/plain": [
       "astropy.io.fits.hdu.hdulist.HDUList"
      ]
     },
     "execution_count": 281,
     "metadata": {},
     "output_type": "execute_result"
    }
   ],
   "source": [
    "type(spectrum_3586_1000)"
   ]
  },
  {
   "cell_type": "markdown",
   "metadata": {},
   "source": [
    "#### Exposures"
   ]
  },
  {
   "cell_type": "code",
   "execution_count": 274,
   "metadata": {},
   "outputs": [],
   "source": [
    "spectrum_3586_1000_header = spectrum_3586_1000[0].header"
   ]
  },
  {
   "cell_type": "markdown",
   "metadata": {},
   "source": [
    "A function to transform header type into dictionary type."
   ]
  },
  {
   "cell_type": "code",
   "execution_count": 112,
   "metadata": {},
   "outputs": [],
   "source": [
    "def header_to_dict(Header):\n",
    "    dict_header = {}\n",
    "    for i in range(0,len(Header)):\n",
    "        dict_header[list(Header.keys())[i]] = Header[i]\n",
    "        \n",
    "    return dict_header"
   ]
  },
  {
   "cell_type": "code",
   "execution_count": 113,
   "metadata": {},
   "outputs": [],
   "source": [
    "spectrum_3586_1000_dict = header_to_dict(spectrum_3586_1000_header)"
   ]
  },
  {
   "cell_type": "code",
   "execution_count": 283,
   "metadata": {},
   "outputs": [],
   "source": [
    "#spectrum_3586_1000_header"
   ]
  },
  {
   "cell_type": "code",
   "execution_count": 270,
   "metadata": {},
   "outputs": [],
   "source": [
    "#spectrum_3586_1000_dict"
   ]
  },
  {
   "cell_type": "code",
   "execution_count": 147,
   "metadata": {},
   "outputs": [],
   "source": [
    "exposures_3586_1000 = spec.Exposures(spectrum_3586_1000_header)"
   ]
  },
  {
   "cell_type": "code",
   "execution_count": 149,
   "metadata": {},
   "outputs": [
    {
     "data": {
      "text/plain": [
       "<bossdata.spec.Exposures at 0x7f65e51bef98>"
      ]
     },
     "execution_count": 149,
     "metadata": {},
     "output_type": "execute_result"
    }
   ],
   "source": [
    "spec.Exposures(spectrum_3586_1000_dict)"
   ]
  },
  {
   "cell_type": "markdown",
   "metadata": {},
   "source": [
    "#### Is converting to \"dict\" format necessary?"
   ]
  },
  {
   "cell_type": "code",
   "execution_count": 150,
   "metadata": {},
   "outputs": [
    {
     "data": {
      "text/html": [
       "<i>Row index=0</i>\n",
       "<table id=\"table140075612257360\">\n",
       "<thead><tr><th>offset</th><th>camera</th><th>science</th><th>flat</th><th>arc</th></tr></thead>\n",
       "<thead><tr><th>int32</th><th>bytes2</th><th>int32</th><th>int32</th><th>int32</th></tr></thead>\n",
       "<tr><td>0</td><td>b2</td><td>104927</td><td>104934</td><td>104935</td></tr>\n",
       "</table>"
      ],
      "text/plain": [
       "<Row index=0>\n",
       "offset camera science  flat   arc  \n",
       "int32  bytes2  int32  int32  int32 \n",
       "------ ------ ------- ------ ------\n",
       "     0     b2  104927 104934 104935"
      ]
     },
     "execution_count": 150,
     "metadata": {},
     "output_type": "execute_result"
    }
   ],
   "source": [
    "exposures_3586_1000.get_info(0,'b2')"
   ]
  },
  {
   "cell_type": "code",
   "execution_count": 151,
   "metadata": {},
   "outputs": [
    {
     "data": {
      "text/html": [
       "<i>Row index=0</i>\n",
       "<table id=\"table140075612265272\">\n",
       "<thead><tr><th>offset</th><th>camera</th><th>science</th><th>flat</th><th>arc</th></tr></thead>\n",
       "<thead><tr><th>int32</th><th>bytes2</th><th>int32</th><th>int32</th><th>int32</th></tr></thead>\n",
       "<tr><td>7</td><td>r2</td><td>104927</td><td>104934</td><td>104935</td></tr>\n",
       "</table>"
      ],
      "text/plain": [
       "<Row index=0>\n",
       "offset camera science  flat   arc  \n",
       "int32  bytes2  int32  int32  int32 \n",
       "------ ------ ------- ------ ------\n",
       "     7     r2  104927 104934 104935"
      ]
     },
     "execution_count": 151,
     "metadata": {},
     "output_type": "execute_result"
    }
   ],
   "source": [
    "exposures_3586_1000.get_info(0,'r2')"
   ]
  },
  {
   "cell_type": "code",
   "execution_count": 152,
   "metadata": {},
   "outputs": [
    {
     "data": {
      "text/html": [
       "<i>Row index=0</i>\n",
       "<table id=\"table140075612265608\">\n",
       "<thead><tr><th>offset</th><th>camera</th><th>science</th><th>flat</th><th>arc</th></tr></thead>\n",
       "<thead><tr><th>int32</th><th>bytes2</th><th>int32</th><th>int32</th><th>int32</th></tr></thead>\n",
       "<tr><td>13</td><td>r2</td><td>104933</td><td>104934</td><td>104935</td></tr>\n",
       "</table>"
      ],
      "text/plain": [
       "<Row index=0>\n",
       "offset camera science  flat   arc  \n",
       "int32  bytes2  int32  int32  int32 \n",
       "------ ------ ------- ------ ------\n",
       "    13     r2  104933 104934 104935"
      ]
     },
     "execution_count": 152,
     "metadata": {},
     "output_type": "execute_result"
    }
   ],
   "source": [
    "exposures_3586_1000.get_info(6,'r2')"
   ]
  },
  {
   "cell_type": "markdown",
   "metadata": {},
   "source": [
    "#### spec"
   ]
  },
  {
   "cell_type": "code",
   "execution_count": 154,
   "metadata": {},
   "outputs": [],
   "source": [
    "SpecFile_3586_1000 = spec.SpecFile(spectrum_3586_1000_fits)"
   ]
  },
  {
   "cell_type": "code",
   "execution_count": 156,
   "metadata": {},
   "outputs": [
    {
     "data": {
      "text/plain": [
       "\n",
       "  file: /scratch/kunjias/sdss/sas/dr12/boss/spectro/redux/v5_7_0/spectra/3586/spec-3586-55181-1000.fits\n",
       "  extension: 11\n",
       "  type: BINARY_TBL\n",
       "  extname: R2-00104927-00104934-00104935\n",
       "  rows: 3154\n",
       "  column info:\n",
       "    flux                f4  \n",
       "    loglam              f4  \n",
       "    ivar                f4  \n",
       "    mask                i4  \n",
       "    wdisp               f4  \n",
       "    sky                 f4  \n",
       "    calib               f4  \n",
       "    x                   f4  "
      ]
     },
     "execution_count": 156,
     "metadata": {},
     "output_type": "execute_result"
    }
   ],
   "source": [
    "SpecFile_3586_1000.get_exposure_hdu(0,'r2')"
   ]
  },
  {
   "cell_type": "code",
   "execution_count": 202,
   "metadata": {},
   "outputs": [
    {
     "data": {
      "text/plain": [
       "'spCFrame-r2-00104929.fits'"
      ]
     },
     "execution_count": 202,
     "metadata": {},
     "output_type": "execute_result"
    }
   ],
   "source": [
    "SpecFile_3586_1000.get_exposure_name(sequence_number = 2,\n",
    "                                    band = 'red',\n",
    "                                    ftype = 'spCFrame')"
   ]
  },
  {
   "cell_type": "code",
   "execution_count": 164,
   "metadata": {},
   "outputs": [
    {
     "data": {
      "text/plain": [
       "array([0, 0, 0, ..., 0, 0, 0], dtype=int32)"
      ]
     },
     "execution_count": 164,
     "metadata": {},
     "output_type": "execute_result"
    }
   ],
   "source": [
    "SpecFile_3586_1000.get_pixel_mask()"
   ]
  },
  {
   "cell_type": "code",
   "execution_count": 222,
   "metadata": {},
   "outputs": [],
   "source": [
    "plate3586_fiber1000_exposure08=SpecFile_3586_1000.get_valid_data(exposure_index=0, \n",
    "                                  camera='r2', \n",
    "                                  pixel_quality_mask=None, \n",
    "                                  include_wdisp=False,\n",
    "                                  include_sky=True, \n",
    "                                  use_ivar=False, \n",
    "                                  use_loglam=False, \n",
    "                                  fiducial_grid=False)"
   ]
  },
  {
   "cell_type": "code",
   "execution_count": 223,
   "metadata": {},
   "outputs": [],
   "source": [
    "data_plate3586_fiber1000_exposure08 = plate3586_fiber1000_exposure08.data"
   ]
  },
  {
   "cell_type": "code",
   "execution_count": 225,
   "metadata": {},
   "outputs": [
    {
     "data": {
      "text/plain": [
       "array([( 5902.7227,  6.998139 ,  8.638592, 12.053816),\n",
       "       ( 5904.064 ,  2.200818 ,  7.794687, 10.22544 ),\n",
       "       ( 5905.403 , 12.786961 ,  7.782696,  8.667742), ...,\n",
       "       (10353.862 , -5.5906186,  9.617459, 23.124233),\n",
       "       (10355.271 , -5.8272276, 11.215535, 26.230238),\n",
       "       (10356.682 , 10.499031 , 13.026062, 24.17344 )],\n",
       "      dtype=[('wavelength', '<f4'), ('flux', '<f4'), ('dflux', '<f4'), ('sky', '<f4')])"
      ]
     },
     "execution_count": 225,
     "metadata": {},
     "output_type": "execute_result"
    }
   ],
   "source": [
    "data_plate3586_fiber1000_exposure08"
   ]
  },
  {
   "cell_type": "code",
   "execution_count": 238,
   "metadata": {},
   "outputs": [],
   "source": [
    "wlen_plate3586_fiber1000_exposure08 = data_plate3586_fiber1000_exposure08['wavelength'][:]"
   ]
  },
  {
   "cell_type": "code",
   "execution_count": 239,
   "metadata": {},
   "outputs": [],
   "source": [
    "flux_plate3586_fiber1000_exposure08 = data_plate3586_fiber1000_exposure08['flux'][:]"
   ]
  },
  {
   "cell_type": "code",
   "execution_count": 240,
   "metadata": {},
   "outputs": [],
   "source": [
    "sky_plate3586_fiber1000_exposure08 = data_plate3586_fiber1000_exposure08['sky'][:]"
   ]
  },
  {
   "cell_type": "code",
   "execution_count": 248,
   "metadata": {},
   "outputs": [
    {
     "data": {
      "image/png": "[encoded data removed]",
      "text/plain": [
       "<Figure size 432x288 with 1 Axes>"
      ]
     },
     "metadata": {
      "needs_background": "light"
     },
     "output_type": "display_data"
    }
   ],
   "source": [
    "x = wlen_plate3586_fiber1000_exposure08\n",
    "y = flux_plate3586_fiber1000_exposure08\n",
    "plt.plot(x,y,c='r')\n",
    "plt.tight_layout()\n",
    "plt.show()"
   ]
  },
  {
   "cell_type": "code",
   "execution_count": 245,
   "metadata": {},
   "outputs": [
    {
     "data": {
      "image/png": "[encoded data removed]",
      "text/plain": [
       "<Figure size 432x288 with 1 Axes>"
      ]
     },
     "metadata": {
      "needs_background": "light"
     },
     "output_type": "display_data"
    }
   ],
   "source": [
    "x = wlen_plate3586_fiber1000_exposure08\n",
    "y = sky_plate3586_fiber1000_exposure08\n",
    "plt.plot(x,y,c = 'b')\n",
    "plt.tight_layout()\n",
    "plt.show()"
   ]
  },
  {
   "cell_type": "code",
   "execution_count": 247,
   "metadata": {},
   "outputs": [
    {
     "data": {
      "image/png": "[encoded data removed]",
      "text/plain": [
       "<Figure size 432x288 with 1 Axes>"
      ]
     },
     "metadata": {
      "needs_background": "light"
     },
     "output_type": "display_data"
    }
   ],
   "source": [
    "x = wlen_plate3586_fiber1000_exposure08\n",
    "y = sky_plate3586_fiber1000_exposure08 + flux_plate3586_fiber1000_exposure08 \n",
    "plt.plot(x,y,c = 'g')\n",
    "plt.tight_layout()\n",
    "plt.show()"
   ]
  },
  {
   "cell_type": "code",
   "execution_count": 228,
   "metadata": {},
   "outputs": [
    {
     "data": {
      "text/plain": [
       "(3154,)"
      ]
     },
     "execution_count": 228,
     "metadata": {},
     "output_type": "execute_result"
    }
   ],
   "source": [
    "data_plate3586_fiber1000_exposure08.shape"
   ]
  },
  {
   "cell_type": "markdown",
   "metadata": {},
   "source": [
    "Wavelength of a particular integral pixel."
   ]
  },
  {
   "cell_type": "code",
   "execution_count": 200,
   "metadata": {},
   "outputs": [
    {
     "data": {
      "text/plain": [
       "3.554100305027835"
      ]
     },
     "execution_count": 200,
     "metadata": {},
     "output_type": "execute_result"
    }
   ],
   "source": [
    "spec.fiducial_loglam[100]"
   ]
  },
  {
   "cell_type": "markdown",
   "metadata": {},
   "source": [
    "Bounding wavelength range"
   ]
  },
  {
   "cell_type": "code",
   "execution_count": 198,
   "metadata": {},
   "outputs": [
    {
     "data": {
      "text/plain": [
       "array([ 3500.26      , 10568.18251472])"
      ]
     },
     "execution_count": 198,
     "metadata": {},
     "output_type": "execute_result"
    }
   ],
   "source": [
    "10**spec.fiducial_loglam[[0,-1]]"
   ]
  }
 ],
 "metadata": {
  "kernelspec": {
   "display_name": "Python 3",
   "language": "python",
   "name": "python3"
  },
  "language_info": {
   "codemirror_mode": {
    "name": "ipython",
    "version": 3
   },
   "file_extension": ".py",
   "mimetype": "text/x-python",
   "name": "python",
   "nbconvert_exporter": "python",
   "pygments_lexer": "ipython3",
   "version": "3.6.3"
  }
 },
 "nbformat": 4,
 "nbformat_minor": 2
}
