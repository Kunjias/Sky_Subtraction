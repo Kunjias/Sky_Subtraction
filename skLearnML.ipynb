{
 "cells": [
  {
   "cell_type": "markdown",
   "metadata": {},
   "source": [
    "### MLP Regressor on sampled Kilo-Sky data"
   ]
  },
  {
   "cell_type": "code",
   "execution_count": 1,
   "metadata": {},
   "outputs": [],
   "source": [
    "import pandas as pd"
   ]
  },
  {
   "cell_type": "code",
   "execution_count": 2,
   "metadata": {},
   "outputs": [],
   "source": [
    "import numpy as np"
   ]
  },
  {
   "cell_type": "markdown",
   "metadata": {},
   "source": [
    "#### Environment\n",
    "\n",
    "Set up environment and working directory"
   ]
  },
  {
   "cell_type": "code",
   "execution_count": 3,
   "metadata": {},
   "outputs": [],
   "source": [
    "import os\n",
    "workdir = os.environ['SCRATCH']\n",
    "os.environ[\"BOSS_DATA_URL\"] = 'http://dr12.sdss3.org'\n",
    "os.environ[\"BOSS_LOCAL_ROOT\"] = os.path.join(workdir,'sdss')\n",
    "os.environ[\"BOSS_SAS_PATH\"] = '/sas/dr12/boss'\n",
    "os.environ[\"BOSS_REDUX_VERSION\"]='v5_7_0'"
   ]
  },
  {
   "cell_type": "code",
   "execution_count": 4,
   "metadata": {},
   "outputs": [],
   "source": [
    "os.chdir(workdir)"
   ]
  },
  {
   "cell_type": "code",
   "execution_count": 5,
   "metadata": {},
   "outputs": [
    {
     "data": {
      "text/plain": [
       "'/scratch/kunjias'"
      ]
     },
     "execution_count": 5,
     "metadata": {},
     "output_type": "execute_result"
    }
   ],
   "source": [
    "os.getcwd()"
   ]
  },
  {
   "cell_type": "code",
   "execution_count": 6,
   "metadata": {},
   "outputs": [
    {
     "data": {
      "text/plain": [
       "'/scratch/kunjias'"
      ]
     },
     "execution_count": 6,
     "metadata": {},
     "output_type": "execute_result"
    }
   ],
   "source": [
    "workdir"
   ]
  },
  {
   "cell_type": "code",
   "execution_count": 7,
   "metadata": {},
   "outputs": [
    {
     "name": "stdout",
     "output_type": "stream",
     "text": [
      "home\t\t\tkilo_sky_r5_features.hdf5  sdss\n",
      "kilo_sky_features.hdf5\tqso.dat\t\t\t   sdss.building\n"
     ]
    }
   ],
   "source": [
    "! ls"
   ]
  },
  {
   "cell_type": "markdown",
   "metadata": {},
   "source": [
    "#### Data Import\n",
    "Import data from HDF5 to pandas table."
   ]
  },
  {
   "cell_type": "code",
   "execution_count": 8,
   "metadata": {},
   "outputs": [],
   "source": [
    "kilo_sky_r5_table = pd.read_hdf('kilo_sky_r5_features.hdf5')"
   ]
  },
  {
   "cell_type": "code",
   "execution_count": 9,
   "metadata": {},
   "outputs": [
    {
     "data": {
      "text/html": [
       "<div>\n",
       "<style scoped>\n",
       "    .dataframe tbody tr th:only-of-type {\n",
       "        vertical-align: middle;\n",
       "    }\n",
       "\n",
       "    .dataframe tbody tr th {\n",
       "        vertical-align: top;\n",
       "    }\n",
       "\n",
       "    .dataframe thead th {\n",
       "        text-align: right;\n",
       "    }\n",
       "</style>\n",
       "<table border=\"1\" class=\"dataframe\">\n",
       "  <thead>\n",
       "    <tr style=\"text-align: right;\">\n",
       "      <th></th>\n",
       "      <th>exposure_index</th>\n",
       "      <th>PLATE</th>\n",
       "      <th>MJD</th>\n",
       "      <th>XFOCAL</th>\n",
       "      <th>YFOCAL</th>\n",
       "      <th>FIBER</th>\n",
       "      <th>RA</th>\n",
       "      <th>DEC</th>\n",
       "      <th>OBJTYPE</th>\n",
       "      <th>AIRMASS_0</th>\n",
       "      <th>...</th>\n",
       "      <th>inverse_variance4119</th>\n",
       "      <th>inverse_variance4120</th>\n",
       "      <th>inverse_variance4121</th>\n",
       "      <th>inverse_variance4122</th>\n",
       "      <th>inverse_variance4123</th>\n",
       "      <th>inverse_variance4124</th>\n",
       "      <th>inverse_variance4125</th>\n",
       "      <th>inverse_variance4126</th>\n",
       "      <th>inverse_variance4127</th>\n",
       "      <th>inverse_variance4128</th>\n",
       "    </tr>\n",
       "  </thead>\n",
       "  <tbody>\n",
       "    <tr>\n",
       "      <th>0</th>\n",
       "      <td>0</td>\n",
       "      <td>3844</td>\n",
       "      <td>55321</td>\n",
       "      <td>-93.327362</td>\n",
       "      <td>140.945984</td>\n",
       "      <td>566</td>\n",
       "      <td>180.40334</td>\n",
       "      <td>0.647407</td>\n",
       "      <td>SKY</td>\n",
       "      <td>0.0</td>\n",
       "      <td>...</td>\n",
       "      <td>4.611232e+06</td>\n",
       "      <td>3.338240e-33</td>\n",
       "      <td>0.0</td>\n",
       "      <td>0.000000e+00</td>\n",
       "      <td>0.000000</td>\n",
       "      <td>-2.216037e-35</td>\n",
       "      <td>3.064008e-06</td>\n",
       "      <td>0.0</td>\n",
       "      <td>0.000000e+00</td>\n",
       "      <td>-0.029867</td>\n",
       "    </tr>\n",
       "    <tr>\n",
       "      <th>1</th>\n",
       "      <td>1</td>\n",
       "      <td>3844</td>\n",
       "      <td>55321</td>\n",
       "      <td>-93.327362</td>\n",
       "      <td>140.945984</td>\n",
       "      <td>566</td>\n",
       "      <td>180.40334</td>\n",
       "      <td>0.647407</td>\n",
       "      <td>SKY</td>\n",
       "      <td>0.0</td>\n",
       "      <td>...</td>\n",
       "      <td>0.000000e+00</td>\n",
       "      <td>0.000000e+00</td>\n",
       "      <td>0.0</td>\n",
       "      <td>0.000000e+00</td>\n",
       "      <td>0.000000</td>\n",
       "      <td>0.000000e+00</td>\n",
       "      <td>0.000000e+00</td>\n",
       "      <td>0.0</td>\n",
       "      <td>0.000000e+00</td>\n",
       "      <td>0.000000</td>\n",
       "    </tr>\n",
       "    <tr>\n",
       "      <th>2</th>\n",
       "      <td>2</td>\n",
       "      <td>3844</td>\n",
       "      <td>55321</td>\n",
       "      <td>-93.327362</td>\n",
       "      <td>140.945984</td>\n",
       "      <td>566</td>\n",
       "      <td>180.40334</td>\n",
       "      <td>0.647407</td>\n",
       "      <td>SKY</td>\n",
       "      <td>0.0</td>\n",
       "      <td>...</td>\n",
       "      <td>4.611232e+06</td>\n",
       "      <td>3.338240e-33</td>\n",
       "      <td>0.0</td>\n",
       "      <td>0.000000e+00</td>\n",
       "      <td>0.000000</td>\n",
       "      <td>-2.216037e-35</td>\n",
       "      <td>3.064008e-06</td>\n",
       "      <td>0.0</td>\n",
       "      <td>0.000000e+00</td>\n",
       "      <td>-0.029867</td>\n",
       "    </tr>\n",
       "    <tr>\n",
       "      <th>3</th>\n",
       "      <td>3</td>\n",
       "      <td>3844</td>\n",
       "      <td>55321</td>\n",
       "      <td>-93.327362</td>\n",
       "      <td>140.945984</td>\n",
       "      <td>566</td>\n",
       "      <td>180.40334</td>\n",
       "      <td>0.647407</td>\n",
       "      <td>SKY</td>\n",
       "      <td>0.0</td>\n",
       "      <td>...</td>\n",
       "      <td>0.000000e+00</td>\n",
       "      <td>0.000000e+00</td>\n",
       "      <td>0.0</td>\n",
       "      <td>0.000000e+00</td>\n",
       "      <td>0.000000</td>\n",
       "      <td>0.000000e+00</td>\n",
       "      <td>0.000000e+00</td>\n",
       "      <td>0.0</td>\n",
       "      <td>0.000000e+00</td>\n",
       "      <td>0.000000</td>\n",
       "    </tr>\n",
       "    <tr>\n",
       "      <th>4</th>\n",
       "      <td>0</td>\n",
       "      <td>5399</td>\n",
       "      <td>55956</td>\n",
       "      <td>-119.386322</td>\n",
       "      <td>150.762390</td>\n",
       "      <td>640</td>\n",
       "      <td>185.17342</td>\n",
       "      <td>12.159917</td>\n",
       "      <td>SKY</td>\n",
       "      <td>0.0</td>\n",
       "      <td>...</td>\n",
       "      <td>7.174648e-43</td>\n",
       "      <td>-3.249857e+18</td>\n",
       "      <td>28537474.0</td>\n",
       "      <td>-1.079683e-15</td>\n",
       "      <td>12.765937</td>\n",
       "      <td>-1.816097e-37</td>\n",
       "      <td>9.403955e-38</td>\n",
       "      <td>0.0</td>\n",
       "      <td>1.356316e-19</td>\n",
       "      <td>0.000000</td>\n",
       "    </tr>\n",
       "  </tbody>\n",
       "</table>\n",
       "<p>5 rows × 20654 columns</p>\n",
       "</div>"
      ],
      "text/plain": [
       "   exposure_index  PLATE    MJD      XFOCAL      YFOCAL  FIBER         RA  \\\n",
       "0               0   3844  55321  -93.327362  140.945984    566  180.40334   \n",
       "1               1   3844  55321  -93.327362  140.945984    566  180.40334   \n",
       "2               2   3844  55321  -93.327362  140.945984    566  180.40334   \n",
       "3               3   3844  55321  -93.327362  140.945984    566  180.40334   \n",
       "4               0   5399  55956 -119.386322  150.762390    640  185.17342   \n",
       "\n",
       "         DEC OBJTYPE  AIRMASS_0          ...           inverse_variance4119  \\\n",
       "0   0.647407     SKY        0.0          ...                   4.611232e+06   \n",
       "1   0.647407     SKY        0.0          ...                   0.000000e+00   \n",
       "2   0.647407     SKY        0.0          ...                   4.611232e+06   \n",
       "3   0.647407     SKY        0.0          ...                   0.000000e+00   \n",
       "4  12.159917     SKY        0.0          ...                   7.174648e-43   \n",
       "\n",
       "   inverse_variance4120  inverse_variance4121  inverse_variance4122  \\\n",
       "0          3.338240e-33                   0.0          0.000000e+00   \n",
       "1          0.000000e+00                   0.0          0.000000e+00   \n",
       "2          3.338240e-33                   0.0          0.000000e+00   \n",
       "3          0.000000e+00                   0.0          0.000000e+00   \n",
       "4         -3.249857e+18            28537474.0         -1.079683e-15   \n",
       "\n",
       "   inverse_variance4123  inverse_variance4124  inverse_variance4125  \\\n",
       "0              0.000000         -2.216037e-35          3.064008e-06   \n",
       "1              0.000000          0.000000e+00          0.000000e+00   \n",
       "2              0.000000         -2.216037e-35          3.064008e-06   \n",
       "3              0.000000          0.000000e+00          0.000000e+00   \n",
       "4             12.765937         -1.816097e-37          9.403955e-38   \n",
       "\n",
       "   inverse_variance4126  inverse_variance4127  inverse_variance4128  \n",
       "0                   0.0          0.000000e+00             -0.029867  \n",
       "1                   0.0          0.000000e+00              0.000000  \n",
       "2                   0.0          0.000000e+00             -0.029867  \n",
       "3                   0.0          0.000000e+00              0.000000  \n",
       "4                   0.0          1.356316e-19              0.000000  \n",
       "\n",
       "[5 rows x 20654 columns]"
      ]
     },
     "execution_count": 9,
     "metadata": {},
     "output_type": "execute_result"
    }
   ],
   "source": [
    "kilo_sky_r5_table.head()"
   ]
  },
  {
   "cell_type": "code",
   "execution_count": 10,
   "metadata": {},
   "outputs": [
    {
     "data": {
      "text/plain": [
       "(5593, 20654)"
      ]
     },
     "execution_count": 10,
     "metadata": {},
     "output_type": "execute_result"
    }
   ],
   "source": [
    "kilo_sky_r5_table.shape"
   ]
  },
  {
   "cell_type": "code",
   "execution_count": 11,
   "metadata": {},
   "outputs": [
    {
     "name": "stdout",
     "output_type": "stream",
     "text": [
      "<class 'pandas.core.frame.DataFrame'>\n",
      "Int64Index: 5593 entries, 0 to 5592\n",
      "Columns: 20654 entries, exposure_index to inverse_variance4128\n",
      "dtypes: float32(20640), float64(9), int64(4), object(1)\n",
      "memory usage: 441.0+ MB\n"
     ]
    }
   ],
   "source": [
    "kilo_sky_r5_table.info()"
   ]
  },
  {
   "cell_type": "code",
   "execution_count": 12,
   "metadata": {},
   "outputs": [
    {
     "data": {
      "text/plain": [
       "['OBJTYPE', 'AIRMASS_0', 'AIRMASS_1', 'AIRMASS_2', 'AIRMASS_3']"
      ]
     },
     "execution_count": 12,
     "metadata": {},
     "output_type": "execute_result"
    }
   ],
   "source": [
    "list(kilo_sky_r5_table.columns.values)[8:13]"
   ]
  },
  {
   "cell_type": "markdown",
   "metadata": {},
   "source": [
    "Drop the object data type column, and keep one airmass out of the four. `AIRMASS_4` is kept here."
   ]
  },
  {
   "cell_type": "code",
   "execution_count": 13,
   "metadata": {},
   "outputs": [],
   "source": [
    "kilo_sky_r5_table.drop(kilo_sky_r5_table.columns[np.arange(8,13)], axis=1,inplace=True)"
   ]
  },
  {
   "cell_type": "code",
   "execution_count": 14,
   "metadata": {},
   "outputs": [
    {
     "data": {
      "text/plain": [
       "(5593, 20649)"
      ]
     },
     "execution_count": 14,
     "metadata": {},
     "output_type": "execute_result"
    }
   ],
   "source": [
    "kilo_sky_r5_table.shape"
   ]
  },
  {
   "cell_type": "markdown",
   "metadata": {},
   "source": [
    "The sky data table has 5 less columns now."
   ]
  },
  {
   "cell_type": "markdown",
   "metadata": {},
   "source": [
    "#### Target and Feature Data"
   ]
  },
  {
   "cell_type": "code",
   "execution_count": 15,
   "metadata": {},
   "outputs": [
    {
     "data": {
      "text/plain": [
       "4128"
      ]
     },
     "execution_count": 15,
     "metadata": {},
     "output_type": "execute_result"
    }
   ],
   "source": [
    "len(list(kilo_sky_r5_table.filter(regex='total_flux')))"
   ]
  },
  {
   "cell_type": "code",
   "execution_count": 16,
   "metadata": {},
   "outputs": [
    {
     "data": {
      "text/plain": [
       "(5593, 4128)"
      ]
     },
     "execution_count": 16,
     "metadata": {},
     "output_type": "execute_result"
    }
   ],
   "source": [
    "kilo_sky_r5_table.filter(regex='total_flux').shape"
   ]
  },
  {
   "cell_type": "code",
   "execution_count": 17,
   "metadata": {},
   "outputs": [
    {
     "data": {
      "text/plain": [
       "pandas.core.frame.DataFrame"
      ]
     },
     "execution_count": 17,
     "metadata": {},
     "output_type": "execute_result"
    }
   ],
   "source": [
    "type(kilo_sky_r5_table.filter(regex='total_flux'))"
   ]
  },
  {
   "cell_type": "markdown",
   "metadata": {},
   "source": [
    "#### Data to prepare for training and testing set"
   ]
  },
  {
   "cell_type": "code",
   "execution_count": 18,
   "metadata": {},
   "outputs": [],
   "source": [
    "X_r5 = kilo_sky_r5_table[kilo_sky_r5_table.columns.drop(list(kilo_sky_r5_table.filter(regex='total_flux')))]"
   ]
  },
  {
   "cell_type": "code",
   "execution_count": 19,
   "metadata": {},
   "outputs": [
    {
     "data": {
      "text/plain": [
       "(5593, 16521)"
      ]
     },
     "execution_count": 19,
     "metadata": {},
     "output_type": "execute_result"
    }
   ],
   "source": [
    "X_r5.shape"
   ]
  },
  {
   "cell_type": "markdown",
   "metadata": {},
   "source": [
    "##### Target Data"
   ]
  },
  {
   "cell_type": "code",
   "execution_count": 20,
   "metadata": {},
   "outputs": [],
   "source": [
    "y = kilo_sky_r5_table[list(kilo_sky_r5_table.filter(regex='total_flux'))]"
   ]
  },
  {
   "cell_type": "code",
   "execution_count": 21,
   "metadata": {},
   "outputs": [
    {
     "data": {
      "text/plain": [
       "(5593, 4128)"
      ]
     },
     "execution_count": 21,
     "metadata": {},
     "output_type": "execute_result"
    }
   ],
   "source": [
    "y.shape"
   ]
  },
  {
   "cell_type": "markdown",
   "metadata": {},
   "source": [
    "#### Train Test Split"
   ]
  },
  {
   "cell_type": "code",
   "execution_count": 22,
   "metadata": {},
   "outputs": [],
   "source": [
    "from sklearn.model_selection import train_test_split"
   ]
  },
  {
   "cell_type": "markdown",
   "metadata": {},
   "source": [
    "20% are kept as testing set, the rest 80% are to be split for training and cross-validation.\n",
    "\n",
    "Intermediate/ test split (Test Set)"
   ]
  },
  {
   "cell_type": "code",
   "execution_count": 23,
   "metadata": {},
   "outputs": [],
   "source": [
    "X_intermediate, X_test, y_intermediate, y_test = train_test_split(X_r5,y,shuffle=True,test_size=0.2,random_state=5)"
   ]
  },
  {
   "cell_type": "code",
   "execution_count": 24,
   "metadata": {},
   "outputs": [
    {
     "data": {
      "text/plain": [
       "(4474, 16521)"
      ]
     },
     "execution_count": 24,
     "metadata": {},
     "output_type": "execute_result"
    }
   ],
   "source": [
    "X_intermediate.shape"
   ]
  },
  {
   "cell_type": "code",
   "execution_count": 25,
   "metadata": {},
   "outputs": [
    {
     "data": {
      "text/plain": [
       "(1119, 16521)"
      ]
     },
     "execution_count": 25,
     "metadata": {},
     "output_type": "execute_result"
    }
   ],
   "source": [
    "X_test.shape"
   ]
  },
  {
   "cell_type": "markdown",
   "metadata": {},
   "source": [
    "Train / validation split (Train and Validation Set)\n",
    "\n",
    "Training and validation data are split in a half-and-half ratio."
   ]
  },
  {
   "cell_type": "code",
   "execution_count": 26,
   "metadata": {},
   "outputs": [],
   "source": [
    "X_train, X_validation, y_train, y_validation = train_test_split(X_intermediate,y_intermediate,shuffle=False,test_size=0.5, random_state=5)"
   ]
  },
  {
   "cell_type": "code",
   "execution_count": 27,
   "metadata": {},
   "outputs": [
    {
     "data": {
      "text/plain": [
       "(2237, 16521)"
      ]
     },
     "execution_count": 27,
     "metadata": {},
     "output_type": "execute_result"
    }
   ],
   "source": [
    "X_train.shape"
   ]
  },
  {
   "cell_type": "code",
   "execution_count": 28,
   "metadata": {},
   "outputs": [
    {
     "data": {
      "text/plain": [
       "(2237, 16521)"
      ]
     },
     "execution_count": 28,
     "metadata": {},
     "output_type": "execute_result"
    }
   ],
   "source": [
    "X_validation.shape"
   ]
  },
  {
   "cell_type": "markdown",
   "metadata": {},
   "source": [
    "Print proportions of datasets."
   ]
  },
  {
   "cell_type": "code",
   "execution_count": 29,
   "metadata": {},
   "outputs": [
    {
     "name": "stdout",
     "output_type": "stream",
     "text": [
      "train: 0.4% | validation: 0.4% | test 0.2%\n"
     ]
    }
   ],
   "source": [
    "print('train: {}% | validation: {}% | test {}%'.format(round(y_train.shape[0]/y.shape[0],2),\n",
    "                                                       round(y_validation.shape[0]/y.shape[0],2),\n",
    "                                                       round(y_test.shape[0]/y.shape[0],2)))"
   ]
  },
  {
   "cell_type": "markdown",
   "metadata": {},
   "source": [
    "There are some invalid values in the data sets. Fill them in by 0."
   ]
  },
  {
   "cell_type": "code",
   "execution_count": 30,
   "metadata": {},
   "outputs": [],
   "source": [
    "X_train_filled = X_train.fillna(value=0)"
   ]
  },
  {
   "cell_type": "code",
   "execution_count": 31,
   "metadata": {},
   "outputs": [],
   "source": [
    "X_test_filled = X_test.fillna(value=0)"
   ]
  },
  {
   "cell_type": "code",
   "execution_count": 32,
   "metadata": {},
   "outputs": [],
   "source": [
    "y_train_filled = y_train.fillna(value=0)"
   ]
  },
  {
   "cell_type": "code",
   "execution_count": 33,
   "metadata": {},
   "outputs": [],
   "source": [
    "y_test_filled = y_test.fillna(value=0)"
   ]
  },
  {
   "cell_type": "code",
   "execution_count": 34,
   "metadata": {},
   "outputs": [],
   "source": [
    "X_validation_filled= X_validation.fillna(value=0)"
   ]
  },
  {
   "cell_type": "code",
   "execution_count": 35,
   "metadata": {},
   "outputs": [],
   "source": [
    "y_validation_filled = y_validation.fillna(value=0)"
   ]
  },
  {
   "cell_type": "code",
   "execution_count": 36,
   "metadata": {},
   "outputs": [],
   "source": [
    "X_intermediate_filled = X_intermediate.fillna(value=0)"
   ]
  },
  {
   "cell_type": "code",
   "execution_count": 37,
   "metadata": {},
   "outputs": [],
   "source": [
    "y_intermediate_filled = y_intermediate.fillna(value=0)"
   ]
  },
  {
   "cell_type": "markdown",
   "metadata": {},
   "source": [
    "#### Data Preprocessing\n",
    "\n",
    "Preprocess the data by z-score standardization"
   ]
  },
  {
   "cell_type": "code",
   "execution_count": 38,
   "metadata": {},
   "outputs": [],
   "source": [
    "from sklearn.preprocessing import StandardScaler"
   ]
  },
  {
   "cell_type": "code",
   "execution_count": 39,
   "metadata": {},
   "outputs": [],
   "source": [
    "scaler = StandardScaler()"
   ]
  },
  {
   "cell_type": "code",
   "execution_count": 40,
   "metadata": {},
   "outputs": [
    {
     "data": {
      "text/plain": [
       "StandardScaler(copy=True, with_mean=True, with_std=True)"
      ]
     },
     "execution_count": 40,
     "metadata": {},
     "output_type": "execute_result"
    }
   ],
   "source": [
    "scaler.fit(X_train_filled)"
   ]
  },
  {
   "cell_type": "markdown",
   "metadata": {},
   "source": [
    "Apply same scaling to testing and validation data."
   ]
  },
  {
   "cell_type": "code",
   "execution_count": 41,
   "metadata": {},
   "outputs": [],
   "source": [
    "X_train_filled = scaler.transform(X_train_filled)"
   ]
  },
  {
   "cell_type": "code",
   "execution_count": 42,
   "metadata": {},
   "outputs": [],
   "source": [
    "X_validation_filled = scaler.transform(X_validation_filled)"
   ]
  },
  {
   "cell_type": "code",
   "execution_count": 43,
   "metadata": {},
   "outputs": [],
   "source": [
    "X_test_filled = scaler.transform(X_test_filled)"
   ]
  },
  {
   "cell_type": "markdown",
   "metadata": {},
   "source": [
    "#### Traning the Model"
   ]
  },
  {
   "cell_type": "code",
   "execution_count": 44,
   "metadata": {},
   "outputs": [],
   "source": [
    "from sklearn.neural_network import MLPRegressor\n",
    "from sklearn.metrics import mean_squared_error"
   ]
  },
  {
   "cell_type": "markdown",
   "metadata": {},
   "source": [
    "We generate the neural network model with 4 layers and set the number of neurons to be 32, 64, 128, and 256. These neuron numbers are empirical choice from reconstructing spectrum for stellar parameters."
   ]
  },
  {
   "cell_type": "code",
   "execution_count": 50,
   "metadata": {},
   "outputs": [
    {
     "name": "stdout",
     "output_type": "stream",
     "text": [
      "----------------------------------------------------------------------------\n",
      "alpha:  0.0001 | train error: 1465.658 | val error: 2.4368096940856987e+61 | test error: 4.6614297444266455e+58\n",
      "alpha:   0.001 | train error: 1908.115 | val error: 4.885584495986541e+61 | test error: 1.876512999927432e+58\n",
      "alpha:    0.01 | train error: 1437.961 | val error: 2.9318359552636764e+61 | test error: 5.77559611026819e+58\n",
      "alpha:     0.1 | train error: 1723.43 | val error: 8.874225370939916e+60 | test error: 2.2509093939530088e+58\n",
      "alpha:       1 | train error: 1641.163 | val error: 2.3168180946171658e+61 | test error: 2.8273158933116783e+58\n",
      "alpha:      10 | train error: 1833.456 | val error: 1.2982299268392093e+61 | test error: 4.1251906916446885e+58\n"
     ]
    }
   ],
   "source": [
    "# Default 'relu' activation function\n",
    "alphas = [0.0001, 0.001, 0.01, 0.1, 1, 10]\n",
    "print('-'*76)\n",
    "\n",
    "for alpha in alphas:\n",
    "    #fit the model\n",
    "    mlp = MLPRegressor(hidden_layer_sizes=(32,64,128,256),alpha=alpha, max_iter=500,random_state=5)\n",
    "    mlp.fit(X_train_filled, y_train_filled)\n",
    "    \n",
    "    #calculate errors\n",
    "    new_train_error = mean_squared_error(y_train_filled, mlp.predict(X_train_filled))\n",
    "    new_validation_error = mean_squared_error(y_validation_filled, mlp.predict(X_validation_filled))\n",
    "    new_test_error = mean_squared_error(y_test_filled, mlp.predict(X_test_filled))\n",
    "    \n",
    "    #print error as report\n",
    "    print('alpha: {:7} | train error: {:5} | val error: {:6} | test error: {}'.\n",
    "          format(alpha,\n",
    "                 round(new_train_error,3),\n",
    "                 round(new_validation_error,3),\n",
    "                 round(new_test_error,3)))"
   ]
  },
  {
   "cell_type": "code",
   "execution_count": 47,
   "metadata": {},
   "outputs": [
    {
     "name": "stdout",
     "output_type": "stream",
     "text": [
      "----------------------------------------------------------------------------\n",
      "alpha:  0.0001 | train error: 3884.992 | val error: 1.9732537381890759e+58 | test error: 1.6148733081323083e+54\n",
      "alpha:   0.001 | train error: 3884.992 | val error: 1.9732537381890759e+58 | test error: 1.6148733081323083e+54\n",
      "alpha:    0.01 | train error: 3884.992 | val error: 1.9732537381890759e+58 | test error: 1.6148733081323083e+54\n",
      "alpha:     0.1 | train error: 3884.992 | val error: 1.9732537381890759e+58 | test error: 1.6148733081323083e+54\n",
      "alpha:       1 | train error: 3884.992 | val error: 1.9732537381890759e+58 | test error: 1.6148733081323083e+54\n",
      "alpha:      10 | train error: 3884.992 | val error: 1.9732537381890759e+58 | test error: 1.6148733081323083e+54\n"
     ]
    }
   ],
   "source": [
    "# 'lbfgs' activation function\n",
    "alphas = [0.0001, 0.001, 0.01, 0.1, 1, 10]\n",
    "print('-'*76)\n",
    "\n",
    "for alpha in alphas:\n",
    "    #fit the model\n",
    "    mlp = MLPRegressor(hidden_layer_sizes=(32,64,128,256),solver='lbfgs', alpha=alpha, max_iter=500,random_state=5)\n",
    "    mlp.fit(X_train_filled, y_train_filled)\n",
    "    \n",
    "    #calculate errors\n",
    "    new_train_error = mean_squared_error(y_train_filled, mlp.predict(X_train_filled))\n",
    "    new_validation_error = mean_squared_error(y_validation_filled, mlp.predict(X_validation_filled))\n",
    "    new_test_error = mean_squared_error(y_test_filled, mlp.predict(X_test_filled))\n",
    "    \n",
    "    #print error as report\n",
    "    print('alpha: {:7} | train error: {:5} | val error: {:6} | test error: {}'.\n",
    "          format(alpha,\n",
    "                 round(new_train_error,3),\n",
    "                 round(new_validation_error,3),\n",
    "                 round(new_test_error,3)))"
   ]
  },
  {
   "cell_type": "code",
   "execution_count": 48,
   "metadata": {},
   "outputs": [
    {
     "name": "stdout",
     "output_type": "stream",
     "text": [
      "----------------------------------------------------------------------------\n",
      "alpha:  0.0001 | train error: 1465.658 | val error: 2.4368096940856987e+61 | test error: 4.6614297444266455e+58\n",
      "alpha:   0.001 | train error: 1908.115 | val error: 4.885584495986541e+61 | test error: 1.876512999927432e+58\n",
      "alpha:    0.01 | train error: 1437.961 | val error: 2.9318359552636764e+61 | test error: 5.77559611026819e+58\n",
      "alpha:     0.1 | train error: 1723.43 | val error: 8.874225370939916e+60 | test error: 2.2509093939530088e+58\n",
      "alpha:       1 | train error: 1641.163 | val error: 2.3168180946171658e+61 | test error: 2.8273158933116783e+58\n",
      "alpha:      10 | train error: 1833.456 | val error: 1.2982299268392093e+61 | test error: 4.1251906916446885e+58\n"
     ]
    }
   ],
   "source": [
    "alphas = [0.0001, 0.001, 0.01, 0.1, 1, 10]\n",
    "print('-'*76)\n",
    "\n",
    "for alpha in alphas:\n",
    "    #fit the model\n",
    "    mlp = MLPRegressor(hidden_layer_sizes=(32,64,128,256),solver='adam', alpha=alpha, max_iter=500,random_state=5)\n",
    "    mlp.fit(X_train_filled, y_train_filled)\n",
    "    \n",
    "    #calculate errors\n",
    "    new_train_error = mean_squared_error(y_train_filled, mlp.predict(X_train_filled))\n",
    "    new_validation_error = mean_squared_error(y_validation_filled, mlp.predict(X_validation_filled))\n",
    "    new_test_error = mean_squared_error(y_test_filled, mlp.predict(X_test_filled))\n",
    "    \n",
    "    #print error as report\n",
    "    print('alpha: {:7} | train error: {:5} | val error: {:6} | test error: {}'.\n",
    "          format(alpha,\n",
    "                 round(new_train_error,3),\n",
    "                 round(new_validation_error,3),\n",
    "                 round(new_test_error,3)))"
   ]
  },
  {
   "cell_type": "markdown",
   "metadata": {},
   "source": []
  },
  {
   "cell_type": "code",
   "execution_count": 46,
   "metadata": {},
   "outputs": [
    {
     "name": "stdout",
     "output_type": "stream",
     "text": [
      "----------------------------------------------------------------------------\n",
      "alpha:  0.0001 | train error: 1046.183 | val error: 4.910851715397637e+61 | test error: 1.1306690817331811e+59\n",
      "alpha:   0.001 | train error: 1582.679 | val error: 3.9365363524195863e+61 | test error: 1.1290542798949676e+59\n",
      "alpha:    0.01 | train error: 1215.134 | val error: 5.39001782006778e+61 | test error: 1.3749317483976003e+59\n",
      "alpha:     0.1 | train error: 1289.846 | val error: 3.46498809636416e+61 | test error: 1.8400203187815024e+59\n",
      "alpha:       1 | train error: 1180.225 | val error: 2.923149860414411e+61 | test error: 2.016448721967014e+59\n",
      "alpha:      10 | train error: 1184.365 | val error: 4.162896674919318e+61 | test error: 1.8047803112106128e+59\n"
     ]
    }
   ],
   "source": [
    "alphas = [0.0001, 0.001, 0.01, 0.1, 1, 10]\n",
    "print('-'*76)\n",
    "\n",
    "for alpha in alphas:\n",
    "    #fit the model\n",
    "    mlp = MLPRegressor(hidden_layer_sizes=(100,100,100,100),alpha=alpha, max_iter=500,random_state=5)\n",
    "    mlp.fit(X_train_filled, y_train_filled)\n",
    "    \n",
    "    #calculate errors\n",
    "    new_train_error = mean_squared_error(y_train_filled, mlp.predict(X_train_filled))\n",
    "    new_validation_error = mean_squared_error(y_validation_filled, mlp.predict(X_validation_filled))\n",
    "    new_test_error = mean_squared_error(y_test_filled, mlp.predict(X_test_filled))\n",
    "    \n",
    "    #print error as report\n",
    "    print('alpha: {:7} | train error: {:5} | val error: {:6} | test error: {}'.\n",
    "          format(alpha,\n",
    "                 round(new_train_error,3),\n",
    "                 round(new_validation_error,3),\n",
    "                 round(new_test_error,3)))"
   ]
  },
  {
   "cell_type": "code",
   "execution_count": 62,
   "metadata": {},
   "outputs": [
    {
     "name": "stdout",
     "output_type": "stream",
     "text": [
      "----------------------------------------------------------------------------\n",
      "alpha:  0.0001 | train error: 2373.914 | val error: 5.709254436786455e+61 | test error: 7.085585588498432e+47\n",
      "alpha:   0.001 | train error: 2187.446 | val error: 2.7165360979457124e+61 | test error: 2.2152728630486337e+47\n",
      "alpha:    0.01 | train error: 2186.542 | val error: 2.71555853213082e+61 | test error: 2.214996462276027e+47\n",
      "alpha:     0.1 | train error: 2187.617 | val error: 2.7188017771218483e+61 | test error: 2.217232340725158e+47\n",
      "alpha:       1 | train error: 2328.101 | val error: 5.206340408406818e+61 | test error: 6.738853675607587e+47\n",
      "alpha:      10 | train error: 2188.39 | val error: 2.7538136043467724e+61 | test error: 2.2328669174309954e+47\n"
     ]
    }
   ],
   "source": [
    "alphas = [0.0001, 0.001, 0.01, 0.1, 1, 10]\n",
    "print('-'*76)\n",
    "\n",
    "for alpha in alphas:\n",
    "    #fit the model\n",
    "    mlp = MLPRegressor(hidden_layer_sizes=(100,100,100),activation = 'identity',alpha=alpha, max_iter=500,random_state=5)\n",
    "    mlp.fit(X_train_filled, y_train_filled)\n",
    "    \n",
    "    #calculate errors\n",
    "    new_train_error = mean_squared_error(y_train_filled, mlp.predict(X_train_filled))\n",
    "    new_validation_error = mean_squared_error(y_validation_filled, mlp.predict(X_validation_filled))\n",
    "    new_test_error = mean_squared_error(y_test_filled, mlp.predict(X_test_filled))\n",
    "    \n",
    "    #print error as report\n",
    "    print('alpha: {:7} | train error: {:5} | val error: {:6} | test error: {}'.\n",
    "          format(alpha,\n",
    "                 round(new_train_error,3),\n",
    "                 round(new_validation_error,3),\n",
    "                 round(new_test_error,3)))"
   ]
  },
  {
   "cell_type": "code",
   "execution_count": 49,
   "metadata": {},
   "outputs": [
    {
     "name": "stdout",
     "output_type": "stream",
     "text": [
      "----------------------------------------------------------------------------\n"
     ]
    },
    {
     "name": "stderr",
     "output_type": "stream",
     "text": [
      "/project/6016730/mlhaa/lib/python3.6/site-packages/sklearn/neural_network/multilayer_perceptron.py:564: ConvergenceWarning: Stochastic Optimizer: Maximum iterations (500) reached and the optimization hasn't converged yet.\n",
      "  % self.max_iter, ConvergenceWarning)\n"
     ]
    },
    {
     "name": "stdout",
     "output_type": "stream",
     "text": [
      "alpha:  0.0001 | train error: 3303.899 | val error: 9191.024 | test error: 3779.058\n",
      "alpha:   0.001 | train error: 3301.081 | val error: 9177.256 | test error: 3796.991\n"
     ]
    },
    {
     "name": "stderr",
     "output_type": "stream",
     "text": [
      "/project/6016730/mlhaa/lib/python3.6/site-packages/sklearn/neural_network/multilayer_perceptron.py:566: UserWarning: Training interrupted by user.\n",
      "  warnings.warn(\"Training interrupted by user.\")\n"
     ]
    },
    {
     "name": "stdout",
     "output_type": "stream",
     "text": [
      "alpha:    0.01 | train error: 3333.287 | val error: 9218.692 | test error: 3806.141\n",
      "alpha:     0.1 | train error: 3312.655 | val error: 9191.421 | test error: 3912.313\n",
      "alpha:       1 | train error: 3547.31 | val error: 9390.383 | test error: 3728.425\n",
      "alpha:      10 | train error: 3722.895 | val error: 9564.395 | test error: 3820.018\n"
     ]
    }
   ],
   "source": [
    "alphas = [0.0001, 0.001, 0.01, 0.1, 1, 10]\n",
    "print('-'*76)\n",
    "\n",
    "for alpha in alphas:\n",
    "    #fit the model\n",
    "    mlp = MLPRegressor(hidden_layer_sizes=(100,100,100),activation = 'logistic',alpha=alpha, max_iter=500,random_state=5)\n",
    "    mlp.fit(X_train_filled, y_train_filled)\n",
    "    \n",
    "    #calculate errors\n",
    "    new_train_error = mean_squared_error(y_train_filled, mlp.predict(X_train_filled))\n",
    "    new_validation_error = mean_squared_error(y_validation_filled, mlp.predict(X_validation_filled))\n",
    "    new_test_error = mean_squared_error(y_test_filled, mlp.predict(X_test_filled))\n",
    "    \n",
    "    #print error as report\n",
    "    print('alpha: {:7} | train error: {:5} | val error: {:6} | test error: {}'.\n",
    "          format(alpha,\n",
    "                 round(new_train_error,3),\n",
    "                 round(new_validation_error,3),\n",
    "                 round(new_test_error,3)))"
   ]
  },
  {
   "cell_type": "code",
   "execution_count": 57,
   "metadata": {},
   "outputs": [
    {
     "name": "stdout",
     "output_type": "stream",
     "text": [
      "----------------------------------------------------------------------------\n"
     ]
    },
    {
     "name": "stderr",
     "output_type": "stream",
     "text": [
      "/project/6016730/mlhaa/lib/python3.6/site-packages/sklearn/neural_network/multilayer_perceptron.py:566: UserWarning: Training interrupted by user.\n",
      "  warnings.warn(\"Training interrupted by user.\")\n"
     ]
    },
    {
     "name": "stdout",
     "output_type": "stream",
     "text": [
      "alpha:  0.0001 | train error: 3352.883 | val error: 9218.59 | test error: 4066.224\n"
     ]
    },
    {
     "name": "stderr",
     "output_type": "stream",
     "text": [
      "/project/6016730/mlhaa/lib/python3.6/site-packages/sklearn/neural_network/multilayer_perceptron.py:564: ConvergenceWarning: Stochastic Optimizer: Maximum iterations (500) reached and the optimization hasn't converged yet.\n",
      "  % self.max_iter, ConvergenceWarning)\n"
     ]
    },
    {
     "name": "stdout",
     "output_type": "stream",
     "text": [
      "alpha:   0.001 | train error: 3114.128 | val error: 9028.718 | test error: 3923.971\n",
      "alpha:    0.01 | train error: 3144.184 | val error: 9065.596 | test error: 4078.906\n",
      "alpha:     0.1 | train error: 3261.281 | val error: 9153.053 | test error: 4333.866\n",
      "alpha:       1 | train error: 3544.282 | val error: 9400.227 | test error: 3885.013\n",
      "alpha:      10 | train error: 3722.278 | val error: 9586.258 | test error: 3952.441\n"
     ]
    }
   ],
   "source": [
    "alphas = [0.0001, 0.001, 0.01, 0.1, 1, 10]\n",
    "print('-'*76)\n",
    "\n",
    "for alpha in alphas:\n",
    "    #fit the model\n",
    "    mlp = MLPRegressor(hidden_layer_sizes=(100,100,100),activation = 'tanh',alpha=alpha, max_iter=500,random_state=5)\n",
    "    mlp.fit(X_train_filled, y_train_filled)\n",
    "    \n",
    "    #calculate errors\n",
    "    new_train_error = mean_squared_error(y_train_filled, mlp.predict(X_train_filled))\n",
    "    new_validation_error = mean_squared_error(y_validation_filled, mlp.predict(X_validation_filled))\n",
    "    new_test_error = mean_squared_error(y_test_filled, mlp.predict(X_test_filled))\n",
    "    \n",
    "    #print error as report\n",
    "    print('alpha: {:7} | train error: {:5} | val error: {:6} | test error: {}'.\n",
    "          format(alpha,\n",
    "                 round(new_train_error,3),\n",
    "                 round(new_validation_error,3),\n",
    "                 round(new_test_error,3)))"
   ]
  },
  {
   "cell_type": "code",
   "execution_count": null,
   "metadata": {},
   "outputs": [],
   "source": []
  },
  {
   "cell_type": "code",
   "execution_count": null,
   "metadata": {},
   "outputs": [],
   "source": []
  },
  {
   "cell_type": "markdown",
   "metadata": {},
   "source": [
    "Auto-sklearn"
   ]
  },
  {
   "cell_type": "code",
   "execution_count": 66,
   "metadata": {},
   "outputs": [],
   "source": [
    "import sklearn.model_selection\n",
    "import sklearn.datasets\n",
    "import sklearn.metrics"
   ]
  }
 ],
 "metadata": {
  "kernelspec": {
   "display_name": "Python 3",
   "language": "python",
   "name": "python3"
  },
  "language_info": {
   "codemirror_mode": {
    "name": "ipython",
    "version": 3
   },
   "file_extension": ".py",
   "mimetype": "text/x-python",
   "name": "python",
   "nbconvert_exporter": "python",
   "pygments_lexer": "ipython3",
   "version": "3.6.3"
  }
 },
 "nbformat": 4,
 "nbformat_minor": 2
}
