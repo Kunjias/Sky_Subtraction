{
 "cells": [
  {
   "cell_type": "markdown",
   "metadata": {},
   "source": [
    "## Plate_4042 Red Spectra Analysis"
   ]
  },
  {
   "cell_type": "code",
   "execution_count": 1,
   "metadata": {},
   "outputs": [],
   "source": [
    "import numpy as np\n",
    "import numpy.ma as ma\n",
    "import matplotlib.pyplot as plt"
   ]
  },
  {
   "cell_type": "code",
   "execution_count": 2,
   "metadata": {},
   "outputs": [
    {
     "name": "stdout",
     "output_type": "stream",
     "text": [
      "0.3.1\n"
     ]
    }
   ],
   "source": [
    "import bossdata\n",
    "print(bossdata.__version__)"
   ]
  },
  {
   "cell_type": "code",
   "execution_count": 51,
   "metadata": {},
   "outputs": [],
   "source": [
    "import bossdata.path\n",
    "import bossdata.remote\n",
    "import bossdata.meta \n",
    "import bossdata.spec as spec\n",
    "import bossdata.plate as plate"
   ]
  },
  {
   "cell_type": "code",
   "execution_count": 4,
   "metadata": {},
   "outputs": [],
   "source": [
    "import astropy.io.fits as fits\n",
    "from astropy.table import Table"
   ]
  },
  {
   "cell_type": "code",
   "execution_count": 5,
   "metadata": {},
   "outputs": [],
   "source": [
    "import fitsio\n",
    "from fitsio import FITS, FITSHDR"
   ]
  },
  {
   "cell_type": "code",
   "execution_count": 6,
   "metadata": {},
   "outputs": [],
   "source": [
    "from operator import and_"
   ]
  },
  {
   "cell_type": "code",
   "execution_count": 7,
   "metadata": {},
   "outputs": [],
   "source": [
    "import os\n",
    "workdir = os.environ['SCRATCH']\n",
    "os.environ[\"BOSS_DATA_URL\"] = 'http://dr12.sdss3.org'\n",
    "os.environ[\"BOSS_LOCAL_ROOT\"] = os.path.join(workdir,'sdss')\n",
    "os.environ[\"BOSS_SAS_PATH\"] = '/sas/dr12/boss'\n",
    "os.environ[\"BOSS_REDUX_VERSION\"]='v5_7_0'"
   ]
  },
  {
   "cell_type": "code",
   "execution_count": 8,
   "metadata": {},
   "outputs": [
    {
     "data": {
      "text/plain": [
       "'/scratch/kunjias'"
      ]
     },
     "execution_count": 8,
     "metadata": {},
     "output_type": "execute_result"
    }
   ],
   "source": [
    "os.chdir(workdir)\n",
    "os.getcwd()"
   ]
  },
  {
   "cell_type": "code",
   "execution_count": 9,
   "metadata": {},
   "outputs": [],
   "source": [
    "finder = bossdata.path.Finder()\n",
    "mirror = bossdata.remote.Manager()"
   ]
  },
  {
   "cell_type": "markdown",
   "metadata": {},
   "source": [
    "### PlateFile"
   ]
  },
  {
   "cell_type": "markdown",
   "metadata": {},
   "source": [
    "The PlugMap which contains Object type information is accessed through the Plate File to obtain the sky fiber ID data."
   ]
  },
  {
   "cell_type": "code",
   "execution_count": 10,
   "metadata": {},
   "outputs": [],
   "source": [
    "plate_file_path = finder.get_plate_spec_path(plate=4042,mjd=55626)"
   ]
  },
  {
   "cell_type": "code",
   "execution_count": 11,
   "metadata": {},
   "outputs": [
    {
     "data": {
      "text/plain": [
       "'/sas/dr12/boss/spectro/redux/v5_7_0/4042/spPlate-4042-55626.fits'"
      ]
     },
     "execution_count": 11,
     "metadata": {},
     "output_type": "execute_result"
    }
   ],
   "source": [
    "plate_file_path"
   ]
  },
  {
   "cell_type": "code",
   "execution_count": 12,
   "metadata": {},
   "outputs": [],
   "source": [
    "plate_file = mirror.get(plate_file_path, progress_min_size=2,auto_download=True, local_paths=None)"
   ]
  },
  {
   "cell_type": "code",
   "execution_count": 13,
   "metadata": {},
   "outputs": [
    {
     "data": {
      "text/plain": [
       "'/scratch/kunjias/sdss/sas/dr12/boss/spectro/redux/v5_7_0/4042/spPlate-4042-55626.fits'"
      ]
     },
     "execution_count": 13,
     "metadata": {},
     "output_type": "execute_result"
    }
   ],
   "source": [
    "plate_file"
   ]
  },
  {
   "cell_type": "code",
   "execution_count": 14,
   "metadata": {},
   "outputs": [],
   "source": [
    "plate = plate.PlateFile(plate_file)"
   ]
  },
  {
   "cell_type": "code",
   "execution_count": 15,
   "metadata": {},
   "outputs": [
    {
     "data": {
      "text/plain": [
       "bossdata.plate.PlateFile"
      ]
     },
     "execution_count": 15,
     "metadata": {},
     "output_type": "execute_result"
    }
   ],
   "source": [
    "type(plate)"
   ]
  },
  {
   "cell_type": "code",
   "execution_count": 16,
   "metadata": {},
   "outputs": [],
   "source": [
    "plug_map = plate.plug_map"
   ]
  },
  {
   "cell_type": "code",
   "execution_count": 17,
   "metadata": {},
   "outputs": [
    {
     "data": {
      "text/plain": [
       "astropy.table.table.Table"
      ]
     },
     "execution_count": 17,
     "metadata": {},
     "output_type": "execute_result"
    }
   ],
   "source": [
    "type(plug_map)"
   ]
  },
  {
   "cell_type": "code",
   "execution_count": 18,
   "metadata": {},
   "outputs": [
    {
     "data": {
      "text/plain": [
       "<TableColumns names=('OBJID','HOLETYPE','RA','DEC','MAG','STARL','EXPL','DEVAUCL','OBJTYPE','XFOCAL','YFOCAL','SPECTROGRAPHID','FIBERID','THROUGHPUT','PRIMTARGET','SECTARGET','OFFSETID','SCI_EXPTIME','SOURCETYPE','LAMBDA_EFF','ZOFFSET','BLUEFIBER','BOSS_TARGET1','BOSS_TARGET2','ANCILLARY_TARGET1','ANCILLARY_TARGET2','RUN','RERUN','CAMCOL','FIELD','ID','CALIBFLUX','CALIBFLUX_IVAR','CALIB_STATUS','SFD_EBV')>"
      ]
     },
     "execution_count": 18,
     "metadata": {},
     "output_type": "execute_result"
    }
   ],
   "source": [
    "plug_map.columns"
   ]
  },
  {
   "cell_type": "code",
   "execution_count": 19,
   "metadata": {},
   "outputs": [],
   "source": [
    "#plug_map"
   ]
  },
  {
   "cell_type": "code",
   "execution_count": 20,
   "metadata": {},
   "outputs": [],
   "source": [
    "plug_map_by_OBJTYPE = plug_map.group_by('OBJTYPE')"
   ]
  },
  {
   "cell_type": "code",
   "execution_count": 21,
   "metadata": {},
   "outputs": [
    {
     "name": "stdout",
     "output_type": "stream",
     "text": [
      " OBJID [5]  HOLETYPE         RA         ... CALIB_STATUS [5]   SFD_EBV  \n",
      "----------- -------- ------------------ ... ---------------- -----------\n",
      "1462 .. 369   OBJECT 206.03800999999999 ...           1 .. 1   0.0274261\n",
      "1458 .. 896   OBJECT 205.95889999999997 ...           1 .. 1 0.026837584\n",
      "1462 .. 993   OBJECT          206.00711 ...           1 .. 1 0.027222035\n",
      "1458 .. 603   OBJECT          206.12446 ...           1 .. 1 0.029622525\n",
      "1458 .. 488   OBJECT           206.0725 ...           1 .. 1  0.03049911\n",
      " 1458 .. 18   OBJECT 206.10034999999993 ...           1 .. 1 0.030155117\n",
      "1462 .. 705   OBJECT          206.00829 ...           1 .. 1 0.024931649\n",
      "1462 .. 783   OBJECT 206.03178000000003 ...           1 .. 1 0.025405508\n",
      "1462 .. 672   OBJECT 206.13948000000005 ...           1 .. 1 0.026402809\n",
      "1462 .. 908   OBJECT            205.726 ...           1 .. 1 0.023624348\n",
      "        ...      ...                ... ...              ...         ...\n",
      "1462 .. 119   OBJECT 203.36805000000004 ...           1 .. 1 0.024123214\n",
      "  1462 .. 6   OBJECT 203.51459999999997 ...           1 .. 1 0.027142491\n",
      "1462 .. 132   OBJECT 203.83050000000003 ...           1 .. 1 0.028269604\n",
      "  1462 .. 9   OBJECT          204.11478 ...           1 .. 1  0.01975932\n",
      "1462 .. 222   OBJECT 204.56232999999997 ...           1 .. 1 0.020451251\n",
      "1462 .. 177   OBJECT 204.52835000000005 ...           1 .. 1 0.020987796\n",
      "1462 .. 181   OBJECT          204.92025 ...           1 .. 1 0.025580548\n",
      " 1462 .. 74   OBJECT          205.02297 ...           1 .. 1 0.022056011\n",
      "1462 .. 225   OBJECT 205.41665999999998 ...           1 .. 1  0.02222637\n",
      "1462 .. 267   OBJECT          205.44673 ...           1 .. 1 0.022440111\n",
      "1458 .. 176   OBJECT 205.67758000000003 ...           1 .. 1 0.023792924\n",
      "Length = 1000 rows\n"
     ]
    }
   ],
   "source": [
    "print (plug_map_by_OBJTYPE)"
   ]
  },
  {
   "cell_type": "code",
   "execution_count": 22,
   "metadata": {},
   "outputs": [
    {
     "name": "stdout",
     "output_type": "stream",
     "text": [
      "    OBJTYPE     \n",
      "----------------\n",
      "GALAXY          \n",
      "NA              \n",
      "QSO             \n",
      "SKY             \n",
      "SPECTROPHOTO_STD\n"
     ]
    }
   ],
   "source": [
    "print(plug_map_by_OBJTYPE.groups.keys)"
   ]
  },
  {
   "cell_type": "code",
   "execution_count": 23,
   "metadata": {},
   "outputs": [
    {
     "name": "stdout",
     "output_type": "stream",
     "text": [
      "[   0  660  687  883  980 1000]\n"
     ]
    }
   ],
   "source": [
    "print(plug_map_by_OBJTYPE.groups.indices)"
   ]
  },
  {
   "cell_type": "code",
   "execution_count": 24,
   "metadata": {},
   "outputs": [
    {
     "name": "stdout",
     "output_type": "stream",
     "text": [
      "    OBJTYPE      FIBERID\n",
      "---------------- -------\n",
      "GALAXY                 1\n",
      "GALAXY                 3\n",
      "GALAXY                 5\n",
      "GALAXY                 7\n",
      "GALAXY                 9\n",
      "GALAXY                11\n",
      "GALAXY                13\n",
      "GALAXY                17\n",
      "GALAXY                19\n",
      "GALAXY                21\n",
      "             ...     ...\n",
      "SPECTROPHOTO_STD     506\n",
      "SPECTROPHOTO_STD     548\n",
      "SPECTROPHOTO_STD     590\n",
      "SPECTROPHOTO_STD     650\n",
      "SPECTROPHOTO_STD     744\n",
      "SPECTROPHOTO_STD     748\n",
      "SPECTROPHOTO_STD     804\n",
      "SPECTROPHOTO_STD     826\n",
      "SPECTROPHOTO_STD     906\n",
      "SPECTROPHOTO_STD     908\n",
      "SPECTROPHOTO_STD     946\n",
      "Length = 1000 rows\n"
     ]
    }
   ],
   "source": [
    "print(plug_map.group_by(['OBJTYPE','FIBERID']).groups.keys)"
   ]
  },
  {
   "cell_type": "code",
   "execution_count": 25,
   "metadata": {},
   "outputs": [],
   "source": [
    "sky = plug_map_by_OBJTYPE.groups[3]"
   ]
  },
  {
   "cell_type": "code",
   "execution_count": 26,
   "metadata": {},
   "outputs": [
    {
     "name": "stdout",
     "output_type": "stream",
     "text": [
      "OBJID [5] HOLETYPE         RA         ... CALIB_STATUS [5]   SFD_EBV  \n",
      "--------- -------- ------------------ ... ---------------- -----------\n",
      "   0 .. 0   OBJECT 206.01017000000002 ...           0 .. 0 0.030268738\n",
      "   0 .. 0   OBJECT 205.97262999999998 ...           0 .. 0  0.02304276\n",
      "   0 .. 0   OBJECT 205.77733999999998 ...           0 .. 0 0.026272655\n",
      "   0 .. 0   OBJECT 205.88119000000006 ...           0 .. 0 0.025491484\n",
      "   0 .. 0   OBJECT 205.71387000000004 ...           0 .. 0 0.028062414\n",
      "   0 .. 0   OBJECT 205.71614999999997 ...           0 .. 0  0.02740674\n",
      "   0 .. 0   OBJECT          205.42552 ...           0 .. 0 0.027742766\n",
      "   0 .. 0   OBJECT           205.4008 ...           0 .. 0 0.034040745\n",
      "   0 .. 0   OBJECT 205.43461000000002 ...           0 .. 0  0.03325917\n",
      "   0 .. 0   OBJECT 205.40634999999997 ...           0 .. 0 0.024912208\n",
      "      ...      ...                ... ...              ...         ...\n",
      "   0 .. 0   OBJECT            205.255 ...           0 .. 0 0.026410136\n",
      "   0 .. 0   OBJECT 205.53103999999996 ...           0 .. 0 0.023409156\n",
      "   0 .. 0   OBJECT 205.51610000000005 ...           0 .. 0 0.022937655\n",
      "   0 .. 0   OBJECT 205.53781000000004 ...           0 .. 0  0.02900111\n",
      "   0 .. 0   OBJECT          205.49973 ...           0 .. 0  0.02693639\n",
      "   0 .. 0   OBJECT 205.64642000000003 ...           0 .. 0 0.024095008\n",
      "   0 .. 0   OBJECT 205.80563000000006 ...           0 .. 0 0.024379615\n",
      "   0 .. 0   OBJECT 205.65628000000004 ...           0 .. 0 0.024534905\n",
      "   0 .. 0   OBJECT           205.6554 ...           0 .. 0 0.024393346\n",
      "   0 .. 0   OBJECT 205.92016999999998 ...           0 .. 0  0.02467176\n",
      "   0 .. 0   OBJECT 206.02198999999996 ...           0 .. 0  0.02305784\n",
      "Length = 97 rows\n"
     ]
    }
   ],
   "source": [
    "print(sky)"
   ]
  },
  {
   "cell_type": "code",
   "execution_count": 27,
   "metadata": {},
   "outputs": [
    {
     "data": {
      "text/plain": [
       "astropy.table.column.Column"
      ]
     },
     "execution_count": 27,
     "metadata": {},
     "output_type": "execute_result"
    }
   ],
   "source": [
    "type(sky['FIBERID'])"
   ]
  },
  {
   "cell_type": "code",
   "execution_count": 28,
   "metadata": {},
   "outputs": [
    {
     "data": {
      "text/html": [
       "&lt;Column name=&apos;FIBERID&apos; dtype=&apos;int32&apos; length=97&gt;\n",
       "<table>\n",
       "<tr><td>14</td></tr>\n",
       "<tr><td>15</td></tr>\n",
       "<tr><td>24</td></tr>\n",
       "<tr><td>30</td></tr>\n",
       "<tr><td>44</td></tr>\n",
       "<tr><td>48</td></tr>\n",
       "<tr><td>80</td></tr>\n",
       "<tr><td>88</td></tr>\n",
       "<tr><td>90</td></tr>\n",
       "<tr><td>102</td></tr>\n",
       "<tr><td>106</td></tr>\n",
       "<tr><td>112</td></tr>\n",
       "<tr><td>...</td></tr>\n",
       "<tr><td>884</td></tr>\n",
       "<tr><td>890</td></tr>\n",
       "<tr><td>914</td></tr>\n",
       "<tr><td>916</td></tr>\n",
       "<tr><td>932</td></tr>\n",
       "<tr><td>936</td></tr>\n",
       "<tr><td>952</td></tr>\n",
       "<tr><td>954</td></tr>\n",
       "<tr><td>962</td></tr>\n",
       "<tr><td>980</td></tr>\n",
       "<tr><td>984</td></tr>\n",
       "<tr><td>986</td></tr>\n",
       "</table>"
      ],
      "text/plain": [
       "<Column name='FIBERID' dtype='int32' length=97>\n",
       " 14\n",
       " 15\n",
       " 24\n",
       " 30\n",
       " 44\n",
       " 48\n",
       " 80\n",
       " 88\n",
       " 90\n",
       "102\n",
       "106\n",
       "112\n",
       "...\n",
       "884\n",
       "890\n",
       "914\n",
       "916\n",
       "932\n",
       "936\n",
       "952\n",
       "954\n",
       "962\n",
       "980\n",
       "984\n",
       "986"
      ]
     },
     "execution_count": 28,
     "metadata": {},
     "output_type": "execute_result"
    }
   ],
   "source": [
    "sky['FIBERID']"
   ]
  },
  {
   "cell_type": "code",
   "execution_count": 29,
   "metadata": {},
   "outputs": [],
   "source": [
    "sky_fibers = np.array(sky['FIBERID'])"
   ]
  },
  {
   "cell_type": "code",
   "execution_count": 30,
   "metadata": {},
   "outputs": [
    {
     "data": {
      "text/plain": [
       "array([ 14,  15,  24,  30,  44,  48,  80,  88,  90, 102, 106, 112, 130,\n",
       "       134, 142, 156, 168, 175, 188, 204, 216, 228, 252, 260, 276, 286,\n",
       "       296, 310, 314, 322, 328, 352, 356, 372, 374, 394, 398, 402, 412,\n",
       "       430, 436, 450, 452, 462, 490, 498, 499, 510, 514, 524, 536, 546,\n",
       "       552, 566, 576, 592, 598, 610, 616, 627, 640, 641, 652, 664, 667,\n",
       "       684, 686, 704, 708, 724, 728, 754, 756, 770, 780, 794, 796, 802,\n",
       "       812, 824, 837, 844, 858, 866, 870, 884, 890, 914, 916, 932, 936,\n",
       "       952, 954, 962, 980, 984, 986], dtype=int32)"
      ]
     },
     "execution_count": 30,
     "metadata": {},
     "output_type": "execute_result"
    }
   ],
   "source": [
    "sky_fibers"
   ]
  },
  {
   "cell_type": "code",
   "execution_count": 31,
   "metadata": {},
   "outputs": [
    {
     "data": {
      "text/plain": [
       "97"
      ]
     },
     "execution_count": 31,
     "metadata": {},
     "output_type": "execute_result"
    }
   ],
   "source": [
    "len(sky_fibers)"
   ]
  },
  {
   "cell_type": "code",
   "execution_count": 32,
   "metadata": {},
   "outputs": [
    {
     "data": {
      "text/plain": [
       "986"
      ]
     },
     "execution_count": 32,
     "metadata": {},
     "output_type": "execute_result"
    }
   ],
   "source": [
    "sky_fibers[96]"
   ]
  },
  {
   "cell_type": "markdown",
   "metadata": {},
   "source": [
    "There are 97 sky fibers in among the 1000 fibers in plate_4042, which is around the average 10% sky fiber ratio in BOSS Survey design."
   ]
  },
  {
   "cell_type": "markdown",
   "metadata": {},
   "source": [
    "### Sky Fibers seperated by Spectrograph"
   ]
  },
  {
   "cell_type": "code",
   "execution_count": 33,
   "metadata": {},
   "outputs": [],
   "source": [
    "def spec1_fiber(fibers):\n",
    "    fibers1 = []\n",
    "    for i in range(0,len(fibers)):\n",
    "        if fibers[i] < 501:\n",
    "            fibers1.append(fibers[i])\n",
    "    return fibers1"
   ]
  },
  {
   "cell_type": "code",
   "execution_count": 34,
   "metadata": {},
   "outputs": [],
   "source": [
    "def spec2_fiber(fibers):\n",
    "    fibers2 = []\n",
    "    for i in range(0,len(fibers)):\n",
    "        if fibers[i] >= 501:\n",
    "            fibers2.append(fibers[i])\n",
    "    return fibers2"
   ]
  },
  {
   "cell_type": "code",
   "execution_count": 35,
   "metadata": {},
   "outputs": [],
   "source": [
    "sky_fibers1 = spec1_fiber(sky_fibers)"
   ]
  },
  {
   "cell_type": "code",
   "execution_count": 36,
   "metadata": {},
   "outputs": [],
   "source": [
    "#sky_fibers1"
   ]
  },
  {
   "cell_type": "code",
   "execution_count": 37,
   "metadata": {},
   "outputs": [
    {
     "data": {
      "text/plain": [
       "47"
      ]
     },
     "execution_count": 37,
     "metadata": {},
     "output_type": "execute_result"
    }
   ],
   "source": [
    "len(sky_fibers1)"
   ]
  },
  {
   "cell_type": "code",
   "execution_count": 38,
   "metadata": {},
   "outputs": [],
   "source": [
    "sky_fibers2 = spec2_fiber(sky_fibers)"
   ]
  },
  {
   "cell_type": "code",
   "execution_count": 39,
   "metadata": {},
   "outputs": [],
   "source": [
    "#sky_fibers2"
   ]
  },
  {
   "cell_type": "code",
   "execution_count": 40,
   "metadata": {},
   "outputs": [
    {
     "data": {
      "text/plain": [
       "50"
      ]
     },
     "execution_count": 40,
     "metadata": {},
     "output_type": "execute_result"
    }
   ],
   "source": [
    "len(sky_fibers2)"
   ]
  },
  {
   "cell_type": "code",
   "execution_count": 41,
   "metadata": {},
   "outputs": [],
   "source": [
    "fibers1 = np.arange(1,501,1)"
   ]
  },
  {
   "cell_type": "code",
   "execution_count": 42,
   "metadata": {},
   "outputs": [],
   "source": [
    "#fibers2 = np.arange(501,1001,1)"
   ]
  },
  {
   "cell_type": "markdown",
   "metadata": {},
   "source": [
    "Whole range of fibers from 1-500 and 501-1000, not used here. Analysis proceeds with sky fibers only."
   ]
  },
  {
   "cell_type": "markdown",
   "metadata": {},
   "source": [
    "## Plate 4042 plan file"
   ]
  },
  {
   "cell_type": "markdown",
   "metadata": {},
   "source": [
    "Path to plan file and download to workspace."
   ]
  },
  {
   "cell_type": "code",
   "execution_count": 43,
   "metadata": {},
   "outputs": [],
   "source": [
    "combined_plan_path = finder.get_plate_plan_path(plate=4042,mjd=55626, combined=True)"
   ]
  },
  {
   "cell_type": "code",
   "execution_count": 44,
   "metadata": {},
   "outputs": [
    {
     "data": {
      "text/plain": [
       "'/sas/dr12/boss/spectro/redux/v5_7_0/4042/spPlancomb-4042-55626.par'"
      ]
     },
     "execution_count": 44,
     "metadata": {},
     "output_type": "execute_result"
    }
   ],
   "source": [
    "combined_plan_path"
   ]
  },
  {
   "cell_type": "code",
   "execution_count": 45,
   "metadata": {},
   "outputs": [],
   "source": [
    "combined_plan_file = mirror.get(combined_plan_path, progress_min_size=2,auto_download=True, local_paths=None)"
   ]
  },
  {
   "cell_type": "code",
   "execution_count": 49,
   "metadata": {},
   "outputs": [
    {
     "data": {
      "text/plain": [
       "'/scratch/kunjias/sdss/sas/dr12/boss/spectro/redux/v5_7_0/4042/spPlancomb-4042-55626.par'"
      ]
     },
     "execution_count": 49,
     "metadata": {},
     "output_type": "execute_result"
    }
   ],
   "source": [
    "combined_plan_file"
   ]
  },
  {
   "cell_type": "markdown",
   "metadata": {},
   "source": [
    "The plan file for configuring BOSS pipeline to combined exposures of plate 4042."
   ]
  },
  {
   "cell_type": "code",
   "execution_count": 52,
   "metadata": {},
   "outputs": [],
   "source": [
    "combined_plan = plate.Plan(combined_plan_file)"
   ]
  },
  {
   "cell_type": "code",
   "execution_count": 53,
   "metadata": {},
   "outputs": [
    {
     "data": {
      "text/plain": [
       "<bossdata.plate.Plan at 0x7f285ba4c0f0>"
      ]
     },
     "execution_count": 53,
     "metadata": {},
     "output_type": "execute_result"
    }
   ],
   "source": [
    "combined_plan"
   ]
  },
  {
   "cell_type": "markdown",
   "metadata": {},
   "source": [
    "Get the spectrograph index."
   ]
  },
  {
   "cell_type": "code",
   "execution_count": 54,
   "metadata": {},
   "outputs": [
    {
     "data": {
      "text/plain": [
       "1"
      ]
     },
     "execution_count": 54,
     "metadata": {},
     "output_type": "execute_result"
    }
   ],
   "source": [
    "combined_plan.get_spectrograph_index(1)"
   ]
  },
  {
   "cell_type": "code",
   "execution_count": 55,
   "metadata": {},
   "outputs": [
    {
     "data": {
      "text/plain": [
       "1"
      ]
     },
     "execution_count": 55,
     "metadata": {},
     "output_type": "execute_result"
    }
   ],
   "source": [
    "combined_plan.get_spectrograph_index(500)"
   ]
  },
  {
   "cell_type": "code",
   "execution_count": 56,
   "metadata": {},
   "outputs": [
    {
     "data": {
      "text/plain": [
       "2"
      ]
     },
     "execution_count": 56,
     "metadata": {},
     "output_type": "execute_result"
    }
   ],
   "source": [
    "combined_plan.get_spectrograph_index(501)"
   ]
  },
  {
   "cell_type": "code",
   "execution_count": 57,
   "metadata": {},
   "outputs": [
    {
     "data": {
      "text/plain": [
       "2"
      ]
     },
     "execution_count": 57,
     "metadata": {},
     "output_type": "execute_result"
    }
   ],
   "source": [
    "combined_plan.get_spectrograph_index(1000)"
   ]
  },
  {
   "cell_type": "markdown",
   "metadata": {},
   "source": [
    "### Exposure[0], Spectrograph 1, Fiber 1-500"
   ]
  },
  {
   "cell_type": "markdown",
   "metadata": {},
   "source": [
    "Locate and download the file of a single science exposure for spectrogtaph 1. The exposure file to return is set to 'spCFrame'."
   ]
  },
  {
   "cell_type": "code",
   "execution_count": 58,
   "metadata": {},
   "outputs": [],
   "source": [
    "exp0_spec1_path = combined_plan.get_exposure_name(sequence_number=0,band='red',fiber=1,ftype='spCFrame')"
   ]
  },
  {
   "cell_type": "code",
   "execution_count": 59,
   "metadata": {},
   "outputs": [
    {
     "data": {
      "text/plain": [
       "'/sas/dr12/boss/spectro/redux/v5_7_0/4042/spCFrame-r1-00127588.fits'"
      ]
     },
     "execution_count": 59,
     "metadata": {},
     "output_type": "execute_result"
    }
   ],
   "source": [
    "exp0_spec1_path"
   ]
  },
  {
   "cell_type": "code",
   "execution_count": 60,
   "metadata": {},
   "outputs": [],
   "source": [
    "exp0_spec1_file = mirror.get(exp0_spec1_path)"
   ]
  },
  {
   "cell_type": "code",
   "execution_count": 61,
   "metadata": {},
   "outputs": [
    {
     "data": {
      "text/plain": [
       "'/scratch/kunjias/sdss/sas/dr12/boss/spectro/redux/v5_7_0/4042/spCFrame-r1-00127588.fits'"
      ]
     },
     "execution_count": 61,
     "metadata": {},
     "output_type": "execute_result"
    }
   ],
   "source": [
    "exp0_spec1_file"
   ]
  },
  {
   "cell_type": "markdown",
   "metadata": {},
   "source": [
    "#### Frame file of exposure[0] of spectrograph 1\n",
    "\n",
    "Frame file containing single exposure 0 of spectrograph 1 (half plate)."
   ]
  },
  {
   "cell_type": "code",
   "execution_count": 62,
   "metadata": {},
   "outputs": [],
   "source": [
    "expo0_spec1_frame = plate.FrameFile(exp0_spec1_file, index=1, calibrated = True)"
   ]
  },
  {
   "cell_type": "code",
   "execution_count": 63,
   "metadata": {},
   "outputs": [
    {
     "name": "stdout",
     "output_type": "stream",
     "text": [
      "plate_number: 4042 camera: r1 exposure_id: 127588\n"
     ]
    }
   ],
   "source": [
    "# expo0_spec1_frame\n",
    "print('plate_number:',expo0_spec1_frame.plate,\n",
    "'camera:',expo0_spec1_frame.camera,\n",
    "'exposure_id:',expo0_spec1_frame.exposure_id)\n",
    "# expo0_spec1_frame.header"
   ]
  },
  {
   "cell_type": "markdown",
   "metadata": {},
   "source": [
    "#### Concern with wavelength shifts?"
   ]
  },
  {
   "cell_type": "code",
   "execution_count": 64,
   "metadata": {},
   "outputs": [],
   "source": [
    "fiber2 = expo0_spec1_frame.get_valid_data(fibers = [2],pixel_quality_mask=None, include_wdisp=False, include_sky=True, use_ivar=True, use_loglam=False)"
   ]
  },
  {
   "cell_type": "code",
   "execution_count": 65,
   "metadata": {},
   "outputs": [],
   "source": [
    "fiber3 = expo0_spec1_frame.get_valid_data(fibers = [3],pixel_quality_mask=None, include_wdisp=False, include_sky=True, use_ivar=True, use_loglam=False)"
   ]
  },
  {
   "cell_type": "code",
   "execution_count": 66,
   "metadata": {},
   "outputs": [
    {
     "data": {
      "text/plain": [
       "(1, 4128)"
      ]
     },
     "execution_count": 66,
     "metadata": {},
     "output_type": "execute_result"
    }
   ],
   "source": [
    "fiber2.shape"
   ]
  },
  {
   "cell_type": "code",
   "execution_count": 67,
   "metadata": {},
   "outputs": [
    {
     "data": {
      "text/plain": [
       "(1, 4128)"
      ]
     },
     "execution_count": 67,
     "metadata": {},
     "output_type": "execute_result"
    }
   ],
   "source": [
    "fiber3.shape"
   ]
  },
  {
   "cell_type": "code",
   "execution_count": 68,
   "metadata": {},
   "outputs": [],
   "source": [
    "wavelength_2 = fiber2['wavelength'].data"
   ]
  },
  {
   "cell_type": "code",
   "execution_count": 69,
   "metadata": {},
   "outputs": [],
   "source": [
    "wavelength_3 = fiber3['wavelength'].data"
   ]
  },
  {
   "cell_type": "code",
   "execution_count": 70,
   "metadata": {},
   "outputs": [
    {
     "data": {
      "text/plain": [
       "-3.5473622e-05"
      ]
     },
     "execution_count": 70,
     "metadata": {},
     "output_type": "execute_result"
    }
   ],
   "source": [
    "np.mean((wavelength_3 - wavelength_2)/wavelength_2)"
   ]
  },
  {
   "cell_type": "code",
   "execution_count": 71,
   "metadata": {},
   "outputs": [
    {
     "data": {
      "text/plain": [
       "-3.547517e-05"
      ]
     },
     "execution_count": 71,
     "metadata": {},
     "output_type": "execute_result"
    }
   ],
   "source": [
    "np.mean((wavelength_3 - wavelength_2)/wavelength_3)"
   ]
  },
  {
   "cell_type": "markdown",
   "metadata": {},
   "source": [
    "The BOSS spectroscopic data is taken under resolution of 1500 at 3800 Å, 2500 at 9000 Å."
   ]
  },
  {
   "cell_type": "code",
   "execution_count": 72,
   "metadata": {},
   "outputs": [
    {
     "data": {
      "text/plain": [
       "0.0004"
      ]
     },
     "execution_count": 72,
     "metadata": {},
     "output_type": "execute_result"
    }
   ],
   "source": [
    "1/2500"
   ]
  },
  {
   "cell_type": "code",
   "execution_count": 73,
   "metadata": {},
   "outputs": [
    {
     "data": {
      "text/plain": [
       "0.0006666666666666666"
      ]
     },
     "execution_count": 73,
     "metadata": {},
     "output_type": "execute_result"
    }
   ],
   "source": [
    "1/1500"
   ]
  },
  {
   "cell_type": "markdown",
   "metadata": {},
   "source": [
    "The percentage change in wavelength data between fiber2 and fiber 3 is less than 1%, and inverse of BOSS's resolution is larger than the percentage change in wavelength difference between fibers. Thus, the wavelength shift is negligible. (These two fibers are taken as examples.)"
   ]
  },
  {
   "cell_type": "markdown",
   "metadata": {},
   "source": [
    "#### Get valid data for the 47 sky fibers in Spectrograph 1."
   ]
  },
  {
   "cell_type": "code",
   "execution_count": 74,
   "metadata": {},
   "outputs": [],
   "source": [
    "spec1_sky = expo0_spec1_frame.get_valid_data(fibers = sky_fibers1,pixel_quality_mask=None, include_wdisp=False, include_sky=True, use_ivar=True, use_loglam=False)"
   ]
  },
  {
   "cell_type": "code",
   "execution_count": 75,
   "metadata": {},
   "outputs": [],
   "source": [
    "#spec1_sky"
   ]
  },
  {
   "cell_type": "code",
   "execution_count": 76,
   "metadata": {},
   "outputs": [
    {
     "data": {
      "text/plain": [
       "(47, 4128)"
      ]
     },
     "execution_count": 76,
     "metadata": {},
     "output_type": "execute_result"
    }
   ],
   "source": [
    "spec1_sky.shape"
   ]
  },
  {
   "cell_type": "code",
   "execution_count": 77,
   "metadata": {},
   "outputs": [
    {
     "data": {
      "text/plain": [
       "numpy.ma.core.MaskedArray"
      ]
     },
     "execution_count": 77,
     "metadata": {},
     "output_type": "execute_result"
    }
   ],
   "source": [
    "type(spec1_sky)"
   ]
  },
  {
   "cell_type": "code",
   "execution_count": 78,
   "metadata": {},
   "outputs": [],
   "source": [
    "wavelength_spec1_data = spec1_sky.data['wavelength']"
   ]
  },
  {
   "cell_type": "code",
   "execution_count": 79,
   "metadata": {},
   "outputs": [],
   "source": [
    "flux_spec1_data = spec1_sky.data['flux']"
   ]
  },
  {
   "cell_type": "code",
   "execution_count": 80,
   "metadata": {},
   "outputs": [],
   "source": [
    "sky_spec1_data = spec1_sky.data['sky']"
   ]
  },
  {
   "cell_type": "code",
   "execution_count": 81,
   "metadata": {},
   "outputs": [],
   "source": [
    "total_flux_spec1_data = flux_spec1_data + sky_spec1_data"
   ]
  },
  {
   "cell_type": "markdown",
   "metadata": {},
   "source": [
    "A plot for the total flux among the 47 sky fibers in spectrograph 1."
   ]
  },
  {
   "cell_type": "code",
   "execution_count": 82,
   "metadata": {},
   "outputs": [
    {
     "data": {
      "image/png": "[encoded data removed]",
      "text/plain": [
       "<Figure size 432x288 with 1 Axes>"
      ]
     },
     "metadata": {
      "needs_background": "light"
     },
     "output_type": "display_data"
    }
   ],
   "source": [
    "x = wavelength_spec1_data\n",
    "y = total_flux_spec1_data\n",
    "plt.plot(x,y,c =[0.1,0.2,0.5])\n",
    "plt.tight_layout()\n",
    "plt.show()"
   ]
  },
  {
   "cell_type": "markdown",
   "metadata": {},
   "source": [
    "Access the wavelength, flux, sky, and ivar fields by creating new masked arrays."
   ]
  },
  {
   "cell_type": "markdown",
   "metadata": {},
   "source": [
    "#### Wavelength"
   ]
  },
  {
   "cell_type": "code",
   "execution_count": 83,
   "metadata": {},
   "outputs": [],
   "source": [
    "wavelength_spec1 = spec1_sky['wavelength']"
   ]
  },
  {
   "cell_type": "code",
   "execution_count": 84,
   "metadata": {},
   "outputs": [
    {
     "data": {
      "text/plain": [
       "(47, 4128)"
      ]
     },
     "execution_count": 84,
     "metadata": {},
     "output_type": "execute_result"
    }
   ],
   "source": [
    "wavelength_spec1.shape"
   ]
  },
  {
   "cell_type": "markdown",
   "metadata": {},
   "source": [
    "Total number of data points if all are valid."
   ]
  },
  {
   "cell_type": "code",
   "execution_count": 85,
   "metadata": {},
   "outputs": [
    {
     "data": {
      "text/plain": [
       "194016"
      ]
     },
     "execution_count": 85,
     "metadata": {},
     "output_type": "execute_result"
    }
   ],
   "source": [
    "47 * 4128"
   ]
  },
  {
   "cell_type": "markdown",
   "metadata": {},
   "source": [
    "Count the number of non-masked elements along rows (fibers)."
   ]
  },
  {
   "cell_type": "code",
   "execution_count": 86,
   "metadata": {},
   "outputs": [
    {
     "data": {
      "text/plain": [
       "array([4128, 4128, 4128, 4128, 4128, 4128, 4128, 4128, 4128, 4128, 4128,\n",
       "       4128, 4128, 4128, 4128, 4128, 4128, 4128, 4128, 4128, 4128, 4128,\n",
       "       4128, 4128, 4128, 4128, 4128, 4128, 4128, 4128, 4128, 4128, 4128,\n",
       "       4128, 4128, 4128, 4128, 4128, 4128, 4128, 4128, 4128, 4128, 4128,\n",
       "       4128, 4128, 4128])"
      ]
     },
     "execution_count": 86,
     "metadata": {},
     "output_type": "execute_result"
    }
   ],
   "source": [
    "wavelength_spec1.count(axis=1)"
   ]
  },
  {
   "cell_type": "markdown",
   "metadata": {},
   "source": [
    "Total number of valid elements in the flux  masked array."
   ]
  },
  {
   "cell_type": "code",
   "execution_count": 87,
   "metadata": {},
   "outputs": [
    {
     "data": {
      "text/plain": [
       "194016"
      ]
     },
     "execution_count": 87,
     "metadata": {},
     "output_type": "execute_result"
    }
   ],
   "source": [
    "wavelength_spec1.count(axis=1).sum()"
   ]
  },
  {
   "cell_type": "markdown",
   "metadata": {},
   "source": [
    "#### FLux"
   ]
  },
  {
   "cell_type": "code",
   "execution_count": 88,
   "metadata": {},
   "outputs": [],
   "source": [
    "flux_spec1 = spec1_sky['flux']"
   ]
  },
  {
   "cell_type": "code",
   "execution_count": 89,
   "metadata": {},
   "outputs": [
    {
     "data": {
      "text/plain": [
       "(47, 4128)"
      ]
     },
     "execution_count": 89,
     "metadata": {},
     "output_type": "execute_result"
    }
   ],
   "source": [
    "flux_spec1.shape"
   ]
  },
  {
   "cell_type": "code",
   "execution_count": 90,
   "metadata": {},
   "outputs": [
    {
     "data": {
      "text/plain": [
       "array([2224, 2243, 2203, 2159, 2220, 2248, 2186, 2195, 2172, 2184, 2160,\n",
       "       2211, 2160, 2189, 2190, 2187, 2189, 2213, 2195, 2201, 2159, 2181,\n",
       "       2199, 2177, 2182, 2152, 2161, 2180, 2183, 2150, 2207, 2169, 2175,\n",
       "       2181, 2180, 2129, 2170, 2162, 2175, 2182, 2178, 2175, 2200, 2182,\n",
       "       2237, 2189, 2212])"
      ]
     },
     "execution_count": 90,
     "metadata": {},
     "output_type": "execute_result"
    }
   ],
   "source": [
    "flux_spec1.count(axis=1)"
   ]
  },
  {
   "cell_type": "code",
   "execution_count": 91,
   "metadata": {},
   "outputs": [
    {
     "data": {
      "text/plain": [
       "102756"
      ]
     },
     "execution_count": 91,
     "metadata": {},
     "output_type": "execute_result"
    }
   ],
   "source": [
    "flux_spec1.count(axis=1).sum()"
   ]
  },
  {
   "cell_type": "markdown",
   "metadata": {},
   "source": [
    "#### Sky"
   ]
  },
  {
   "cell_type": "code",
   "execution_count": 92,
   "metadata": {},
   "outputs": [],
   "source": [
    "sky_spec1 = spec1_sky['sky']"
   ]
  },
  {
   "cell_type": "code",
   "execution_count": 93,
   "metadata": {},
   "outputs": [
    {
     "data": {
      "text/plain": [
       "array([2224, 2243, 2203, 2159, 2220, 2248, 2186, 2195, 2172, 2184, 2160,\n",
       "       2211, 2160, 2189, 2190, 2187, 2189, 2213, 2195, 2201, 2159, 2181,\n",
       "       2199, 2177, 2182, 2152, 2161, 2180, 2183, 2150, 2207, 2169, 2175,\n",
       "       2181, 2180, 2129, 2170, 2162, 2175, 2182, 2178, 2175, 2200, 2182,\n",
       "       2237, 2189, 2212])"
      ]
     },
     "execution_count": 93,
     "metadata": {},
     "output_type": "execute_result"
    }
   ],
   "source": [
    "sky_spec1.count(axis=1)"
   ]
  },
  {
   "cell_type": "code",
   "execution_count": 94,
   "metadata": {},
   "outputs": [
    {
     "data": {
      "text/plain": [
       "102756"
      ]
     },
     "execution_count": 94,
     "metadata": {},
     "output_type": "execute_result"
    }
   ],
   "source": [
    "sky_spec1.count(axis=1).sum()"
   ]
  },
  {
   "cell_type": "markdown",
   "metadata": {},
   "source": [
    "#### Sky + Flux"
   ]
  },
  {
   "cell_type": "code",
   "execution_count": 95,
   "metadata": {},
   "outputs": [],
   "source": [
    "total_flux_spec1 = np.ma.array(flux_spec1.data+sky_spec1.data, mask=list(map(and_,flux_spec1.mask, sky_spec1.mask)))"
   ]
  },
  {
   "cell_type": "code",
   "execution_count": 96,
   "metadata": {},
   "outputs": [],
   "source": [
    "# total_flux_a = flux_a + sky_a\n",
    "# Is it a correct operation to obtain the sum of two masked numpy array?"
   ]
  },
  {
   "cell_type": "code",
   "execution_count": 97,
   "metadata": {},
   "outputs": [
    {
     "data": {
      "text/plain": [
       "(47, 4128)"
      ]
     },
     "execution_count": 97,
     "metadata": {},
     "output_type": "execute_result"
    }
   ],
   "source": [
    "total_flux_spec1.shape"
   ]
  },
  {
   "cell_type": "code",
   "execution_count": 98,
   "metadata": {},
   "outputs": [
    {
     "data": {
      "text/plain": [
       "array([2224, 2243, 2203, 2159, 2220, 2248, 2186, 2195, 2172, 2184, 2160,\n",
       "       2211, 2160, 2189, 2190, 2187, 2189, 2213, 2195, 2201, 2159, 2181,\n",
       "       2199, 2177, 2182, 2152, 2161, 2180, 2183, 2150, 2207, 2169, 2175,\n",
       "       2181, 2180, 2129, 2170, 2162, 2175, 2182, 2178, 2175, 2200, 2182,\n",
       "       2237, 2189, 2212])"
      ]
     },
     "execution_count": 98,
     "metadata": {},
     "output_type": "execute_result"
    }
   ],
   "source": [
    "total_flux_spec1.count(axis=1)"
   ]
  },
  {
   "cell_type": "markdown",
   "metadata": {},
   "source": [
    "Check the total number of valid data in total_flux."
   ]
  },
  {
   "cell_type": "code",
   "execution_count": 99,
   "metadata": {},
   "outputs": [
    {
     "data": {
      "text/plain": [
       "102756"
      ]
     },
     "execution_count": 99,
     "metadata": {},
     "output_type": "execute_result"
    }
   ],
   "source": [
    "len(total_flux_spec1.compressed())"
   ]
  },
  {
   "cell_type": "markdown",
   "metadata": {},
   "source": [
    "#### Inverse Variance\n",
    "\n",
    "Inverse Variance is used as weights to computed the weighted average of total flux for sky fibers."
   ]
  },
  {
   "cell_type": "code",
   "execution_count": 100,
   "metadata": {},
   "outputs": [],
   "source": [
    "ivar_spec1 = spec1_sky['ivar']"
   ]
  },
  {
   "cell_type": "code",
   "execution_count": 101,
   "metadata": {},
   "outputs": [
    {
     "data": {
      "text/plain": [
       "numpy.ma.core.MaskedArray"
      ]
     },
     "execution_count": 101,
     "metadata": {},
     "output_type": "execute_result"
    }
   ],
   "source": [
    "type(ivar_spec1)"
   ]
  },
  {
   "cell_type": "code",
   "execution_count": 102,
   "metadata": {},
   "outputs": [
    {
     "data": {
      "text/plain": [
       "(47, 4128)"
      ]
     },
     "execution_count": 102,
     "metadata": {},
     "output_type": "execute_result"
    }
   ],
   "source": [
    "ivar_spec1.shape"
   ]
  },
  {
   "cell_type": "markdown",
   "metadata": {},
   "source": [
    "Check number of valid data in the inverse variance masked array."
   ]
  },
  {
   "cell_type": "code",
   "execution_count": 103,
   "metadata": {},
   "outputs": [
    {
     "data": {
      "text/plain": [
       "102756"
      ]
     },
     "execution_count": 103,
     "metadata": {},
     "output_type": "execute_result"
    }
   ],
   "source": [
    "ivar_spec1.count(axis=1).sum()"
   ]
  },
  {
   "cell_type": "markdown",
   "metadata": {},
   "source": [
    "Fill in the invalid inverse variance data with value 0."
   ]
  },
  {
   "cell_type": "code",
   "execution_count": 104,
   "metadata": {},
   "outputs": [],
   "source": [
    "weights_by_ivar = ma.filled(ivar_spec1, fill_value=0)"
   ]
  },
  {
   "cell_type": "code",
   "execution_count": 105,
   "metadata": {},
   "outputs": [
    {
     "data": {
      "text/plain": [
       "numpy.ndarray"
      ]
     },
     "execution_count": 105,
     "metadata": {},
     "output_type": "execute_result"
    }
   ],
   "source": [
    "type(weights_by_ivar)"
   ]
  },
  {
   "cell_type": "code",
   "execution_count": 106,
   "metadata": {},
   "outputs": [
    {
     "data": {
      "text/plain": [
       "(47, 4128)"
      ]
     },
     "execution_count": 106,
     "metadata": {},
     "output_type": "execute_result"
    }
   ],
   "source": [
    "weights_by_ivar.shape"
   ]
  },
  {
   "cell_type": "markdown",
   "metadata": {},
   "source": [
    "##### Simple Average\n",
    "Average of total_flux among 47 sky fibers without no weights."
   ]
  },
  {
   "cell_type": "code",
   "execution_count": 107,
   "metadata": {},
   "outputs": [],
   "source": [
    "simple_average = ma.average(total_flux_spec1, axis=0, returned=False)"
   ]
  },
  {
   "cell_type": "code",
   "execution_count": 108,
   "metadata": {},
   "outputs": [
    {
     "data": {
      "text/plain": [
       "numpy.ma.core.MaskedArray"
      ]
     },
     "execution_count": 108,
     "metadata": {},
     "output_type": "execute_result"
    }
   ],
   "source": [
    "type(simple_average)"
   ]
  },
  {
   "cell_type": "code",
   "execution_count": 109,
   "metadata": {},
   "outputs": [],
   "source": [
    "simple_average_flux1 = simple_average.data"
   ]
  },
  {
   "cell_type": "markdown",
   "metadata": {},
   "source": [
    "Wavelegnth from the first sky fiber (fiber no.14) is taken as the standard wavelength scale to plot the total_flux here."
   ]
  },
  {
   "cell_type": "code",
   "execution_count": 111,
   "metadata": {},
   "outputs": [],
   "source": [
    "wavelength_fiber14 = wavelength_spec1[0]"
   ]
  },
  {
   "cell_type": "code",
   "execution_count": 112,
   "metadata": {},
   "outputs": [
    {
     "data": {
      "image/png": "[encoded data removed]",
      "text/plain": [
       "<Figure size 432x288 with 1 Axes>"
      ]
     },
     "metadata": {
      "needs_background": "light"
     },
     "output_type": "display_data"
    }
   ],
   "source": [
    "x = wavelength_fiber14\n",
    "y = simple_average_flux1\n",
    "plt.plot(x,y,c =[0.8,0.3,0.4])\n",
    "plt.tight_layout()\n",
    "plt.show()"
   ]
  },
  {
   "cell_type": "markdown",
   "metadata": {},
   "source": [
    "#### Weighted Average\n",
    "Average of total_flux of 47 sky fibers in spectrograph 1 weighted by inverse variance."
   ]
  },
  {
   "cell_type": "code",
   "execution_count": 113,
   "metadata": {},
   "outputs": [],
   "source": [
    "weighted_average = ma.average(total_flux_spec1,axis=0, weights = weights_by_ivar, returned= False)"
   ]
  },
  {
   "cell_type": "code",
   "execution_count": 114,
   "metadata": {},
   "outputs": [
    {
     "data": {
      "text/plain": [
       "numpy.ma.core.MaskedArray"
      ]
     },
     "execution_count": 114,
     "metadata": {},
     "output_type": "execute_result"
    }
   ],
   "source": [
    "type(weighted_average)"
   ]
  },
  {
   "cell_type": "code",
   "execution_count": 115,
   "metadata": {},
   "outputs": [],
   "source": [
    "average_sky_flux1 = weighted_average.data"
   ]
  },
  {
   "cell_type": "markdown",
   "metadata": {},
   "source": [
    "Wavelegnth from the first sky fiber (fiber no.14) is taken as the standard wavelength scale to plot the total_flux here."
   ]
  },
  {
   "cell_type": "code",
   "execution_count": 117,
   "metadata": {},
   "outputs": [
    {
     "data": {
      "image/png": "[encoded data removed]",
      "text/plain": [
       "<Figure size 432x288 with 1 Axes>"
      ]
     },
     "metadata": {
      "needs_background": "light"
     },
     "output_type": "display_data"
    }
   ],
   "source": [
    "x = wavelength_fiber14\n",
    "y = average_sky_flux1\n",
    "plt.plot(x,y,c =[0.4,0.1,0.7])\n",
    "plt.tight_layout()\n",
    "plt.show()"
   ]
  },
  {
   "cell_type": "markdown",
   "metadata": {},
   "source": [
    "### Exposure[0], Spectrograph 2, Fiber 501-1000"
   ]
  },
  {
   "cell_type": "markdown",
   "metadata": {},
   "source": [
    "Locate and download the file of a single science exposure for spectrogtaph 2. The exposure file to return is set to 'spCFrame'."
   ]
  },
  {
   "cell_type": "code",
   "execution_count": 118,
   "metadata": {},
   "outputs": [],
   "source": [
    "exp0_spec2_path = combined_plan.get_exposure_name(sequence_number=0,band='red',fiber = 501,ftype='spCFrame')"
   ]
  },
  {
   "cell_type": "code",
   "execution_count": 119,
   "metadata": {},
   "outputs": [
    {
     "data": {
      "text/plain": [
       "'/sas/dr12/boss/spectro/redux/v5_7_0/4042/spCFrame-r2-00127588.fits'"
      ]
     },
     "execution_count": 119,
     "metadata": {},
     "output_type": "execute_result"
    }
   ],
   "source": [
    "exp0_spec2_path"
   ]
  },
  {
   "cell_type": "code",
   "execution_count": 120,
   "metadata": {},
   "outputs": [],
   "source": [
    "exp0_spec2_file = mirror.get(exp0_spec2_path)"
   ]
  },
  {
   "cell_type": "code",
   "execution_count": 121,
   "metadata": {},
   "outputs": [
    {
     "data": {
      "text/plain": [
       "'/scratch/kunjias/sdss/sas/dr12/boss/spectro/redux/v5_7_0/4042/spCFrame-r2-00127588.fits'"
      ]
     },
     "execution_count": 121,
     "metadata": {},
     "output_type": "execute_result"
    }
   ],
   "source": [
    "exp0_spec2_file"
   ]
  },
  {
   "cell_type": "markdown",
   "metadata": {},
   "source": [
    "#### Frame file of exposure[0] of spectrograph 2\n",
    "\n",
    "Frame file containing single exposure 0 of spectrograph 2 (half plate)."
   ]
  },
  {
   "cell_type": "code",
   "execution_count": 122,
   "metadata": {},
   "outputs": [],
   "source": [
    "expo0_spec2_frame = plate.FrameFile(exp0_spec2_file, index=2, calibrated = True)"
   ]
  },
  {
   "cell_type": "code",
   "execution_count": 123,
   "metadata": {},
   "outputs": [
    {
     "name": "stdout",
     "output_type": "stream",
     "text": [
      "plate_number: 4042 camera: r2 exposure_id: 127588\n"
     ]
    }
   ],
   "source": [
    "# expo0_spec2_frame\n",
    "print(\"plate_number:\",expo0_spec2_frame.plate,\n",
    "'camera:',expo0_spec2_frame.camera,\n",
    "'exposure_id:',expo0_spec2_frame.exposure_id)\n",
    "# expo0_spec2_frame.header"
   ]
  },
  {
   "cell_type": "markdown",
   "metadata": {},
   "source": [
    "#### Get valid data for the 50 sky fibers in Spectrograph 2."
   ]
  },
  {
   "cell_type": "code",
   "execution_count": 126,
   "metadata": {},
   "outputs": [],
   "source": [
    "spec2_sky = expo0_spec2_frame.get_valid_data(fibers = sky_fibers2, pixel_quality_mask=None, include_wdisp=False, include_sky=True, use_ivar=True, use_loglam=False)"
   ]
  },
  {
   "cell_type": "code",
   "execution_count": 127,
   "metadata": {},
   "outputs": [],
   "source": [
    "# spec2_sky"
   ]
  },
  {
   "cell_type": "code",
   "execution_count": 128,
   "metadata": {},
   "outputs": [
    {
     "data": {
      "text/plain": [
       "(50, 4128)"
      ]
     },
     "execution_count": 128,
     "metadata": {},
     "output_type": "execute_result"
    }
   ],
   "source": [
    "spec2_sky.shape"
   ]
  },
  {
   "cell_type": "code",
   "execution_count": 129,
   "metadata": {},
   "outputs": [
    {
     "data": {
      "text/plain": [
       "numpy.ma.core.MaskedArray"
      ]
     },
     "execution_count": 129,
     "metadata": {},
     "output_type": "execute_result"
    }
   ],
   "source": [
    "type(spec2_sky)"
   ]
  },
  {
   "cell_type": "code",
   "execution_count": 130,
   "metadata": {},
   "outputs": [],
   "source": [
    "wavelength_spec2_data = spec2_sky.data['wavelength']"
   ]
  },
  {
   "cell_type": "code",
   "execution_count": 131,
   "metadata": {},
   "outputs": [],
   "source": [
    "flux_spec2_data = spec2_sky.data['flux']"
   ]
  },
  {
   "cell_type": "code",
   "execution_count": 132,
   "metadata": {},
   "outputs": [],
   "source": [
    "sky_spec2_data = spec2_sky.data['sky']"
   ]
  },
  {
   "cell_type": "code",
   "execution_count": 133,
   "metadata": {},
   "outputs": [],
   "source": [
    "total_flux_spec2_data = flux_spec2_data + sky_spec2_data"
   ]
  },
  {
   "cell_type": "markdown",
   "metadata": {},
   "source": [
    "A plot for the total flux among the 50 sky fibers in spectrograph 2."
   ]
  },
  {
   "cell_type": "code",
   "execution_count": 134,
   "metadata": {},
   "outputs": [
    {
     "data": {
      "image/png": "[encoded data removed]",
      "text/plain": [
       "<Figure size 432x288 with 1 Axes>"
      ]
     },
     "metadata": {
      "needs_background": "light"
     },
     "output_type": "display_data"
    }
   ],
   "source": [
    "x = wavelength_spec2_data\n",
    "y = total_flux_spec2_data\n",
    "plt.plot(x,y,c=[0.1,0.2,0.5])\n",
    "plt.tight_layout()\n",
    "plt.show()"
   ]
  },
  {
   "cell_type": "markdown",
   "metadata": {},
   "source": [
    "Access the wavelength, flux, sky, and ivar fields by creating new masked arrays."
   ]
  },
  {
   "cell_type": "markdown",
   "metadata": {},
   "source": [
    "#### Wavelength"
   ]
  },
  {
   "cell_type": "code",
   "execution_count": 135,
   "metadata": {},
   "outputs": [],
   "source": [
    "wavelength_spec2 = spec2_sky['wavelength']"
   ]
  },
  {
   "cell_type": "code",
   "execution_count": 136,
   "metadata": {},
   "outputs": [
    {
     "data": {
      "text/plain": [
       "(50, 4128)"
      ]
     },
     "execution_count": 136,
     "metadata": {},
     "output_type": "execute_result"
    }
   ],
   "source": [
    "wavelength_spec2.shape"
   ]
  },
  {
   "cell_type": "markdown",
   "metadata": {},
   "source": [
    "Total number of data points if all are valid."
   ]
  },
  {
   "cell_type": "code",
   "execution_count": 138,
   "metadata": {},
   "outputs": [
    {
     "data": {
      "text/plain": [
       "206400"
      ]
     },
     "execution_count": 138,
     "metadata": {},
     "output_type": "execute_result"
    }
   ],
   "source": [
    "50 * 4128"
   ]
  },
  {
   "cell_type": "markdown",
   "metadata": {},
   "source": [
    "Count the number of non-masked elements along rows (fibers)."
   ]
  },
  {
   "cell_type": "code",
   "execution_count": 139,
   "metadata": {},
   "outputs": [
    {
     "data": {
      "text/plain": [
       "array([4128, 4128, 4128, 4128, 4128, 4128, 4128, 4128, 4128, 4128, 4128,\n",
       "       4128, 4128, 4128, 4128, 4128, 4128, 4128, 4128, 4128, 4128, 4128,\n",
       "       4128, 4128, 4128, 4128, 4128, 4128, 4128, 4128, 4128, 4128, 4128,\n",
       "       4128, 4128, 4128, 4128, 4128, 4128, 4128, 4128, 4128, 4128, 4128,\n",
       "       4128, 4128, 4128, 4128, 4128, 4128])"
      ]
     },
     "execution_count": 139,
     "metadata": {},
     "output_type": "execute_result"
    }
   ],
   "source": [
    "wavelength_spec2.count(axis=1)"
   ]
  },
  {
   "cell_type": "markdown",
   "metadata": {},
   "source": [
    "Total number of valid elements in the flux  masked array."
   ]
  },
  {
   "cell_type": "code",
   "execution_count": 140,
   "metadata": {},
   "outputs": [
    {
     "data": {
      "text/plain": [
       "206400"
      ]
     },
     "execution_count": 140,
     "metadata": {},
     "output_type": "execute_result"
    }
   ],
   "source": [
    "wavelength_spec2.count(axis=1).sum()"
   ]
  },
  {
   "cell_type": "markdown",
   "metadata": {},
   "source": [
    "#### FLux"
   ]
  },
  {
   "cell_type": "code",
   "execution_count": 141,
   "metadata": {},
   "outputs": [],
   "source": [
    "flux_spec2 = spec2_sky['flux']"
   ]
  },
  {
   "cell_type": "code",
   "execution_count": 142,
   "metadata": {},
   "outputs": [
    {
     "data": {
      "text/plain": [
       "(50, 4128)"
      ]
     },
     "execution_count": 142,
     "metadata": {},
     "output_type": "execute_result"
    }
   ],
   "source": [
    "flux_spec2.shape"
   ]
  },
  {
   "cell_type": "code",
   "execution_count": 143,
   "metadata": {},
   "outputs": [
    {
     "data": {
      "text/plain": [
       "array([2300, 2254, 2296, 2288, 2314, 2294, 2279, 2268, 2291, 2311, 2269,\n",
       "       2276, 2302, 2232, 2306, 2278, 2242, 2241, 2233, 2268, 2261, 2237,\n",
       "       2245, 2250, 2240, 2219, 2244, 2278, 2268, 2261, 2272, 2278, 2223,\n",
       "       2221, 2278, 2271, 2274, 2261, 2230, 2247, 2280, 2296, 2267, 2265,\n",
       "       2254, 2244, 2221, 2297, 2229, 2248])"
      ]
     },
     "execution_count": 143,
     "metadata": {},
     "output_type": "execute_result"
    }
   ],
   "source": [
    "flux_spec2.count(axis=1)"
   ]
  },
  {
   "cell_type": "code",
   "execution_count": 144,
   "metadata": {},
   "outputs": [
    {
     "data": {
      "text/plain": [
       "113201"
      ]
     },
     "execution_count": 144,
     "metadata": {},
     "output_type": "execute_result"
    }
   ],
   "source": [
    "flux_spec2.count(axis=1).sum()"
   ]
  },
  {
   "cell_type": "markdown",
   "metadata": {},
   "source": [
    "#### Sky"
   ]
  },
  {
   "cell_type": "code",
   "execution_count": 145,
   "metadata": {},
   "outputs": [],
   "source": [
    "sky_spec2 = spec2_sky['sky']"
   ]
  },
  {
   "cell_type": "code",
   "execution_count": 146,
   "metadata": {},
   "outputs": [
    {
     "data": {
      "text/plain": [
       "array([2300, 2254, 2296, 2288, 2314, 2294, 2279, 2268, 2291, 2311, 2269,\n",
       "       2276, 2302, 2232, 2306, 2278, 2242, 2241, 2233, 2268, 2261, 2237,\n",
       "       2245, 2250, 2240, 2219, 2244, 2278, 2268, 2261, 2272, 2278, 2223,\n",
       "       2221, 2278, 2271, 2274, 2261, 2230, 2247, 2280, 2296, 2267, 2265,\n",
       "       2254, 2244, 2221, 2297, 2229, 2248])"
      ]
     },
     "execution_count": 146,
     "metadata": {},
     "output_type": "execute_result"
    }
   ],
   "source": [
    "sky_spec2.count(axis=1)"
   ]
  },
  {
   "cell_type": "code",
   "execution_count": 147,
   "metadata": {},
   "outputs": [
    {
     "data": {
      "text/plain": [
       "113201"
      ]
     },
     "execution_count": 147,
     "metadata": {},
     "output_type": "execute_result"
    }
   ],
   "source": [
    "sky_spec2.count(axis=1).sum()"
   ]
  },
  {
   "cell_type": "markdown",
   "metadata": {},
   "source": [
    "#### Sky + Flux"
   ]
  },
  {
   "cell_type": "code",
   "execution_count": 148,
   "metadata": {},
   "outputs": [],
   "source": [
    "total_flux_spec2 = np.ma.array(flux_spec2.data+sky_spec2.data, mask=list(map(and_,flux_spec2.mask, sky_spec2.mask)))"
   ]
  },
  {
   "cell_type": "code",
   "execution_count": 149,
   "metadata": {},
   "outputs": [
    {
     "data": {
      "text/plain": [
       "(50, 4128)"
      ]
     },
     "execution_count": 149,
     "metadata": {},
     "output_type": "execute_result"
    }
   ],
   "source": [
    "total_flux_spec2.shape"
   ]
  },
  {
   "cell_type": "code",
   "execution_count": 150,
   "metadata": {},
   "outputs": [
    {
     "data": {
      "text/plain": [
       "array([2300, 2254, 2296, 2288, 2314, 2294, 2279, 2268, 2291, 2311, 2269,\n",
       "       2276, 2302, 2232, 2306, 2278, 2242, 2241, 2233, 2268, 2261, 2237,\n",
       "       2245, 2250, 2240, 2219, 2244, 2278, 2268, 2261, 2272, 2278, 2223,\n",
       "       2221, 2278, 2271, 2274, 2261, 2230, 2247, 2280, 2296, 2267, 2265,\n",
       "       2254, 2244, 2221, 2297, 2229, 2248])"
      ]
     },
     "execution_count": 150,
     "metadata": {},
     "output_type": "execute_result"
    }
   ],
   "source": [
    "total_flux_spec2.count(axis=1)"
   ]
  },
  {
   "cell_type": "markdown",
   "metadata": {},
   "source": [
    "Check the total number of valid data in total_flux."
   ]
  },
  {
   "cell_type": "code",
   "execution_count": 151,
   "metadata": {},
   "outputs": [
    {
     "data": {
      "text/plain": [
       "113201"
      ]
     },
     "execution_count": 151,
     "metadata": {},
     "output_type": "execute_result"
    }
   ],
   "source": [
    "len(total_flux_spec2.compressed())"
   ]
  },
  {
   "cell_type": "markdown",
   "metadata": {},
   "source": [
    "#### Inverse Variance\n",
    "\n",
    "Inverse Variance is used as weights to computed the weighted average of total flux for sky fibers."
   ]
  },
  {
   "cell_type": "code",
   "execution_count": 152,
   "metadata": {},
   "outputs": [],
   "source": [
    "ivar_spec2 = spec2_sky['ivar']"
   ]
  },
  {
   "cell_type": "code",
   "execution_count": 153,
   "metadata": {},
   "outputs": [
    {
     "data": {
      "text/plain": [
       "numpy.ma.core.MaskedArray"
      ]
     },
     "execution_count": 153,
     "metadata": {},
     "output_type": "execute_result"
    }
   ],
   "source": [
    "type(ivar_spec2)"
   ]
  },
  {
   "cell_type": "code",
   "execution_count": 154,
   "metadata": {},
   "outputs": [
    {
     "data": {
      "text/plain": [
       "(50, 4128)"
      ]
     },
     "execution_count": 154,
     "metadata": {},
     "output_type": "execute_result"
    }
   ],
   "source": [
    "ivar_spec2.shape"
   ]
  },
  {
   "cell_type": "markdown",
   "metadata": {},
   "source": [
    "Check number of valid data in the inverse variance masked array."
   ]
  },
  {
   "cell_type": "code",
   "execution_count": 155,
   "metadata": {},
   "outputs": [
    {
     "data": {
      "text/plain": [
       "113201"
      ]
     },
     "execution_count": 155,
     "metadata": {},
     "output_type": "execute_result"
    }
   ],
   "source": [
    "ivar_spec2.count(axis=1).sum()"
   ]
  },
  {
   "cell_type": "markdown",
   "metadata": {},
   "source": [
    "Fill in the invalid inverse variance data with value 0."
   ]
  },
  {
   "cell_type": "code",
   "execution_count": 156,
   "metadata": {},
   "outputs": [],
   "source": [
    "weights_by_ivar2 = ma.filled(ivar_spec2, fill_value=0)"
   ]
  },
  {
   "cell_type": "code",
   "execution_count": 157,
   "metadata": {},
   "outputs": [
    {
     "data": {
      "text/plain": [
       "numpy.ndarray"
      ]
     },
     "execution_count": 157,
     "metadata": {},
     "output_type": "execute_result"
    }
   ],
   "source": [
    "type(weights_by_ivar2)"
   ]
  },
  {
   "cell_type": "code",
   "execution_count": 158,
   "metadata": {},
   "outputs": [
    {
     "data": {
      "text/plain": [
       "(50, 4128)"
      ]
     },
     "execution_count": 158,
     "metadata": {},
     "output_type": "execute_result"
    }
   ],
   "source": [
    "weights_by_ivar2.shape"
   ]
  },
  {
   "cell_type": "markdown",
   "metadata": {},
   "source": [
    "##### Simple Average\n",
    "Average of total_flux among 50 sky fibers without no weights."
   ]
  },
  {
   "cell_type": "code",
   "execution_count": 159,
   "metadata": {},
   "outputs": [],
   "source": [
    "simple_average2 = ma.average(total_flux_spec2, axis=0, returned=False)"
   ]
  },
  {
   "cell_type": "code",
   "execution_count": 160,
   "metadata": {},
   "outputs": [
    {
     "data": {
      "text/plain": [
       "numpy.ma.core.MaskedArray"
      ]
     },
     "execution_count": 160,
     "metadata": {},
     "output_type": "execute_result"
    }
   ],
   "source": [
    "type(simple_average2)"
   ]
  },
  {
   "cell_type": "code",
   "execution_count": 161,
   "metadata": {},
   "outputs": [],
   "source": [
    "simple_average_flux2 = simple_average2.data"
   ]
  },
  {
   "cell_type": "markdown",
   "metadata": {},
   "source": [
    "Wavelegnth from the first sky fiber (fiber no.14) is taken as the standard wavelength scale to plot the total_flux here."
   ]
  },
  {
   "cell_type": "code",
   "execution_count": 162,
   "metadata": {},
   "outputs": [
    {
     "data": {
      "image/png": "[encoded data removed]",
      "text/plain": [
       "<Figure size 432x288 with 1 Axes>"
      ]
     },
     "metadata": {
      "needs_background": "light"
     },
     "output_type": "display_data"
    }
   ],
   "source": [
    "x = wavelength_fiber14\n",
    "y = simple_average_flux2\n",
    "plt.plot(x,y,c =[0.8,0.3,0.4])\n",
    "plt.tight_layout()\n",
    "plt.show()"
   ]
  },
  {
   "cell_type": "markdown",
   "metadata": {},
   "source": [
    "#### Weighted Average\n",
    "Average of total_flux of 50 sky fibers in spectrograph 2 weighted by inverse variance."
   ]
  },
  {
   "cell_type": "code",
   "execution_count": 163,
   "metadata": {},
   "outputs": [],
   "source": [
    "weighted_average2 = ma.average(total_flux_spec2,axis=0, weights = weights_by_ivar2, returned= False)"
   ]
  },
  {
   "cell_type": "code",
   "execution_count": 164,
   "metadata": {},
   "outputs": [
    {
     "data": {
      "text/plain": [
       "numpy.ma.core.MaskedArray"
      ]
     },
     "execution_count": 164,
     "metadata": {},
     "output_type": "execute_result"
    }
   ],
   "source": [
    "type(weighted_average2)"
   ]
  },
  {
   "cell_type": "code",
   "execution_count": 165,
   "metadata": {},
   "outputs": [],
   "source": [
    "average_sky_flux2 = weighted_average2.data"
   ]
  },
  {
   "cell_type": "markdown",
   "metadata": {},
   "source": [
    "Wavelegnth from the first sky fiber (fiber no.14) is taken as the standard wavelength scale to plot the total_flux here."
   ]
  },
  {
   "cell_type": "code",
   "execution_count": 168,
   "metadata": {},
   "outputs": [
    {
     "data": {
      "image/png": "[encoded data removed]",
      "text/plain": [
       "<Figure size 432x288 with 1 Axes>"
      ]
     },
     "metadata": {
      "needs_background": "light"
     },
     "output_type": "display_data"
    }
   ],
   "source": [
    "x = wavelength_fiber14\n",
    "y = average_sky_flux2\n",
    "plt.plot(x,y,c =[0.4,0.1,0.7])\n",
    "plt.tight_layout()\n",
    "plt.show()"
   ]
  }
 ],
 "metadata": {
  "kernelspec": {
   "display_name": "Python 3",
   "language": "python",
   "name": "python3"
  },
  "language_info": {
   "codemirror_mode": {
    "name": "ipython",
    "version": 3
   },
   "file_extension": ".py",
   "mimetype": "text/x-python",
   "name": "python",
   "nbconvert_exporter": "python",
   "pygments_lexer": "ipython3",
   "version": "3.6.3"
  }
 },
 "nbformat": 4,
 "nbformat_minor": 2
}
