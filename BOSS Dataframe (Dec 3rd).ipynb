{
 "cells": [
  {
   "cell_type": "markdown",
   "metadata": {},
   "source": [
    "### Initialization"
   ]
  },
  {
   "cell_type": "markdown",
   "metadata": {},
   "source": [
    "#### Bossdata"
   ]
  },
  {
   "cell_type": "code",
   "execution_count": 2,
   "metadata": {},
   "outputs": [
    {
     "name": "stdout",
     "output_type": "stream",
     "text": [
      "0.3.1\n"
     ]
    }
   ],
   "source": [
    "import bossdata\n",
    "print(bossdata.__version__)"
   ]
  },
  {
   "cell_type": "code",
   "execution_count": 3,
   "metadata": {},
   "outputs": [],
   "source": [
    "import bossdata.path\n",
    "import bossdata.remote\n",
    "import bossdata.meta as meta\n",
    "import bossdata.spec as spec\n",
    "import bossdata.plate as plate"
   ]
  },
  {
   "cell_type": "markdown",
   "metadata": {},
   "source": [
    "#### Astropy"
   ]
  },
  {
   "cell_type": "code",
   "execution_count": 4,
   "metadata": {},
   "outputs": [],
   "source": [
    "import astropy.io.fits as fits\n",
    "from astropy.table import unique,Table"
   ]
  },
  {
   "cell_type": "code",
   "execution_count": 10,
   "metadata": {},
   "outputs": [],
   "source": [
    "import os\n",
    "workdir = os.environ['SCRATCH']\n",
    "os.environ[\"BOSS_DATA_URL\"] = 'http://dr12.sdss3.org'\n",
    "os.environ[\"BOSS_LOCAL_ROOT\"] = os.path.join(workdir,'sdss')\n",
    "os.environ[\"BOSS_SAS_PATH\"] = '/sas/dr12/boss'\n",
    "os.environ[\"BOSS_REDUX_VERSION\"]='v5_7_0'"
   ]
  },
  {
   "cell_type": "code",
   "execution_count": 6,
   "metadata": {},
   "outputs": [],
   "source": [
    "finder = bossdata.path.Finder()\n",
    "mirror = bossdata.remote.Manager()"
   ]
  },
  {
   "cell_type": "code",
   "execution_count": 7,
   "metadata": {},
   "outputs": [],
   "source": [
    "os.chdir(workdir)"
   ]
  },
  {
   "cell_type": "code",
   "execution_count": 8,
   "metadata": {},
   "outputs": [
    {
     "data": {
      "text/plain": [
       "'/scratch/kunjias'"
      ]
     },
     "execution_count": 8,
     "metadata": {},
     "output_type": "execute_result"
    }
   ],
   "source": [
    "os.getcwd()"
   ]
  },
  {
   "cell_type": "code",
   "execution_count": 11,
   "metadata": {},
   "outputs": [
    {
     "data": {
      "text/plain": [
       "'/scratch/kunjias'"
      ]
     },
     "execution_count": 11,
     "metadata": {},
     "output_type": "execute_result"
    }
   ],
   "source": [
    "workdir"
   ]
  },
  {
   "cell_type": "markdown",
   "metadata": {},
   "source": [
    "### spAll"
   ]
  },
  {
   "cell_type": "code",
   "execution_count": 12,
   "metadata": {},
   "outputs": [],
   "source": [
    "spAll_path = finder.get_sp_all_path(lite=False)"
   ]
  },
  {
   "cell_type": "code",
   "execution_count": 13,
   "metadata": {},
   "outputs": [
    {
     "data": {
      "text/plain": [
       "'/sas/dr12/boss/spectro/redux/v5_7_0/spAll-v5_7_0.fits'"
      ]
     },
     "execution_count": 13,
     "metadata": {},
     "output_type": "execute_result"
    }
   ],
   "source": [
    "spAll_path"
   ]
  },
  {
   "cell_type": "code",
   "execution_count": 14,
   "metadata": {},
   "outputs": [],
   "source": [
    "spAll_file = mirror.get(spAll_path, progress_min_size=2, auto_download=True, local_paths=None)"
   ]
  },
  {
   "cell_type": "code",
   "execution_count": 15,
   "metadata": {},
   "outputs": [
    {
     "data": {
      "text/plain": [
       "'/scratch/kunjias/sdss/sas/dr12/boss/spectro/redux/v5_7_0/spAll-v5_7_0.fits'"
      ]
     },
     "execution_count": 15,
     "metadata": {},
     "output_type": "execute_result"
    }
   ],
   "source": [
    "spAll_file"
   ]
  },
  {
   "cell_type": "code",
   "execution_count": 16,
   "metadata": {},
   "outputs": [],
   "source": [
    "local_path = 'home/kunjias/scratch'"
   ]
  },
  {
   "cell_type": "code",
   "execution_count": 17,
   "metadata": {},
   "outputs": [
    {
     "name": "stderr",
     "output_type": "stream",
     "text": [
      "/project/6016730/mlhaa/lib/python3.6/site-packages/bossdata/meta.py:61: FutureWarning: Conversion of the second argument of issubdtype from `float` to `np.floating` is deprecated. In future, it will be treated as `np.float64 == np.dtype(float).type`.\n",
      "  elif np.issubdtype(dtype, np.float):\n",
      "/project/6016730/mlhaa/lib/python3.6/site-packages/bossdata/meta.py:63: FutureWarning: Conversion of the second argument of issubdtype from `str` to `str` is deprecated. In future, it will be treated as `np.str_ == np.dtype(str).type`.\n",
      "  elif np.issubdtype(dtype, np.str) or np.issubdtype(dtype, np.bytes_):\n",
      "Writing 100%|#################################################################|\n"
     ]
    }
   ],
   "source": [
    "meta.create_meta_full(catalog_path = spAll_file,db_path= local_path,verbose=True, primary_key='(PLATE,MJD,FIBER)')"
   ]
  },
  {
   "cell_type": "code",
   "execution_count": null,
   "metadata": {},
   "outputs": [],
   "source": []
  },
  {
   "cell_type": "code",
   "execution_count": null,
   "metadata": {},
   "outputs": [],
   "source": []
  },
  {
   "cell_type": "markdown",
   "metadata": {},
   "source": [
    "### Bossdata.meta Database\n",
    "Initialize searchable databse of BOSS observation metadata."
   ]
  },
  {
   "cell_type": "code",
   "execution_count": 18,
   "metadata": {},
   "outputs": [],
   "source": [
    "spAll= bossdata.meta.Database(finder=finder, mirror=mirror, lite=False, quasar_catalog=False, quasar_catalog_name=None, platelist=False, verbose=False)"
   ]
  },
  {
   "cell_type": "code",
   "execution_count": 19,
   "metadata": {},
   "outputs": [],
   "source": [
    "columns = spAll.prepare_columns('*')"
   ]
  },
  {
   "cell_type": "code",
   "execution_count": 52,
   "metadata": {},
   "outputs": [],
   "source": [
    "#columns"
   ]
  },
  {
   "cell_type": "markdown",
   "metadata": {},
   "source": [
    "Fetch results of feature information using SQL Select Query.\n",
    "\n",
    "| name  | description | file source |\n",
    "|------ |-----------| -----------|\n",
    "| XFOCAL | Hole x-axis position in focal plane (mm) | plPlugMap |\n",
    "| YFOCAL | Hole y-axis position in focal plane (mm) | plPlugMap |\n",
    "| PLATE | Plate ID | spZbest |\n",
    "| MJD   | Modified Julian date of observation | spZbest |\n",
    "| FIBER | Fiber ID | spZbest |\n",
    "| RA | Right ascension of telescope boresights(deg) | photoObj |\n",
    "| DEC | Declination of telescope boresight (deg) | photoObj |\n",
    "| AIRMASS_0 | Airmass at time of observation | photoObj |\n",
    "| AIRMASS_1 |-- | --|\n",
    "| AIRMASS_2 | --| --|\n",
    "| AIRMASS_3 |-- |-- |\n",
    "| AIRMASS_4 |-- |-- |\n",
    "\n",
    "| SEEING 20 |                                   |\n",
    "| SEEING 50 |                                     |\n",
    "| SEEING 80 |                                      |"
   ]
  },
  {
   "cell_type": "code",
   "execution_count": 40,
   "metadata": {},
   "outputs": [],
   "source": [
    "columns_names ='PLATE,MJD, XFOCAL,YFOCAL,FIBER,RA,DEC,AIRMASS_0,AIRMASS_1,AIRMASS_2,AIRMASS_3,AIRMASS_4'"
   ]
  },
  {
   "cell_type": "code",
   "execution_count": 41,
   "metadata": {},
   "outputs": [
    {
     "data": {
      "text/plain": [
       "'PLATE,MJD, XFOCAL,YFOCAL,FIBER,RA,DEC,AIRMASS_0,AIRMASS_1,AIRMASS_2,AIRMASS_3,AIRMASS_4'"
      ]
     },
     "execution_count": 41,
     "metadata": {},
     "output_type": "execute_result"
    }
   ],
   "source": [
    "columns_names"
   ]
  },
  {
   "cell_type": "code",
   "execution_count": 45,
   "metadata": {},
   "outputs": [],
   "source": [
    "features_spAll = spAll.select_all(what = columns_names,where=None,sort=None,max_rows=None)"
   ]
  },
  {
   "cell_type": "code",
   "execution_count": 48,
   "metadata": {},
   "outputs": [
    {
     "data": {
      "text/html": [
       "<i>Table length=2467000</i>\n",
       "<table id=\"table140472826923048\" class=\"table-striped table-bordered table-condensed\">\n",
       "<thead><tr><th>PLATE</th><th>MJD</th><th>XFOCAL</th><th>YFOCAL</th><th>FIBER</th><th>RA</th><th>DEC</th><th>AIRMASS_0</th><th>AIRMASS_1</th><th>AIRMASS_2</th><th>AIRMASS_3</th><th>AIRMASS_4</th></tr></thead>\n",
       "<thead><tr><th>int64</th><th>int64</th><th>float64</th><th>float64</th><th>int64</th><th>float64</th><th>float64</th><th>float64</th><th>float64</th><th>float64</th><th>float64</th><th>float64</th></tr></thead>\n",
       "<tr><td>3586</td><td>55181</td><td>290.4083251953125</td><td>-100.94261932373047</td><td>1</td><td>9.331912240761937</td><td>-0.46295465595501833</td><td>1.3931663036346436</td><td>1.402037501335144</td><td>1.3845560550689697</td><td>1.3888276815414429</td><td>1.3975642919540405</td></tr>\n",
       "<tr><td>3586</td><td>55181</td><td>290.10784912109375</td><td>-136.1317138671875</td><td>2</td><td>9.330077908085968</td><td>-0.6241158950124553</td><td>1.3961660861968994</td><td>1.4050742387771606</td><td>1.3875188827514648</td><td>1.3918077945709229</td><td>1.4005820751190186</td></tr>\n",
       "<tr><td>3586</td><td>55181</td><td>312.33843994140625</td><td>-53.472434997558594</td><td>3</td><td>9.432105925316963</td><td>-0.24518153601304604</td><td>1.1955134868621826</td><td>1.1964384317398071</td><td>1.1947202682495117</td><td>1.195099949836731</td><td>1.195959448814392</td></tr>\n",
       "<tr><td>3586</td><td>55181</td><td>311.3415222167969</td><td>-74.46633911132812</td><td>4</td><td>9.427406000439102</td><td>-0.3414065792197985</td><td>1.1968247890472412</td><td>1.1977523565292358</td><td>1.196029782295227</td><td>1.1964107751846313</td><td>1.1972718238830566</td></tr>\n",
       "<tr><td>3586</td><td>55181</td><td>298.4267578125</td><td>-73.9637680053711</td><td>5</td><td>9.368674678655001</td><td>-0.3392240124253553</td><td>1.196795105934143</td><td>1.1977224349975586</td><td>1.196000099182129</td><td>1.196380853652954</td><td>1.1972419023513794</td></tr>\n",
       "<tr><td>3586</td><td>55181</td><td>307.2918395996094</td><td>-54.528682708740234</td><td>6</td><td>9.409156644237045</td><td>-0.2500578433416338</td><td>1.1955798864364624</td><td>1.1965056657791138</td><td>1.1947864294052124</td><td>1.1951665878295898</td><td>1.1960258483886719</td></tr>\n",
       "<tr><td>3586</td><td>55181</td><td>296.58929443359375</td><td>-46.39889907836914</td><td>7</td><td>9.360470369583934</td><td>-0.21284236857353117</td><td>1.195074200630188</td><td>1.195999026298523</td><td>1.1942815780639648</td><td>1.1946611404418945</td><td>1.1955196857452393</td></tr>\n",
       "<tr><td>3586</td><td>55181</td><td>294.7062683105469</td><td>-34.79413604736328</td><td>8</td><td>9.351932355972735</td><td>-0.15962225110457692</td><td>1.2973734140396118</td><td>1.3033195734024048</td><td>1.2916183471679688</td><td>1.2944709062576294</td><td>1.3003202676773071</td></tr>\n",
       "<tr><td>3586</td><td>55181</td><td>316.6907958984375</td><td>-22.958707809448242</td><td>9</td><td>9.452027474817498</td><td>-0.1052714142176597</td><td>1.2965061664581299</td><td>1.302443027496338</td><td>1.2907588481903076</td><td>1.2936073541641235</td><td>1.2994486093521118</td></tr>\n",
       "<tr><td>3586</td><td>55181</td><td>322.3554382324219</td><td>-28.756694793701172</td><td>10</td><td>9.477722655883838</td><td>-0.13182912909336794</td><td>1.2969294786453247</td><td>1.3028709888458252</td><td>1.2911783456802368</td><td>1.294028401374817</td><td>1.299874186515808</td></tr>\n",
       "<tr><td>...</td><td>...</td><td>...</td><td>...</td><td>...</td><td>...</td><td>...</td><td>...</td><td>...</td><td>...</td><td>...</td><td>...</td></tr>\n",
       "<tr><td>7457</td><td>56746</td><td>254.17962646484375</td><td>13.900079727172852</td><td>991</td><td>183.11162337993053</td><td>19.99505230601033</td><td>1.4216077327728271</td><td>1.4343791007995605</td><td>1.4091628789901733</td><td>1.4153400659561157</td><td>1.4279433488845825</td></tr>\n",
       "<tr><td>7457</td><td>56746</td><td>234.53477478027344</td><td>35.8896484375</td><td>992</td><td>183.01657095486914</td><td>20.09663594951967</td><td>1.420609474182129</td><td>1.4333558082580566</td><td>1.4081883430480957</td><td>1.4143540859222412</td><td>1.4269323348999023</td></tr>\n",
       "<tr><td>7457</td><td>56746</td><td>268.828369140625</td><td>28.56368637084961</td><td>993</td><td>183.18351162013255</td><td>20.061826834571303</td><td>1.420778751373291</td><td>1.433529019355774</td><td>1.4083539247512817</td><td>1.4145209789276123</td><td>1.4271036386489868</td></tr>\n",
       "<tr><td>7457</td><td>56746</td><td>268.52490234375</td><td>39.25625228881836</td><td>994</td><td>183.18241909013892</td><td>20.110903284935922</td><td>1.420239806175232</td><td>1.4329763650894165</td><td>1.4078278541564941</td><td>1.413988709449768</td><td>1.4265577793121338</td></tr>\n",
       "<tr><td>7457</td><td>56746</td><td>289.2696533203125</td><td>57.754695892333984</td><td>995</td><td>183.28403000000003</td><td>20.194921</td><td>0.0</td><td>0.0</td><td>0.0</td><td>0.0</td><td>0.0</td></tr>\n",
       "<tr><td>7457</td><td>56746</td><td>235.20094299316406</td><td>6.878203868865967</td><td>996</td><td>183.01886000000002</td><td>19.963443</td><td>0.0</td><td>0.0</td><td>0.0</td><td>0.0</td><td>0.0</td></tr>\n",
       "<tr><td>7457</td><td>56746</td><td>284.5191650390625</td><td>27.932880401611328</td><td>997</td><td>183.25982869924243</td><td>20.058327302609833</td><td>1.4207196235656738</td><td>1.4334676265716553</td><td>1.4082964658737183</td><td>1.4144620895385742</td><td>1.4270434379577637</td></tr>\n",
       "<tr><td>7457</td><td>56746</td><td>208.45640563964844</td><td>227.57684326171875</td><td>998</td><td>182.89384999999993</td><td>20.9763</td><td>0.0</td><td>0.0</td><td>0.0</td><td>0.0</td><td>0.0</td></tr>\n",
       "<tr><td>7457</td><td>56746</td><td>279.6142883300781</td><td>44.90178298950195</td><td>999</td><td>183.23661053013348</td><td>20.136369563883793</td><td>1.4198898077011108</td><td>1.432617425918579</td><td>1.4074866771697998</td><td>1.4136428833007812</td><td>1.4262034893035889</td></tr>\n",
       "<tr><td>7457</td><td>56746</td><td>194.83834838867188</td><td>238.782958984375</td><td>1000</td><td>182.8272957622433</td><td>21.028072031860805</td><td>1.4108922481536865</td><td>1.4233958721160889</td><td>1.3987115621566772</td><td>1.4047579765319824</td><td>1.4170950651168823</td></tr>\n",
       "</table>"
      ],
      "text/plain": [
       "<Table length=2467000>\n",
       "PLATE  MJD        XFOCAL       ...     AIRMASS_3          AIRMASS_4     \n",
       "int64 int64      float64       ...      float64            float64      \n",
       "----- ----- ------------------ ... ------------------ ------------------\n",
       " 3586 55181  290.4083251953125 ... 1.3888276815414429 1.3975642919540405\n",
       " 3586 55181 290.10784912109375 ... 1.3918077945709229 1.4005820751190186\n",
       " 3586 55181 312.33843994140625 ...  1.195099949836731  1.195959448814392\n",
       " 3586 55181  311.3415222167969 ... 1.1964107751846313 1.1972718238830566\n",
       " 3586 55181     298.4267578125 ...  1.196380853652954 1.1972419023513794\n",
       " 3586 55181  307.2918395996094 ... 1.1951665878295898 1.1960258483886719\n",
       " 3586 55181 296.58929443359375 ... 1.1946611404418945 1.1955196857452393\n",
       " 3586 55181  294.7062683105469 ... 1.2944709062576294 1.3003202676773071\n",
       " 3586 55181  316.6907958984375 ... 1.2936073541641235 1.2994486093521118\n",
       " 3586 55181  322.3554382324219 ...  1.294028401374817  1.299874186515808\n",
       "  ...   ...                ... ...                ...                ...\n",
       " 7457 56746 254.17962646484375 ... 1.4153400659561157 1.4279433488845825\n",
       " 7457 56746 234.53477478027344 ... 1.4143540859222412 1.4269323348999023\n",
       " 7457 56746   268.828369140625 ... 1.4145209789276123 1.4271036386489868\n",
       " 7457 56746    268.52490234375 ...  1.413988709449768 1.4265577793121338\n",
       " 7457 56746  289.2696533203125 ...                0.0                0.0\n",
       " 7457 56746 235.20094299316406 ...                0.0                0.0\n",
       " 7457 56746  284.5191650390625 ... 1.4144620895385742 1.4270434379577637\n",
       " 7457 56746 208.45640563964844 ...                0.0                0.0\n",
       " 7457 56746  279.6142883300781 ... 1.4136428833007812 1.4262034893035889\n",
       " 7457 56746 194.83834838867188 ... 1.4047579765319824 1.4170950651168823"
      ]
     },
     "execution_count": 48,
     "metadata": {},
     "output_type": "execute_result"
    }
   ],
   "source": [
    "features_spAll"
   ]
  },
  {
   "cell_type": "code",
   "execution_count": 28,
   "metadata": {},
   "outputs": [],
   "source": [
    "plate_spAll = spAll.select_all(what='PLATE', where= None, sort=None, max_rows=None)"
   ]
  },
  {
   "cell_type": "code",
   "execution_count": 30,
   "metadata": {},
   "outputs": [],
   "source": [
    "MJD_spAll = spAll.select_all(what='MJD', where= None, sort=None, max_rows=None)"
   ]
  },
  {
   "cell_type": "code",
   "execution_count": 32,
   "metadata": {},
   "outputs": [],
   "source": [
    "FIBER_spAll = spAll.select_all(what='FIBER', where= None, sort=None, max_rows=None)"
   ]
  },
  {
   "cell_type": "code",
   "execution_count": 37,
   "metadata": {},
   "outputs": [],
   "source": [
    "AIRMASS_0_spAll = spAll.select_all(what='AIRMASS_0', where=None, sort=None, max_rows=None)"
   ]
  },
  {
   "cell_type": "code",
   "execution_count": 53,
   "metadata": {},
   "outputs": [],
   "source": [
    "plate_unique = unique(plate_spAll )"
   ]
  },
  {
   "cell_type": "markdown",
   "metadata": {},
   "source": [
    "# Dec 3rd, Monday, Summary\n",
    "\n",
    "This table above is a manual combination of feature columns with information mainly from the spAll file. The (wavelength,flux) matrix needs to be added to each row of fiber.\n",
    "\n",
    "spec file is found to contain spectrum exposure information (flux, sky flux, ivar) by grouping information from spFrame, spCFrame, spPlate, spZbest, spZline, and spAll files.\n",
    "\n",
    "The next step could be looping through each fiber to extract the exposure information from spec file, or directly combine information from various files noted above with the spAll matrix."
   ]
  },
  {
   "cell_type": "code",
   "execution_count": null,
   "metadata": {},
   "outputs": [],
   "source": []
  },
  {
   "cell_type": "code",
   "execution_count": 55,
   "metadata": {},
   "outputs": [],
   "source": [
    "def get_plugmap(plate_number, mjd):\n",
    "    '''Return a binary table of Plug-map structure.\n",
    "    \n",
    "    Parameters\n",
    "    -----------\n",
    "    plate_number: Specified plate number, must be positive\n",
    "    mjd: modified julian date of the observation associated with input plate, must be > 45000.\n",
    "    \n",
    "    Output\n",
    "    -------\n",
    "    A binary table\n",
    "    '''\n",
    "    \n",
    "    # Get path to file containing combined spectra for a whole plate\n",
    "    plate_file_path = finder.get_plate_spec_path(plate_number, mjd)\n",
    "    \n",
    "    # Automatically mirrored\n",
    "    plate_file = mirror.get(plate_file_path, progress_min_size=2, auto_download=True, local_paths=None)\n",
    "    \n",
    "    # A BOSS plate file containing combined exposures for a whole plate\n",
    "    whole_plate = plate.PlateFile(plate_file)\n",
    "    # The attribute which record this plate's plug map\n",
    "    plug_map = whole_plate.plug_map\n",
    "    \n",
    "    print(\"Plug_map of\", plate_number, \"at Modified Julian Date\", mjd )\n",
    "    return plug_map"
   ]
  },
  {
   "cell_type": "code",
   "execution_count": null,
   "metadata": {},
   "outputs": [],
   "source": []
  },
  {
   "cell_type": "code",
   "execution_count": null,
   "metadata": {},
   "outputs": [],
   "source": []
  },
  {
   "cell_type": "code",
   "execution_count": null,
   "metadata": {},
   "outputs": [],
   "source": []
  },
  {
   "cell_type": "code",
   "execution_count": null,
   "metadata": {},
   "outputs": [],
   "source": []
  },
  {
   "cell_type": "markdown",
   "metadata": {},
   "source": [
    "## Please Disregard things below"
   ]
  },
  {
   "cell_type": "code",
   "execution_count": 54,
   "metadata": {},
   "outputs": [],
   "source": [
    "mjd_list = bossdata.meta.get_plate_mjd_list(plate = 3586, finder = None, mirror = None)"
   ]
  },
  {
   "cell_type": "code",
   "execution_count": 55,
   "metadata": {},
   "outputs": [
    {
     "data": {
      "text/plain": [
       "[55181]"
      ]
     },
     "execution_count": 55,
     "metadata": {},
     "output_type": "execute_result"
    }
   ],
   "source": [
    "mjd_list"
   ]
  },
  {
   "cell_type": "markdown",
   "metadata": {},
   "source": [
    "bossdata.meta.sql_create_table -> prepare an SQL statement to create a database for a numpy structured array."
   ]
  },
  {
   "cell_type": "markdown",
   "metadata": {},
   "source": [
    "### bossdata.path"
   ]
  },
  {
   "cell_type": "code",
   "execution_count": 88,
   "metadata": {},
   "outputs": [],
   "source": [
    "spectrum_3586_1000_path = finder.get_spec_path(plate=3586,mjd=55181,fiber=1000,lite=False)"
   ]
  },
  {
   "cell_type": "code",
   "execution_count": 90,
   "metadata": {},
   "outputs": [
    {
     "data": {
      "text/plain": [
       "'/sas/dr12/boss/spectro/redux/v5_7_0/spectra/3586/spec-3586-55181-1000.fits'"
      ]
     },
     "execution_count": 90,
     "metadata": {},
     "output_type": "execute_result"
    }
   ],
   "source": [
    "spectrum_3586_1000_path"
   ]
  },
  {
   "cell_type": "code",
   "execution_count": 91,
   "metadata": {},
   "outputs": [],
   "source": [
    "spectra_3586_path = finder.get_plate_spec_path(plate =3586, mjd = 55181)"
   ]
  },
  {
   "cell_type": "code",
   "execution_count": 92,
   "metadata": {},
   "outputs": [
    {
     "data": {
      "text/plain": [
       "'/sas/dr12/boss/spectro/redux/v5_7_0/3586/spPlate-3586-55181.fits'"
      ]
     },
     "execution_count": 92,
     "metadata": {},
     "output_type": "execute_result"
    }
   ],
   "source": [
    "spectra_3586_path"
   ]
  },
  {
   "cell_type": "markdown",
   "metadata": {},
   "source": [
    "### bossdata.remote"
   ]
  },
  {
   "cell_type": "code",
   "execution_count": 96,
   "metadata": {},
   "outputs": [],
   "source": [
    "spectrum_3586_1000_fits = mirror.get(spectrum_3586_1000_path, progress_min_size = 2, auto_download=True, local_paths=None)"
   ]
  },
  {
   "cell_type": "code",
   "execution_count": 97,
   "metadata": {},
   "outputs": [
    {
     "data": {
      "text/plain": [
       "'/scratch/kunjias/sdss/sas/dr12/boss/spectro/redux/v5_7_0/spectra/3586/spec-3586-55181-1000.fits'"
      ]
     },
     "execution_count": 97,
     "metadata": {},
     "output_type": "execute_result"
    }
   ],
   "source": [
    "spectrum_3586_1000_fits"
   ]
  },
  {
   "cell_type": "markdown",
   "metadata": {},
   "source": [
    "### bossdata.spec"
   ]
  },
  {
   "cell_type": "code",
   "execution_count": 271,
   "metadata": {},
   "outputs": [],
   "source": [
    "spectrum_3586_1000 = fits.open(spectrum_3586_1000_fits)"
   ]
  },
  {
   "cell_type": "code",
   "execution_count": 281,
   "metadata": {},
   "outputs": [
    {
     "data": {
      "text/plain": [
       "astropy.io.fits.hdu.hdulist.HDUList"
      ]
     },
     "execution_count": 281,
     "metadata": {},
     "output_type": "execute_result"
    }
   ],
   "source": [
    "type(spectrum_3586_1000)"
   ]
  },
  {
   "cell_type": "markdown",
   "metadata": {},
   "source": [
    "#### Exposures"
   ]
  },
  {
   "cell_type": "code",
   "execution_count": 274,
   "metadata": {},
   "outputs": [],
   "source": [
    "spectrum_3586_1000_header = spectrum_3586_1000[0].header"
   ]
  },
  {
   "cell_type": "markdown",
   "metadata": {},
   "source": [
    "A function to transform header type into dictionary type."
   ]
  },
  {
   "cell_type": "code",
   "execution_count": 112,
   "metadata": {},
   "outputs": [],
   "source": [
    "def header_to_dict(Header):\n",
    "    dict_header = {}\n",
    "    for i in range(0,len(Header)):\n",
    "        dict_header[list(Header.keys())[i]] = Header[i]\n",
    "        \n",
    "    return dict_header"
   ]
  },
  {
   "cell_type": "code",
   "execution_count": 113,
   "metadata": {},
   "outputs": [],
   "source": [
    "spectrum_3586_1000_dict = header_to_dict(spectrum_3586_1000_header)"
   ]
  },
  {
   "cell_type": "code",
   "execution_count": 283,
   "metadata": {},
   "outputs": [],
   "source": [
    "#spectrum_3586_1000_header"
   ]
  },
  {
   "cell_type": "code",
   "execution_count": 270,
   "metadata": {},
   "outputs": [],
   "source": [
    "#spectrum_3586_1000_dict"
   ]
  },
  {
   "cell_type": "code",
   "execution_count": 147,
   "metadata": {},
   "outputs": [],
   "source": [
    "exposures_3586_1000 = spec.Exposures(spectrum_3586_1000_header)"
   ]
  },
  {
   "cell_type": "code",
   "execution_count": 149,
   "metadata": {},
   "outputs": [
    {
     "data": {
      "text/plain": [
       "<bossdata.spec.Exposures at 0x7f65e51bef98>"
      ]
     },
     "execution_count": 149,
     "metadata": {},
     "output_type": "execute_result"
    }
   ],
   "source": [
    "spec.Exposures(spectrum_3586_1000_dict)"
   ]
  },
  {
   "cell_type": "markdown",
   "metadata": {},
   "source": [
    "#### Is converting to \"dict\" format necessary?"
   ]
  },
  {
   "cell_type": "code",
   "execution_count": 150,
   "metadata": {},
   "outputs": [
    {
     "data": {
      "text/html": [
       "<i>Row index=0</i>\n",
       "<table id=\"table140075612257360\">\n",
       "<thead><tr><th>offset</th><th>camera</th><th>science</th><th>flat</th><th>arc</th></tr></thead>\n",
       "<thead><tr><th>int32</th><th>bytes2</th><th>int32</th><th>int32</th><th>int32</th></tr></thead>\n",
       "<tr><td>0</td><td>b2</td><td>104927</td><td>104934</td><td>104935</td></tr>\n",
       "</table>"
      ],
      "text/plain": [
       "<Row index=0>\n",
       "offset camera science  flat   arc  \n",
       "int32  bytes2  int32  int32  int32 \n",
       "------ ------ ------- ------ ------\n",
       "     0     b2  104927 104934 104935"
      ]
     },
     "execution_count": 150,
     "metadata": {},
     "output_type": "execute_result"
    }
   ],
   "source": [
    "exposures_3586_1000.get_info(0,'b2')"
   ]
  },
  {
   "cell_type": "code",
   "execution_count": 151,
   "metadata": {},
   "outputs": [
    {
     "data": {
      "text/html": [
       "<i>Row index=0</i>\n",
       "<table id=\"table140075612265272\">\n",
       "<thead><tr><th>offset</th><th>camera</th><th>science</th><th>flat</th><th>arc</th></tr></thead>\n",
       "<thead><tr><th>int32</th><th>bytes2</th><th>int32</th><th>int32</th><th>int32</th></tr></thead>\n",
       "<tr><td>7</td><td>r2</td><td>104927</td><td>104934</td><td>104935</td></tr>\n",
       "</table>"
      ],
      "text/plain": [
       "<Row index=0>\n",
       "offset camera science  flat   arc  \n",
       "int32  bytes2  int32  int32  int32 \n",
       "------ ------ ------- ------ ------\n",
       "     7     r2  104927 104934 104935"
      ]
     },
     "execution_count": 151,
     "metadata": {},
     "output_type": "execute_result"
    }
   ],
   "source": [
    "exposures_3586_1000.get_info(0,'r2')"
   ]
  },
  {
   "cell_type": "code",
   "execution_count": 152,
   "metadata": {},
   "outputs": [
    {
     "data": {
      "text/html": [
       "<i>Row index=0</i>\n",
       "<table id=\"table140075612265608\">\n",
       "<thead><tr><th>offset</th><th>camera</th><th>science</th><th>flat</th><th>arc</th></tr></thead>\n",
       "<thead><tr><th>int32</th><th>bytes2</th><th>int32</th><th>int32</th><th>int32</th></tr></thead>\n",
       "<tr><td>13</td><td>r2</td><td>104933</td><td>104934</td><td>104935</td></tr>\n",
       "</table>"
      ],
      "text/plain": [
       "<Row index=0>\n",
       "offset camera science  flat   arc  \n",
       "int32  bytes2  int32  int32  int32 \n",
       "------ ------ ------- ------ ------\n",
       "    13     r2  104933 104934 104935"
      ]
     },
     "execution_count": 152,
     "metadata": {},
     "output_type": "execute_result"
    }
   ],
   "source": [
    "exposures_3586_1000.get_info(6,'r2')"
   ]
  },
  {
   "cell_type": "markdown",
   "metadata": {},
   "source": [
    "#### spec"
   ]
  },
  {
   "cell_type": "code",
   "execution_count": 154,
   "metadata": {},
   "outputs": [],
   "source": [
    "SpecFile_3586_1000 = spec.SpecFile(spectrum_3586_1000_fits)"
   ]
  },
  {
   "cell_type": "code",
   "execution_count": 156,
   "metadata": {},
   "outputs": [
    {
     "data": {
      "text/plain": [
       "\n",
       "  file: /scratch/kunjias/sdss/sas/dr12/boss/spectro/redux/v5_7_0/spectra/3586/spec-3586-55181-1000.fits\n",
       "  extension: 11\n",
       "  type: BINARY_TBL\n",
       "  extname: R2-00104927-00104934-00104935\n",
       "  rows: 3154\n",
       "  column info:\n",
       "    flux                f4  \n",
       "    loglam              f4  \n",
       "    ivar                f4  \n",
       "    mask                i4  \n",
       "    wdisp               f4  \n",
       "    sky                 f4  \n",
       "    calib               f4  \n",
       "    x                   f4  "
      ]
     },
     "execution_count": 156,
     "metadata": {},
     "output_type": "execute_result"
    }
   ],
   "source": [
    "SpecFile_3586_1000.get_exposure_hdu(0,'r2')"
   ]
  },
  {
   "cell_type": "code",
   "execution_count": 202,
   "metadata": {},
   "outputs": [
    {
     "data": {
      "text/plain": [
       "'spCFrame-r2-00104929.fits'"
      ]
     },
     "execution_count": 202,
     "metadata": {},
     "output_type": "execute_result"
    }
   ],
   "source": [
    "SpecFile_3586_1000.get_exposure_name(sequence_number = 2,\n",
    "                                    band = 'red',\n",
    "                                    ftype = 'spCFrame')"
   ]
  },
  {
   "cell_type": "code",
   "execution_count": 164,
   "metadata": {},
   "outputs": [
    {
     "data": {
      "text/plain": [
       "array([0, 0, 0, ..., 0, 0, 0], dtype=int32)"
      ]
     },
     "execution_count": 164,
     "metadata": {},
     "output_type": "execute_result"
    }
   ],
   "source": [
    "SpecFile_3586_1000.get_pixel_mask()"
   ]
  },
  {
   "cell_type": "code",
   "execution_count": 222,
   "metadata": {},
   "outputs": [],
   "source": [
    "plate3586_fiber1000_exposure08=SpecFile_3586_1000.get_valid_data(exposure_index=0, \n",
    "                                  camera='r2', \n",
    "                                  pixel_quality_mask=None, \n",
    "                                  include_wdisp=False,\n",
    "                                  include_sky=True, \n",
    "                                  use_ivar=False, \n",
    "                                  use_loglam=False, \n",
    "                                  fiducial_grid=False)"
   ]
  },
  {
   "cell_type": "code",
   "execution_count": 223,
   "metadata": {},
   "outputs": [],
   "source": [
    "data_plate3586_fiber1000_exposure08 = plate3586_fiber1000_exposure08.data"
   ]
  },
  {
   "cell_type": "code",
   "execution_count": 225,
   "metadata": {},
   "outputs": [
    {
     "data": {
      "text/plain": [
       "array([( 5902.7227,  6.998139 ,  8.638592, 12.053816),\n",
       "       ( 5904.064 ,  2.200818 ,  7.794687, 10.22544 ),\n",
       "       ( 5905.403 , 12.786961 ,  7.782696,  8.667742), ...,\n",
       "       (10353.862 , -5.5906186,  9.617459, 23.124233),\n",
       "       (10355.271 , -5.8272276, 11.215535, 26.230238),\n",
       "       (10356.682 , 10.499031 , 13.026062, 24.17344 )],\n",
       "      dtype=[('wavelength', '<f4'), ('flux', '<f4'), ('dflux', '<f4'), ('sky', '<f4')])"
      ]
     },
     "execution_count": 225,
     "metadata": {},
     "output_type": "execute_result"
    }
   ],
   "source": [
    "data_plate3586_fiber1000_exposure08"
   ]
  },
  {
   "cell_type": "code",
   "execution_count": 238,
   "metadata": {},
   "outputs": [],
   "source": [
    "wlen_plate3586_fiber1000_exposure08 = data_plate3586_fiber1000_exposure08['wavelength'][:]"
   ]
  },
  {
   "cell_type": "code",
   "execution_count": 239,
   "metadata": {},
   "outputs": [],
   "source": [
    "flux_plate3586_fiber1000_exposure08 = data_plate3586_fiber1000_exposure08['flux'][:]"
   ]
  },
  {
   "cell_type": "code",
   "execution_count": 240,
   "metadata": {},
   "outputs": [],
   "source": [
    "sky_plate3586_fiber1000_exposure08 = data_plate3586_fiber1000_exposure08['sky'][:]"
   ]
  },
  {
   "cell_type": "code",
   "execution_count": 248,
   "metadata": {},
   "outputs": [
    {
     "data": {
      "image/png": "[encoded data removed]",
      "text/plain": [
       "<Figure size 432x288 with 1 Axes>"
      ]
     },
     "metadata": {
      "needs_background": "light"
     },
     "output_type": "display_data"
    }
   ],
   "source": [
    "x = wlen_plate3586_fiber1000_exposure08\n",
    "y = flux_plate3586_fiber1000_exposure08\n",
    "plt.plot(x,y,c='r')\n",
    "plt.tight_layout()\n",
    "plt.show()"
   ]
  },
  {
   "cell_type": "code",
   "execution_count": 245,
   "metadata": {},
   "outputs": [
    {
     "data": {
      "image/png": "[encoded data removed]",
      "text/plain": [
       "<Figure size 432x288 with 1 Axes>"
      ]
     },
     "metadata": {
      "needs_background": "light"
     },
     "output_type": "display_data"
    }
   ],
   "source": [
    "x = wlen_plate3586_fiber1000_exposure08\n",
    "y = sky_plate3586_fiber1000_exposure08\n",
    "plt.plot(x,y,c = 'b')\n",
    "plt.tight_layout()\n",
    "plt.show()"
   ]
  },
  {
   "cell_type": "code",
   "execution_count": 247,
   "metadata": {},
   "outputs": [
    {
     "data": {
      "image/png": "[encoded data removed]",
      "text/plain": [
       "<Figure size 432x288 with 1 Axes>"
      ]
     },
     "metadata": {
      "needs_background": "light"
     },
     "output_type": "display_data"
    }
   ],
   "source": [
    "x = wlen_plate3586_fiber1000_exposure08\n",
    "y = sky_plate3586_fiber1000_exposure08 + flux_plate3586_fiber1000_exposure08 \n",
    "plt.plot(x,y,c = 'g')\n",
    "plt.tight_layout()\n",
    "plt.show()"
   ]
  },
  {
   "cell_type": "code",
   "execution_count": 228,
   "metadata": {},
   "outputs": [
    {
     "data": {
      "text/plain": [
       "(3154,)"
      ]
     },
     "execution_count": 228,
     "metadata": {},
     "output_type": "execute_result"
    }
   ],
   "source": [
    "data_plate3586_fiber1000_exposure08.shape"
   ]
  },
  {
   "cell_type": "markdown",
   "metadata": {},
   "source": [
    "Wavelength of a particular integral pixel."
   ]
  },
  {
   "cell_type": "code",
   "execution_count": 200,
   "metadata": {},
   "outputs": [
    {
     "data": {
      "text/plain": [
       "3.554100305027835"
      ]
     },
     "execution_count": 200,
     "metadata": {},
     "output_type": "execute_result"
    }
   ],
   "source": [
    "spec.fiducial_loglam[100]"
   ]
  },
  {
   "cell_type": "markdown",
   "metadata": {},
   "source": [
    "Bounding wavelength range"
   ]
  },
  {
   "cell_type": "code",
   "execution_count": 198,
   "metadata": {},
   "outputs": [
    {
     "data": {
      "text/plain": [
       "array([ 3500.26      , 10568.18251472])"
      ]
     },
     "execution_count": 198,
     "metadata": {},
     "output_type": "execute_result"
    }
   ],
   "source": [
    "10**spec.fiducial_loglam[[0,-1]]"
   ]
  }
 ],
 "metadata": {
  "kernelspec": {
   "display_name": "Python 3",
   "language": "python",
   "name": "python3"
  },
  "language_info": {
   "codemirror_mode": {
    "name": "ipython",
    "version": 3
   },
   "file_extension": ".py",
   "mimetype": "text/x-python",
   "name": "python",
   "nbconvert_exporter": "python",
   "pygments_lexer": "ipython3",
   "version": "3.6.3"
  }
 },
 "nbformat": 4,
 "nbformat_minor": 2
}
