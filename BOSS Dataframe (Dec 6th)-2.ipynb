{
 "cells": [
  {
   "cell_type": "markdown",
   "metadata": {},
   "source": [
    "### Dec 6th, Thursday, Summary\n",
    "- The feature table with 13 columns is replicated by row corresponding to the number of available exposure in each fiber\n",
    "\n",
    "- The exposure index column is added as the 14th column\n",
    "\n",
    "- Exposure data matrix with 4128 columns is intended to be add as extra columns to the feature matrix. The index and value are not approriately understood by the current concatenation method. Modification is needed.\n",
    "\n",
    "- Next step: automation for all exposure across fibers and convert to HDF5 file."
   ]
  },
  {
   "cell_type": "code",
   "execution_count": null,
   "metadata": {},
   "outputs": [],
   "source": []
  },
  {
   "cell_type": "markdown",
   "metadata": {},
   "source": [
    "### Initialization"
   ]
  },
  {
   "cell_type": "markdown",
   "metadata": {},
   "source": [
    "#### Bossdata"
   ]
  },
  {
   "cell_type": "code",
   "execution_count": 2,
   "metadata": {},
   "outputs": [
    {
     "name": "stdout",
     "output_type": "stream",
     "text": [
      "0.3.1\n"
     ]
    }
   ],
   "source": [
    "import bossdata\n",
    "print(bossdata.__version__)"
   ]
  },
  {
   "cell_type": "code",
   "execution_count": 3,
   "metadata": {},
   "outputs": [],
   "source": [
    "import bossdata.path\n",
    "import bossdata.remote\n",
    "import bossdata.meta as meta\n",
    "import bossdata.spec as spec\n",
    "import bossdata.plate as plate"
   ]
  },
  {
   "cell_type": "markdown",
   "metadata": {},
   "source": [
    "#### Astropy"
   ]
  },
  {
   "cell_type": "code",
   "execution_count": 4,
   "metadata": {},
   "outputs": [],
   "source": [
    "import astropy.io.fits as fits\n",
    "from astropy.table import unique,Table"
   ]
  },
  {
   "cell_type": "markdown",
   "metadata": {},
   "source": [
    "#### Pandas"
   ]
  },
  {
   "cell_type": "code",
   "execution_count": 426,
   "metadata": {},
   "outputs": [],
   "source": [
    "import pandas as pd"
   ]
  },
  {
   "cell_type": "markdown",
   "metadata": {},
   "source": [
    "#### Numpy"
   ]
  },
  {
   "cell_type": "code",
   "execution_count": 282,
   "metadata": {},
   "outputs": [],
   "source": [
    "import numpy as np"
   ]
  },
  {
   "cell_type": "markdown",
   "metadata": {},
   "source": [
    "#### HDPF5\n",
    "Hierarchical Data Format"
   ]
  },
  {
   "cell_type": "code",
   "execution_count": 408,
   "metadata": {},
   "outputs": [],
   "source": [
    "import h5py"
   ]
  },
  {
   "cell_type": "markdown",
   "metadata": {},
   "source": [
    "#### Environment"
   ]
  },
  {
   "cell_type": "code",
   "execution_count": 10,
   "metadata": {},
   "outputs": [],
   "source": [
    "import os\n",
    "workdir = os.environ['SCRATCH']\n",
    "os.environ[\"BOSS_DATA_URL\"] = 'http://dr12.sdss3.org'\n",
    "os.environ[\"BOSS_LOCAL_ROOT\"] = os.path.join(workdir,'sdss')\n",
    "os.environ[\"BOSS_SAS_PATH\"] = '/sas/dr12/boss'\n",
    "os.environ[\"BOSS_REDUX_VERSION\"]='v5_7_0'"
   ]
  },
  {
   "cell_type": "code",
   "execution_count": 6,
   "metadata": {},
   "outputs": [],
   "source": [
    "finder = bossdata.path.Finder()\n",
    "mirror = bossdata.remote.Manager()"
   ]
  },
  {
   "cell_type": "code",
   "execution_count": 7,
   "metadata": {},
   "outputs": [],
   "source": [
    "os.chdir(workdir)"
   ]
  },
  {
   "cell_type": "code",
   "execution_count": 8,
   "metadata": {},
   "outputs": [
    {
     "data": {
      "text/plain": [
       "'/scratch/kunjias'"
      ]
     },
     "execution_count": 8,
     "metadata": {},
     "output_type": "execute_result"
    }
   ],
   "source": [
    "os.getcwd()"
   ]
  },
  {
   "cell_type": "code",
   "execution_count": 11,
   "metadata": {},
   "outputs": [
    {
     "data": {
      "text/plain": [
       "'/scratch/kunjias'"
      ]
     },
     "execution_count": 11,
     "metadata": {},
     "output_type": "execute_result"
    }
   ],
   "source": [
    "workdir"
   ]
  },
  {
   "cell_type": "markdown",
   "metadata": {},
   "source": [
    "### spAll"
   ]
  },
  {
   "cell_type": "code",
   "execution_count": 12,
   "metadata": {},
   "outputs": [],
   "source": [
    "spAll_path = finder.get_sp_all_path(lite=False)"
   ]
  },
  {
   "cell_type": "code",
   "execution_count": 13,
   "metadata": {},
   "outputs": [
    {
     "data": {
      "text/plain": [
       "'/sas/dr12/boss/spectro/redux/v5_7_0/spAll-v5_7_0.fits'"
      ]
     },
     "execution_count": 13,
     "metadata": {},
     "output_type": "execute_result"
    }
   ],
   "source": [
    "spAll_path"
   ]
  },
  {
   "cell_type": "code",
   "execution_count": 14,
   "metadata": {},
   "outputs": [],
   "source": [
    "spAll_file = mirror.get(spAll_path, progress_min_size=2, auto_download=True, local_paths=None)"
   ]
  },
  {
   "cell_type": "code",
   "execution_count": 15,
   "metadata": {},
   "outputs": [
    {
     "data": {
      "text/plain": [
       "'/scratch/kunjias/sdss/sas/dr12/boss/spectro/redux/v5_7_0/spAll-v5_7_0.fits'"
      ]
     },
     "execution_count": 15,
     "metadata": {},
     "output_type": "execute_result"
    }
   ],
   "source": [
    "spAll_file"
   ]
  },
  {
   "cell_type": "code",
   "execution_count": 16,
   "metadata": {},
   "outputs": [],
   "source": [
    "local_path = 'home/kunjias/scratch'"
   ]
  },
  {
   "cell_type": "code",
   "execution_count": 17,
   "metadata": {},
   "outputs": [
    {
     "name": "stderr",
     "output_type": "stream",
     "text": [
      "/project/6016730/mlhaa/lib/python3.6/site-packages/bossdata/meta.py:61: FutureWarning: Conversion of the second argument of issubdtype from `float` to `np.floating` is deprecated. In future, it will be treated as `np.float64 == np.dtype(float).type`.\n",
      "  elif np.issubdtype(dtype, np.float):\n",
      "/project/6016730/mlhaa/lib/python3.6/site-packages/bossdata/meta.py:63: FutureWarning: Conversion of the second argument of issubdtype from `str` to `str` is deprecated. In future, it will be treated as `np.str_ == np.dtype(str).type`.\n",
      "  elif np.issubdtype(dtype, np.str) or np.issubdtype(dtype, np.bytes_):\n",
      "Writing 100%|#################################################################|\n"
     ]
    }
   ],
   "source": [
    "meta.create_meta_full(catalog_path = spAll_file,db_path= local_path,verbose=True, primary_key='(PLATE,MJD,FIBER)')"
   ]
  },
  {
   "cell_type": "code",
   "execution_count": null,
   "metadata": {},
   "outputs": [],
   "source": []
  },
  {
   "cell_type": "code",
   "execution_count": null,
   "metadata": {},
   "outputs": [],
   "source": []
  },
  {
   "cell_type": "markdown",
   "metadata": {},
   "source": [
    "### Bossdata.meta Database\n",
    "Initialize searchable databse of BOSS observation metadata."
   ]
  },
  {
   "cell_type": "code",
   "execution_count": 18,
   "metadata": {},
   "outputs": [],
   "source": [
    "spAll= bossdata.meta.Database(finder=finder, mirror=mirror, lite=False, quasar_catalog=False, quasar_catalog_name=None, platelist=False, verbose=False)"
   ]
  },
  {
   "cell_type": "code",
   "execution_count": 19,
   "metadata": {},
   "outputs": [],
   "source": [
    "columns = spAll.prepare_columns('*')"
   ]
  },
  {
   "cell_type": "code",
   "execution_count": 70,
   "metadata": {},
   "outputs": [],
   "source": [
    "#columns"
   ]
  },
  {
   "cell_type": "markdown",
   "metadata": {},
   "source": [
    "Fetch results of feature information using SQL Select Query.\n",
    "\n",
    "| name  | description | file source |\n",
    "|------ |-----------| -----------|\n",
    "| XFOCAL | Hole x-axis position in focal plane (mm) | plPlugMap |\n",
    "| YFOCAL | Hole y-axis position in focal plane (mm) | plPlugMap |\n",
    "| PLATE | Plate ID | spZbest |\n",
    "| MJD   | Modified Julian date of observation | spZbest |\n",
    "| FIBER | Fiber ID | spZbest |\n",
    "| RA | Right ascension of telescope boresights(deg) | photoObj |\n",
    "| DEC | Declination of telescope boresight (deg) | photoObj |\n",
    "| OBJTYPE | Why this Object was targetted (Note that if this field says QSO, it could be the case that this object would have been targetted as a GALAXY or any number of other categories as well. )| spZbest |\n",
    "| AIRMASS_0 | Airmass at time of observation | photoObj |\n",
    "| AIRMASS_1 |-- | --|\n",
    "| AIRMASS_2 | --| --|\n",
    "| AIRMASS_3 |-- |-- |\n",
    "| AIRMASS_4 |-- |-- |\n",
    "\n",
    "| SEEING 20 |                                   |\n",
    "| SEEING 50 |                                     |\n",
    "| SEEING 80 |                                      |"
   ]
  },
  {
   "cell_type": "code",
   "execution_count": 61,
   "metadata": {},
   "outputs": [],
   "source": [
    "columns_names ='PLATE,MJD, XFOCAL,YFOCAL,FIBER,RA,DEC,OBJTYPE,AIRMASS_0,AIRMASS_1,AIRMASS_2,AIRMASS_3,AIRMASS_4'"
   ]
  },
  {
   "cell_type": "code",
   "execution_count": 65,
   "metadata": {},
   "outputs": [
    {
     "data": {
      "text/plain": [
       "'PLATE,MJD, XFOCAL,YFOCAL,FIBER,RA,DEC,OBJTYPE,AIRMASS_0,AIRMASS_1,AIRMASS_2,AIRMASS_3,AIRMASS_4'"
      ]
     },
     "execution_count": 65,
     "metadata": {},
     "output_type": "execute_result"
    }
   ],
   "source": [
    "columns_names"
   ]
  },
  {
   "cell_type": "code",
   "execution_count": null,
   "metadata": {},
   "outputs": [],
   "source": [
    "len(columns_names)"
   ]
  },
  {
   "cell_type": "code",
   "execution_count": 78,
   "metadata": {},
   "outputs": [],
   "source": [
    "features_spAll = spAll.select_all(what = columns_names,where=None,sort=None,max_rows=None)"
   ]
  },
  {
   "cell_type": "code",
   "execution_count": null,
   "metadata": {},
   "outputs": [],
   "source": [
    "features_spAll.head()"
   ]
  },
  {
   "cell_type": "code",
   "execution_count": 198,
   "metadata": {},
   "outputs": [],
   "source": [
    "# Turn Astropy Table into Pandas\n",
    "features_data = features_spAll.to_pandas()"
   ]
  },
  {
   "cell_type": "code",
   "execution_count": 199,
   "metadata": {},
   "outputs": [
    {
     "data": {
      "text/html": [
       "<div>\n",
       "<style scoped>\n",
       "    .dataframe tbody tr th:only-of-type {\n",
       "        vertical-align: middle;\n",
       "    }\n",
       "\n",
       "    .dataframe tbody tr th {\n",
       "        vertical-align: top;\n",
       "    }\n",
       "\n",
       "    .dataframe thead th {\n",
       "        text-align: right;\n",
       "    }\n",
       "</style>\n",
       "<table border=\"1\" class=\"dataframe\">\n",
       "  <thead>\n",
       "    <tr style=\"text-align: right;\">\n",
       "      <th></th>\n",
       "      <th>PLATE</th>\n",
       "      <th>MJD</th>\n",
       "      <th>XFOCAL</th>\n",
       "      <th>YFOCAL</th>\n",
       "      <th>FIBER</th>\n",
       "      <th>RA</th>\n",
       "      <th>DEC</th>\n",
       "      <th>OBJTYPE</th>\n",
       "      <th>AIRMASS_0</th>\n",
       "      <th>AIRMASS_1</th>\n",
       "      <th>AIRMASS_2</th>\n",
       "      <th>AIRMASS_3</th>\n",
       "      <th>AIRMASS_4</th>\n",
       "    </tr>\n",
       "  </thead>\n",
       "  <tbody>\n",
       "    <tr>\n",
       "      <th>0</th>\n",
       "      <td>3586</td>\n",
       "      <td>55181</td>\n",
       "      <td>290.408325</td>\n",
       "      <td>-100.942619</td>\n",
       "      <td>1</td>\n",
       "      <td>9.331912</td>\n",
       "      <td>-0.462955</td>\n",
       "      <td>GALAXY</td>\n",
       "      <td>1.393166</td>\n",
       "      <td>1.402038</td>\n",
       "      <td>1.384556</td>\n",
       "      <td>1.388828</td>\n",
       "      <td>1.397564</td>\n",
       "    </tr>\n",
       "    <tr>\n",
       "      <th>1</th>\n",
       "      <td>3586</td>\n",
       "      <td>55181</td>\n",
       "      <td>290.107849</td>\n",
       "      <td>-136.131714</td>\n",
       "      <td>2</td>\n",
       "      <td>9.330078</td>\n",
       "      <td>-0.624116</td>\n",
       "      <td>GALAXY</td>\n",
       "      <td>1.396166</td>\n",
       "      <td>1.405074</td>\n",
       "      <td>1.387519</td>\n",
       "      <td>1.391808</td>\n",
       "      <td>1.400582</td>\n",
       "    </tr>\n",
       "    <tr>\n",
       "      <th>2</th>\n",
       "      <td>3586</td>\n",
       "      <td>55181</td>\n",
       "      <td>312.338440</td>\n",
       "      <td>-53.472435</td>\n",
       "      <td>3</td>\n",
       "      <td>9.432106</td>\n",
       "      <td>-0.245182</td>\n",
       "      <td>GALAXY</td>\n",
       "      <td>1.195513</td>\n",
       "      <td>1.196438</td>\n",
       "      <td>1.194720</td>\n",
       "      <td>1.195100</td>\n",
       "      <td>1.195959</td>\n",
       "    </tr>\n",
       "    <tr>\n",
       "      <th>3</th>\n",
       "      <td>3586</td>\n",
       "      <td>55181</td>\n",
       "      <td>311.341522</td>\n",
       "      <td>-74.466339</td>\n",
       "      <td>4</td>\n",
       "      <td>9.427406</td>\n",
       "      <td>-0.341407</td>\n",
       "      <td>SPECTROPHOTO_STD</td>\n",
       "      <td>1.196825</td>\n",
       "      <td>1.197752</td>\n",
       "      <td>1.196030</td>\n",
       "      <td>1.196411</td>\n",
       "      <td>1.197272</td>\n",
       "    </tr>\n",
       "    <tr>\n",
       "      <th>4</th>\n",
       "      <td>3586</td>\n",
       "      <td>55181</td>\n",
       "      <td>298.426758</td>\n",
       "      <td>-73.963768</td>\n",
       "      <td>5</td>\n",
       "      <td>9.368675</td>\n",
       "      <td>-0.339224</td>\n",
       "      <td>GALAXY</td>\n",
       "      <td>1.196795</td>\n",
       "      <td>1.197722</td>\n",
       "      <td>1.196000</td>\n",
       "      <td>1.196381</td>\n",
       "      <td>1.197242</td>\n",
       "    </tr>\n",
       "  </tbody>\n",
       "</table>\n",
       "</div>"
      ],
      "text/plain": [
       "   PLATE    MJD      XFOCAL      YFOCAL  FIBER        RA       DEC  \\\n",
       "0   3586  55181  290.408325 -100.942619      1  9.331912 -0.462955   \n",
       "1   3586  55181  290.107849 -136.131714      2  9.330078 -0.624116   \n",
       "2   3586  55181  312.338440  -53.472435      3  9.432106 -0.245182   \n",
       "3   3586  55181  311.341522  -74.466339      4  9.427406 -0.341407   \n",
       "4   3586  55181  298.426758  -73.963768      5  9.368675 -0.339224   \n",
       "\n",
       "            OBJTYPE  AIRMASS_0  AIRMASS_1  AIRMASS_2  AIRMASS_3  AIRMASS_4  \n",
       "0            GALAXY   1.393166   1.402038   1.384556   1.388828   1.397564  \n",
       "1            GALAXY   1.396166   1.405074   1.387519   1.391808   1.400582  \n",
       "2            GALAXY   1.195513   1.196438   1.194720   1.195100   1.195959  \n",
       "3  SPECTROPHOTO_STD   1.196825   1.197752   1.196030   1.196411   1.197272  \n",
       "4            GALAXY   1.196795   1.197722   1.196000   1.196381   1.197242  "
      ]
     },
     "execution_count": 199,
     "metadata": {},
     "output_type": "execute_result"
    }
   ],
   "source": [
    "features_data.head()"
   ]
  },
  {
   "cell_type": "code",
   "execution_count": 200,
   "metadata": {},
   "outputs": [
    {
     "data": {
      "text/plain": [
       "array(['GALAXY', 'SPECTROPHOTO_STD', 'SKY', 'QSO', 'NA'], dtype=object)"
      ]
     },
     "execution_count": 200,
     "metadata": {},
     "output_type": "execute_result"
    }
   ],
   "source": [
    "# Object types of all fibers\n",
    "features_data['OBJTYPE'].unique()"
   ]
  },
  {
   "cell_type": "markdown",
   "metadata": {},
   "source": [
    "Select out the sky fibers"
   ]
  },
  {
   "cell_type": "code",
   "execution_count": 201,
   "metadata": {},
   "outputs": [],
   "source": [
    "sky_fibers = features_data[(features_data['OBJTYPE'] == 'SKY')]"
   ]
  },
  {
   "cell_type": "code",
   "execution_count": 203,
   "metadata": {},
   "outputs": [
    {
     "data": {
      "text/html": [
       "<div>\n",
       "<style scoped>\n",
       "    .dataframe tbody tr th:only-of-type {\n",
       "        vertical-align: middle;\n",
       "    }\n",
       "\n",
       "    .dataframe tbody tr th {\n",
       "        vertical-align: top;\n",
       "    }\n",
       "\n",
       "    .dataframe thead th {\n",
       "        text-align: right;\n",
       "    }\n",
       "</style>\n",
       "<table border=\"1\" class=\"dataframe\">\n",
       "  <thead>\n",
       "    <tr style=\"text-align: right;\">\n",
       "      <th></th>\n",
       "      <th>PLATE</th>\n",
       "      <th>MJD</th>\n",
       "      <th>XFOCAL</th>\n",
       "      <th>YFOCAL</th>\n",
       "      <th>FIBER</th>\n",
       "      <th>RA</th>\n",
       "      <th>DEC</th>\n",
       "      <th>OBJTYPE</th>\n",
       "      <th>AIRMASS_0</th>\n",
       "      <th>AIRMASS_1</th>\n",
       "      <th>AIRMASS_2</th>\n",
       "      <th>AIRMASS_3</th>\n",
       "      <th>AIRMASS_4</th>\n",
       "    </tr>\n",
       "  </thead>\n",
       "  <tbody>\n",
       "    <tr>\n",
       "      <th>11</th>\n",
       "      <td>3586</td>\n",
       "      <td>55181</td>\n",
       "      <td>305.141815</td>\n",
       "      <td>-30.619471</td>\n",
       "      <td>12</td>\n",
       "      <td>9.399483</td>\n",
       "      <td>-0.140439</td>\n",
       "      <td>SKY</td>\n",
       "      <td>0.00000</td>\n",
       "      <td>0.000000</td>\n",
       "      <td>0.000000</td>\n",
       "      <td>0.000000</td>\n",
       "      <td>0.000000</td>\n",
       "    </tr>\n",
       "    <tr>\n",
       "      <th>13</th>\n",
       "      <td>3586</td>\n",
       "      <td>55181</td>\n",
       "      <td>311.175537</td>\n",
       "      <td>-9.341264</td>\n",
       "      <td>14</td>\n",
       "      <td>9.426984</td>\n",
       "      <td>-0.042847</td>\n",
       "      <td>SKY</td>\n",
       "      <td>0.00000</td>\n",
       "      <td>0.000000</td>\n",
       "      <td>0.000000</td>\n",
       "      <td>0.000000</td>\n",
       "      <td>0.000000</td>\n",
       "    </tr>\n",
       "    <tr>\n",
       "      <th>25</th>\n",
       "      <td>3586</td>\n",
       "      <td>55181</td>\n",
       "      <td>267.770142</td>\n",
       "      <td>-53.615555</td>\n",
       "      <td>26</td>\n",
       "      <td>9.228573</td>\n",
       "      <td>-0.246457</td>\n",
       "      <td>SKY</td>\n",
       "      <td>1.19553</td>\n",
       "      <td>1.196456</td>\n",
       "      <td>1.194738</td>\n",
       "      <td>1.195118</td>\n",
       "      <td>1.195977</td>\n",
       "    </tr>\n",
       "    <tr>\n",
       "      <th>45</th>\n",
       "      <td>3586</td>\n",
       "      <td>55181</td>\n",
       "      <td>230.368332</td>\n",
       "      <td>-218.913437</td>\n",
       "      <td>46</td>\n",
       "      <td>9.056336</td>\n",
       "      <td>-1.003750</td>\n",
       "      <td>SKY</td>\n",
       "      <td>0.00000</td>\n",
       "      <td>0.000000</td>\n",
       "      <td>0.000000</td>\n",
       "      <td>0.000000</td>\n",
       "      <td>0.000000</td>\n",
       "    </tr>\n",
       "    <tr>\n",
       "      <th>47</th>\n",
       "      <td>3586</td>\n",
       "      <td>55181</td>\n",
       "      <td>225.774734</td>\n",
       "      <td>-207.749695</td>\n",
       "      <td>48</td>\n",
       "      <td>9.035569</td>\n",
       "      <td>-0.952847</td>\n",
       "      <td>SKY</td>\n",
       "      <td>0.00000</td>\n",
       "      <td>0.000000</td>\n",
       "      <td>0.000000</td>\n",
       "      <td>0.000000</td>\n",
       "      <td>0.000000</td>\n",
       "    </tr>\n",
       "  </tbody>\n",
       "</table>\n",
       "</div>"
      ],
      "text/plain": [
       "    PLATE    MJD      XFOCAL      YFOCAL  FIBER        RA       DEC OBJTYPE  \\\n",
       "11   3586  55181  305.141815  -30.619471     12  9.399483 -0.140439     SKY   \n",
       "13   3586  55181  311.175537   -9.341264     14  9.426984 -0.042847     SKY   \n",
       "25   3586  55181  267.770142  -53.615555     26  9.228573 -0.246457     SKY   \n",
       "45   3586  55181  230.368332 -218.913437     46  9.056336 -1.003750     SKY   \n",
       "47   3586  55181  225.774734 -207.749695     48  9.035569 -0.952847     SKY   \n",
       "\n",
       "    AIRMASS_0  AIRMASS_1  AIRMASS_2  AIRMASS_3  AIRMASS_4  \n",
       "11    0.00000   0.000000   0.000000   0.000000   0.000000  \n",
       "13    0.00000   0.000000   0.000000   0.000000   0.000000  \n",
       "25    1.19553   1.196456   1.194738   1.195118   1.195977  \n",
       "45    0.00000   0.000000   0.000000   0.000000   0.000000  \n",
       "47    0.00000   0.000000   0.000000   0.000000   0.000000  "
      ]
     },
     "execution_count": 203,
     "metadata": {},
     "output_type": "execute_result"
    }
   ],
   "source": [
    "sky_fibers.head()"
   ]
  },
  {
   "cell_type": "markdown",
   "metadata": {},
   "source": [
    "Randomly select 1000 sky fibers to retreive their exposure information.\n",
    "\n",
    "Random state is set to 5 to for reproducibility."
   ]
  },
  {
   "cell_type": "code",
   "execution_count": 205,
   "metadata": {},
   "outputs": [],
   "source": [
    "kilo_sky = sky_fibers.sample(n=1000,replace=False,weights=None, random_state=5, axis=0)"
   ]
  },
  {
   "cell_type": "code",
   "execution_count": 208,
   "metadata": {},
   "outputs": [
    {
     "data": {
      "text/html": [
       "<div>\n",
       "<style scoped>\n",
       "    .dataframe tbody tr th:only-of-type {\n",
       "        vertical-align: middle;\n",
       "    }\n",
       "\n",
       "    .dataframe tbody tr th {\n",
       "        vertical-align: top;\n",
       "    }\n",
       "\n",
       "    .dataframe thead th {\n",
       "        text-align: right;\n",
       "    }\n",
       "</style>\n",
       "<table border=\"1\" class=\"dataframe\">\n",
       "  <thead>\n",
       "    <tr style=\"text-align: right;\">\n",
       "      <th></th>\n",
       "      <th>PLATE</th>\n",
       "      <th>MJD</th>\n",
       "      <th>XFOCAL</th>\n",
       "      <th>YFOCAL</th>\n",
       "      <th>FIBER</th>\n",
       "      <th>RA</th>\n",
       "      <th>DEC</th>\n",
       "      <th>OBJTYPE</th>\n",
       "      <th>AIRMASS_0</th>\n",
       "      <th>AIRMASS_1</th>\n",
       "      <th>AIRMASS_2</th>\n",
       "      <th>AIRMASS_3</th>\n",
       "      <th>AIRMASS_4</th>\n",
       "    </tr>\n",
       "  </thead>\n",
       "  <tbody>\n",
       "    <tr>\n",
       "      <th>169565</th>\n",
       "      <td>3844</td>\n",
       "      <td>55321</td>\n",
       "      <td>-93.327362</td>\n",
       "      <td>140.945984</td>\n",
       "      <td>566</td>\n",
       "      <td>180.403340</td>\n",
       "      <td>0.647407</td>\n",
       "      <td>SKY</td>\n",
       "      <td>0.0</td>\n",
       "      <td>0.0</td>\n",
       "      <td>0.0</td>\n",
       "      <td>0.0</td>\n",
       "      <td>0.0</td>\n",
       "    </tr>\n",
       "    <tr>\n",
       "      <th>1293639</th>\n",
       "      <td>5399</td>\n",
       "      <td>55956</td>\n",
       "      <td>-119.386322</td>\n",
       "      <td>150.762390</td>\n",
       "      <td>640</td>\n",
       "      <td>185.173420</td>\n",
       "      <td>12.159917</td>\n",
       "      <td>SKY</td>\n",
       "      <td>0.0</td>\n",
       "      <td>0.0</td>\n",
       "      <td>0.0</td>\n",
       "      <td>0.0</td>\n",
       "      <td>0.0</td>\n",
       "    </tr>\n",
       "    <tr>\n",
       "      <th>1758203</th>\n",
       "      <td>6190</td>\n",
       "      <td>56210</td>\n",
       "      <td>60.237095</td>\n",
       "      <td>-182.178345</td>\n",
       "      <td>204</td>\n",
       "      <td>6.769615</td>\n",
       "      <td>11.811333</td>\n",
       "      <td>SKY</td>\n",
       "      <td>0.0</td>\n",
       "      <td>0.0</td>\n",
       "      <td>0.0</td>\n",
       "      <td>0.0</td>\n",
       "      <td>0.0</td>\n",
       "    </tr>\n",
       "    <tr>\n",
       "      <th>2208918</th>\n",
       "      <td>6822</td>\n",
       "      <td>56711</td>\n",
       "      <td>148.396866</td>\n",
       "      <td>174.016495</td>\n",
       "      <td>919</td>\n",
       "      <td>204.210510</td>\n",
       "      <td>64.690726</td>\n",
       "      <td>SKY</td>\n",
       "      <td>0.0</td>\n",
       "      <td>0.0</td>\n",
       "      <td>0.0</td>\n",
       "      <td>0.0</td>\n",
       "      <td>0.0</td>\n",
       "    </tr>\n",
       "    <tr>\n",
       "      <th>2461169</th>\n",
       "      <td>7451</td>\n",
       "      <td>56739</td>\n",
       "      <td>86.115021</td>\n",
       "      <td>-190.730453</td>\n",
       "      <td>170</td>\n",
       "      <td>120.395440</td>\n",
       "      <td>-0.875818</td>\n",
       "      <td>SKY</td>\n",
       "      <td>0.0</td>\n",
       "      <td>0.0</td>\n",
       "      <td>0.0</td>\n",
       "      <td>0.0</td>\n",
       "      <td>0.0</td>\n",
       "    </tr>\n",
       "  </tbody>\n",
       "</table>\n",
       "</div>"
      ],
      "text/plain": [
       "         PLATE    MJD      XFOCAL      YFOCAL  FIBER          RA        DEC  \\\n",
       "169565    3844  55321  -93.327362  140.945984    566  180.403340   0.647407   \n",
       "1293639   5399  55956 -119.386322  150.762390    640  185.173420  12.159917   \n",
       "1758203   6190  56210   60.237095 -182.178345    204    6.769615  11.811333   \n",
       "2208918   6822  56711  148.396866  174.016495    919  204.210510  64.690726   \n",
       "2461169   7451  56739   86.115021 -190.730453    170  120.395440  -0.875818   \n",
       "\n",
       "        OBJTYPE  AIRMASS_0  AIRMASS_1  AIRMASS_2  AIRMASS_3  AIRMASS_4  \n",
       "169565      SKY        0.0        0.0        0.0        0.0        0.0  \n",
       "1293639     SKY        0.0        0.0        0.0        0.0        0.0  \n",
       "1758203     SKY        0.0        0.0        0.0        0.0        0.0  \n",
       "2208918     SKY        0.0        0.0        0.0        0.0        0.0  \n",
       "2461169     SKY        0.0        0.0        0.0        0.0        0.0  "
      ]
     },
     "execution_count": 208,
     "metadata": {},
     "output_type": "execute_result"
    }
   ],
   "source": [
    "kilo_sky.head()"
   ]
  },
  {
   "cell_type": "markdown",
   "metadata": {},
   "source": [
    "Retrieve exposure data for each one of the 1000 randomly selected sky fiber."
   ]
  },
  {
   "cell_type": "code",
   "execution_count": 524,
   "metadata": {},
   "outputs": [],
   "source": [
    "def get_valid_data(plate_number, mjd, fiber_number):\n",
    "    '''Compute masked array of valid data from a given plate at specific mjd and exposure time.\n",
    "    \n",
    "    Parameters\n",
    "    -----------\n",
    "    plate_number: Specified plate number. Default plate number is 4042.\n",
    "    \n",
    "    mjd: modified julian date of the observation associated with input plate. Default mjd is 55626.\n",
    "    \n",
    "    fiber_number: fiber number to identify which spectrograph to retreive the exposure data,\n",
    "    1-500 for spectrograph 1, and 501-1000 for spectrograph 2.\n",
    "    \n",
    "    Output\n",
    "    -------\n",
    "    A masked array of valid data of the input plate at specified exposure.\n",
    "    '''\n",
    "    # Get local path to plan file\n",
    "    combined_plan_path = finder.get_plate_plan_path(plate_number,mjd, combined=True)\n",
    "    combined_plan_file = mirror.get(combined_plan_path, progress_min_size=2,auto_download=True, local_paths=None)\n",
    "    # Configuring BOSS pipeline to combine exposures of a single plate\n",
    "    combined_plan = plate.Plan(combined_plan_file)\n",
    "    # Number of Science Exposure\n",
    "    exposures = combined_plan.num_science_exposures\n",
    "    # Spectrograph Index\n",
    "    spectrograph_index = combined_plan.get_spectrograph_index(fiber_number)\n",
    "    \n",
    "    exposure_data = empty_data_plate3586\n",
    "    \n",
    "    for n in range(exposures):\n",
    "        try:\n",
    "            exp_spCFrame_path = combined_plan.get_exposure_name(sequence_number=n,band='red',fiber=fiber_number,ftype='spCFrame')\n",
    "            exp_spCFrame_file = mirror.get(exp_spCFrame_path)\n",
    "            exp_frame = plate.FrameFile(exp_spCFrame_file, index = spectrograph_index, calibrated = True)\n",
    "            valid_spec = exp_frame.get_valid_data(fibers =[fiber_number],pixel_quality_mask=None, include_wdisp=False, include_sky=True, use_ivar=True, use_loglam=False)\n",
    "        \n",
    "            exposure_data = np.ma.append(exposure_data,valid_spec,0)\n",
    "        except Exception:\n",
    "            pass\n",
    "    \n",
    "    print(\"Plate\", plate_number, \"fiber\", fiber_number,\"has\", exposures, \"exposures\")\n",
    "    return exposure_data"
   ]
  },
  {
   "cell_type": "markdown",
   "metadata": {},
   "source": [
    "Initialize empty exposure masked array of shape (1,4128) using the first row in the sampled kilo-sky table. [plate 3586, mjd 55181, exposure 0, fiber 12]."
   ]
  },
  {
   "cell_type": "code",
   "execution_count": 413,
   "metadata": {},
   "outputs": [
    {
     "data": {
      "text/plain": [
       "(1, 4128)"
      ]
     },
     "execution_count": 413,
     "metadata": {},
     "output_type": "execute_result"
    }
   ],
   "source": [
    "plate3586_combined_plan_path = finder.get_plate_plan_path(plate=3586, mjd =55181, combined=True)\n",
    "plate3586_combined_plan_file = mirror.get(plate3586_combined_plan_path, progress_min_size=2,auto_download=True, local_paths=None)\n",
    "plate3586_combined_plan = plate.Plan(plate3586_combined_plan_file)\n",
    "\n",
    "plate3586_exposures = plate3586_combined_plan.num_science_exposures\n",
    "plate3586_fiber12_spectrograph_index = plate3586_combined_plan.get_spectrograph_index(12)\n",
    "\n",
    "plate3586_exp0_spCFrame_path = plate3586_combined_plan.get_exposure_name(sequence_number=0, band='red',fiber=12,ftype='spCFrame')\n",
    "plate3586_exp0_spCFrame_file = mirror.get(plate3586_exp0_spCFrame_path)\n",
    "\n",
    "plate3586_exp0_frame = plate.FrameFile(plate3586_exp0_spCFrame_file,index=plate3586_fiber12_spectrograph_index,calibrated=True)\n",
    "plate3586_valid_spec = plate3586_exp0_frame.get_valid_data(fibers=[12],pixel_quality_mask=None, include_wdisp=False, include_sky=True, use_ivar=True, use_loglam=False)\n",
    "\n",
    "empty_data_plate3586 = np.ma.empty_like(plate3586_valid_spec)\n",
    "empty_data_plate3586.shape"
   ]
  },
  {
   "cell_type": "code",
   "execution_count": 414,
   "metadata": {},
   "outputs": [
    {
     "data": {
      "text/plain": [
       "7"
      ]
     },
     "execution_count": 414,
     "metadata": {},
     "output_type": "execute_result"
    }
   ],
   "source": [
    "plate3586_exposures"
   ]
  },
  {
   "cell_type": "code",
   "execution_count": 415,
   "metadata": {},
   "outputs": [
    {
     "data": {
      "text/plain": [
       "1"
      ]
     },
     "execution_count": 415,
     "metadata": {},
     "output_type": "execute_result"
    }
   ],
   "source": [
    "plate3586_fiber12_spectrograph_index"
   ]
  },
  {
   "cell_type": "code",
   "execution_count": 417,
   "metadata": {},
   "outputs": [
    {
     "name": "stdout",
     "output_type": "stream",
     "text": [
      "(8, 4128)\n"
     ]
    }
   ],
   "source": [
    "exposure = empty_data_plate3586\n",
    "\n",
    "for n in range(plate3586_exposures):\n",
    "    try:\n",
    "        exp_spCFrame_path = plate3586_combined_plan.get_exposure_name(sequence_number = n,band='red',fiber=12,ftype='spCFrame')\n",
    "        exp_spCFrame_file = mirror.get(exp_spCFrame_path)\n",
    "        exp_frame = plate.FrameFile(exp_spCFrame_file, index =plate3586_fiber12_spectrograph_index, calibrated = True)\n",
    "        valid_spec = exp_frame.get_valid_data(fibers = [12],pixel_quality_mask=None, include_wdisp=False, include_sky=True, use_ivar=True, use_loglam=False)\n",
    "        exposure = np.ma.append(exposure,valid_spec,0)\n",
    "    except Exception:\n",
    "        pass\n",
    "    \n",
    "print(exposure.shape)"
   ]
  },
  {
   "cell_type": "code",
   "execution_count": 525,
   "metadata": {},
   "outputs": [
    {
     "name": "stdout",
     "output_type": "stream",
     "text": [
      "Plate 3586 fiber 12 has 7 exposures\n"
     ]
    }
   ],
   "source": [
    "plate3586_fiber12 = get_valid_data(plate_number=3586, mjd=55181, fiber_number=12)"
   ]
  },
  {
   "cell_type": "code",
   "execution_count": 428,
   "metadata": {},
   "outputs": [
    {
     "data": {
      "text/plain": [
       "(8, 4128)"
      ]
     },
     "execution_count": 428,
     "metadata": {},
     "output_type": "execute_result"
    }
   ],
   "source": [
    "plate3586_fiber12.shape"
   ]
  },
  {
   "cell_type": "code",
   "execution_count": 430,
   "metadata": {},
   "outputs": [
    {
     "data": {
      "text/plain": [
       "numpy.ma.core.MaskedArray"
      ]
     },
     "execution_count": 430,
     "metadata": {},
     "output_type": "execute_result"
    }
   ],
   "source": [
    "type(plate3586_fiber12)"
   ]
  },
  {
   "cell_type": "markdown",
   "metadata": {},
   "source": [
    "First row in the kilo-sky table. (Plate 3844, fiber 566)"
   ]
  },
  {
   "cell_type": "code",
   "execution_count": 530,
   "metadata": {},
   "outputs": [
    {
     "name": "stdout",
     "output_type": "stream",
     "text": [
      "Plate 3844 fiber 566 has 4 exposures\n"
     ]
    }
   ],
   "source": [
    "# Exposure Data\n",
    "plate3844_fiber566 = get_valid_data(plate_number=3844, mjd=55321, fiber_number=566)"
   ]
  },
  {
   "cell_type": "code",
   "execution_count": 529,
   "metadata": {},
   "outputs": [
    {
     "data": {
      "text/plain": [
       "(5, 4128)"
      ]
     },
     "execution_count": 529,
     "metadata": {},
     "output_type": "execute_result"
    }
   ],
   "source": [
    "plate3844_fiber566.shape"
   ]
  },
  {
   "cell_type": "markdown",
   "metadata": {},
   "source": [
    "There are 4 available exposures from red band of plate 3844, spectrograph 1. All 4 of the exposures are successfully looped through, giving a valid data matrix of shape (5,4128). The first row of sample empty data will eventually be removed.\n",
    "\n",
    "Similar procedures will be applied to all sky fibers from the sampled kilo-sky and retrieved their exposure information.\n",
    "\n",
    "The corresponding exposure index can be added as a 13th feature to the table, and the exposure valid data columns can be added as additional 4128 features.\n",
    "\n",
    "Attention needed to treat each field when adding exposure data to the feature table."
   ]
  },
  {
   "cell_type": "code",
   "execution_count": 531,
   "metadata": {},
   "outputs": [],
   "source": [
    "# Feature Data\n",
    "plate3844_fiber566_features = kilo_sky.take([0])"
   ]
  },
  {
   "cell_type": "code",
   "execution_count": 532,
   "metadata": {},
   "outputs": [
    {
     "data": {
      "text/html": [
       "<div>\n",
       "<style scoped>\n",
       "    .dataframe tbody tr th:only-of-type {\n",
       "        vertical-align: middle;\n",
       "    }\n",
       "\n",
       "    .dataframe tbody tr th {\n",
       "        vertical-align: top;\n",
       "    }\n",
       "\n",
       "    .dataframe thead th {\n",
       "        text-align: right;\n",
       "    }\n",
       "</style>\n",
       "<table border=\"1\" class=\"dataframe\">\n",
       "  <thead>\n",
       "    <tr style=\"text-align: right;\">\n",
       "      <th></th>\n",
       "      <th>PLATE</th>\n",
       "      <th>MJD</th>\n",
       "      <th>XFOCAL</th>\n",
       "      <th>YFOCAL</th>\n",
       "      <th>FIBER</th>\n",
       "      <th>RA</th>\n",
       "      <th>DEC</th>\n",
       "      <th>OBJTYPE</th>\n",
       "      <th>AIRMASS_0</th>\n",
       "      <th>AIRMASS_1</th>\n",
       "      <th>AIRMASS_2</th>\n",
       "      <th>AIRMASS_3</th>\n",
       "      <th>AIRMASS_4</th>\n",
       "    </tr>\n",
       "  </thead>\n",
       "  <tbody>\n",
       "    <tr>\n",
       "      <th>169565</th>\n",
       "      <td>3844</td>\n",
       "      <td>55321</td>\n",
       "      <td>-93.327362</td>\n",
       "      <td>140.945984</td>\n",
       "      <td>566</td>\n",
       "      <td>180.40334</td>\n",
       "      <td>0.647407</td>\n",
       "      <td>SKY</td>\n",
       "      <td>0.0</td>\n",
       "      <td>0.0</td>\n",
       "      <td>0.0</td>\n",
       "      <td>0.0</td>\n",
       "      <td>0.0</td>\n",
       "    </tr>\n",
       "  </tbody>\n",
       "</table>\n",
       "</div>"
      ],
      "text/plain": [
       "        PLATE    MJD     XFOCAL      YFOCAL  FIBER         RA       DEC  \\\n",
       "169565   3844  55321 -93.327362  140.945984    566  180.40334  0.647407   \n",
       "\n",
       "       OBJTYPE  AIRMASS_0  AIRMASS_1  AIRMASS_2  AIRMASS_3  AIRMASS_4  \n",
       "169565     SKY        0.0        0.0        0.0        0.0        0.0  "
      ]
     },
     "execution_count": 532,
     "metadata": {},
     "output_type": "execute_result"
    }
   ],
   "source": [
    "plate3844_fiber566_features"
   ]
  },
  {
   "cell_type": "code",
   "execution_count": 535,
   "metadata": {},
   "outputs": [],
   "source": [
    "plate3844_fiber566_features_4exposures = pd.concat([plate3586_fiber12_features]*4)"
   ]
  },
  {
   "cell_type": "code",
   "execution_count": 536,
   "metadata": {},
   "outputs": [
    {
     "data": {
      "text/html": [
       "<div>\n",
       "<style scoped>\n",
       "    .dataframe tbody tr th:only-of-type {\n",
       "        vertical-align: middle;\n",
       "    }\n",
       "\n",
       "    .dataframe tbody tr th {\n",
       "        vertical-align: top;\n",
       "    }\n",
       "\n",
       "    .dataframe thead th {\n",
       "        text-align: right;\n",
       "    }\n",
       "</style>\n",
       "<table border=\"1\" class=\"dataframe\">\n",
       "  <thead>\n",
       "    <tr style=\"text-align: right;\">\n",
       "      <th></th>\n",
       "      <th>PLATE</th>\n",
       "      <th>MJD</th>\n",
       "      <th>XFOCAL</th>\n",
       "      <th>YFOCAL</th>\n",
       "      <th>FIBER</th>\n",
       "      <th>RA</th>\n",
       "      <th>DEC</th>\n",
       "      <th>OBJTYPE</th>\n",
       "      <th>AIRMASS_0</th>\n",
       "      <th>AIRMASS_1</th>\n",
       "      <th>AIRMASS_2</th>\n",
       "      <th>AIRMASS_3</th>\n",
       "      <th>AIRMASS_4</th>\n",
       "    </tr>\n",
       "  </thead>\n",
       "  <tbody>\n",
       "    <tr>\n",
       "      <th>169565</th>\n",
       "      <td>3844</td>\n",
       "      <td>55321</td>\n",
       "      <td>-93.327362</td>\n",
       "      <td>140.945984</td>\n",
       "      <td>566</td>\n",
       "      <td>180.40334</td>\n",
       "      <td>0.647407</td>\n",
       "      <td>SKY</td>\n",
       "      <td>0.0</td>\n",
       "      <td>0.0</td>\n",
       "      <td>0.0</td>\n",
       "      <td>0.0</td>\n",
       "      <td>0.0</td>\n",
       "    </tr>\n",
       "    <tr>\n",
       "      <th>169565</th>\n",
       "      <td>3844</td>\n",
       "      <td>55321</td>\n",
       "      <td>-93.327362</td>\n",
       "      <td>140.945984</td>\n",
       "      <td>566</td>\n",
       "      <td>180.40334</td>\n",
       "      <td>0.647407</td>\n",
       "      <td>SKY</td>\n",
       "      <td>0.0</td>\n",
       "      <td>0.0</td>\n",
       "      <td>0.0</td>\n",
       "      <td>0.0</td>\n",
       "      <td>0.0</td>\n",
       "    </tr>\n",
       "    <tr>\n",
       "      <th>169565</th>\n",
       "      <td>3844</td>\n",
       "      <td>55321</td>\n",
       "      <td>-93.327362</td>\n",
       "      <td>140.945984</td>\n",
       "      <td>566</td>\n",
       "      <td>180.40334</td>\n",
       "      <td>0.647407</td>\n",
       "      <td>SKY</td>\n",
       "      <td>0.0</td>\n",
       "      <td>0.0</td>\n",
       "      <td>0.0</td>\n",
       "      <td>0.0</td>\n",
       "      <td>0.0</td>\n",
       "    </tr>\n",
       "    <tr>\n",
       "      <th>169565</th>\n",
       "      <td>3844</td>\n",
       "      <td>55321</td>\n",
       "      <td>-93.327362</td>\n",
       "      <td>140.945984</td>\n",
       "      <td>566</td>\n",
       "      <td>180.40334</td>\n",
       "      <td>0.647407</td>\n",
       "      <td>SKY</td>\n",
       "      <td>0.0</td>\n",
       "      <td>0.0</td>\n",
       "      <td>0.0</td>\n",
       "      <td>0.0</td>\n",
       "      <td>0.0</td>\n",
       "    </tr>\n",
       "  </tbody>\n",
       "</table>\n",
       "</div>"
      ],
      "text/plain": [
       "        PLATE    MJD     XFOCAL      YFOCAL  FIBER         RA       DEC  \\\n",
       "169565   3844  55321 -93.327362  140.945984    566  180.40334  0.647407   \n",
       "169565   3844  55321 -93.327362  140.945984    566  180.40334  0.647407   \n",
       "169565   3844  55321 -93.327362  140.945984    566  180.40334  0.647407   \n",
       "169565   3844  55321 -93.327362  140.945984    566  180.40334  0.647407   \n",
       "\n",
       "       OBJTYPE  AIRMASS_0  AIRMASS_1  AIRMASS_2  AIRMASS_3  AIRMASS_4  \n",
       "169565     SKY        0.0        0.0        0.0        0.0        0.0  \n",
       "169565     SKY        0.0        0.0        0.0        0.0        0.0  \n",
       "169565     SKY        0.0        0.0        0.0        0.0        0.0  \n",
       "169565     SKY        0.0        0.0        0.0        0.0        0.0  "
      ]
     },
     "execution_count": 536,
     "metadata": {},
     "output_type": "execute_result"
    }
   ],
   "source": [
    "plate3844_fiber566_features_4exposures"
   ]
  },
  {
   "cell_type": "markdown",
   "metadata": {},
   "source": [
    "Add a column of exposure index as a last column. (For fiber 566 in plate 3844, there are 4 exposures)"
   ]
  },
  {
   "cell_type": "code",
   "execution_count": 537,
   "metadata": {},
   "outputs": [],
   "source": [
    "plate3844_fiber566_features_4exposures.insert(13, 'exposure_index',np.arange(4))"
   ]
  },
  {
   "cell_type": "code",
   "execution_count": 538,
   "metadata": {},
   "outputs": [
    {
     "data": {
      "text/html": [
       "<div>\n",
       "<style scoped>\n",
       "    .dataframe tbody tr th:only-of-type {\n",
       "        vertical-align: middle;\n",
       "    }\n",
       "\n",
       "    .dataframe tbody tr th {\n",
       "        vertical-align: top;\n",
       "    }\n",
       "\n",
       "    .dataframe thead th {\n",
       "        text-align: right;\n",
       "    }\n",
       "</style>\n",
       "<table border=\"1\" class=\"dataframe\">\n",
       "  <thead>\n",
       "    <tr style=\"text-align: right;\">\n",
       "      <th></th>\n",
       "      <th>PLATE</th>\n",
       "      <th>MJD</th>\n",
       "      <th>XFOCAL</th>\n",
       "      <th>YFOCAL</th>\n",
       "      <th>FIBER</th>\n",
       "      <th>RA</th>\n",
       "      <th>DEC</th>\n",
       "      <th>OBJTYPE</th>\n",
       "      <th>AIRMASS_0</th>\n",
       "      <th>AIRMASS_1</th>\n",
       "      <th>AIRMASS_2</th>\n",
       "      <th>AIRMASS_3</th>\n",
       "      <th>AIRMASS_4</th>\n",
       "      <th>exposure_index</th>\n",
       "    </tr>\n",
       "  </thead>\n",
       "  <tbody>\n",
       "    <tr>\n",
       "      <th>169565</th>\n",
       "      <td>3844</td>\n",
       "      <td>55321</td>\n",
       "      <td>-93.327362</td>\n",
       "      <td>140.945984</td>\n",
       "      <td>566</td>\n",
       "      <td>180.40334</td>\n",
       "      <td>0.647407</td>\n",
       "      <td>SKY</td>\n",
       "      <td>0.0</td>\n",
       "      <td>0.0</td>\n",
       "      <td>0.0</td>\n",
       "      <td>0.0</td>\n",
       "      <td>0.0</td>\n",
       "      <td>0</td>\n",
       "    </tr>\n",
       "    <tr>\n",
       "      <th>169565</th>\n",
       "      <td>3844</td>\n",
       "      <td>55321</td>\n",
       "      <td>-93.327362</td>\n",
       "      <td>140.945984</td>\n",
       "      <td>566</td>\n",
       "      <td>180.40334</td>\n",
       "      <td>0.647407</td>\n",
       "      <td>SKY</td>\n",
       "      <td>0.0</td>\n",
       "      <td>0.0</td>\n",
       "      <td>0.0</td>\n",
       "      <td>0.0</td>\n",
       "      <td>0.0</td>\n",
       "      <td>1</td>\n",
       "    </tr>\n",
       "    <tr>\n",
       "      <th>169565</th>\n",
       "      <td>3844</td>\n",
       "      <td>55321</td>\n",
       "      <td>-93.327362</td>\n",
       "      <td>140.945984</td>\n",
       "      <td>566</td>\n",
       "      <td>180.40334</td>\n",
       "      <td>0.647407</td>\n",
       "      <td>SKY</td>\n",
       "      <td>0.0</td>\n",
       "      <td>0.0</td>\n",
       "      <td>0.0</td>\n",
       "      <td>0.0</td>\n",
       "      <td>0.0</td>\n",
       "      <td>2</td>\n",
       "    </tr>\n",
       "    <tr>\n",
       "      <th>169565</th>\n",
       "      <td>3844</td>\n",
       "      <td>55321</td>\n",
       "      <td>-93.327362</td>\n",
       "      <td>140.945984</td>\n",
       "      <td>566</td>\n",
       "      <td>180.40334</td>\n",
       "      <td>0.647407</td>\n",
       "      <td>SKY</td>\n",
       "      <td>0.0</td>\n",
       "      <td>0.0</td>\n",
       "      <td>0.0</td>\n",
       "      <td>0.0</td>\n",
       "      <td>0.0</td>\n",
       "      <td>3</td>\n",
       "    </tr>\n",
       "  </tbody>\n",
       "</table>\n",
       "</div>"
      ],
      "text/plain": [
       "        PLATE    MJD     XFOCAL      YFOCAL  FIBER         RA       DEC  \\\n",
       "169565   3844  55321 -93.327362  140.945984    566  180.40334  0.647407   \n",
       "169565   3844  55321 -93.327362  140.945984    566  180.40334  0.647407   \n",
       "169565   3844  55321 -93.327362  140.945984    566  180.40334  0.647407   \n",
       "169565   3844  55321 -93.327362  140.945984    566  180.40334  0.647407   \n",
       "\n",
       "       OBJTYPE  AIRMASS_0  AIRMASS_1  AIRMASS_2  AIRMASS_3  AIRMASS_4  \\\n",
       "169565     SKY        0.0        0.0        0.0        0.0        0.0   \n",
       "169565     SKY        0.0        0.0        0.0        0.0        0.0   \n",
       "169565     SKY        0.0        0.0        0.0        0.0        0.0   \n",
       "169565     SKY        0.0        0.0        0.0        0.0        0.0   \n",
       "\n",
       "        exposure_index  \n",
       "169565               0  \n",
       "169565               1  \n",
       "169565               2  \n",
       "169565               3  "
      ]
     },
     "execution_count": 538,
     "metadata": {},
     "output_type": "execute_result"
    }
   ],
   "source": [
    "plate3844_fiber566_features_4exposures"
   ]
  },
  {
   "cell_type": "code",
   "execution_count": 433,
   "metadata": {},
   "outputs": [],
   "source": [
    "field_index=['wavelength', 'flux','ivar','sky']"
   ]
  },
  {
   "cell_type": "code",
   "execution_count": 540,
   "metadata": {},
   "outputs": [],
   "source": [
    "plate3844_fiber566_exp0 =pd.DataFrame.from_records(data = plate3844_fiber566[1], index = field_index).T"
   ]
  },
  {
   "cell_type": "code",
   "execution_count": 541,
   "metadata": {},
   "outputs": [
    {
     "data": {
      "text/html": [
       "<div>\n",
       "<style scoped>\n",
       "    .dataframe tbody tr th:only-of-type {\n",
       "        vertical-align: middle;\n",
       "    }\n",
       "\n",
       "    .dataframe tbody tr th {\n",
       "        vertical-align: top;\n",
       "    }\n",
       "\n",
       "    .dataframe thead tr th {\n",
       "        text-align: left;\n",
       "    }\n",
       "</style>\n",
       "<table border=\"1\" class=\"dataframe\">\n",
       "  <thead>\n",
       "    <tr>\n",
       "      <th>wavelength</th>\n",
       "      <th>5188.432617</th>\n",
       "      <th>5189.726562</th>\n",
       "      <th>5191.020508</th>\n",
       "      <th>5192.314941</th>\n",
       "      <th>5193.608887</th>\n",
       "      <th>5194.903320</th>\n",
       "      <th>5196.197754</th>\n",
       "      <th>5197.492188</th>\n",
       "      <th>5198.787109</th>\n",
       "      <th>5200.082031</th>\n",
       "      <th>...</th>\n",
       "      <th>10995.800781</th>\n",
       "      <th>10997.206055</th>\n",
       "      <th>10998.611328</th>\n",
       "      <th>11000.016602</th>\n",
       "      <th>11001.421875</th>\n",
       "      <th>11002.826172</th>\n",
       "      <th>11004.231445</th>\n",
       "      <th>11005.636719</th>\n",
       "      <th>11007.041016</th>\n",
       "      <th>11008.446289</th>\n",
       "    </tr>\n",
       "    <tr>\n",
       "      <th>flux</th>\n",
       "      <th>0.0</th>\n",
       "      <th>0.0</th>\n",
       "      <th>0.0</th>\n",
       "      <th>0.0</th>\n",
       "      <th>0.0</th>\n",
       "      <th>0.0</th>\n",
       "      <th>0.0</th>\n",
       "      <th>0.0</th>\n",
       "      <th>0.0</th>\n",
       "      <th>0.0</th>\n",
       "      <th>...</th>\n",
       "      <th>0.0</th>\n",
       "      <th>0.0</th>\n",
       "      <th>0.0</th>\n",
       "      <th>0.0</th>\n",
       "      <th>0.0</th>\n",
       "      <th>0.0</th>\n",
       "      <th>0.0</th>\n",
       "      <th>0.0</th>\n",
       "      <th>0.0</th>\n",
       "      <th>0.0</th>\n",
       "    </tr>\n",
       "    <tr>\n",
       "      <th>ivar</th>\n",
       "      <th>1.970181e+02</th>\n",
       "      <th>1.970181e+02</th>\n",
       "      <th>2.369428e-38</th>\n",
       "      <th>2.369428e-38</th>\n",
       "      <th>2.369428e-38</th>\n",
       "      <th>2.369428e-38</th>\n",
       "      <th>2.369428e-38</th>\n",
       "      <th>2.369428e-38</th>\n",
       "      <th>2.369428e-38</th>\n",
       "      <th>2.369428e-38</th>\n",
       "      <th>...</th>\n",
       "      <th>2.369428e-38</th>\n",
       "      <th>2.369428e-38</th>\n",
       "      <th>2.369428e-38</th>\n",
       "      <th>2.369428e-38</th>\n",
       "      <th>2.369428e-38</th>\n",
       "      <th>2.369428e-38</th>\n",
       "      <th>2.369428e-38</th>\n",
       "      <th>2.369428e-38</th>\n",
       "      <th>2.369428e-38</th>\n",
       "      <th>2.369428e-38</th>\n",
       "    </tr>\n",
       "    <tr>\n",
       "      <th>sky</th>\n",
       "      <th>0.0</th>\n",
       "      <th>0.0</th>\n",
       "      <th>0.0</th>\n",
       "      <th>0.0</th>\n",
       "      <th>0.0</th>\n",
       "      <th>0.0</th>\n",
       "      <th>0.0</th>\n",
       "      <th>0.0</th>\n",
       "      <th>0.0</th>\n",
       "      <th>0.0</th>\n",
       "      <th>...</th>\n",
       "      <th>0.0</th>\n",
       "      <th>0.0</th>\n",
       "      <th>0.0</th>\n",
       "      <th>0.0</th>\n",
       "      <th>0.0</th>\n",
       "      <th>0.0</th>\n",
       "      <th>0.0</th>\n",
       "      <th>0.0</th>\n",
       "      <th>0.0</th>\n",
       "      <th>0.0</th>\n",
       "    </tr>\n",
       "  </thead>\n",
       "  <tbody>\n",
       "  </tbody>\n",
       "</table>\n",
       "<p>0 rows × 4128 columns</p>\n",
       "</div>"
      ],
      "text/plain": [
       "Empty DataFrame\n",
       "Columns: [(5188.4326171875, 0.0, 197.01806640625, 0.0), (5189.7265625, 0.0, 197.01806640625, 0.0), (5191.0205078125, 0.0, 2.3694275473575467e-38, 0.0), (5192.31494140625, 0.0, 2.3694275473575467e-38, 0.0), (5193.60888671875, 0.0, 2.3694275473575467e-38, 0.0), (5194.9033203125, 0.0, 2.3694275473575467e-38, 0.0), (5196.19775390625, 0.0, 2.3694275473575467e-38, 0.0), (5197.4921875, 0.0, 2.3694275473575467e-38, 0.0), (5198.787109375, 0.0, 2.3694275473575467e-38, 0.0), (5200.08203125, 0.0, 2.3694275473575467e-38, 0.0), (5201.376953125, 0.0, 2.3694275473575467e-38, 0.0), (5202.671875, 0.0, 2.3694275473575467e-38, 0.0), (5203.96728515625, 0.0, 2.3694275473575467e-38, 0.0), (5205.2626953125, 0.0, 2.3694275473575467e-38, 0.0), (5206.55810546875, 0.0, 2.3694275473575467e-38, 0.0), (5207.853515625, 0.0, 2.3694275473575467e-38, 0.0), (5209.1494140625, 0.0, 2.3694275473575467e-38, 0.0), (5210.44482421875, 0.0, 2.3694275473575467e-38, 0.0), (5211.74072265625, 0.0, 2.3694275473575467e-38, 0.0), (5213.037109375, 0.0, 2.3694275473575467e-38, 0.0), (5214.3330078125, 0.0, 2.3694275473575467e-38, 0.0), (5215.62939453125, 0.0, 2.3694275473575467e-38, 0.0), (5216.92578125, 0.0, 2.3694275473575467e-38, 0.0), (5218.22265625, 0.0, 2.3694275473575467e-38, 0.0), (5219.51904296875, 0.0, 2.3694275473575467e-38, 0.0), (5220.81591796875, 0.0, 2.3694275473575467e-38, 0.0), (5222.11279296875, 0.0, 2.3694275473575467e-38, 0.0), (5223.40966796875, 0.0, 2.3694275473575467e-38, 0.0), (5224.70703125, 0.0, 2.3694275473575467e-38, 0.0), (5226.00439453125, 0.0, 2.3694275473575467e-38, 0.0), (5227.3017578125, 0.0, 2.3694275473575467e-38, 0.0), (5228.59912109375, 0.0, 2.3694275473575467e-38, 0.0), (5229.89697265625, 0.0, 2.3694275473575467e-38, 0.0), (5231.19482421875, 0.0, 2.3694275473575467e-38, 0.0), (5232.49267578125, 0.0, 2.3694275473575467e-38, 0.0), (5233.79052734375, 0.0, 2.3694275473575467e-38, 0.0), (5235.0888671875, 0.0, 2.3694275473575467e-38, 0.0), (5236.38671875, 0.0, 2.3694275473575467e-38, 0.0), (5237.685546875, 0.0, 2.3694275473575467e-38, 0.0), (5238.98388671875, 0.0, 2.3694275473575467e-38, 0.0), (5240.2822265625, 0.0, 2.3694275473575467e-38, 0.0), (5241.5810546875, 0.0, 2.3694275473575467e-38, 0.0), (5242.8798828125, 0.0, 2.3694275473575467e-38, 0.0), (5244.17919921875, 0.0, 2.3694275473575467e-38, 0.0), (5245.47802734375, 0.0, 2.3694275473575467e-38, 0.0), (5246.77734375, 0.0, 2.3694275473575467e-38, 0.0), (5248.07666015625, 0.0, 2.3694275473575467e-38, 0.0), (5249.3759765625, 0.0, 2.3694275473575467e-38, 0.0), (5250.67578125, 0.0, 2.3694275473575467e-38, 0.0), (5251.9755859375, 0.0, 2.3694275473575467e-38, 0.0), (5253.275390625, 0.0, 2.3694275473575467e-38, 0.0), (5254.5751953125, 0.0, 2.3694275473575467e-38, 0.0), (5255.87548828125, 0.0, 2.3694275473575467e-38, 0.0), (5257.17529296875, 0.0, 2.3694275473575467e-38, 0.0), (5258.4755859375, 0.0, 2.3694275473575467e-38, 0.0), (5259.7763671875, 0.0, 2.3694275473575467e-38, 0.0), (5261.07666015625, 0.0, 2.3694275473575467e-38, 0.0), (5262.37744140625, 0.0, 2.3694275473575467e-38, 0.0), (5263.67822265625, 0.0, 2.3694275473575467e-38, 0.0), (5264.97900390625, 0.0, 2.3694275473575467e-38, 0.0), (5266.2802734375, 0.0, 2.3694275473575467e-38, 0.0), (5267.58154296875, 0.0, 2.3694275473575467e-38, 0.0), (5268.8828125, 0.0, 2.3694275473575467e-38, 0.0), (5270.18408203125, 0.0, 2.3694275473575467e-38, 0.0), (5271.4853515625, 0.0, 2.3694275473575467e-38, 0.0), (5272.787109375, 0.0, 2.3694275473575467e-38, 0.0), (5274.0888671875, 0.0, 2.3694275473575467e-38, 0.0), (5275.390625, 0.0, 2.3694275473575467e-38, 0.0), (5276.69287109375, 0.0, 2.3694275473575467e-38, 0.0), (5277.99462890625, 0.0, 2.3694275473575467e-38, 0.0), (5279.296875, 0.0, 2.3694275473575467e-38, 0.0), (5280.599609375, 0.0, 2.3694275473575467e-38, 0.0), (5281.90185546875, 0.0, 2.3694275473575467e-38, 0.0), (5283.20458984375, 0.0, 2.3694275473575467e-38, 0.0), (5284.50732421875, 0.0, 2.3694275473575467e-38, 0.0), (5285.81005859375, 0.0, 2.3694275473575467e-38, 0.0), (5287.11279296875, 0.0, 2.3694275473575467e-38, 0.0), (5288.416015625, 0.0, 2.3694275473575467e-38, 0.0), (5289.71923828125, 0.0, 2.3694275473575467e-38, 0.0), (5291.0224609375, 0.0, 2.3694275473575467e-38, 0.0), (5292.326171875, 0.0, 2.3694275473575467e-38, 0.0), (5293.62939453125, 0.0, 2.3694275473575467e-38, 0.0), (5294.93310546875, 0.0, 2.3694275473575467e-38, 0.0), (5296.23681640625, 0.0, 2.3694275473575467e-38, 0.0), (5297.541015625, 0.0, 2.3694275473575467e-38, 0.0), (5298.8447265625, 0.0, 2.3694275473575467e-38, 0.0), (5300.14892578125, 0.0, 2.3694275473575467e-38, 0.0), (5301.453125, 0.0, 2.3694275473575467e-38, 0.0), (5302.7578125, 0.0, 2.3694275473575467e-38, 0.0), (5304.06201171875, 0.0, 2.3694275473575467e-38, 0.0), (5305.36669921875, 0.0, 2.3694275473575467e-38, 0.0), (5306.67138671875, 0.0, 2.3694275473575467e-38, 0.0), (5307.9765625, 0.0, 2.3694275473575467e-38, 0.0), (5309.28125, 0.0, 2.3694275473575467e-38, 0.0), (5310.58642578125, 0.0, 2.3694275473575467e-38, 0.0), (5311.8916015625, 0.0, 2.3694275473575467e-38, 0.0), (5313.197265625, 0.0, 2.3694275473575467e-38, 0.0), (5314.50244140625, 0.0, 2.3694275473575467e-38, 0.0), (5315.80810546875, 0.0, 2.3694275473575467e-38, 0.0), (5317.11376953125, 0.0, 2.3694275473575467e-38, 0.0), ...]\n",
       "Index: []\n",
       "\n",
       "[0 rows x 4128 columns]"
      ]
     },
     "execution_count": 541,
     "metadata": {},
     "output_type": "execute_result"
    }
   ],
   "source": [
    "plate3844_fiber566_exp0"
   ]
  },
  {
   "cell_type": "code",
   "execution_count": 543,
   "metadata": {},
   "outputs": [],
   "source": [
    "first_row = plate3844_fiber566_features_4exposures.take([0])"
   ]
  },
  {
   "cell_type": "code",
   "execution_count": 544,
   "metadata": {},
   "outputs": [
    {
     "data": {
      "text/html": [
       "<div>\n",
       "<style scoped>\n",
       "    .dataframe tbody tr th:only-of-type {\n",
       "        vertical-align: middle;\n",
       "    }\n",
       "\n",
       "    .dataframe tbody tr th {\n",
       "        vertical-align: top;\n",
       "    }\n",
       "\n",
       "    .dataframe thead th {\n",
       "        text-align: right;\n",
       "    }\n",
       "</style>\n",
       "<table border=\"1\" class=\"dataframe\">\n",
       "  <thead>\n",
       "    <tr style=\"text-align: right;\">\n",
       "      <th></th>\n",
       "      <th>PLATE</th>\n",
       "      <th>MJD</th>\n",
       "      <th>XFOCAL</th>\n",
       "      <th>YFOCAL</th>\n",
       "      <th>FIBER</th>\n",
       "      <th>RA</th>\n",
       "      <th>DEC</th>\n",
       "      <th>OBJTYPE</th>\n",
       "      <th>AIRMASS_0</th>\n",
       "      <th>AIRMASS_1</th>\n",
       "      <th>AIRMASS_2</th>\n",
       "      <th>AIRMASS_3</th>\n",
       "      <th>AIRMASS_4</th>\n",
       "      <th>exposure_index</th>\n",
       "    </tr>\n",
       "  </thead>\n",
       "  <tbody>\n",
       "    <tr>\n",
       "      <th>169565</th>\n",
       "      <td>3844</td>\n",
       "      <td>55321</td>\n",
       "      <td>-93.327362</td>\n",
       "      <td>140.945984</td>\n",
       "      <td>566</td>\n",
       "      <td>180.40334</td>\n",
       "      <td>0.647407</td>\n",
       "      <td>SKY</td>\n",
       "      <td>0.0</td>\n",
       "      <td>0.0</td>\n",
       "      <td>0.0</td>\n",
       "      <td>0.0</td>\n",
       "      <td>0.0</td>\n",
       "      <td>0</td>\n",
       "    </tr>\n",
       "  </tbody>\n",
       "</table>\n",
       "</div>"
      ],
      "text/plain": [
       "        PLATE    MJD     XFOCAL      YFOCAL  FIBER         RA       DEC  \\\n",
       "169565   3844  55321 -93.327362  140.945984    566  180.40334  0.647407   \n",
       "\n",
       "       OBJTYPE  AIRMASS_0  AIRMASS_1  AIRMASS_2  AIRMASS_3  AIRMASS_4  \\\n",
       "169565     SKY        0.0        0.0        0.0        0.0        0.0   \n",
       "\n",
       "        exposure_index  \n",
       "169565               0  "
      ]
     },
     "execution_count": 544,
     "metadata": {},
     "output_type": "execute_result"
    }
   ],
   "source": [
    "first_row"
   ]
  },
  {
   "cell_type": "code",
   "execution_count": 545,
   "metadata": {},
   "outputs": [],
   "source": [
    "result = pd.concat([first_row, plate3844_fiber566_exp0],axis=1, sort=False)"
   ]
  },
  {
   "cell_type": "code",
   "execution_count": 547,
   "metadata": {},
   "outputs": [
    {
     "data": {
      "text/html": [
       "<div>\n",
       "<style scoped>\n",
       "    .dataframe tbody tr th:only-of-type {\n",
       "        vertical-align: middle;\n",
       "    }\n",
       "\n",
       "    .dataframe tbody tr th {\n",
       "        vertical-align: top;\n",
       "    }\n",
       "\n",
       "    .dataframe thead th {\n",
       "        text-align: right;\n",
       "    }\n",
       "</style>\n",
       "<table border=\"1\" class=\"dataframe\">\n",
       "  <thead>\n",
       "    <tr style=\"text-align: right;\">\n",
       "      <th></th>\n",
       "      <th>PLATE</th>\n",
       "      <th>MJD</th>\n",
       "      <th>XFOCAL</th>\n",
       "      <th>YFOCAL</th>\n",
       "      <th>FIBER</th>\n",
       "      <th>RA</th>\n",
       "      <th>DEC</th>\n",
       "      <th>OBJTYPE</th>\n",
       "      <th>AIRMASS_0</th>\n",
       "      <th>AIRMASS_1</th>\n",
       "      <th>...</th>\n",
       "      <th>(10995.80078125, 0.0, 2.3694275473575467e-38, 0.0)</th>\n",
       "      <th>(10997.2060546875, 0.0, 2.3694275473575467e-38, 0.0)</th>\n",
       "      <th>(10998.611328125, 0.0, 2.3694275473575467e-38, 0.0)</th>\n",
       "      <th>(11000.0166015625, 0.0, 2.3694275473575467e-38, 0.0)</th>\n",
       "      <th>(11001.421875, 0.0, 2.3694275473575467e-38, 0.0)</th>\n",
       "      <th>(11002.826171875, 0.0, 2.3694275473575467e-38, 0.0)</th>\n",
       "      <th>(11004.2314453125, 0.0, 2.3694275473575467e-38, 0.0)</th>\n",
       "      <th>(11005.63671875, 0.0, 2.3694275473575467e-38, 0.0)</th>\n",
       "      <th>(11007.041015625, 0.0, 2.3694275473575467e-38, 0.0)</th>\n",
       "      <th>(11008.4462890625, 0.0, 2.3694275473575467e-38, 0.0)</th>\n",
       "    </tr>\n",
       "  </thead>\n",
       "  <tbody>\n",
       "    <tr>\n",
       "      <th>169565</th>\n",
       "      <td>3844</td>\n",
       "      <td>55321</td>\n",
       "      <td>-93.327362</td>\n",
       "      <td>140.945984</td>\n",
       "      <td>566</td>\n",
       "      <td>180.40334</td>\n",
       "      <td>0.647407</td>\n",
       "      <td>SKY</td>\n",
       "      <td>0.0</td>\n",
       "      <td>0.0</td>\n",
       "      <td>...</td>\n",
       "      <td>NaN</td>\n",
       "      <td>NaN</td>\n",
       "      <td>NaN</td>\n",
       "      <td>NaN</td>\n",
       "      <td>NaN</td>\n",
       "      <td>NaN</td>\n",
       "      <td>NaN</td>\n",
       "      <td>NaN</td>\n",
       "      <td>NaN</td>\n",
       "      <td>NaN</td>\n",
       "    </tr>\n",
       "  </tbody>\n",
       "</table>\n",
       "<p>1 rows × 4142 columns</p>\n",
       "</div>"
      ],
      "text/plain": [
       "        PLATE    MJD     XFOCAL      YFOCAL  FIBER         RA       DEC  \\\n",
       "169565   3844  55321 -93.327362  140.945984    566  180.40334  0.647407   \n",
       "\n",
       "       OBJTYPE  AIRMASS_0  AIRMASS_1  \\\n",
       "169565     SKY        0.0        0.0   \n",
       "\n",
       "                                ...                           \\\n",
       "169565                          ...                            \n",
       "\n",
       "        (10995.80078125, 0.0, 2.3694275473575467e-38, 0.0)  \\\n",
       "169565                                                NaN    \n",
       "\n",
       "        (10997.2060546875, 0.0, 2.3694275473575467e-38, 0.0)  \\\n",
       "169565                                                NaN      \n",
       "\n",
       "        (10998.611328125, 0.0, 2.3694275473575467e-38, 0.0)  \\\n",
       "169565                                                NaN     \n",
       "\n",
       "        (11000.0166015625, 0.0, 2.3694275473575467e-38, 0.0)  \\\n",
       "169565                                                NaN      \n",
       "\n",
       "        (11001.421875, 0.0, 2.3694275473575467e-38, 0.0)  \\\n",
       "169565                                               NaN   \n",
       "\n",
       "        (11002.826171875, 0.0, 2.3694275473575467e-38, 0.0)  \\\n",
       "169565                                                NaN     \n",
       "\n",
       "        (11004.2314453125, 0.0, 2.3694275473575467e-38, 0.0)  \\\n",
       "169565                                                NaN      \n",
       "\n",
       "        (11005.63671875, 0.0, 2.3694275473575467e-38, 0.0)  \\\n",
       "169565                                                NaN    \n",
       "\n",
       "        (11007.041015625, 0.0, 2.3694275473575467e-38, 0.0)  \\\n",
       "169565                                                NaN     \n",
       "\n",
       "        (11008.4462890625, 0.0, 2.3694275473575467e-38, 0.0)  \n",
       "169565                                                NaN     \n",
       "\n",
       "[1 rows x 4142 columns]"
      ]
     },
     "execution_count": 547,
     "metadata": {},
     "output_type": "execute_result"
    }
   ],
   "source": [
    "result"
   ]
  },
  {
   "cell_type": "markdown",
   "metadata": {},
   "source": [
    "The 4128 columns are intended to be added to the 13 feature columns. The field and value recognition is not captured by the existing concatenation methods. Alternative ways are being seeked to acheive the desired result. The it is successful for one exposure of one fiber, the process can be automated for all exposures across fibers."
   ]
  },
  {
   "cell_type": "markdown",
   "metadata": {},
   "source": [
    "#### HDF5 File Practice"
   ]
  },
  {
   "cell_type": "code",
   "execution_count": null,
   "metadata": {},
   "outputs": [],
   "source": [
    "with h5py.File('sky.hdf5','w') as f:\n",
    "    plate = f.create_group('Plate_number')\n",
    "    mjd = f.create_group('Modified_Julian_Date')\n",
    "    exposure = f.create_group('Exposure_Index')\n",
    "    data = f.create_group('Valid_Data')\n",
    "    "
   ]
  },
  {
   "cell_type": "code",
   "execution_count": null,
   "metadata": {},
   "outputs": [],
   "source": []
  },
  {
   "cell_type": "markdown",
   "metadata": {},
   "source": [
    "## Scratch work and history in below"
   ]
  },
  {
   "cell_type": "markdown",
   "metadata": {},
   "source": [
    "###### Dec 4th, Tuesday, Summary\n",
    "\n",
    "- The OBJECTYPE column is added to the features table, giving a total of 13 features.\n",
    "\n",
    "- The original feature table is produced in Astropy format and converted to Pandas for the ease of operations.\n",
    "\n",
    "- 1000 sky fibers are randomly sampled from all of the 2.4million fibers to retrieve their exposure information through bossdata.plate module.\n",
    "\n",
    "- The sky fibers from different plates may have different number of available exposures. The corresponding number of exposures for each sampled sky fiber is retreived and looped through to obtain their valid signal data matrix.\n",
    "\n",
    "- The current looping function is tested to work well across all exposures with the first row of the kilo-sampled-sky table."
   ]
  },
  {
   "cell_type": "code",
   "execution_count": 225,
   "metadata": {},
   "outputs": [],
   "source": [
    "plate7457_plan_path = finder.get_plate_plan_path(7457,56746, combined=True)"
   ]
  },
  {
   "cell_type": "code",
   "execution_count": 226,
   "metadata": {},
   "outputs": [],
   "source": [
    "plate7457_plan_file = mirror.get(plate7457_plan_path)"
   ]
  },
  {
   "cell_type": "code",
   "execution_count": 227,
   "metadata": {},
   "outputs": [],
   "source": [
    "plate7457_combined_plan = plate.Plan(plate7457_plan_file)"
   ]
  },
  {
   "cell_type": "code",
   "execution_count": 273,
   "metadata": {},
   "outputs": [],
   "source": [
    "plate7457_frame =plate7457_combined_plan.get_exposure_name(2,'red',1)"
   ]
  },
  {
   "cell_type": "code",
   "execution_count": 274,
   "metadata": {},
   "outputs": [
    {
     "data": {
      "text/plain": [
       "'/sas/dr12/boss/spectro/redux/v5_7_0/7457/spCFrame-r1-00177371.fits'"
      ]
     },
     "execution_count": 274,
     "metadata": {},
     "output_type": "execute_result"
    }
   ],
   "source": [
    "plate7457_frame"
   ]
  },
  {
   "cell_type": "code",
   "execution_count": 276,
   "metadata": {},
   "outputs": [],
   "source": [
    "plate7457_frame = plate.FrameFile(plate7457_frame_file, index =1, calibrated = True)"
   ]
  },
  {
   "cell_type": "code",
   "execution_count": 278,
   "metadata": {},
   "outputs": [],
   "source": [
    "a = plate7457_frame.get_valid_data(fibers =[1],pixel_quality_mask=None, include_wdisp=False, include_sky=True, use_ivar=True, use_loglam=False)"
   ]
  },
  {
   "cell_type": "code",
   "execution_count": 292,
   "metadata": {},
   "outputs": [
    {
     "data": {
      "text/plain": [
       "(1, 4128)"
      ]
     },
     "execution_count": 292,
     "metadata": {},
     "output_type": "execute_result"
    }
   ],
   "source": [
    "a.shape"
   ]
  },
  {
   "cell_type": "code",
   "execution_count": null,
   "metadata": {},
   "outputs": [],
   "source": []
  },
  {
   "cell_type": "code",
   "execution_count": 28,
   "metadata": {},
   "outputs": [],
   "source": [
    "plate_spAll = spAll.select_all(what='PLATE', where= None, sort=None, max_rows=None)"
   ]
  },
  {
   "cell_type": "code",
   "execution_count": 30,
   "metadata": {},
   "outputs": [],
   "source": [
    "MJD_spAll = spAll.select_all(what='MJD', where= None, sort=None, max_rows=None)"
   ]
  },
  {
   "cell_type": "code",
   "execution_count": 32,
   "metadata": {},
   "outputs": [],
   "source": [
    "FIBER_spAll = spAll.select_all(what='FIBER', where= None, sort=None, max_rows=None)"
   ]
  },
  {
   "cell_type": "code",
   "execution_count": 37,
   "metadata": {},
   "outputs": [],
   "source": [
    "AIRMASS_0_spAll = spAll.select_all(what='AIRMASS_0', where=None, sort=None, max_rows=None)"
   ]
  },
  {
   "cell_type": "code",
   "execution_count": 56,
   "metadata": {},
   "outputs": [],
   "source": [
    "wcoverage_spAll = spAll.select_all(what='WCOVERAGE', where = None, sort = None, max_rows=None)"
   ]
  },
  {
   "cell_type": "code",
   "execution_count": 59,
   "metadata": {},
   "outputs": [],
   "source": [
    "objtype_spAll = spAll.select_all(what='OBJTYPE', where = None, sort = None, max_rows=None)"
   ]
  },
  {
   "cell_type": "code",
   "execution_count": 68,
   "metadata": {},
   "outputs": [],
   "source": [
    "camcol_spAll = spAll.select_all(what='CAMCOL', where = None, sort = None, max_rows=None)"
   ]
  },
  {
   "cell_type": "code",
   "execution_count": 76,
   "metadata": {},
   "outputs": [],
   "source": [
    "plate_unique = unique(plate_spAll)"
   ]
  },
  {
   "cell_type": "code",
   "execution_count": 75,
   "metadata": {},
   "outputs": [
    {
     "data": {
      "text/plain": [
       "'/sas/dr12/boss/spectro/redux/v5_7_0/spectra/7457/spec-7457-56746-0001.fits'"
      ]
     },
     "execution_count": 75,
     "metadata": {},
     "output_type": "execute_result"
    }
   ],
   "source": [
    "finder.get_spec_path(plate=7457, mjd=56746,fiber=1,lite=False)"
   ]
  },
  {
   "cell_type": "code",
   "execution_count": 134,
   "metadata": {},
   "outputs": [
    {
     "data": {
      "text/plain": [
       "'/sas/dr12/boss/spectro/redux/v5_7_0/spectra/4042/spec-4042-55626-0001.fits'"
      ]
     },
     "execution_count": 134,
     "metadata": {},
     "output_type": "execute_result"
    }
   ],
   "source": [
    "finder.get_spec_path(plate=4042, mjd=55626,fiber=1,lite=False)"
   ]
  },
  {
   "cell_type": "code",
   "execution_count": null,
   "metadata": {},
   "outputs": [],
   "source": []
  },
  {
   "cell_type": "code",
   "execution_count": 80,
   "metadata": {},
   "outputs": [],
   "source": [
    "plate7457_fiber100 = finder.get_spec_path(plate=7457, mjd=56746,fiber=100,lite=False)"
   ]
  },
  {
   "cell_type": "code",
   "execution_count": 136,
   "metadata": {},
   "outputs": [],
   "source": [
    "plate4042_fiber1 = finder.get_spec_path(plate=4042, mjd=55626,fiber=1,lite=False)"
   ]
  },
  {
   "cell_type": "code",
   "execution_count": 97,
   "metadata": {},
   "outputs": [],
   "source": [
    "plate7457_fiber100_local = mirror.get(plate7457_fiber100)"
   ]
  },
  {
   "cell_type": "code",
   "execution_count": 137,
   "metadata": {},
   "outputs": [],
   "source": [
    "plate4042_fiber1_local = mirror.get(plate4042_fiber1)"
   ]
  },
  {
   "cell_type": "code",
   "execution_count": 158,
   "metadata": {},
   "outputs": [],
   "source": [
    "plate7457Data100 = fits.open(plate7457_fiber100_local)"
   ]
  },
  {
   "cell_type": "code",
   "execution_count": 172,
   "metadata": {},
   "outputs": [],
   "source": [
    "plate7457Data600 = fits.open(plate7457_fiber600_local)"
   ]
  },
  {
   "cell_type": "code",
   "execution_count": 161,
   "metadata": {},
   "outputs": [],
   "source": [
    "#plate7457Data100.info()"
   ]
  },
  {
   "cell_type": "code",
   "execution_count": 185,
   "metadata": {},
   "outputs": [],
   "source": [
    "# Coadded Sky Data\n",
    "plate7457Coadd100 = plate7457Data100[1].data\n",
    "\n",
    "# spAll Data\n",
    "plate7457spAll100 = plate7457Data100[2].data\n",
    "\n",
    "#spZline Data\n",
    "plate7457spZline = plate7457Data100[3]"
   ]
  },
  {
   "cell_type": "code",
   "execution_count": 174,
   "metadata": {},
   "outputs": [],
   "source": [
    "plate7457Coadd600 = plate7457Data600[1].data"
   ]
  },
  {
   "cell_type": "code",
   "execution_count": 176,
   "metadata": {},
   "outputs": [],
   "source": [
    "# Primary Header\n",
    "plate7457Header = plate7457Data100[0].header"
   ]
  },
  {
   "cell_type": "code",
   "execution_count": 177,
   "metadata": {},
   "outputs": [],
   "source": [
    "# Header that shows the data structure\n",
    "plate7457coaddHeader = plate7457Data100[1].header"
   ]
  },
  {
   "cell_type": "code",
   "execution_count": 182,
   "metadata": {},
   "outputs": [
    {
     "data": {
      "text/plain": [
       "FITS_rec([(21.170782, 3.5523, 0.01303503, 0, 71303168, 1.217315  , 11.879729 , 13.5696945),\n",
       "          (21.384687, 3.5524, 0.        , 0, 71303168, 1.2173102 , 11.440296 , 14.618196 ),\n",
       "          (21.598541, 3.5525, 0.06411414, 0,        0, 1.2143558 ,  6.429298 , 14.996056 ),\n",
       "          ...,\n",
       "          (39.710438, 4.0142, 0.12234952, 0,        0, 0.842862  ,  4.368888 , 38.47518  ),\n",
       "          (40.931137, 4.0143, 0.08833168, 0,        0, 0.84322685,  4.4924617, 39.13747  ),\n",
       "          (41.268505, 4.0144, 0.09681248, 0,        0, 0.8429389 ,  4.149836 , 39.718678 )],\n",
       "         dtype=(numpy.record, [('flux', '>f4'), ('loglam', '>f4'), ('ivar', '>f4'), ('and_mask', '>i4'), ('or_mask', '>i4'), ('wdisp', '>f4'), ('sky', '>f4'), ('model', '>f4')]))"
      ]
     },
     "execution_count": 182,
     "metadata": {},
     "output_type": "execute_result"
    }
   ],
   "source": [
    "plate7457Coadd100"
   ]
  },
  {
   "cell_type": "code",
   "execution_count": 183,
   "metadata": {},
   "outputs": [
    {
     "data": {
      "text/plain": [
       "array([21.170782, 21.384687, 21.598541, ..., 39.710438, 40.931137,\n",
       "       41.268505], dtype=float32)"
      ]
     },
     "execution_count": 183,
     "metadata": {},
     "output_type": "execute_result"
    }
   ],
   "source": [
    "plate7457Coadd100['flux']"
   ]
  },
  {
   "cell_type": "code",
   "execution_count": 171,
   "metadata": {},
   "outputs": [
    {
     "data": {
      "text/plain": [
       "(4622,)"
      ]
     },
     "execution_count": 171,
     "metadata": {},
     "output_type": "execute_result"
    }
   ],
   "source": [
    "plate7457Coadd100['sky'].shape"
   ]
  },
  {
   "cell_type": "code",
   "execution_count": 98,
   "metadata": {},
   "outputs": [
    {
     "data": {
      "text/plain": [
       "5"
      ]
     },
     "execution_count": 98,
     "metadata": {},
     "output_type": "execute_result"
    }
   ],
   "source": [
    "spec.SpecFile(plate7457_fiber100_local).num_exposures"
   ]
  },
  {
   "cell_type": "code",
   "execution_count": 138,
   "metadata": {},
   "outputs": [
    {
     "data": {
      "text/plain": [
       "5"
      ]
     },
     "execution_count": 138,
     "metadata": {},
     "output_type": "execute_result"
    }
   ],
   "source": [
    "spec.SpecFile(plate4042_fiber1_local).num_exposures"
   ]
  },
  {
   "cell_type": "code",
   "execution_count": 99,
   "metadata": {},
   "outputs": [],
   "source": [
    "plate7457_fiber600 = finder.get_spec_path(plate=7457, mjd=56746,fiber=600,lite=False)"
   ]
  },
  {
   "cell_type": "code",
   "execution_count": 144,
   "metadata": {},
   "outputs": [],
   "source": [
    "plate7457_fiber700 = finder.get_spec_path(plate=7457, mjd=56746,fiber=700,lite=False)"
   ]
  },
  {
   "cell_type": "code",
   "execution_count": 100,
   "metadata": {},
   "outputs": [],
   "source": [
    "plate7457_fiber600_local = mirror.get(plate7457_fiber600)"
   ]
  },
  {
   "cell_type": "code",
   "execution_count": 145,
   "metadata": {},
   "outputs": [],
   "source": [
    "plate7457_fiber700_local = mirror.get(plate7457_fiber700)"
   ]
  },
  {
   "cell_type": "code",
   "execution_count": 154,
   "metadata": {},
   "outputs": [
    {
     "data": {
      "text/plain": [
       "\n",
       "  file: /scratch/kunjias/sdss/sas/dr12/boss/spectro/redux/v5_7_0/spectra/7457/spec-7457-56746-0600.fits\n",
       "  extension: 10\n",
       "  type: BINARY_TBL\n",
       "  extname: R2-00177372-00177368-00177367\n",
       "  rows: 3158\n",
       "  column info:\n",
       "    flux                f4  \n",
       "    loglam              f4  \n",
       "    ivar                f4  \n",
       "    mask                i4  \n",
       "    wdisp               f4  \n",
       "    sky                 f4  \n",
       "    calib               f4  \n",
       "    x                   f4  "
      ]
     },
     "execution_count": 154,
     "metadata": {},
     "output_type": "execute_result"
    }
   ],
   "source": [
    "spec.SpecFile(plate7457_fiber600_local).get_exposure_hdu(1,'r2')"
   ]
  },
  {
   "cell_type": "code",
   "execution_count": 155,
   "metadata": {},
   "outputs": [
    {
     "data": {
      "text/plain": [
       "\n",
       "  file: /scratch/kunjias/sdss/sas/dr12/boss/spectro/redux/v5_7_0/spectra/7457/spec-7457-56746-0700.fits\n",
       "  extension: 10\n",
       "  type: BINARY_TBL\n",
       "  extname: R2-00177372-00177368-00177367\n",
       "  rows: 3145\n",
       "  column info:\n",
       "    flux                f4  \n",
       "    loglam              f4  \n",
       "    ivar                f4  \n",
       "    mask                i4  \n",
       "    wdisp               f4  \n",
       "    sky                 f4  \n",
       "    calib               f4  \n",
       "    x                   f4  "
      ]
     },
     "execution_count": 155,
     "metadata": {},
     "output_type": "execute_result"
    }
   ],
   "source": [
    "spec.SpecFile(plate7457_fiber700_local).get_exposure_hdu(1,'r2')"
   ]
  },
  {
   "cell_type": "code",
   "execution_count": 152,
   "metadata": {},
   "outputs": [
    {
     "data": {
      "text/plain": [
       "'spCFrame-r2-00177372.fits'"
      ]
     },
     "execution_count": 152,
     "metadata": {},
     "output_type": "execute_result"
    }
   ],
   "source": [
    "spec.SpecFile(plate7457_fiber600_local).get_exposure_name(1,band='red',ftype='spCFrame')"
   ]
  },
  {
   "cell_type": "code",
   "execution_count": 153,
   "metadata": {},
   "outputs": [
    {
     "data": {
      "text/plain": [
       "'spCFrame-r2-00177372.fits'"
      ]
     },
     "execution_count": 153,
     "metadata": {},
     "output_type": "execute_result"
    }
   ],
   "source": [
    "spec.SpecFile(plate7457_fiber700_local).get_exposure_name(1,band='red',ftype='spCFrame')"
   ]
  },
  {
   "cell_type": "code",
   "execution_count": 110,
   "metadata": {},
   "outputs": [],
   "source": [
    "plate7457_data = spec.SpecFile(plate7457_fiber600_local).get_valid_data(exposure_index=0, camera='r2', pixel_quality_mask=None, include_wdisp=True, include_sky=True, use_ivar=True, use_loglam=False, fiducial_grid=False)"
   ]
  },
  {
   "cell_type": "code",
   "execution_count": 141,
   "metadata": {},
   "outputs": [],
   "source": [
    "plate7457_data_100 = spec.SpecFile(plate7457_fiber100_local).get_valid_data(exposure_index=0, camera='r1', pixel_quality_mask=None, include_wdisp=True, include_sky=True, use_ivar=True, use_loglam=False, fiducial_grid=False)"
   ]
  },
  {
   "cell_type": "code",
   "execution_count": 149,
   "metadata": {},
   "outputs": [],
   "source": [
    "plate7457_data_700 = spec.SpecFile(plate7457_fiber700_local).get_valid_data(exposure_index=0, camera='r2', pixel_quality_mask=None, include_wdisp=True, include_sky=True, use_ivar=True, use_loglam=False, fiducial_grid=False)"
   ]
  },
  {
   "cell_type": "code",
   "execution_count": 139,
   "metadata": {},
   "outputs": [],
   "source": [
    "plate4042_data = spec.SpecFile(plate4042_fiber1_local).get_valid_data(exposure_index=0, camera='r1', pixel_quality_mask=None, include_wdisp=True, include_sky=True, use_ivar=True, use_loglam=False, fiducial_grid=False)"
   ]
  },
  {
   "cell_type": "code",
   "execution_count": 140,
   "metadata": {},
   "outputs": [
    {
     "data": {
      "text/plain": [
       "(3141,)"
      ]
     },
     "execution_count": 140,
     "metadata": {},
     "output_type": "execute_result"
    }
   ],
   "source": [
    "plate4042_data.shape"
   ]
  },
  {
   "cell_type": "code",
   "execution_count": 151,
   "metadata": {},
   "outputs": [
    {
     "data": {
      "text/plain": [
       "(3158,)"
      ]
     },
     "execution_count": 151,
     "metadata": {},
     "output_type": "execute_result"
    }
   ],
   "source": [
    "plate7457_data.shape"
   ]
  },
  {
   "cell_type": "code",
   "execution_count": 143,
   "metadata": {},
   "outputs": [
    {
     "data": {
      "text/plain": [
       "(3134,)"
      ]
     },
     "execution_count": 143,
     "metadata": {},
     "output_type": "execute_result"
    }
   ],
   "source": [
    "plate7457_data_100.shape"
   ]
  },
  {
   "cell_type": "code",
   "execution_count": 150,
   "metadata": {},
   "outputs": [
    {
     "data": {
      "text/plain": [
       "(3145,)"
      ]
     },
     "execution_count": 150,
     "metadata": {},
     "output_type": "execute_result"
    }
   ],
   "source": [
    "plate7457_data_700.shape"
   ]
  },
  {
   "cell_type": "markdown",
   "metadata": {},
   "source": [
    "# Dec 3rd, Monday, Summary\n",
    "\n",
    "This table above is a manual combination of feature columns with information mainly from the spAll file. The (wavelength,flux) matrix needs to be added to each row of fiber.\n",
    "\n",
    "spec file is found to contain spectrum exposure information (flux, sky flux, ivar) by grouping information from spFrame, spCFrame, spPlate, spZbest, spZline, and spAll files.\n",
    "\n",
    "The next step could be looping through each fiber to extract the exposure information from spec file, or directly combine information from various files noted above with the spAll matrix."
   ]
  },
  {
   "cell_type": "code",
   "execution_count": null,
   "metadata": {},
   "outputs": [],
   "source": []
  },
  {
   "cell_type": "code",
   "execution_count": 55,
   "metadata": {},
   "outputs": [],
   "source": [
    "def get_plugmap(plate_number, mjd):\n",
    "    '''Return a binary table of Plug-map structure.\n",
    "    \n",
    "    Parameters\n",
    "    -----------\n",
    "    plate_number: Specified plate number, must be positive\n",
    "    mjd: modified julian date of the observation associated with input plate, must be > 45000.\n",
    "    \n",
    "    Output\n",
    "    -------\n",
    "    A binary table\n",
    "    '''\n",
    "    \n",
    "    # Get path to file containing combined spectra for a whole plate\n",
    "    plate_file_path = finder.get_plate_spec_path(plate_number, mjd)\n",
    "    \n",
    "    # Automatically mirrored\n",
    "    plate_file = mirror.get(plate_file_path, progress_min_size=2, auto_download=True, local_paths=None)\n",
    "    \n",
    "    # A BOSS plate file containing combined exposures for a whole plate\n",
    "    whole_plate = plate.PlateFile(plate_file)\n",
    "    # The attribute which record this plate's plug map\n",
    "    plug_map = whole_plate.plug_map\n",
    "    \n",
    "    print(\"Plug_map of\", plate_number, \"at Modified Julian Date\", mjd )\n",
    "    return plug_map"
   ]
  },
  {
   "cell_type": "code",
   "execution_count": null,
   "metadata": {},
   "outputs": [],
   "source": []
  },
  {
   "cell_type": "code",
   "execution_count": null,
   "metadata": {},
   "outputs": [],
   "source": []
  },
  {
   "cell_type": "code",
   "execution_count": null,
   "metadata": {},
   "outputs": [],
   "source": []
  },
  {
   "cell_type": "code",
   "execution_count": null,
   "metadata": {},
   "outputs": [],
   "source": []
  },
  {
   "cell_type": "markdown",
   "metadata": {},
   "source": [
    "## Please Disregard things below"
   ]
  },
  {
   "cell_type": "code",
   "execution_count": 54,
   "metadata": {},
   "outputs": [],
   "source": [
    "mjd_list = bossdata.meta.get_plate_mjd_list(plate = 3586, finder = None, mirror = None)"
   ]
  },
  {
   "cell_type": "code",
   "execution_count": 55,
   "metadata": {},
   "outputs": [
    {
     "data": {
      "text/plain": [
       "[55181]"
      ]
     },
     "execution_count": 55,
     "metadata": {},
     "output_type": "execute_result"
    }
   ],
   "source": [
    "mjd_list"
   ]
  },
  {
   "cell_type": "markdown",
   "metadata": {},
   "source": [
    "bossdata.meta.sql_create_table -> prepare an SQL statement to create a database for a numpy structured array."
   ]
  },
  {
   "cell_type": "markdown",
   "metadata": {},
   "source": [
    "### bossdata.path"
   ]
  },
  {
   "cell_type": "code",
   "execution_count": 88,
   "metadata": {},
   "outputs": [],
   "source": [
    "spectrum_3586_1000_path = finder.get_spec_path(plate=3586,mjd=55181,fiber=1000,lite=False)"
   ]
  },
  {
   "cell_type": "code",
   "execution_count": 90,
   "metadata": {},
   "outputs": [
    {
     "data": {
      "text/plain": [
       "'/sas/dr12/boss/spectro/redux/v5_7_0/spectra/3586/spec-3586-55181-1000.fits'"
      ]
     },
     "execution_count": 90,
     "metadata": {},
     "output_type": "execute_result"
    }
   ],
   "source": [
    "spectrum_3586_1000_path"
   ]
  },
  {
   "cell_type": "code",
   "execution_count": 91,
   "metadata": {},
   "outputs": [],
   "source": [
    "spectra_3586_path = finder.get_plate_spec_path(plate =3586, mjd = 55181)"
   ]
  },
  {
   "cell_type": "code",
   "execution_count": 92,
   "metadata": {},
   "outputs": [
    {
     "data": {
      "text/plain": [
       "'/sas/dr12/boss/spectro/redux/v5_7_0/3586/spPlate-3586-55181.fits'"
      ]
     },
     "execution_count": 92,
     "metadata": {},
     "output_type": "execute_result"
    }
   ],
   "source": [
    "spectra_3586_path"
   ]
  },
  {
   "cell_type": "markdown",
   "metadata": {},
   "source": [
    "### bossdata.remote"
   ]
  },
  {
   "cell_type": "code",
   "execution_count": 96,
   "metadata": {},
   "outputs": [],
   "source": [
    "spectrum_3586_1000_fits = mirror.get(spectrum_3586_1000_path, progress_min_size = 2, auto_download=True, local_paths=None)"
   ]
  },
  {
   "cell_type": "code",
   "execution_count": 97,
   "metadata": {},
   "outputs": [
    {
     "data": {
      "text/plain": [
       "'/scratch/kunjias/sdss/sas/dr12/boss/spectro/redux/v5_7_0/spectra/3586/spec-3586-55181-1000.fits'"
      ]
     },
     "execution_count": 97,
     "metadata": {},
     "output_type": "execute_result"
    }
   ],
   "source": [
    "spectrum_3586_1000_fits"
   ]
  },
  {
   "cell_type": "markdown",
   "metadata": {},
   "source": [
    "### bossdata.spec"
   ]
  },
  {
   "cell_type": "code",
   "execution_count": 271,
   "metadata": {},
   "outputs": [],
   "source": [
    "spectrum_3586_1000 = fits.open(spectrum_3586_1000_fits)"
   ]
  },
  {
   "cell_type": "code",
   "execution_count": 281,
   "metadata": {},
   "outputs": [
    {
     "data": {
      "text/plain": [
       "astropy.io.fits.hdu.hdulist.HDUList"
      ]
     },
     "execution_count": 281,
     "metadata": {},
     "output_type": "execute_result"
    }
   ],
   "source": [
    "type(spectrum_3586_1000)"
   ]
  },
  {
   "cell_type": "markdown",
   "metadata": {},
   "source": [
    "#### Exposures"
   ]
  },
  {
   "cell_type": "code",
   "execution_count": 274,
   "metadata": {},
   "outputs": [],
   "source": [
    "spectrum_3586_1000_header = spectrum_3586_1000[0].header"
   ]
  },
  {
   "cell_type": "markdown",
   "metadata": {},
   "source": [
    "A function to transform header type into dictionary type."
   ]
  },
  {
   "cell_type": "code",
   "execution_count": 112,
   "metadata": {},
   "outputs": [],
   "source": [
    "def header_to_dict(Header):\n",
    "    dict_header = {}\n",
    "    for i in range(0,len(Header)):\n",
    "        dict_header[list(Header.keys())[i]] = Header[i]\n",
    "        \n",
    "    return dict_header"
   ]
  },
  {
   "cell_type": "code",
   "execution_count": 113,
   "metadata": {},
   "outputs": [],
   "source": [
    "spectrum_3586_1000_dict = header_to_dict(spectrum_3586_1000_header)"
   ]
  },
  {
   "cell_type": "code",
   "execution_count": 283,
   "metadata": {},
   "outputs": [],
   "source": [
    "#spectrum_3586_1000_header"
   ]
  },
  {
   "cell_type": "code",
   "execution_count": 270,
   "metadata": {},
   "outputs": [],
   "source": [
    "#spectrum_3586_1000_dict"
   ]
  },
  {
   "cell_type": "code",
   "execution_count": 147,
   "metadata": {},
   "outputs": [],
   "source": [
    "exposures_3586_1000 = spec.Exposures(spectrum_3586_1000_header)"
   ]
  },
  {
   "cell_type": "code",
   "execution_count": 149,
   "metadata": {},
   "outputs": [
    {
     "data": {
      "text/plain": [
       "<bossdata.spec.Exposures at 0x7f65e51bef98>"
      ]
     },
     "execution_count": 149,
     "metadata": {},
     "output_type": "execute_result"
    }
   ],
   "source": [
    "spec.Exposures(spectrum_3586_1000_dict)"
   ]
  },
  {
   "cell_type": "markdown",
   "metadata": {},
   "source": [
    "#### Is converting to \"dict\" format necessary?"
   ]
  },
  {
   "cell_type": "code",
   "execution_count": 150,
   "metadata": {},
   "outputs": [
    {
     "data": {
      "text/html": [
       "<i>Row index=0</i>\n",
       "<table id=\"table140075612257360\">\n",
       "<thead><tr><th>offset</th><th>camera</th><th>science</th><th>flat</th><th>arc</th></tr></thead>\n",
       "<thead><tr><th>int32</th><th>bytes2</th><th>int32</th><th>int32</th><th>int32</th></tr></thead>\n",
       "<tr><td>0</td><td>b2</td><td>104927</td><td>104934</td><td>104935</td></tr>\n",
       "</table>"
      ],
      "text/plain": [
       "<Row index=0>\n",
       "offset camera science  flat   arc  \n",
       "int32  bytes2  int32  int32  int32 \n",
       "------ ------ ------- ------ ------\n",
       "     0     b2  104927 104934 104935"
      ]
     },
     "execution_count": 150,
     "metadata": {},
     "output_type": "execute_result"
    }
   ],
   "source": [
    "exposures_3586_1000.get_info(0,'b2')"
   ]
  },
  {
   "cell_type": "code",
   "execution_count": 151,
   "metadata": {},
   "outputs": [
    {
     "data": {
      "text/html": [
       "<i>Row index=0</i>\n",
       "<table id=\"table140075612265272\">\n",
       "<thead><tr><th>offset</th><th>camera</th><th>science</th><th>flat</th><th>arc</th></tr></thead>\n",
       "<thead><tr><th>int32</th><th>bytes2</th><th>int32</th><th>int32</th><th>int32</th></tr></thead>\n",
       "<tr><td>7</td><td>r2</td><td>104927</td><td>104934</td><td>104935</td></tr>\n",
       "</table>"
      ],
      "text/plain": [
       "<Row index=0>\n",
       "offset camera science  flat   arc  \n",
       "int32  bytes2  int32  int32  int32 \n",
       "------ ------ ------- ------ ------\n",
       "     7     r2  104927 104934 104935"
      ]
     },
     "execution_count": 151,
     "metadata": {},
     "output_type": "execute_result"
    }
   ],
   "source": [
    "exposures_3586_1000.get_info(0,'r2')"
   ]
  },
  {
   "cell_type": "code",
   "execution_count": 152,
   "metadata": {},
   "outputs": [
    {
     "data": {
      "text/html": [
       "<i>Row index=0</i>\n",
       "<table id=\"table140075612265608\">\n",
       "<thead><tr><th>offset</th><th>camera</th><th>science</th><th>flat</th><th>arc</th></tr></thead>\n",
       "<thead><tr><th>int32</th><th>bytes2</th><th>int32</th><th>int32</th><th>int32</th></tr></thead>\n",
       "<tr><td>13</td><td>r2</td><td>104933</td><td>104934</td><td>104935</td></tr>\n",
       "</table>"
      ],
      "text/plain": [
       "<Row index=0>\n",
       "offset camera science  flat   arc  \n",
       "int32  bytes2  int32  int32  int32 \n",
       "------ ------ ------- ------ ------\n",
       "    13     r2  104933 104934 104935"
      ]
     },
     "execution_count": 152,
     "metadata": {},
     "output_type": "execute_result"
    }
   ],
   "source": [
    "exposures_3586_1000.get_info(6,'r2')"
   ]
  },
  {
   "cell_type": "markdown",
   "metadata": {},
   "source": [
    "#### spec"
   ]
  },
  {
   "cell_type": "code",
   "execution_count": 154,
   "metadata": {},
   "outputs": [],
   "source": [
    "SpecFile_3586_1000 = spec.SpecFile(spectrum_3586_1000_fits)"
   ]
  },
  {
   "cell_type": "code",
   "execution_count": 156,
   "metadata": {},
   "outputs": [
    {
     "data": {
      "text/plain": [
       "\n",
       "  file: /scratch/kunjias/sdss/sas/dr12/boss/spectro/redux/v5_7_0/spectra/3586/spec-3586-55181-1000.fits\n",
       "  extension: 11\n",
       "  type: BINARY_TBL\n",
       "  extname: R2-00104927-00104934-00104935\n",
       "  rows: 3154\n",
       "  column info:\n",
       "    flux                f4  \n",
       "    loglam              f4  \n",
       "    ivar                f4  \n",
       "    mask                i4  \n",
       "    wdisp               f4  \n",
       "    sky                 f4  \n",
       "    calib               f4  \n",
       "    x                   f4  "
      ]
     },
     "execution_count": 156,
     "metadata": {},
     "output_type": "execute_result"
    }
   ],
   "source": [
    "SpecFile_3586_1000.get_exposure_hdu(0,'r2')"
   ]
  },
  {
   "cell_type": "code",
   "execution_count": 202,
   "metadata": {},
   "outputs": [
    {
     "data": {
      "text/plain": [
       "'spCFrame-r2-00104929.fits'"
      ]
     },
     "execution_count": 202,
     "metadata": {},
     "output_type": "execute_result"
    }
   ],
   "source": [
    "SpecFile_3586_1000.get_exposure_name(sequence_number = 2,\n",
    "                                    band = 'red',\n",
    "                                    ftype = 'spCFrame')"
   ]
  },
  {
   "cell_type": "code",
   "execution_count": 164,
   "metadata": {},
   "outputs": [
    {
     "data": {
      "text/plain": [
       "array([0, 0, 0, ..., 0, 0, 0], dtype=int32)"
      ]
     },
     "execution_count": 164,
     "metadata": {},
     "output_type": "execute_result"
    }
   ],
   "source": [
    "SpecFile_3586_1000.get_pixel_mask()"
   ]
  },
  {
   "cell_type": "code",
   "execution_count": 222,
   "metadata": {},
   "outputs": [],
   "source": [
    "plate3586_fiber1000_exposure08=SpecFile_3586_1000.get_valid_data(exposure_index=0, \n",
    "                                  camera='r2', \n",
    "                                  pixel_quality_mask=None, \n",
    "                                  include_wdisp=False,\n",
    "                                  include_sky=True, \n",
    "                                  use_ivar=False, \n",
    "                                  use_loglam=False, \n",
    "                                  fiducial_grid=False)"
   ]
  },
  {
   "cell_type": "code",
   "execution_count": 223,
   "metadata": {},
   "outputs": [],
   "source": [
    "data_plate3586_fiber1000_exposure08 = plate3586_fiber1000_exposure08.data"
   ]
  },
  {
   "cell_type": "code",
   "execution_count": 225,
   "metadata": {},
   "outputs": [
    {
     "data": {
      "text/plain": [
       "array([( 5902.7227,  6.998139 ,  8.638592, 12.053816),\n",
       "       ( 5904.064 ,  2.200818 ,  7.794687, 10.22544 ),\n",
       "       ( 5905.403 , 12.786961 ,  7.782696,  8.667742), ...,\n",
       "       (10353.862 , -5.5906186,  9.617459, 23.124233),\n",
       "       (10355.271 , -5.8272276, 11.215535, 26.230238),\n",
       "       (10356.682 , 10.499031 , 13.026062, 24.17344 )],\n",
       "      dtype=[('wavelength', '<f4'), ('flux', '<f4'), ('dflux', '<f4'), ('sky', '<f4')])"
      ]
     },
     "execution_count": 225,
     "metadata": {},
     "output_type": "execute_result"
    }
   ],
   "source": [
    "data_plate3586_fiber1000_exposure08"
   ]
  },
  {
   "cell_type": "code",
   "execution_count": 238,
   "metadata": {},
   "outputs": [],
   "source": [
    "wlen_plate3586_fiber1000_exposure08 = data_plate3586_fiber1000_exposure08['wavelength'][:]"
   ]
  },
  {
   "cell_type": "code",
   "execution_count": 239,
   "metadata": {},
   "outputs": [],
   "source": [
    "flux_plate3586_fiber1000_exposure08 = data_plate3586_fiber1000_exposure08['flux'][:]"
   ]
  },
  {
   "cell_type": "code",
   "execution_count": 240,
   "metadata": {},
   "outputs": [],
   "source": [
    "sky_plate3586_fiber1000_exposure08 = data_plate3586_fiber1000_exposure08['sky'][:]"
   ]
  },
  {
   "cell_type": "code",
   "execution_count": 248,
   "metadata": {},
   "outputs": [
    {
     "data": {
      "image/png": "[encoded data removed]",
      "text/plain": [
       "<Figure size 432x288 with 1 Axes>"
      ]
     },
     "metadata": {
      "needs_background": "light"
     },
     "output_type": "display_data"
    }
   ],
   "source": [
    "x = wlen_plate3586_fiber1000_exposure08\n",
    "y = flux_plate3586_fiber1000_exposure08\n",
    "plt.plot(x,y,c='r')\n",
    "plt.tight_layout()\n",
    "plt.show()"
   ]
  },
  {
   "cell_type": "code",
   "execution_count": 245,
   "metadata": {},
   "outputs": [
    {
     "data": {
      "image/png": "[encoded data removed]",
      "text/plain": [
       "<Figure size 432x288 with 1 Axes>"
      ]
     },
     "metadata": {
      "needs_background": "light"
     },
     "output_type": "display_data"
    }
   ],
   "source": [
    "x = wlen_plate3586_fiber1000_exposure08\n",
    "y = sky_plate3586_fiber1000_exposure08\n",
    "plt.plot(x,y,c = 'b')\n",
    "plt.tight_layout()\n",
    "plt.show()"
   ]
  },
  {
   "cell_type": "code",
   "execution_count": 247,
   "metadata": {},
   "outputs": [
    {
     "data": {
      "image/png": "[encoded data removed]",
      "text/plain": [
       "<Figure size 432x288 with 1 Axes>"
      ]
     },
     "metadata": {
      "needs_background": "light"
     },
     "output_type": "display_data"
    }
   ],
   "source": [
    "x = wlen_plate3586_fiber1000_exposure08\n",
    "y = sky_plate3586_fiber1000_exposure08 + flux_plate3586_fiber1000_exposure08 \n",
    "plt.plot(x,y,c = 'g')\n",
    "plt.tight_layout()\n",
    "plt.show()"
   ]
  },
  {
   "cell_type": "code",
   "execution_count": 228,
   "metadata": {},
   "outputs": [
    {
     "data": {
      "text/plain": [
       "(3154,)"
      ]
     },
     "execution_count": 228,
     "metadata": {},
     "output_type": "execute_result"
    }
   ],
   "source": [
    "data_plate3586_fiber1000_exposure08.shape"
   ]
  },
  {
   "cell_type": "markdown",
   "metadata": {},
   "source": [
    "Wavelength of a particular integral pixel."
   ]
  },
  {
   "cell_type": "code",
   "execution_count": 200,
   "metadata": {},
   "outputs": [
    {
     "data": {
      "text/plain": [
       "3.554100305027835"
      ]
     },
     "execution_count": 200,
     "metadata": {},
     "output_type": "execute_result"
    }
   ],
   "source": [
    "spec.fiducial_loglam[100]"
   ]
  },
  {
   "cell_type": "markdown",
   "metadata": {},
   "source": [
    "Bounding wavelength range"
   ]
  },
  {
   "cell_type": "code",
   "execution_count": 198,
   "metadata": {},
   "outputs": [
    {
     "data": {
      "text/plain": [
       "array([ 3500.26      , 10568.18251472])"
      ]
     },
     "execution_count": 198,
     "metadata": {},
     "output_type": "execute_result"
    }
   ],
   "source": [
    "10**spec.fiducial_loglam[[0,-1]]"
   ]
  }
 ],
 "metadata": {
  "kernelspec": {
   "display_name": "Python 3",
   "language": "python",
   "name": "python3"
  },
  "language_info": {
   "codemirror_mode": {
    "name": "ipython",
    "version": 3
   },
   "file_extension": ".py",
   "mimetype": "text/x-python",
   "name": "python",
   "nbconvert_exporter": "python",
   "pygments_lexer": "ipython3",
   "version": "3.6.3"
  }
 },
 "nbformat": 4,
 "nbformat_minor": 2
}
